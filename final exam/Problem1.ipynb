{
 "cells": [
  {
   "cell_type": "markdown",
   "metadata": {
    "colab_type": "text",
    "id": "Dr99G7htf7sm"
   },
   "source": [
    "# Breast Cancer Detection\n",
    "\n",
    "Develop a neural network classifier for breast cancer detection and then evaluate your classifier against a random forest. \n",
    "\n",
    "For full credit, you must comply with the following specifications:\n",
    "\n",
    "1. Use the Scikit Learn Wisconsin Breast Cancer dataset\n",
    "2. Classify the data using a Keras 128 node dense layer neural net with a 2 node classification layer \n",
    "3. Compare against a Random Forest algorithm (any implementation is fine)\n",
    "4. Compute for each algorithm :\n",
    "  1. the accuracy, precision, and recall\n",
    "  2. the confusion matrix (does not need to be plotted)\n",
    "  2. a plot of the ROC curve\n",
    "5. Write a short paragraph (approx 3 sentences) evaluating the tradeoffs of your two approachs for detecting breast cancer. "
   ]
  },
  {
   "cell_type": "code",
   "execution_count": 54,
   "metadata": {
    "colab": {},
    "colab_type": "code",
    "id": "8COnWre1oN56"
   },
   "outputs": [],
   "source": [
    "from sklearn.datasets import load_breast_cancer              \n",
    "from sklearn.ensemble import RandomForestClassifier                               \n",
    "from sklearn.model_selection import train_test_split\n",
    "from sklearn.preprocessing import StandardScaler\n",
    "import matplotlib.pylab as plt\n",
    "import numpy as np\n",
    "%matplotlib inline\n",
    "import numpy as np\n",
    "import matplotlib.pyplot as plt\n",
    "import tensorflow as tf\n",
    "from tensorflow import keras\n",
    "from keras.utils import to_categorical\n",
    "from keras import models\n",
    "from tensorflow.keras import models,layers,optimizers\n",
    "from sklearn.metrics import roc_auc_score\n",
    "from sklearn.datasets import make_classification\n",
    "from sklearn.linear_model import LogisticRegression\n",
    "from sklearn.model_selection import train_test_split\n",
    "from sklearn.metrics import roc_curve\n",
    "from sklearn.metrics import roc_auc_score\n",
    "from matplotlib import pyplot\n"
   ]
  },
  {
   "cell_type": "markdown",
   "metadata": {},
   "source": [
    "#### Use the Scikit Learn Wisconsin Breast Cancer datase"
   ]
  },
  {
   "cell_type": "code",
   "execution_count": 10,
   "metadata": {},
   "outputs": [],
   "source": [
    "cancer = load_breast_cancer()\n",
    "#print(cancer.DESCR)"
   ]
  },
  {
   "cell_type": "code",
   "execution_count": 3,
   "metadata": {},
   "outputs": [
    {
     "name": "stdout",
     "output_type": "stream",
     "text": [
      "['mean radius' 'mean texture' 'mean perimeter' 'mean area'\n",
      " 'mean smoothness' 'mean compactness' 'mean concavity'\n",
      " 'mean concave points' 'mean symmetry' 'mean fractal dimension'\n",
      " 'radius error' 'texture error' 'perimeter error' 'area error'\n",
      " 'smoothness error' 'compactness error' 'concavity error'\n",
      " 'concave points error' 'symmetry error' 'fractal dimension error'\n",
      " 'worst radius' 'worst texture' 'worst perimeter' 'worst area'\n",
      " 'worst smoothness' 'worst compactness' 'worst concavity'\n",
      " 'worst concave points' 'worst symmetry' 'worst fractal dimension']\n"
     ]
    }
   ],
   "source": [
    "print(cancer.feature_names)"
   ]
  },
  {
   "cell_type": "code",
   "execution_count": 4,
   "metadata": {},
   "outputs": [
    {
     "name": "stdout",
     "output_type": "stream",
     "text": [
      "['malignant' 'benign']\n"
     ]
    }
   ],
   "source": [
    "print(cancer.target_names)"
   ]
  },
  {
   "cell_type": "code",
   "execution_count": 5,
   "metadata": {},
   "outputs": [
    {
     "data": {
      "text/plain": [
       "(569, 30)"
      ]
     },
     "execution_count": 5,
     "metadata": {},
     "output_type": "execute_result"
    }
   ],
   "source": [
    "type(cancer.data)\n",
    "cancer.data.shape"
   ]
  },
  {
   "cell_type": "code",
   "execution_count": 13,
   "metadata": {},
   "outputs": [],
   "source": [
    "df = pd.DataFrame(cancer.data)\n",
    "#print(df.head())"
   ]
  },
  {
   "cell_type": "code",
   "execution_count": 15,
   "metadata": {},
   "outputs": [],
   "source": [
    "df.columns = cancer.feature_names\n",
    "#print(df.head())"
   ]
  },
  {
   "cell_type": "code",
   "execution_count": 20,
   "metadata": {},
   "outputs": [
    {
     "data": {
      "text/plain": [
       "mean radius                0\n",
       "mean texture               0\n",
       "mean perimeter             0\n",
       "mean area                  0\n",
       "mean smoothness            0\n",
       "mean compactness           0\n",
       "mean concavity             0\n",
       "mean concave points        0\n",
       "mean symmetry              0\n",
       "mean fractal dimension     0\n",
       "radius error               0\n",
       "texture error              0\n",
       "perimeter error            0\n",
       "area error                 0\n",
       "smoothness error           0\n",
       "compactness error          0\n",
       "concavity error            0\n",
       "concave points error       0\n",
       "symmetry error             0\n",
       "fractal dimension error    0\n",
       "worst radius               0\n",
       "worst texture              0\n",
       "worst perimeter            0\n",
       "worst area                 0\n",
       "worst smoothness           0\n",
       "worst compactness          0\n",
       "worst concavity            0\n",
       "worst concave points       0\n",
       "worst symmetry             0\n",
       "worst fractal dimension    0\n",
       "dtype: int64"
      ]
     },
     "execution_count": 20,
     "metadata": {},
     "output_type": "execute_result"
    }
   ],
   "source": [
    "df.isnull().sum()\n",
    "df.isna().sum()"
   ]
  },
  {
   "cell_type": "code",
   "execution_count": 29,
   "metadata": {},
   "outputs": [
    {
     "name": "stderr",
     "output_type": "stream",
     "text": [
      "C:\\Users\\sonali\\Anaconda3\\lib\\site-packages\\sklearn\\preprocessing\\_label.py:251: DataConversionWarning: A column-vector y was passed when a 1d array was expected. Please change the shape of y to (n_samples, ), for example using ravel().\n",
      "  y = column_or_1d(y, warn=True)\n"
     ]
    }
   ],
   "source": [
    "from sklearn.preprocessing import LabelEncoder\n",
    "from sklearn.preprocessing import StandardScaler\n",
    "X = pd.DataFrame(cancer.data, columns=cancer.feature_names)\n",
    "sc = StandardScaler()\n",
    "X = sc.fit_transform(X)\n",
    "y = pd.DataFrame(cancer.target, columns=[\"target\"])\n",
    "l = LabelEncoder()\n",
    "y = l.fit_transform(y)"
   ]
  },
  {
   "cell_type": "code",
   "execution_count": 33,
   "metadata": {},
   "outputs": [],
   "source": [
    "from sklearn.model_selection import train_test_split\n",
    "X_train_val,X_test,y_train_val,y_test = train_test_split(X,y, test_size=0.2, random_state=42)\n",
    "X_train,X_val,y_train,y_val = train_test_split(X_train_val,y_train_val, test_size=0.2, random_state=42)"
   ]
  },
  {
   "cell_type": "code",
   "execution_count": 34,
   "metadata": {},
   "outputs": [],
   "source": [
    "def evaluate_classifier(clf,X_train, X_val,X_test, y_train, y_val, y_test):\n",
    "    #y_pred_train = clf.predict(X_train)\n",
    "    y_pred_val = clf.predict(X_val)\n",
    "    y_pred_test = clf.predict(X_test)\n",
    "    print(\"accuracy_score on validation set:\",accuracy_score(y_val, y_pred_val))\n",
    "    print(\"f1_score  on validation  set:\", f1_score(y_val, y_pred_val))\n",
    "    print(\"precision_score on validation  set:\", precision_score(y_val, y_pred_val))\n",
    "    print(\"recall_score on validation  set:\", recall_score(y_val, y_pred_val))\n",
    "    print(\"accuracy_score on test set:\",accuracy_score(y_test, y_pred_test))\n",
    "    print(\"f1_score  on test  set:\", f1_score(y_test, y_pred_test))\n",
    "    print(\"precision_score on test  set:\", precision_score(y_val, y_pred_val))\n",
    "    print(\"recall_score on test  set:\", recall_score(y_val, y_pred_val))"
   ]
  },
  {
   "cell_type": "code",
   "execution_count": 36,
   "metadata": {},
   "outputs": [
    {
     "name": "stdout",
     "output_type": "stream",
     "text": [
      "Random Forest\n",
      "accuracy_score on validation set: 0.9560439560439561\n",
      "f1_score  on validation  set: 0.9636363636363636\n",
      "precision_score on validation  set: 0.9636363636363636\n",
      "recall_score on validation  set: 0.9636363636363636\n",
      "accuracy_score on test set: 0.9649122807017544\n",
      "f1_score  on test  set: 0.9722222222222222\n",
      "precision_score on test  set: 0.9636363636363636\n",
      "recall_score on test  set: 0.9636363636363636\n"
     ]
    }
   ],
   "source": [
    "from sklearn.linear_model import LogisticRegression\n",
    "from sklearn.ensemble import RandomForestClassifier\n",
    "from sklearn.metrics import accuracy_score,precision_score,f1_score,recall_score\n",
    "\n",
    "rf = RandomForestClassifier(n_estimators=10)\n",
    "rf.fit(X_train,y_train)\n",
    "print('Random Forest')\n",
    "evaluate_classifier(rf,X_train,X_val,X_test,y_train,y_val,y_test)\n"
   ]
  },
  {
   "cell_type": "code",
   "execution_count": 37,
   "metadata": {},
   "outputs": [],
   "source": [
    "X_train_nn = np.array(X_train_val)\n",
    "\n",
    "y_train_oh = pd.get_dummies(data= y_train_val)\n",
    "y_train_nn = np.array(y_train_oh)\n",
    "X_test_nn = np.array(X_test)\n",
    "X_val_nn = np.array(X_val)\n",
    "\n",
    "y_test_nn = pd.get_dummies(data = y_test)\n",
    "y_val_nn = pd.get_dummies(data = y_val)\n",
    "\n",
    "X_train_nn1 = np.asarray(X_train_val).astype(np.float32)\n",
    "y_train_nn1 = np.asarray(y_train_oh)\n",
    "\n",
    "X_test_nn1 = np.asarray(X_test_nn).astype(np.float32)\n",
    "y_test_nn1 = np.asarray(y_test_nn).astype(np.float32)\n",
    "\n",
    "X_val_nn1 = np.asarray(X_val_nn).astype(np.float32)\n",
    "y_val_nn1 = np.asarray(y_val_nn).astype(np.float32)"
   ]
  },
  {
   "cell_type": "code",
   "execution_count": 40,
   "metadata": {},
   "outputs": [
    {
     "name": "stdout",
     "output_type": "stream",
     "text": [
      "Train on 364 samples, validate on 91 samples\n",
      "Epoch 1/5\n",
      "364/364 [==============================] - 4s 10ms/sample - loss: 0.3424 - auc_2: 0.9363 - accuracy: 0.0000e+00 - precision_2: 0.8571 - recall_2: 0.8571 - val_loss: 0.1596 - val_auc_2: 0.9894 - val_accuracy: 0.0000e+00 - val_precision_2: 0.9560 - val_recall_2: 0.9560\n",
      "Epoch 2/5\n",
      "364/364 [==============================] - 0s 588us/sample - loss: 0.1330 - auc_2: 0.9918 - accuracy: 0.0000e+00 - precision_2: 0.9533 - recall_2: 0.9533 - val_loss: 0.1275 - val_auc_2: 0.9924 - val_accuracy: 0.0055 - val_precision_2: 0.9670 - val_recall_2: 0.9670\n",
      "Epoch 3/5\n",
      "364/364 [==============================] - 0s 612us/sample - loss: 0.0981 - auc_2: 0.9960 - accuracy: 0.0000e+00 - precision_2: 0.9780 - recall_2: 0.9780 - val_loss: 0.1177 - val_auc_2: 0.9937 - val_accuracy: 0.0055 - val_precision_2: 0.9670 - val_recall_2: 0.9670\n",
      "Epoch 4/5\n",
      "364/364 [==============================] - 0s 497us/sample - loss: 0.0802 - auc_2: 0.9968 - accuracy: 0.0000e+00 - precision_2: 0.9808 - recall_2: 0.9808 - val_loss: 0.1095 - val_auc_2: 0.9940 - val_accuracy: 0.0055 - val_precision_2: 0.9670 - val_recall_2: 0.9670\n",
      "Epoch 5/5\n",
      "364/364 [==============================] - 0s 601us/sample - loss: 0.0685 - auc_2: 0.9973 - accuracy: 0.0014 - precision_2: 0.9863 - recall_2: 0.9863 - val_loss: 0.1028 - val_auc_2: 0.9943 - val_accuracy: 0.0165 - val_precision_2: 0.9670 - val_recall_2: 0.9670\n"
     ]
    }
   ],
   "source": [
    "from tensorflow.keras.models import Sequential\n",
    "from tensorflow.keras.layers import Dense,Conv2D,Dropout,Flatten\n",
    "import tensorflow as tf\n",
    "\n",
    "metrics = [\n",
    "    tf.keras.metrics.AUC(),\n",
    "    tf.keras.metrics.Accuracy(),\n",
    "    tf.keras.metrics.Precision(),\n",
    "    tf.keras.metrics.Recall()]\n",
    "\n",
    "\n",
    "model = Sequential()\n",
    "model.add(Dense(128,input_dim=30,activation='relu'))\n",
    "model.add(Dense(2, activation='softmax'))\n",
    "model.compile(loss='binary_crossentropy', optimizer='adam', metrics = metrics)\n",
    "history = model.fit(X_train_nn1,y_train_nn1, validation_split= 0.2,epochs = 5,batch_size = 10)\n"
   ]
  },
  {
   "cell_type": "code",
   "execution_count": 42,
   "metadata": {},
   "outputs": [
    {
     "data": {
      "image/png": "[encoded data removed]",
      "text/plain": [
       "<Figure size 432x288 with 1 Axes>"
      ]
     },
     "metadata": {
      "needs_background": "light"
     },
     "output_type": "display_data"
    },
    {
     "data": {
      "image/png": "[encoded data removed]",
      "text/plain": [
       "<Figure size 432x288 with 1 Axes>"
      ]
     },
     "metadata": {
      "needs_background": "light"
     },
     "output_type": "display_data"
    }
   ],
   "source": [
    "acc = history.history['accuracy']\n",
    "val_acc = history.history['val_accuracy']\n",
    "loss = history.history['loss']\n",
    "val_loss = history.history['val_loss']\n",
    "epochs = range(len(acc))\n",
    "\n",
    "plt.plot(epochs, acc, label='Training acc')\n",
    "plt.plot(epochs, val_acc, label='Validation acc')\n",
    "plt.title('Training and validation accuracy')\n",
    "plt.legend()\n",
    "plt.figure()\n",
    "plt.plot(epochs, loss, label='Training loss')\n",
    "plt.plot(epochs, val_loss, label='Validation loss')\n",
    "plt.title('Training and validation loss')\n",
    "plt.legend()\n",
    "plt.show()"
   ]
  },
  {
   "cell_type": "code",
   "execution_count": 51,
   "metadata": {},
   "outputs": [
    {
     "name": "stdout",
     "output_type": "stream",
     "text": [
      "acc for training data: 1.000\n",
      "acc for test data: 0.972\n"
     ]
    }
   ],
   "source": [
    "X_train, X_test, y_train, y_test = train_test_split(cancer.data, cancer.target, random_state=0)\n",
    "\n",
    "forest = RandomForestClassifier(n_estimators=100, random_state=0)\n",
    "forest.fit(X_train,y_train)\n",
    "\n",
    "print('acc for training data: {:.3f}'.format(forest.score(X_train,y_train)))\n",
    "print('acc for test data: {:.3f}'.format(forest.score(X_test,y_test)))"
   ]
  },
  {
   "cell_type": "code",
   "execution_count": 58,
   "metadata": {},
   "outputs": [
    {
     "name": "stdout",
     "output_type": "stream",
     "text": [
      "ROC AUC=0.500\n",
      "Logistic: ROC AUC=0.908\n"
     ]
    },
    {
     "data": {
      "image/png": "[encoded data removed]",
      "text/plain": [
       "<Figure size 432x288 with 1 Axes>"
      ]
     },
     "metadata": {
      "needs_background": "light"
     },
     "output_type": "display_data"
    }
   ],
   "source": [
    "X, y = make_classification(n_samples=1000, n_classes=2, random_state=1)\n",
    "trainX, testX, trainy, testy = train_test_split(X, y, test_size=0.5, random_state=2)\n",
    "ns_probs = [0 for _ in range(len(testy))]\n",
    "model = RandomForestClassifier()\n",
    "model.fit(trainX, trainy)\n",
    "lr_probs = model.predict_proba(testX)\n",
    "lr_probs = lr_probs[:, 1]\n",
    "ns_auc = roc_auc_score(testy, ns_probs)\n",
    "lr_auc = roc_auc_score(testy, lr_probs)\n",
    "print('ROC AUC=%.3f' % (ns_auc))\n",
    "print('Logistic: ROC AUC=%.3f' % (lr_auc))\n",
    "ns_fpr, ns_tpr, _ = roc_curve(testy, ns_probs)\n",
    "lr_fpr, lr_tpr, _ = roc_curve(testy, lr_probs)\n",
    "pyplot.plot(ns_fpr, ns_tpr, linestyle='--')\n",
    "pyplot.plot(lr_fpr, lr_tpr, marker='.', label='random')\n",
    "pyplot.xlabel('False Positive Rate')\n",
    "pyplot.ylabel('True Positive Rate')\n",
    "pyplot.legend()\n",
    "pyplot.show()"
   ]
  },
  {
   "cell_type": "markdown",
   "metadata": {},
   "source": [
    "from the radom forest acc is 95  and the conveloutoion netwok caauracy is 99 \n",
    "there is the probelm of overfitting\n",
    "roc is 0.5"
   ]
  },
  {
   "cell_type": "markdown",
   "metadata": {},
   "source": [
    "random foreset result \n",
    "accuracy_score on validation set: 0.95\n",
    "f1_score  on validation  set: 0.96\n",
    "precision_score on validation  set: 0.96\n",
    "recall_score on validation  set: 0.963\n",
    "accuracy_score on test set: 0.96\n",
    "f1_score  on test  set: 0.972\n",
    "precision_score on test  set: 0.96\n",
    "recall_score on test  set: 0.96"
   ]
  },
  {
   "cell_type": "code",
   "execution_count": null,
   "metadata": {},
   "outputs": [],
   "source": []
  }
 ],
 "metadata": {
  "colab": {
   "collapsed_sections": [],
   "name": "Problem1.ipynb",
   "provenance": []
  },
  "kernelspec": {
   "display_name": "Python 3",
   "language": "python",
   "name": "python3"
  },
  "language_info": {
   "codemirror_mode": {
    "name": "ipython",
    "version": 3
   },
   "file_extension": ".py",
   "mimetype": "text/x-python",
   "name": "python",
   "nbconvert_exporter": "python",
   "pygments_lexer": "ipython3",
   "version": "3.6.8"
  }
 },
 "nbformat": 4,
 "nbformat_minor": 1
}
