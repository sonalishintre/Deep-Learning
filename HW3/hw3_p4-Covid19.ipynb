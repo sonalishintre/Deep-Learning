{
 "cells": [
  {
   "cell_type": "markdown",
   "metadata": {},
   "source": [
    "In this assignment we will look at a typical image based machine learning task.\n",
    "\n",
    "## Image classification \n",
    "\n",
    "For this task the whole image is used to classify what's happening.\n",
    "\n",
    "For this specific task, we will be trying to classify COVID-19 using pneumonia x-rays.  Please note, the literature has mostly suggested CT scans are not an effective way of figuring out what type of disease you have.  This exercise is for academic purposes _only_.\n",
    "\n",
    "Steps:\n",
    "\n",
    "\n",
    "1. Download the pneumonia data.  \n",
    "\n",
    "You can find it here:\n",
    "\n",
    "https://www.kaggle.com/paultimothymooney/chest-xray-pneumonia\n",
    "\n",
    "move the folder to this directory and unzip it.  Please don't change any folder names or the below script will not work.  Also make sure the folder is in the same directory as this notebook!\n",
    "\n",
    "2. load the pneumonia data into a dataframe:"
   ]
  },
  {
   "cell_type": "code",
   "execution_count": 26,
   "metadata": {},
   "outputs": [],
   "source": [
    "import numpy as np\n",
    "import pandas as pd\n",
    "import os\n",
    "import os.path as op\n",
    "import numpy as np\n",
    "import glob\n",
    "from PIL import Image\n",
    "import matplotlib.pyplot as plt\n",
    "import random\n",
    "import tensorflow as tf\n",
    "import skimage.transform\n",
    "import skimage.color\n",
    "from sklearn.metrics import classification_report"
   ]
  },
  {
   "cell_type": "code",
   "execution_count": 2,
   "metadata": {},
   "outputs": [],
   "source": [
    "import glob\n",
    "\n",
    "def load_training_data():\n",
    "    paths = [\n",
    "        \"chest_xray/train/NORMAL/*\",\n",
    "        \"chest_xray/train/PNEUMONIA/*\"\n",
    "    ]\n",
    "    labels = []\n",
    "    image_paths = []\n",
    "    for path in paths:\n",
    "        for im_path in glob.glob(path):\n",
    "            if path == \"chest_xray/train/NORMAL/*\":\n",
    "                labels.append(\"NORMAL\")\n",
    "            if path == \"chest_xray/train/PNEUMONIA/*\":\n",
    "                labels.append(\"PNEUMONIA\")\n",
    "            image_paths.append(im_path)\n",
    "    return image_paths, labels\n",
    "\n",
    "def load_testing_data():\n",
    "    paths = [\n",
    "        \"chest_xray/test/NORMAL/*\",\n",
    "        \"chest_xray/test/PNEUMONIA/*\"\n",
    "    ]\n",
    "    labels = []\n",
    "    image_paths = []\n",
    "    for path in paths:\n",
    "        for im_path in glob.glob(path):\n",
    "            if path == \"chest_xray/test/NORMAL/*\":\n",
    "                labels.append(\"NORMAL\")\n",
    "            if path == \"chest_xray/test/PNEUMONIA/*\":\n",
    "                labels.append(\"PNEUMONIA\")\n",
    "            image_paths.append(im_path)\n",
    "    return image_paths, labels\n",
    "\n",
    "train_paths, train_labels = load_training_data()\n",
    "test_paths, test_labels = load_training_data()"
   ]
  },
  {
   "cell_type": "code",
   "execution_count": 3,
   "metadata": {},
   "outputs": [
    {
     "data": {
      "text/plain": [
       "['chest_xray/train/NORMAL\\\\IM-0115-0001.jpeg',\n",
       " 'chest_xray/train/NORMAL\\\\IM-0117-0001.jpeg',\n",
       " 'chest_xray/train/NORMAL\\\\IM-0119-0001.jpeg',\n",
       " 'chest_xray/train/NORMAL\\\\IM-0122-0001.jpeg',\n",
       " 'chest_xray/train/NORMAL\\\\IM-0125-0001.jpeg']"
      ]
     },
     "execution_count": 3,
     "metadata": {},
     "output_type": "execute_result"
    }
   ],
   "source": [
    "train_paths[:5]"
   ]
  },
  {
   "cell_type": "markdown",
   "metadata": {},
   "source": [
    "3. read the data into memory, I recommend open-cv for this:\n",
    "\n",
    "`python -m pip install opencv-python` \n",
    "\n",
    "if you don't already have it!"
   ]
  },
  {
   "cell_type": "code",
   "execution_count": 83,
   "metadata": {},
   "outputs": [],
   "source": [
    "import cv2\n",
    "import os\n",
    "\n",
    "def load_images(image_paths):\n",
    "    loadedImages = []\n",
    "    \n",
    "    for img in image_paths:\n",
    "        img = cv2.imread(img)\n",
    "        loadedImages.append(img)\n",
    "    return loadedImages"
   ]
  },
  {
   "cell_type": "code",
   "execution_count": 84,
   "metadata": {},
   "outputs": [],
   "source": [
    "#load train images\n",
    "train_images = load_images(train_paths)\n",
    "#load test images\n",
    "test_images = load_images(test_paths)"
   ]
  },
  {
   "cell_type": "markdown",
   "metadata": {},
   "source": [
    "4. resize the images to a standard size - \n",
    "\n",
    "Note: it ought to be a box.  So the width and height should be the same size."
   ]
  },
  {
   "cell_type": "code",
   "execution_count": 86,
   "metadata": {},
   "outputs": [],
   "source": [
    "def resize_images(images):\n",
    "    resizedimages = []\n",
    "    \n",
    "    for img in images:\n",
    "        #width = img.shape[0]\n",
    "        #height = img.shape[1]\n",
    "      #  l = min(width,height)\n",
    "       # dim = (l,l)\n",
    "        img = cv2.resize(img,(100,100), interpolation = cv2.INTER_LINEAR)\n",
    "        resizedimages.append(img)\n",
    "    return resizedimages"
   ]
  },
  {
   "cell_type": "code",
   "execution_count": 87,
   "metadata": {},
   "outputs": [],
   "source": [
    "train_images = resize_images(train_images)\n",
    "test_images = resize_images(test_images)"
   ]
  },
  {
   "cell_type": "code",
   "execution_count": 88,
   "metadata": {},
   "outputs": [
    {
     "data": {
      "text/plain": [
       "(100, 100, 3)"
      ]
     },
     "execution_count": 88,
     "metadata": {},
     "output_type": "execute_result"
    }
   ],
   "source": [
    "train_images[0].shape"
   ]
  },
  {
   "cell_type": "markdown",
   "metadata": {},
   "source": [
    "5. Greyscale the images"
   ]
  },
  {
   "cell_type": "code",
   "execution_count": 16,
   "metadata": {},
   "outputs": [],
   "source": [
    "def greyscale_images(images):\n",
    "    grayimages=[]\n",
    "    for img in images:\n",
    "        img = cv2.cvtColor(img, cv2.COLOR_BGR2GRAY)\n",
    "        grayimages.append(img)\n",
    "    return grayimages"
   ]
  },
  {
   "cell_type": "code",
   "execution_count": 17,
   "metadata": {},
   "outputs": [],
   "source": [
    "train_images = greyscale_images(train_images)\n",
    "test_images = greyscale_images(test_images)"
   ]
  },
  {
   "cell_type": "code",
   "execution_count": 18,
   "metadata": {},
   "outputs": [
    {
     "data": {
      "text/plain": [
       "<matplotlib.image.AxesImage at 0x2225b40e588>"
      ]
     },
     "execution_count": 18,
     "metadata": {},
     "output_type": "execute_result"
    },
    {
     "data": {
      "image/png": "[encoded data removed]",
      "text/plain": [
       "<Figure size 432x288 with 1 Axes>"
      ]
     },
     "metadata": {
      "needs_background": "light"
     },
     "output_type": "display_data"
    }
   ],
   "source": [
    "%matplotlib inline\n",
    "import matplotlib.pyplot as plt\n",
    "plt.imshow(train_images[0])"
   ]
  },
  {
   "cell_type": "code",
   "execution_count": 118,
   "metadata": {},
   "outputs": [],
   "source": [
    "train_labels_np = np.array(train_labels)\n",
    "test_labels_np = np.array(test_labels)"
   ]
  },
  {
   "cell_type": "markdown",
   "metadata": {},
   "source": [
    "6. prepare the data for training the model.\n",
    "\n",
    "For this you'll need to transform the test and train image objects into a numpy array."
   ]
  },
  {
   "cell_type": "code",
   "execution_count": 17,
   "metadata": {},
   "outputs": [],
   "source": [
    "def features_to_np_array(image_paths, shape):\n",
    "    height, width, channels = shape\n",
    "    array = np.zeros((len(image_paths), height, width, channels))\n",
    "    for i, path in enumerate(image_paths):\n",
    "        im = Image.open(path)\n",
    "        as_array = np.asarray(im)\n",
    "        if len(as_array.shape) == 2: # convert to 3 channels (required input to VGG)\n",
    "            as_array = skimage.color.gray2rgb(as_array)\n",
    "        resized = skimage.transform.resize(as_array, shape)\n",
    "        array[i,:,:] = resized\n",
    "        if (i + 1) % 1000 == 0:\n",
    "           # print(f'loading {i+1} images')\n",
    "            print(f'{i+1} images loaded')\n",
    "            i= i+1\n",
    "    return array"
   ]
  },
  {
   "cell_type": "markdown",
   "metadata": {},
   "source": [
    "Next you'll need to do the same for the labels:\n",
    "\n",
    "Note: You'll need to apply the `to_categorical` function after transforming to a numpy array"
   ]
  },
  {
   "cell_type": "code",
   "execution_count": 7,
   "metadata": {},
   "outputs": [
    {
     "data": {
      "text/plain": [
       "{'PNEUMONIA': 0, 'NORMAL': 1}"
      ]
     },
     "execution_count": 7,
     "metadata": {},
     "output_type": "execute_result"
    }
   ],
   "source": [
    "label_type = { label: i for i, label in enumerate(set(train_labels)) }\n",
    "label_type"
   ]
  },
  {
   "cell_type": "code",
   "execution_count": 90,
   "metadata": {},
   "outputs": [
    {
     "name": "stderr",
     "output_type": "stream",
     "text": [
      "C:\\Users\\sonali\\Anaconda3\\lib\\site-packages\\ipykernel_launcher.py:3: FutureWarning: elementwise comparison failed; returning scalar instead, but in the future will perform elementwise comparison\n",
      "  This is separate from the ipykernel package so we can avoid doing imports until\n"
     ]
    }
   ],
   "source": [
    "train_labels_np = np.where(train_labels_np=='NORMAL',0,1)\n",
    "test_labels_np = np.where(train_labels_np=='NORMAL',0,1)"
   ]
  },
  {
   "cell_type": "code",
   "execution_count": 8,
   "metadata": {},
   "outputs": [],
   "source": [
    "def labels_to_np_array(labels, mapping):\n",
    "    return np.array([mapping[label] for label in labels])"
   ]
  },
  {
   "cell_type": "code",
   "execution_count": 18,
   "metadata": {},
   "outputs": [
    {
     "name": "stdout",
     "output_type": "stream",
     "text": [
      "1000 images loaded\n",
      "2000 images loaded\n",
      "3000 images loaded\n",
      "4000 images loaded\n",
      "5000 images loaded\n"
     ]
    }
   ],
   "source": [
    "image_shape = (100, 100, 3)\n",
    "X_value = features_to_np_array(train_paths, image_shape)\n",
    "Y_value = labels_to_np_array(train_labels, label_type)"
   ]
  },
  {
   "cell_type": "markdown",
   "metadata": {},
   "source": [
    "7. Seperate into train and test with `train_test_split` from scikit-learn"
   ]
  },
  {
   "cell_type": "code",
   "execution_count": 19,
   "metadata": {},
   "outputs": [],
   "source": [
    "# train test split code goes here\n",
    "from sklearn.model_selection import train_test_split\n",
    "\n",
    "X_train, X_test, Y_train, Y_test = train_test_split(\n",
    "    X_value, Y_value, test_size=0.33, random_state=42)"
   ]
  },
  {
   "cell_type": "code",
   "execution_count": 20,
   "metadata": {},
   "outputs": [
    {
     "data": {
      "text/plain": [
       "<matplotlib.image.AxesImage at 0x28302fa27b8>"
      ]
     },
     "execution_count": 20,
     "metadata": {},
     "output_type": "execute_result"
    },
    {
     "data": {
      "image/png": "[encoded data removed]",
      "text/plain": [
       "<Figure size 432x288 with 1 Axes>"
      ]
     },
     "metadata": {
      "needs_background": "light"
     },
     "output_type": "display_data"
    }
   ],
   "source": [
    "plt.imshow(X_train[0])"
   ]
  },
  {
   "cell_type": "markdown",
   "metadata": {},
   "source": [
    "8. Make the last four layers of VGG16 with imagenet weights trainable and then retrain the model.\n",
    "\n",
    "To understand how to do this, please see the following tutorial:\n",
    "\n",
    "https://www.learnopencv.com/keras-tutorial-fine-tuning-using-pre-trained-models/"
   ]
  },
  {
   "cell_type": "code",
   "execution_count": 21,
   "metadata": {},
   "outputs": [],
   "source": [
    "# your model and training code goes here\n",
    "from tensorflow.keras.applications import VGG16\n",
    "from tensorflow.python.framework import ops\n",
    "ops.reset_default_graph()\n",
    "#Load the VGG model\n",
    "vgg_conv = VGG16(weights='imagenet', include_top=False, input_shape =image_shape )"
   ]
  },
  {
   "cell_type": "code",
   "execution_count": 22,
   "metadata": {},
   "outputs": [
    {
     "name": "stdout",
     "output_type": "stream",
     "text": [
      "<tensorflow.python.keras.engine.input_layer.InputLayer object at 0x0000028302FEF208> False\n",
      "<tensorflow.python.keras.layers.convolutional.Conv2D object at 0x0000028302F20898> False\n",
      "<tensorflow.python.keras.layers.convolutional.Conv2D object at 0x0000028378833208> False\n",
      "<tensorflow.python.keras.layers.pooling.MaxPooling2D object at 0x0000028300238400> False\n",
      "<tensorflow.python.keras.layers.convolutional.Conv2D object at 0x0000028300238DD8> False\n",
      "<tensorflow.python.keras.layers.convolutional.Conv2D object at 0x0000028300358C18> False\n",
      "<tensorflow.python.keras.layers.pooling.MaxPooling2D object at 0x00000283003787F0> False\n",
      "<tensorflow.python.keras.layers.convolutional.Conv2D object at 0x0000028300378D68> False\n",
      "<tensorflow.python.keras.layers.convolutional.Conv2D object at 0x000002830038CD68> False\n",
      "<tensorflow.python.keras.layers.convolutional.Conv2D object at 0x00000283003A8908> False\n",
      "<tensorflow.python.keras.layers.pooling.MaxPooling2D object at 0x00000283003C1E80> False\n",
      "<tensorflow.python.keras.layers.convolutional.Conv2D object at 0x00000283003C1E10> False\n",
      "<tensorflow.python.keras.layers.convolutional.Conv2D object at 0x00000283003E4A58> False\n",
      "<tensorflow.python.keras.layers.convolutional.Conv2D object at 0x00000283003F4F98> False\n",
      "<tensorflow.python.keras.layers.pooling.MaxPooling2D object at 0x0000028300521588> False\n",
      "<tensorflow.python.keras.layers.convolutional.Conv2D object at 0x0000028300521BE0> True\n",
      "<tensorflow.python.keras.layers.convolutional.Conv2D object at 0x0000028300533F98> True\n",
      "<tensorflow.python.keras.layers.convolutional.Conv2D object at 0x00000283003796A0> True\n",
      "<tensorflow.python.keras.layers.pooling.MaxPooling2D object at 0x00000283009A9C50> True\n"
     ]
    }
   ],
   "source": [
    "#Freeze the layers except the last 4 layers\n",
    "for layer in vgg_conv.layers[:-4]:\n",
    "    layer.trainable = False\n",
    "\n",
    "# Check the trainable status of the individual layers\n",
    "for layer in vgg_conv.layers:\n",
    "    print(layer, layer.trainable)"
   ]
  },
  {
   "cell_type": "code",
   "execution_count": 23,
   "metadata": {},
   "outputs": [
    {
     "name": "stdout",
     "output_type": "stream",
     "text": [
      "Model: \"sequential\"\n",
      "_________________________________________________________________\n",
      "Layer (type)                 Output Shape              Param #   \n",
      "=================================================================\n",
      "vgg16 (Model)                (None, 3, 3, 512)         14714688  \n",
      "_________________________________________________________________\n",
      "flatten (Flatten)            (None, 4608)              0         \n",
      "_________________________________________________________________\n",
      "dense (Dense)                (None, 1024)              4719616   \n",
      "_________________________________________________________________\n",
      "dropout (Dropout)            (None, 1024)              0         \n",
      "_________________________________________________________________\n",
      "dense_1 (Dense)              (None, 3)                 3075      \n",
      "=================================================================\n",
      "Total params: 19,437,379\n",
      "Trainable params: 11,802,115\n",
      "Non-trainable params: 7,635,264\n",
      "_________________________________________________________________\n"
     ]
    }
   ],
   "source": [
    "from tensorflow.keras import models,layers,optimizers\n",
    "\n",
    "model = models.Sequential()\n",
    "model.add(vgg_conv)\n",
    " \n",
    "model.add(layers.Flatten())\n",
    "model.add(layers.Dense(1024, activation='relu'))\n",
    "model.add(layers.Dropout(0.5))\n",
    "model.add(layers.Dense(3, activation='softmax'))\n",
    "model.summary()\n"
   ]
  },
  {
   "cell_type": "code",
   "execution_count": 25,
   "metadata": {},
   "outputs": [
    {
     "name": "stdout",
     "output_type": "stream",
     "text": [
      "Train on 2795 samples, validate on 699 samples\n",
      "Epoch 1/5\n",
      "2795/2795 [==============================] - 333s 119ms/sample - loss: 0.4709 - acc: 0.8018 - val_loss: 0.1271 - val_acc: 0.9499\n",
      "Epoch 2/5\n",
      "2795/2795 [==============================] - 353s 126ms/sample - loss: 0.1652 - acc: 0.9360 - val_loss: 0.1597 - val_acc: 0.9385\n",
      "Epoch 3/5\n",
      "2795/2795 [==============================] - 333s 119ms/sample - loss: 0.1345 - acc: 0.9517 - val_loss: 0.1365 - val_acc: 0.9413\n",
      "Epoch 4/5\n",
      "2795/2795 [==============================] - 325s 116ms/sample - loss: 0.0902 - acc: 0.9671 - val_loss: 0.1011 - val_acc: 0.9671\n",
      "Epoch 5/5\n",
      "2795/2795 [==============================] - 281s 101ms/sample - loss: 0.0986 - acc: 0.9624 - val_loss: 0.0924 - val_acc: 0.9700\n"
     ]
    },
    {
     "data": {
      "text/plain": [
       "<tensorflow.python.keras.callbacks.History at 0x28310275978>"
      ]
     },
     "execution_count": 25,
     "metadata": {},
     "output_type": "execute_result"
    }
   ],
   "source": [
    "model.compile(loss='sparse_categorical_crossentropy',optimizer=optimizers.RMSprop(lr=1e-4),metrics=['acc'])\n",
    "model.fit(X_train, Y_train, epochs= 5, batch_size= 128, validation_split=0.2)"
   ]
  },
  {
   "cell_type": "markdown",
   "metadata": {},
   "source": [
    "8. Check your score with classification_report from scikit-learn\n",
    "\n",
    "Now that you've trained your model, call `model.predict` to get the predicted values for classification.  \n",
    "Then compare your predicted values with y_test"
   ]
  },
  {
   "cell_type": "code",
   "execution_count": 27,
   "metadata": {},
   "outputs": [
    {
     "name": "stdout",
     "output_type": "stream",
     "text": [
      "              precision    recall  f1-score   support\n",
      "\n",
      "           0       0.99      0.97      0.98      1261\n",
      "           1       0.92      0.98      0.95       461\n",
      "\n",
      "    accuracy                           0.97      1722\n",
      "   macro avg       0.95      0.98      0.96      1722\n",
      "weighted avg       0.97      0.97      0.97      1722\n",
      "\n"
     ]
    }
   ],
   "source": [
    "y_pred = model.predict_classes(X_test)\n",
    "print(classification_report(Y_test, y_pred))"
   ]
  },
  {
   "cell_type": "markdown",
   "metadata": {},
   "source": [
    "9. Data augmentation\n",
    "\n",
    "Now that you have a classifier, let's see if data augmentation improves things!  \n",
    "\n",
    "You can use the `ImageDataGenerator` that comes with keras.  Here's how to import it:\n",
    "\n",
    "`from tensorflow.keras.preprocessing.image import ImageDataGenerator`\n",
    "\n",
    "Here's the documentation: https://keras.io/preprocessing/image/\n",
    "\n",
    "Here's an example of it getting used in the wild, in case you get stuck:\n",
    "\n",
    "https://www.pyimagesearch.com/2020/03/16/detecting-covid-19-in-x-ray-images-with-keras-tensorflow-and-deep-learning/"
   ]
  },
  {
   "cell_type": "code",
   "execution_count": 130,
   "metadata": {},
   "outputs": [],
   "source": [
    "train_gen = tf.keras.preprocessing.image.ImageDataGenerator(\n",
    "    featurewise_center=True,\n",
    "    featurewise_std_normalization=True,\n",
    "    rotation_range=25,\n",
    "    width_shift_range=0.2,\n",
    "    height_shift_range=0.2,\n",
    "    horizontal_flip=True,\n",
    "    zoom_range=0.2,\n",
    "    validation_split=0.2\n",
    ")\n",
    "\n",
    "train_gen.fit(X_train)"
   ]
  },
  {
   "cell_type": "markdown",
   "metadata": {},
   "source": [
    "10. retrain your classifier\n",
    "\n",
    "Now that you have augmented training data, please retrain your classifier.  The code should basically be the same."
   ]
  },
  {
   "cell_type": "code",
   "execution_count": 131,
   "metadata": {},
   "outputs": [
    {
     "name": "stdout",
     "output_type": "stream",
     "text": [
      "Model: \"sequential_1\"\n",
      "_________________________________________________________________\n",
      "Layer (type)                 Output Shape              Param #   \n",
      "=================================================================\n",
      "vgg16 (Model)                (None, 4, 4, 512)         14714688  \n",
      "_________________________________________________________________\n",
      "flatten_1 (Flatten)          (None, 8192)              0         \n",
      "_________________________________________________________________\n",
      "dense_2 (Dense)              (None, 1024)              8389632   \n",
      "_________________________________________________________________\n",
      "dropout_1 (Dropout)          (None, 1024)              0         \n",
      "_________________________________________________________________\n",
      "dense_3 (Dense)              (None, 2)                 2050      \n",
      "=================================================================\n",
      "Total params: 23,106,370\n",
      "Trainable params: 15,471,106\n",
      "Non-trainable params: 7,635,264\n",
      "_________________________________________________________________\n"
     ]
    }
   ],
   "source": [
    "# new training code goes here\n",
    "augmented_model = tf.keras.models.Sequential()\n",
    "\n",
    "augmented_model.add(vgg_conv)\n",
    "\n",
    "augmented_model.add(tf.keras.layers.Flatten())\n",
    "augmented_model.add(tf.keras.layers.Dense(1024, activation='relu'))\n",
    "augmented_model.add(tf.keras.layers.Dropout(0.5))\n",
    "augmented_model.add(tf.keras.layers.Dense(2, activation='softmax'))\n",
    "\n",
    "augmented_model.summary()"
   ]
  },
  {
   "cell_type": "code",
   "execution_count": 132,
   "metadata": {},
   "outputs": [],
   "source": [
    "augmented_model.compile('adam', loss='categorical_crossentropy', metrics=['accuracy'])"
   ]
  },
  {
   "cell_type": "code",
   "execution_count": 134,
   "metadata": {},
   "outputs": [
    {
     "name": "stdout",
     "output_type": "stream",
     "text": [
      "Train for 26.0 steps, validate for 6.0 steps\n",
      "Epoch 1/5\n",
      "26/26 [==============================] - 562s 22s/step - loss: 34346.4656 - accuracy: 0.5405 - val_loss: 43615.5846 - val_accuracy: 0.0000e+00\n",
      "Epoch 2/5\n",
      "26/26 [==============================] - 18996s 731s/step - loss: 11654135.9413 - accuracy: 0.5249 - val_loss: 241638.0000 - val_accuracy: 0.9271\n",
      "Epoch 3/5\n",
      "26/26 [==============================] - 914s 35s/step - loss: 250465878.7297 - accuracy: 0.5340 - val_loss: 20025813.3333 - val_accuracy: 0.0000e+00\n",
      "Epoch 4/5\n",
      "26/26 [==============================] - 484s 19s/step - loss: 1951195158.8796 - accuracy: 0.4956 - val_loss: 197395541.3333 - val_accuracy: 0.0000e+00\n",
      "Epoch 5/5\n",
      "26/26 [==============================] - 1582s 61s/step - loss: 8391749999.2494 - accuracy: 0.5062 - val_loss: 1856270165.3333 - val_accuracy: 0.0000e+00\n"
     ]
    },
    {
     "data": {
      "text/plain": [
       "<tensorflow.python.keras.callbacks.History at 0x222516571d0>"
      ]
     },
     "execution_count": 134,
     "metadata": {},
     "output_type": "execute_result"
    }
   ],
   "source": [
    "augmented_model.fit(\n",
    "        train_gen.flow(X_train, y_train, batch_size= 128, subset='training'),\n",
    "        steps_per_epoch = (X_train.shape[0] * (1 - 0.2)) // 128,\n",
    "        epochs=5,\n",
    "        verbose=1,\n",
    "        validation_data=train_gen.flow(X_train, y_train, batch_size=128, subset='validation'),\n",
    "        validation_steps=(X_train.shape[0] * 0.2) // 128\n",
    ")"
   ]
  },
  {
   "cell_type": "markdown",
   "metadata": {},
   "source": [
    "11. re-evaluate your classifier\n",
    "\n",
    "Now that you've augmented the data, please re-evaluate your classifer.  Use classification report like before."
   ]
  },
  {
   "cell_type": "code",
   "execution_count": 135,
   "metadata": {},
   "outputs": [
    {
     "name": "stdout",
     "output_type": "stream",
     "text": [
      "              precision    recall  f1-score   support\n",
      "\n",
      "           0       0.00      0.00      0.00       287\n",
      "           1       0.73      1.00      0.84       757\n",
      "\n",
      "    accuracy                           0.73      1044\n",
      "   macro avg       0.36      0.50      0.42      1044\n",
      "weighted avg       0.53      0.73      0.61      1044\n",
      "\n"
     ]
    },
    {
     "name": "stderr",
     "output_type": "stream",
     "text": [
      "C:\\Users\\sonali\\Anaconda3\\lib\\site-packages\\sklearn\\metrics\\_classification.py:1272: UndefinedMetricWarning: Precision and F-score are ill-defined and being set to 0.0 in labels with no predicted samples. Use `zero_division` parameter to control this behavior.\n",
      "  _warn_prf(average, modifier, msg_start, len(result))\n"
     ]
    }
   ],
   "source": [
    "# classification report goes here\n",
    "from sklearn.metrics import classification_report\n",
    "\n",
    "y_pred = augmented_model.predict_classes(X_test)\n",
    "print(classification_report(y_test, y_pred))"
   ]
  },
  {
   "cell_type": "markdown",
   "metadata": {},
   "source": [
    "12. Evaluate the difference with data augmentation and without:\n",
    "\n",
    "Did things improve?  Did they stay the same?  Did they get worse?  Please try to come up with an explanation of why you got the results you did."
   ]
  },
  {
   "cell_type": "markdown",
   "metadata": {},
   "source": [
    "### Explanation of results go here"
   ]
  },
  {
   "cell_type": "markdown",
   "metadata": {},
   "source": [
    "13. Getting COVID19 data\n",
    "\n",
    "Now that you have a trained classifier with pneumonia, we are going to use this with COVID data.  \n",
    "\n",
    "Clone this repo:\n",
    "\n",
    "https://github.com/ieee8023/covid-chestxray-dataset\n",
    "\n",
    "use the clone command: `git clone [REPO]`\n",
    "\n",
    "to get the data locally.  \n",
    "\n",
    "Make sure to run this command in the same folder as this jupyter notebook."
   ]
  },
  {
   "cell_type": "markdown",
   "metadata": {},
   "source": [
    "14. Read the data into memory\n",
    "\n",
    "The set up for this data repository is a little different.  Please use the following code to read the data into memory:"
   ]
  },
  {
   "cell_type": "code",
   "execution_count": 136,
   "metadata": {},
   "outputs": [],
   "source": [
    "import pandas as pd\n",
    "\n",
    "def get_covid19():\n",
    "    base = \"covid-chestxray-dataset/\"\n",
    "    metadata = pd.read_csv(base+\"metadata.csv\")\n",
    "    labels = []\n",
    "    image_paths = []\n",
    "    for index, row in metadata.iterrows():\n",
    "        labels.append(row[\"finding\"])\n",
    "        image_paths.append(base+row[\"filename\"])\n",
    "    return labels, image_paths\n",
    "\n",
    "labels, covid_image_paths = get_covid19()"
   ]
  },
  {
   "cell_type": "code",
   "execution_count": 171,
   "metadata": {},
   "outputs": [
    {
     "data": {
      "text/plain": [
       "['covid-chestxray-dataset/auntminnie-a-2020_01_28_23_51_6665_2020_01_28_Vietnam_coronavirus.jpeg',\n",
       " 'covid-chestxray-dataset/auntminnie-b-2020_01_28_23_51_6665_2020_01_28_Vietnam_coronavirus.jpeg',\n",
       " 'covid-chestxray-dataset/auntminnie-c-2020_01_28_23_51_6665_2020_01_28_Vietnam_coronavirus.jpeg',\n",
       " 'covid-chestxray-dataset/auntminnie-d-2020_01_28_23_51_6665_2020_01_28_Vietnam_coronavirus.jpeg',\n",
       " 'covid-chestxray-dataset/nejmc2001573_f1a.jpeg',\n",
       " 'covid-chestxray-dataset/nejmc2001573_f1b.jpeg',\n",
       " 'covid-chestxray-dataset/ARDSSevere.png',\n",
       " 'covid-chestxray-dataset/lancet-case2a.jpg',\n",
       " 'covid-chestxray-dataset/lancet-case2b.jpg',\n",
       " 'covid-chestxray-dataset/SARS-10.1148rg.242035193-g04mr34g0-Fig8a-day0.jpeg',\n",
       " 'covid-chestxray-dataset/SARS-10.1148rg.242035193-g04mr34g0-Fig8b-day5.jpeg',\n",
       " 'covid-chestxray-dataset/SARS-10.1148rg.242035193-g04mr34g0-Fig8c-day10.jpeg',\n",
       " 'covid-chestxray-dataset/SARS-10.1148rg.242035193-g04mr34g04a-Fig4a-day7.jpeg',\n",
       " 'covid-chestxray-dataset/SARS-10.1148rg.242035193-g04mr34g04b-Fig4b-day12.jpeg',\n",
       " 'covid-chestxray-dataset/SARS-10.1148rg.242035193-g04mr34g05x-Fig5-day9.jpeg',\n",
       " 'covid-chestxray-dataset/SARS-10.1148rg.242035193-g04mr34g07a-Fig7a-day5.jpeg',\n",
       " 'covid-chestxray-dataset/SARS-10.1148rg.242035193-g04mr34g07b-Fig7b-day12.jpeg',\n",
       " 'covid-chestxray-dataset/SARS-10.1148rg.242035193-g04mr34g09a-Fig9a-day17.jpeg',\n",
       " 'covid-chestxray-dataset/SARS-10.1148rg.242035193-g04mr34g09b-Fig9b-day19.jpeg',\n",
       " 'covid-chestxray-dataset/SARS-10.1148rg.242035193-g04mr34g09c-Fig9c-day27.jpeg',\n",
       " 'covid-chestxray-dataset/1-s2.0-S0140673620303706-fx1_lrg.jpg',\n",
       " 'covid-chestxray-dataset/nCoV-radiol.2020200269.fig1-day7.jpeg',\n",
       " 'covid-chestxray-dataset/nejmoa2001191_f1-PA.jpeg',\n",
       " 'covid-chestxray-dataset/nejmoa2001191_f1-L.jpeg',\n",
       " 'covid-chestxray-dataset/nejmoa2001191_f3-PA.jpeg',\n",
       " 'covid-chestxray-dataset/nejmoa2001191_f3-L.jpeg',\n",
       " 'covid-chestxray-dataset/nejmoa2001191_f4.jpeg',\n",
       " 'covid-chestxray-dataset/nejmoa2001191_f5-PA.jpeg',\n",
       " 'covid-chestxray-dataset/nejmoa2001191_f5-L.jpeg',\n",
       " 'covid-chestxray-dataset/ryct.2020200034.fig2.jpeg',\n",
       " 'covid-chestxray-dataset/ryct.2020200034.fig5-day0.jpeg',\n",
       " 'covid-chestxray-dataset/ryct.2020200034.fig5-day4.jpeg',\n",
       " 'covid-chestxray-dataset/ryct.2020200034.fig5-day7.jpeg',\n",
       " 'covid-chestxray-dataset/ryct.2020200028.fig1a.jpeg',\n",
       " 'covid-chestxray-dataset/jkms-35-e79-g001-l-a.jpg',\n",
       " 'covid-chestxray-dataset/jkms-35-e79-g001-l-b.jpg',\n",
       " 'covid-chestxray-dataset/jkms-35-e79-g001-l-c.jpg',\n",
       " 'covid-chestxray-dataset/jkms-35-e79-g001-l-d.jpg',\n",
       " 'covid-chestxray-dataset/jkms-35-e79-g001-l-e.jpg',\n",
       " 'covid-chestxray-dataset/radiol.2020200490.fig3.jpeg',\n",
       " 'covid-chestxray-dataset/1-s2.0-S0929664620300449-gr2_lrg-a.jpg',\n",
       " 'covid-chestxray-dataset/1-s2.0-S0929664620300449-gr2_lrg-b.jpg',\n",
       " 'covid-chestxray-dataset/1-s2.0-S0929664620300449-gr2_lrg-c.jpg',\n",
       " 'covid-chestxray-dataset/1-s2.0-S0929664620300449-gr2_lrg-d.jpg',\n",
       " 'covid-chestxray-dataset/1-s2.0-S0929664620300449-gr3_lrg-a.jpg',\n",
       " 'covid-chestxray-dataset/1-s2.0-S0929664620300449-gr3_lrg-b.jpg',\n",
       " 'covid-chestxray-dataset/1-s2.0-S0929664620300449-gr3_lrg-c.jpg',\n",
       " 'covid-chestxray-dataset/1-s2.0-S0929664620300449-gr3_lrg-d.jpg',\n",
       " 'covid-chestxray-dataset/covid-19-pneumonia-15-PA.jpg',\n",
       " 'covid-chestxray-dataset/covid-19-pneumonia-15-L.jpg',\n",
       " 'covid-chestxray-dataset/covid-19-pneumonia-2.jpg',\n",
       " 'covid-chestxray-dataset/covid-19-pneumonia-7-PA.jpg',\n",
       " 'covid-chestxray-dataset/covid-19-pneumonia-7-L.jpg',\n",
       " 'covid-chestxray-dataset/radiopaedia_org_covid-19-pneumonia-7_85703_0-dcm.nii.gz',\n",
       " 'covid-chestxray-dataset/covid-19-pneumonia-14-PA.png',\n",
       " 'covid-chestxray-dataset/covid-19-pneumonia-14-L.png',\n",
       " 'covid-chestxray-dataset/radiopaedia_org_covid-19-pneumonia-14_85914_0-dcm.nii.gz',\n",
       " 'covid-chestxray-dataset/covid-19-pneumonia-12.jpg',\n",
       " 'covid-chestxray-dataset/acute-respiratory-distress-syndrome-ards-1.jpg',\n",
       " 'covid-chestxray-dataset/acute-respiratory-distress-syndrome-ards.jpg',\n",
       " 'covid-chestxray-dataset/ards-secondary-to-tiger-snake-bite.png',\n",
       " 'covid-chestxray-dataset/pneumocystis-pneumonia-2-PA.png',\n",
       " 'covid-chestxray-dataset/pneumocystis-pneumonia-2-L.png',\n",
       " 'covid-chestxray-dataset/streptococcus-pneumoniae-pneumonia-1.jpg',\n",
       " 'covid-chestxray-dataset/pneumonia-7.jpg',\n",
       " 'covid-chestxray-dataset/streptococcus-pneumoniae-pneumonia-temporal-evolution-1-day0.jpg',\n",
       " 'covid-chestxray-dataset/streptococcus-pneumoniae-pneumonia-temporal-evolution-1-day1.jpg',\n",
       " 'covid-chestxray-dataset/streptococcus-pneumoniae-pneumonia-temporal-evolution-1-day2.jpg',\n",
       " 'covid-chestxray-dataset/streptococcus-pneumoniae-pneumonia-temporal-evolution-1-day3.jpg',\n",
       " 'covid-chestxray-dataset/39EE8E69-5801-48DE-B6E3-BE7D1BCF3092.jpeg',\n",
       " 'covid-chestxray-dataset/191F3B3A-2879-4EF3-BE56-EE0D2B5AAEE3.jpeg',\n",
       " 'covid-chestxray-dataset/DE488FE1-0C44-428B-B67A-09741C1214C0.jpeg',\n",
       " 'covid-chestxray-dataset/7C69C012-7479-493F-8722-ABC29C60A2DD.jpeg',\n",
       " 'covid-chestxray-dataset/44C8E3D6-20DA-42E9-B33B-96FA6D6DE12F.jpeg',\n",
       " 'covid-chestxray-dataset/3ED3C0E1-4FE0-4238-8112-DDFF9E20B471.jpeg',\n",
       " 'covid-chestxray-dataset/2C10A413-AABE-4807-8CCE-6A2025594067.jpeg',\n",
       " 'covid-chestxray-dataset/FC230FE2-1DDF-40EB-AA0D-21F950933289.jpeg',\n",
       " 'covid-chestxray-dataset/66298CBF-6F10-42D5-A688-741F6AC84A76.jpeg',\n",
       " 'covid-chestxray-dataset/E1724330-1866-4581-8CD8-CEC9B8AFEDDE.jpeg',\n",
       " 'covid-chestxray-dataset/925446AE-B3C7-4C93-941B-AC4D2FE1F455.jpeg',\n",
       " 'covid-chestxray-dataset/6A7D4110-2BFC-4D9A-A2D6-E9226D91D25A.jpeg',\n",
       " 'covid-chestxray-dataset/8FDE8DBA-CFBD-4B4C-B1A4-6F36A93B7E87.jpeg',\n",
       " 'covid-chestxray-dataset/9C34AF49-E589-44D5-92D3-168B3B04E4A6.jpeg',\n",
       " 'covid-chestxray-dataset/21DDEBFD-7F16-4E3E-8F90-CB1B8EE82828.jpeg',\n",
       " 'covid-chestxray-dataset/F2DE909F-E19C-4900-92F5-8F435B031AC6.jpeg',\n",
       " 'covid-chestxray-dataset/31BA3780-2323-493F-8AED-62081B9C383B.jpeg',\n",
       " 'covid-chestxray-dataset/F051E018-DAD1-4506-AD43-BE4CA29E960B.jpeg',\n",
       " 'covid-chestxray-dataset/5083A6B7-8983-472E-A427-570A3E03DDEE.jpeg',\n",
       " 'covid-chestxray-dataset/1312A392-67A3-4EBF-9319-810CF6DA5EF6.jpeg',\n",
       " 'covid-chestxray-dataset/396A81A5-982C-44E9-A57E-9B1DC34E2C08.jpeg',\n",
       " 'covid-chestxray-dataset/23E99E2E-447C-46E5-8EB2-D35D12473C39.png',\n",
       " 'covid-chestxray-dataset/7AF6C1AF-D249-4BD2-8C26-449304105D03.jpeg',\n",
       " 'covid-chestxray-dataset/1B734A89-A1BF-49A8-A1D3-66FAFA4FAC5D.jpeg',\n",
       " 'covid-chestxray-dataset/CD50BA96-6982-4C80-AE7B-5F67ACDBFA56.jpeg',\n",
       " 'covid-chestxray-dataset/85E52EB3-56E9-4D67-82DA-DEA247C82886.jpeg',\n",
       " 'covid-chestxray-dataset/6CB4EFC6-68FA-4CD5-940C-BEFA8DAFE9A7.jpeg',\n",
       " 'covid-chestxray-dataset/01E392EE-69F9-4E33-BFCE-E5C968654078.jpeg',\n",
       " 'covid-chestxray-dataset/F63AB6CE-1968-4154-A70F-913AF154F53D.jpeg',\n",
       " 'covid-chestxray-dataset/2C26F453-AF3B-4517-BB9E-802CF2179543.jpeg',\n",
       " 'covid-chestxray-dataset/93FE0BB1-022D-4F24-9727-987A07975FFB.jpeg',\n",
       " 'covid-chestxray-dataset/B59DD164-51D5-40DF-A926-6A42DD52EBE8.jpeg',\n",
       " 'covid-chestxray-dataset/F4341CE7-73C9-45C6-99C8-8567A5484B63.jpeg',\n",
       " 'covid-chestxray-dataset/D5ACAA93-C779-4E22-ADFA-6A220489F840.jpeg',\n",
       " 'covid-chestxray-dataset/E63574A7-4188-4C8D-8D17-9D67A18A1AFA.jpeg',\n",
       " 'covid-chestxray-dataset/35AF5C3B-D04D-4B4B-92B7-CB1F67D83085.jpeg',\n",
       " 'covid-chestxray-dataset/5CBC2E94-D358-401E-8928-965CCD965C5C.jpeg',\n",
       " 'covid-chestxray-dataset/446B2CB6-B572-40AB-B01F-1910CA07086A.jpeg',\n",
       " 'covid-chestxray-dataset/80446565-E090-4187-A031-9D3CEAA586C8.jpeg',\n",
       " 'covid-chestxray-dataset/7E335538-2F86-424E-A0AB-6397783A38D0.jpeg',\n",
       " 'covid-chestxray-dataset/D7AF463C-2369-492D-908D-BE1911CCD74C.jpeg',\n",
       " 'covid-chestxray-dataset/all14238-fig-0001-m-b.jpg',\n",
       " 'covid-chestxray-dataset/all14238-fig-0001-m-c.jpg',\n",
       " 'covid-chestxray-dataset/all14238-fig-0002-m-d.jpg',\n",
       " 'covid-chestxray-dataset/all14238-fig-0002-m-e.jpg',\n",
       " 'covid-chestxray-dataset/all14238-fig-0002-m-f.jpg',\n",
       " 'covid-chestxray-dataset/1-s2.0-S1684118220300608-main.pdf-001.jpg',\n",
       " 'covid-chestxray-dataset/1-s2.0-S1684118220300608-main.pdf-002.jpg',\n",
       " 'covid-chestxray-dataset/ciaa199.pdf-001-a.png',\n",
       " 'covid-chestxray-dataset/ciaa199.pdf-001-b.png',\n",
       " 'covid-chestxray-dataset/ciaa199.pdf-001-c.png',\n",
       " 'covid-chestxray-dataset/kjr-21-e24-g001-l-a.jpg',\n",
       " 'covid-chestxray-dataset/kjr-21-e24-g001-l-b.jpg',\n",
       " 'covid-chestxray-dataset/kjr-21-e24-g001-l-c.jpg',\n",
       " 'covid-chestxray-dataset/kjr-21-e24-g002-l-a.jpg',\n",
       " 'covid-chestxray-dataset/kjr-21-e24-g002-l-b.jpg',\n",
       " 'covid-chestxray-dataset/kjr-21-e24-g002-l-c.jpg',\n",
       " 'covid-chestxray-dataset/kjr-21-e24-g003-l-a.jpg',\n",
       " 'covid-chestxray-dataset/kjr-21-e24-g003-l-b.jpg',\n",
       " 'covid-chestxray-dataset/kjr-21-e24-g004-l-a.jpg',\n",
       " 'covid-chestxray-dataset/kjr-21-e24-g004-l-b.jpg',\n",
       " 'covid-chestxray-dataset/1-s2.0-S1684118220300682-main.pdf-002-a1.png',\n",
       " 'covid-chestxray-dataset/1-s2.0-S1684118220300682-main.pdf-002-a2.png',\n",
       " 'covid-chestxray-dataset/1-s2.0-S1684118220300682-main.pdf-003-b1.png',\n",
       " 'covid-chestxray-dataset/1-s2.0-S1684118220300682-main.pdf-003-b2.png',\n",
       " 'covid-chestxray-dataset/gr1_lrg-a.jpg',\n",
       " 'covid-chestxray-dataset/gr1_lrg-b.jpg',\n",
       " 'covid-chestxray-dataset/7D2CF6CE-F529-4470-8356-D33FFAF98600.jpeg',\n",
       " 'covid-chestxray-dataset/FE9F9A5D-2830-46F9-851B-1FF4534959BE.jpeg',\n",
       " 'covid-chestxray-dataset/4C4DEFD8-F55D-4588-AAD6-C59017F55966.jpeg',\n",
       " 'covid-chestxray-dataset/171CB377-62FF-4B76-906C-F3787A01CB2E.jpeg',\n",
       " 'covid-chestxray-dataset/5931B64A-7B97-485D-BE60-3F1EA76BC4F0.jpeg',\n",
       " 'covid-chestxray-dataset/C6EA0BE5-B01E-4113-B194-18D956675E25.jpeg',\n",
       " 'covid-chestxray-dataset/7EF28E12-F628-4BEC-A8C5-E6277C2E4F60.png',\n",
       " 'covid-chestxray-dataset/41591_2020_819_Fig1_HTML.webp-day5.png',\n",
       " 'covid-chestxray-dataset/41591_2020_819_Fig1_HTML.webp-day10.png',\n",
       " 'covid-chestxray-dataset/5e6dd879fde9502400e58b2f.jpeg',\n",
       " 'covid-chestxray-dataset/covid-19-pneumonia-19.jpg',\n",
       " 'covid-chestxray-dataset/kjr-21-e25-g001-l-a.jpg',\n",
       " 'covid-chestxray-dataset/03BF7561-A9BA-4C3C-B8A0-D3E585F73F3C.jpeg',\n",
       " 'covid-chestxray-dataset/254B82FC-817D-4E2F-AB6E-1351341F0E38.jpeg',\n",
       " 'covid-chestxray-dataset/353889E0-A1E8-4F9E-A0B8-F24F36BCFBFB.jpeg',\n",
       " 'covid-chestxray-dataset/figure1-5e73d7ae897e27ff066a30cb-98.jpeg',\n",
       " 'covid-chestxray-dataset/figure1-5e75d0940b71e1b702629659-98-right.jpeg',\n",
       " 'covid-chestxray-dataset/figure1-5e71be566aa8714a04de3386-98-left.jpeg',\n",
       " 'covid-chestxray-dataset/1F6343EE-AFEC-4B7D-97F5-62797EE18767.jpeg',\n",
       " 'covid-chestxray-dataset/5A78BCA9-5B7A-440D-8A4E-AE7710EA6EAD.jpeg',\n",
       " 'covid-chestxray-dataset/2B8649B2-00C4-4233-85D5-1CE240CF233B.jpeg',\n",
       " 'covid-chestxray-dataset/2966893D-5DDF-4B68-9E2B-4979D5956C8E.jpeg',\n",
       " 'covid-chestxray-dataset/B2D20576-00B7-4519-A415-72DE29C90C34.jpeg',\n",
       " 'covid-chestxray-dataset/6C94A287-C059-46A0-8600-AFB95F4727B7.jpeg',\n",
       " 'covid-chestxray-dataset/pneumococcal-pneumonia-day0.jpg',\n",
       " 'covid-chestxray-dataset/pneumococcal-pneumonia-day7.jpg',\n",
       " 'covid-chestxray-dataset/pneumococcal-pneumonia-day35.jpg',\n",
       " 'covid-chestxray-dataset/parapneumonic-effusion-1-PA.png',\n",
       " 'covid-chestxray-dataset/parapneumonic-effusion-1-L.png',\n",
       " 'covid-chestxray-dataset/right-upper-lobe-pneumonia-9-PA.jpg',\n",
       " 'covid-chestxray-dataset/right-upper-lobe-pneumonia-9-L.jpg',\n",
       " 'covid-chestxray-dataset/chlamydia-pneumonia-PA.png',\n",
       " 'covid-chestxray-dataset/chlamydia-pneumonia-L.png',\n",
       " 'covid-chestxray-dataset/aspiration-pneumonia-5-day0.jpg',\n",
       " 'covid-chestxray-dataset/aspiration-pneumonia-5-day3.jpg',\n",
       " 'covid-chestxray-dataset/aspiration-pneumonia-5-day10.jpg',\n",
       " 'covid-chestxray-dataset/aspiration-pneumonia-5-day27.jpg',\n",
       " 'covid-chestxray-dataset/cavitating-pneumonia-4-day0-PA.jpg',\n",
       " 'covid-chestxray-dataset/cavitating-pneumonia-4-day0-L.jpg',\n",
       " 'covid-chestxray-dataset/cavitating-pneumonia-4-day28-PA.png',\n",
       " 'covid-chestxray-dataset/cavitating-pneumonia-4-day28-L.png',\n",
       " 'covid-chestxray-dataset/covid-19-pneumonia-30-PA.jpg',\n",
       " 'covid-chestxray-dataset/covid-19-pneumonia-30-L.jpg',\n",
       " 'covid-chestxray-dataset/6b44464d-73a7-4cf3-bbb6-ffe7168300e3.annot.original.jpeg',\n",
       " 'covid-chestxray-dataset/58cb9263f16e94305c730685358e4e_jumbo.jpeg',\n",
       " 'covid-chestxray-dataset/a1a7d22e66f6570df523e0077c6a5a_jumbo.jpeg',\n",
       " 'covid-chestxray-dataset/9fdd3c3032296fd04d2cad5d9070d4_jumbo.jpeg',\n",
       " 'covid-chestxray-dataset/covid-19-pneumonia-rapidly-progressive-admission.jpg',\n",
       " 'covid-chestxray-dataset/covid-19-pneumonia-rapidly-progressive-12-hours.jpg',\n",
       " 'covid-chestxray-dataset/covid-19-pneumonia-rapidly-progressive-3-days.jpg',\n",
       " 'covid-chestxray-dataset/covid-19-rapidly-progressive-acute-respiratory-distress-syndrome-ards-admission.jpg',\n",
       " 'covid-chestxray-dataset/covid-19-rapidly-progressive-acute-respiratory-distress-syndrome-ards-day-1.jpg',\n",
       " 'covid-chestxray-dataset/covid-19-rapidly-progressive-acute-respiratory-distress-syndrome-ards-day-2.jpg',\n",
       " 'covid-chestxray-dataset/covid-19-rapidly-progressive-acute-respiratory-distress-syndrome-ards-day-3.jpg',\n",
       " 'covid-chestxray-dataset/covid-19-infection-exclusive-gastrointestinal-symptoms-pa.png',\n",
       " 'covid-chestxray-dataset/covid-19-infection-exclusive-gastrointestinal-symptoms-l.png',\n",
       " 'covid-chestxray-dataset/covid-19-pneumonia-28.png',\n",
       " 'covid-chestxray-dataset/klebsiella-pneumonia-1.jpg',\n",
       " 'covid-chestxray-dataset/pneumocystis-jirovecii-pneumonia-3-1.jpg',\n",
       " 'covid-chestxray-dataset/pneumocystis-jirovecii-pneumonia-3-2.jpg',\n",
       " 'covid-chestxray-dataset/pneumocystis-jirovecii-pneumonia-3-3.jpg',\n",
       " 'covid-chestxray-dataset/pneumocystis-pneumonia-1.jpg',\n",
       " 'covid-chestxray-dataset/X-ray_of_cyst_in_pneumocystis_pneumonia_1.jpg',\n",
       " 'covid-chestxray-dataset/pneumocystis-pneumonia-8.jpg',\n",
       " 'covid-chestxray-dataset/pneumocystis-carinii-pneumonia-1-PA.jpg',\n",
       " 'covid-chestxray-dataset/pneumocystis-carinii-pneumonia-1-L.jpg',\n",
       " 'covid-chestxray-dataset/pneumocystis-pneumonia-12.png',\n",
       " 'covid-chestxray-dataset/pneumocystis-jiroveci-pneumonia-2.png',\n",
       " 'covid-chestxray-dataset/pneumocystis-jirovecii-pneumonia-2.jpg',\n",
       " 'covid-chestxray-dataset/pneumocystis-jiroveci-pneumonia-4-PA.png',\n",
       " 'covid-chestxray-dataset/pneumocystis-jiroveci-pneumonia-4-L.png',\n",
       " 'covid-chestxray-dataset/legionella-pneumonia-1.png',\n",
       " 'covid-chestxray-dataset/legionella-pneumonia-2.jpg',\n",
       " 'covid-chestxray-dataset/1.CXRCTThoraximagesofCOVID-19fromSingapore.pdf-000-fig1a.png',\n",
       " 'covid-chestxray-dataset/1.CXRCTThoraximagesofCOVID-19fromSingapore.pdf-000-fig1b.png',\n",
       " 'covid-chestxray-dataset/1.CXRCTThoraximagesofCOVID-19fromSingapore.pdf-001-fig2a.png',\n",
       " 'covid-chestxray-dataset/1.CXRCTThoraximagesofCOVID-19fromSingapore.pdf-001-fig2b.png',\n",
       " 'covid-chestxray-dataset/1.CXRCTThoraximagesofCOVID-19fromSingapore.pdf-002-fig3a.png',\n",
       " 'covid-chestxray-dataset/1.CXRCTThoraximagesofCOVID-19fromSingapore.pdf-002-fig3b.png',\n",
       " 'covid-chestxray-dataset/1.CXRCTThoraximagesofCOVID-19fromSingapore.pdf-003-fig4a.png',\n",
       " 'covid-chestxray-dataset/1.CXRCTThoraximagesofCOVID-19fromSingapore.pdf-003-fig4b.png',\n",
       " 'covid-chestxray-dataset/covid-19-pneumonia-24-day6.jpg',\n",
       " 'covid-chestxray-dataset/covid-19-pneumonia-24-day7.jpg',\n",
       " 'covid-chestxray-dataset/covid-19-pneumonia-24-day12.jpg',\n",
       " 'covid-chestxray-dataset/covid-19-pneumonia-evolution-over-a-week-1-day0-PA.jpg',\n",
       " 'covid-chestxray-dataset/covid-19-pneumonia-evolution-over-a-week-1-day0-L.jpg',\n",
       " 'covid-chestxray-dataset/covid-19-pneumonia-evolution-over-a-week-1-day3.jpg',\n",
       " 'covid-chestxray-dataset/covid-19-pneumonia-evolution-over-a-week-1-day4.jpg',\n",
       " 'covid-chestxray-dataset/covid-19-pneumonia-evolution-over-a-week-1-day6.jpg',\n",
       " 'covid-chestxray-dataset/53EC07C9-5CC6-4BE4-9B6F-D7B0D72AAA7E.jpeg',\n",
       " 'covid-chestxray-dataset/coronacases_org_001.nii.gz',\n",
       " 'covid-chestxray-dataset/coronacases_org_002.nii.gz',\n",
       " 'covid-chestxray-dataset/coronacases_org_003.nii.gz',\n",
       " 'covid-chestxray-dataset/coronacases_org_004.nii.gz',\n",
       " 'covid-chestxray-dataset/coronacases_org_005.nii.gz',\n",
       " 'covid-chestxray-dataset/coronacases_org_006.nii.gz',\n",
       " 'covid-chestxray-dataset/coronacases_org_007.nii.gz',\n",
       " 'covid-chestxray-dataset/coronacases_org_008.nii.gz',\n",
       " 'covid-chestxray-dataset/coronacases_org_009.nii.gz',\n",
       " 'covid-chestxray-dataset/coronacases_org_010.nii.gz',\n",
       " 'covid-chestxray-dataset/radiopaedia_org_covid-19-pneumonia-4_85506_1-dcm.nii.gz',\n",
       " 'covid-chestxray-dataset/radiopaedia_org_covid-19-pneumonia-29_86490_1-dcm.nii.gz',\n",
       " 'covid-chestxray-dataset/radiopaedia_org_covid-19-pneumonia-29_86491_1-dcm.nii.gz',\n",
       " 'covid-chestxray-dataset/covid-19-pneumonia-23-day1.jpg',\n",
       " 'covid-chestxray-dataset/covid-19-pneumonia-23-day3.jpg',\n",
       " 'covid-chestxray-dataset/covid-19-pneumonia-23-day9.jpg',\n",
       " 'covid-chestxray-dataset/radiopaedia_org_covid-19-pneumonia-23_86359_0-dcm.nii.gz',\n",
       " 'covid-chestxray-dataset/radiopaedia_org_covid-19-pneumonia-10_85902_1-dcm.nii.gz',\n",
       " 'covid-chestxray-dataset/radiopaedia_org_covid-19-pneumonia-10_85902_3-dcm.nii.gz',\n",
       " 'covid-chestxray-dataset/radiopaedia_org_covid-19-pneumonia-36_86526_0-dcm.nii.gz',\n",
       " 'covid-chestxray-dataset/radiopaedia_org_covid-19-pneumonia-27_86410_0-dcm.nii.gz',\n",
       " 'covid-chestxray-dataset/radiopaedia_org_covid-19-pneumonia-40_86625_0-dcm.nii.gz',\n",
       " 'covid-chestxray-dataset/A7E260CE-8A00-4C5F-A7F5-27336527A981.jpeg',\n",
       " 'covid-chestxray-dataset/RX-torace-a-letto-del-paziente-in-unica-proiezione-AP-1-1.jpeg',\n",
       " 'covid-chestxray-dataset/covid-19-caso-70-1-PA.jpg',\n",
       " 'covid-chestxray-dataset/covid-19-caso-70-1-L.jpg',\n",
       " 'covid-chestxray-dataset/covid-19-caso-70-2-APS.jpg',\n",
       " 'covid-chestxray-dataset/4e43e48d52c9e2d4c6c1fb9bc1544f_jumbo.jpeg',\n",
       " 'covid-chestxray-dataset/covid-19-pneumonia-53.jpg',\n",
       " 'covid-chestxray-dataset/post-intubuation-pneumomediastium-and-pneumothorax-background-covid-19-pneumonia-day1.jpg',\n",
       " 'covid-chestxray-dataset/post-intubuation-pneumomediastium-and-pneumothorax-background-covid-19-pneumonia-day6-1.jpg',\n",
       " 'covid-chestxray-dataset/post-intubuation-pneumomediastium-and-pneumothorax-background-covid-19-pneumonia-day6-2.jpg',\n",
       " 'covid-chestxray-dataset/post-intubuation-pneumomediastium-and-pneumothorax-background-covid-19-pneumonia-day7.jpg',\n",
       " 'covid-chestxray-dataset/covid-19-pneumonia-49-day4.jpg',\n",
       " 'covid-chestxray-dataset/covid-19-pneumonia-49-day8.jpg',\n",
       " 'covid-chestxray-dataset/covid-19-pneumonia-43-day0.jpeg',\n",
       " 'covid-chestxray-dataset/covid-19-pneumonia-43-day2.jpeg',\n",
       " 'covid-chestxray-dataset/covid-19-pneumonia-40.jpg',\n",
       " 'covid-chestxray-dataset/covid-19-pneumonia-42.jpeg',\n",
       " 'covid-chestxray-dataset/da9e9aac-de8c-44c7-ba57-e7cc8e4caaba.annot.original.jpeg',\n",
       " 'covid-chestxray-dataset/4ad30bc6-2da0-4f84-bc9b-62acabfd518a.annot.original.png',\n",
       " 'covid-chestxray-dataset/fff49165-b22d-4bb4-b9d1-d5d62c52436c.annot.original.png',\n",
       " 'covid-chestxray-dataset/figure1-5e7c1b8d98c29ab001275405-98.jpeg',\n",
       " 'covid-chestxray-dataset/figure1-5e7c1b8d98c29ab001275405-98-later.jpeg',\n",
       " 'covid-chestxray-dataset/radiol.2020201160.fig2a.jpeg',\n",
       " 'covid-chestxray-dataset/radiol.2020201160.fig2b.jpeg',\n",
       " 'covid-chestxray-dataset/radiol.2020201160.fig2c.jpeg',\n",
       " 'covid-chestxray-dataset/radiol.2020201160.fig2d.jpeg',\n",
       " 'covid-chestxray-dataset/radiol.2020201160.fig3a.jpeg',\n",
       " 'covid-chestxray-dataset/radiol.2020201160.fig3b.jpeg',\n",
       " 'covid-chestxray-dataset/radiol.2020201160.fig3c.jpeg',\n",
       " 'covid-chestxray-dataset/radiol.2020201160.fig3d.jpeg',\n",
       " 'covid-chestxray-dataset/radiol.2020201160.fig6b.jpeg',\n",
       " 'covid-chestxray-dataset/ryct.2020003.fig2-a.png',\n",
       " 'covid-chestxray-dataset/ryct.2020003.fig2-b.png',\n",
       " 'covid-chestxray-dataset/ryct.2020003.fig2-c.png',\n",
       " 'covid-chestxray-dataset/radiol.2020200274.fig3d.png',\n",
       " 'covid-chestxray-dataset/covid-19-pneumonia-8.jpg',\n",
       " 'covid-chestxray-dataset/covid-19-pneumonia-20-pa-on-admission.jpg',\n",
       " 'covid-chestxray-dataset/covid-19-pneumonia-20-l-on-admission.jpg',\n",
       " 'covid-chestxray-dataset/covid-19-pneumonia-20.jpg',\n",
       " 'covid-chestxray-dataset/covid-19-pneumonia-22-day1-pa.png',\n",
       " 'covid-chestxray-dataset/covid-19-pneumonia-22-day1-l.png',\n",
       " 'covid-chestxray-dataset/covid-19-pneumonia-22-day2-pa.png',\n",
       " 'covid-chestxray-dataset/covid-19-pneumonia-34.png',\n",
       " 'covid-chestxray-dataset/covid-19-pneumonia-38-pa.jpg',\n",
       " 'covid-chestxray-dataset/covid-19-pneumonia-38-l.jpg',\n",
       " 'covid-chestxray-dataset/covid-19-pneumonia-35-1.jpg',\n",
       " 'covid-chestxray-dataset/covid-19-pneumonia-35-2.jpg',\n",
       " 'covid-chestxray-dataset/covid-19-pneumonia-41-day-0.jpg',\n",
       " 'covid-chestxray-dataset/covid-19-pneumonia-41-day-2.jpg',\n",
       " 'covid-chestxray-dataset/covid-19-pneumonia-44-day-0.jpeg',\n",
       " 'covid-chestxray-dataset/covid-19-pneumonia-44-day-8.jpeg',\n",
       " 'covid-chestxray-dataset/wong-0000.jpg',\n",
       " 'covid-chestxray-dataset/wong-0002.jpg',\n",
       " 'covid-chestxray-dataset/wong-0003.jpg',\n",
       " 'covid-chestxray-dataset/wong-0004.jpg',\n",
       " 'covid-chestxray-dataset/wong-0005.jpg',\n",
       " 'covid-chestxray-dataset/covid-19-pneumonia-58-prior.jpg',\n",
       " 'covid-chestxray-dataset/covid-19-pneumonia-58-day-3.jpg',\n",
       " 'covid-chestxray-dataset/covid-19-pneumonia-58-day-7.jpg',\n",
       " 'covid-chestxray-dataset/covid-19-pneumonia-58-day-9.jpg',\n",
       " 'covid-chestxray-dataset/covid-19-pneumonia-58-day-10.jpg',\n",
       " 'covid-chestxray-dataset/covid-19-pneumonia-mild.JPG',\n",
       " 'covid-chestxray-dataset/covid-19-pneumonia-67.jpeg',\n",
       " 'covid-chestxray-dataset/covid-19-pneumonia-bilateral.jpg',\n",
       " 'covid-chestxray-dataset/16663_1_1.jpg',\n",
       " 'covid-chestxray-dataset/16663_1_2.jpg',\n",
       " 'covid-chestxray-dataset/16660_1_1.jpg',\n",
       " 'covid-chestxray-dataset/16660_2_1.jpg',\n",
       " 'covid-chestxray-dataset/16660_3_1.jpg',\n",
       " 'covid-chestxray-dataset/16660_4_1.jpg',\n",
       " 'covid-chestxray-dataset/16660_5_1.jpg',\n",
       " 'covid-chestxray-dataset/16654_1_1.png',\n",
       " 'covid-chestxray-dataset/16654_2_1.jpg',\n",
       " 'covid-chestxray-dataset/16654_4_1.jpg',\n",
       " 'covid-chestxray-dataset/16691_1_1.jpg',\n",
       " 'covid-chestxray-dataset/16674_1_1.jpg',\n",
       " 'covid-chestxray-dataset/16672_1_1.jpg',\n",
       " 'covid-chestxray-dataset/16669_1_1.jpeg',\n",
       " 'covid-chestxray-dataset/16669_3_1.jpeg',\n",
       " 'covid-chestxray-dataset/16664_1_1.jpg',\n",
       " 'covid-chestxray-dataset/16664_2_1.jpg',\n",
       " 'covid-chestxray-dataset/ajr.20.23034.pdf-001.png',\n",
       " 'covid-chestxray-dataset/ajr.20.23034.pdf-003.png',\n",
       " 'covid-chestxray-dataset/yxppt-2020-02-19_00-51-27_287214-day8.jpg',\n",
       " 'covid-chestxray-dataset/yxppt-2020-02-19_00-51-27_287214-day10.jpg',\n",
       " 'covid-chestxray-dataset/yxppt-2020-02-19_00-51-27_287214-day12.jpg',\n",
       " 'covid-chestxray-dataset/ae6c954c0039de4b5edee53865ffee43-e6c8-0.jpg',\n",
       " 'covid-chestxray-dataset/6b3bdbc31f65230b8cdcc3cef5f8ba8a-40ac-0.jpg',\n",
       " 'covid-chestxray-dataset/88de9d8c39e946abd495b37cd07d89e5-0666-0.jpg',\n",
       " 'covid-chestxray-dataset/88de9d8c39e946abd495b37cd07d89e5-2ee6-0.jpg',\n",
       " 'covid-chestxray-dataset/88de9d8c39e946abd495b37cd07d89e5-6531-0.jpg',\n",
       " 'covid-chestxray-dataset/67d668e570c242404ba82c7cbe2ca8f2-05be-0.jpg',\n",
       " 'covid-chestxray-dataset/67d668e570c242404ba82c7cbe2ca8f2-0015-0.jpg',\n",
       " 'covid-chestxray-dataset/AR-1.jpg',\n",
       " 'covid-chestxray-dataset/AR-2.jpg',\n",
       " 'covid-chestxray-dataset/2-chest-filmc.jpg',\n",
       " 'covid-chestxray-dataset/paving.jpg',\n",
       " 'covid-chestxray-dataset/7-fatal-covid19.jpg',\n",
       " 'covid-chestxray-dataset/extubation-1.jpg',\n",
       " 'covid-chestxray-dataset/extubation-4.jpg',\n",
       " 'covid-chestxray-dataset/extubation-8.jpg',\n",
       " 'covid-chestxray-dataset/extubation-13.jpg',\n",
       " 'covid-chestxray-dataset/16724_1_1.jpg',\n",
       " 'covid-chestxray-dataset/16673_2_1.jpg',\n",
       " 'covid-chestxray-dataset/16708_1_1.jpg',\n",
       " 'covid-chestxray-dataset/16708_4_1.jpg',\n",
       " 'covid-chestxray-dataset/16708_5_1.jpg',\n",
       " 'covid-chestxray-dataset/16706_1_1.png',\n",
       " 'covid-chestxray-dataset/case_71_figura1.png',\n",
       " 'covid-chestxray-dataset/case_72_RX-TORACE1.jpg',\n",
       " 'covid-chestxray-dataset/case_76_1-3.png',\n",
       " 'covid-chestxray-dataset/covid-19-pneumonia-101.png',\n",
       " 'covid-chestxray-dataset/covid-19-pneumonia-93.png',\n",
       " 'covid-chestxray-dataset/covid-19-pneumonia-progression-and-regression-day1.jpg',\n",
       " 'covid-chestxray-dataset/covid-19-pneumonia-progression-and-regression-day6.jpg',\n",
       " 'covid-chestxray-dataset/covid-19-pneumonia-progression-and-regression-day11.jpg',\n",
       " 'covid-chestxray-dataset/covid-19-pneumonia-progression-and-regression-day13.jpg',\n",
       " 'covid-chestxray-dataset/covid-19-pneumonia-progression-and-regression-day20.jpg',\n",
       " 'covid-chestxray-dataset/covid-19-pneumonia-progression-and-regression-day24.jpg',\n",
       " 'covid-chestxray-dataset/covid-19-pneumonia-progression-and-regression-day28.jpg',\n",
       " 'covid-chestxray-dataset/covid-19-pneumonia-progression-and-regression-day13.jpg',\n",
       " 'covid-chestxray-dataset/covid-19-pneumonia-progression-and-regression-day20.jpg',\n",
       " 'covid-chestxray-dataset/covid-19-pneumonia-progression-and-regression-day24.jpg',\n",
       " 'covid-chestxray-dataset/covid-19-pneumonia-progression-and-regression-day28.jpg',\n",
       " 'covid-chestxray-dataset/16747_1_1.jpg',\n",
       " 'covid-chestxray-dataset/16747_2_1.jpg',\n",
       " 'covid-chestxray-dataset/16747_3_1.jpg',\n",
       " 'covid-chestxray-dataset/16751_2_1.jpg',\n",
       " 'covid-chestxray-dataset/16751_2_2.jpg',\n",
       " 'covid-chestxray-dataset/16751_3_1.jpg',\n",
       " 'covid-chestxray-dataset/16751_3_2.jpg',\n",
       " 'covid-chestxray-dataset/16751_3_3.jpg',\n",
       " 'covid-chestxray-dataset/16689_1_1.jpg',\n",
       " 'covid-chestxray-dataset/16689_1_2.png',\n",
       " 'covid-chestxray-dataset/16689_1_5.png',\n",
       " 'covid-chestxray-dataset/16689_1_6.jpg',\n",
       " 'covid-chestxray-dataset/16689_2_1.png',\n",
       " 'covid-chestxray-dataset/16689_2_2.png',\n",
       " 'covid-chestxray-dataset/16689_2_4.png',\n",
       " 'covid-chestxray-dataset/16745_2_1.PNG',\n",
       " 'covid-chestxray-dataset/16745_2_2.PNG',\n",
       " 'covid-chestxray-dataset/16745_2_3.PNG',\n",
       " 'covid-chestxray-dataset/16745_3_1.png',\n",
       " 'covid-chestxray-dataset/16745_3_2.png',\n",
       " 'covid-chestxray-dataset/16745_4_1.png',\n",
       " 'covid-chestxray-dataset/16745_4_2.png',\n",
       " 'covid-chestxray-dataset/16745_4_3.png',\n",
       " 'covid-chestxray-dataset/16745_5_1.png',\n",
       " 'covid-chestxray-dataset/16745_5_2.png',\n",
       " 'covid-chestxray-dataset/16745_5_3.png',\n",
       " 'covid-chestxray-dataset/16745_6_1.png',\n",
       " 'covid-chestxray-dataset/16745_6_2.png',\n",
       " 'covid-chestxray-dataset/16745_6_3.png',\n",
       " 'covid-chestxray-dataset/16745_7_1.png',\n",
       " 'covid-chestxray-dataset/16745_7_2.png',\n",
       " 'covid-chestxray-dataset/16745_7_3.png',\n",
       " 'covid-chestxray-dataset/16745_7_4.png',\n",
       " 'covid-chestxray-dataset/16745_7_5.PNG',\n",
       " 'covid-chestxray-dataset/16744_1_1.jpg',\n",
       " 'covid-chestxray-dataset/16744_2_1.jpg',\n",
       " 'covid-chestxray-dataset/16744_2_2.jpg',\n",
       " 'covid-chestxray-dataset/16744_2_3.jpg',\n",
       " 'covid-chestxray-dataset/16744_2_4.jpg',\n",
       " 'covid-chestxray-dataset/16630_1_1.jpg',\n",
       " 'covid-chestxray-dataset/16630_2_1.jpg',\n",
       " 'covid-chestxray-dataset/16630_2_2.jpg',\n",
       " 'covid-chestxray-dataset/16630_3_1.jpg',\n",
       " 'covid-chestxray-dataset/16630_4_1.jpg',\n",
       " 'covid-chestxray-dataset/16630_5_1.jpg',\n",
       " 'covid-chestxray-dataset/16630_6_1.jpg',\n",
       " 'covid-chestxray-dataset/16631_1_1.jpg',\n",
       " 'covid-chestxray-dataset/16631_1_2.jpg',\n",
       " 'covid-chestxray-dataset/16631_1_3.jpg',\n",
       " 'covid-chestxray-dataset/16631_1_4.jpg']"
      ]
     },
     "execution_count": 171,
     "metadata": {},
     "output_type": "execute_result"
    }
   ],
   "source": [
    "len(labels)\n",
    "covid_image_paths"
   ]
  },
  {
   "cell_type": "markdown",
   "metadata": {},
   "source": [
    "15. preprocess images\n",
    "\n",
    "you'll need to run the following functions on this data:\n",
    "\n",
    "1. load_images\n",
    "2. resize_images\n",
    "3. greyscale_images\n",
    "4. features_to_np_array\n",
    "5. labels_to_np_array\n",
    "\n",
    "Make sure to run each of those functions in order!"
   ]
  },
  {
   "cell_type": "code",
   "execution_count": null,
   "metadata": {},
   "outputs": [],
   "source": [
    "import cv2\n",
    "import os\n",
    "\n",
    "def load_images(image_paths):\n",
    "    loadedImages = []\n",
    "    \n",
    "    for img in image_paths:\n",
    "        img = cv2.imread(img)\n",
    "        loadedImages.append(img)\n",
    "    return loadedImages"
   ]
  },
  {
   "cell_type": "code",
   "execution_count": 165,
   "metadata": {},
   "outputs": [],
   "source": [
    "#load train images\n",
    "train = load_images(covid_image_paths)"
   ]
  },
  {
   "cell_type": "code",
   "execution_count": 140,
   "metadata": {},
   "outputs": [],
   "source": [
    "# add your function calls to covid_image_paths here\n",
    "def get_image_features(image_paths, shape):\n",
    "    height, width, channels = shape\n",
    "    array = np.zeros((len(image_paths), height, width, channels))\n",
    "    for i, path in enumerate(image_paths):\n",
    "        im = Image.open(path)\n",
    "        as_array = np.asarray(im)\n",
    "        if len(as_array.shape) == 2: # convert to 3 channels (required input to VGG)\n",
    "            as_array = skimage.color.gray2rgb(as_array)\n",
    "        resized = skimage.transform.resize(as_array, shape)\n",
    "        array[i,:,:] = resized\n",
    "        if (i + 1) % 500 == 0:\n",
    "            print(f'Finished loading {i+1} samples')\n",
    "    return array"
   ]
  },
  {
   "cell_type": "code",
   "execution_count": 141,
   "metadata": {},
   "outputs": [
    {
     "data": {
      "text/plain": [
       "{'No Finding': 0,\n",
       " 'Chlamydophila': 1,\n",
       " 'Legionella': 2,\n",
       " 'COVID-19, ARDS': 3,\n",
       " 'ARDS': 4,\n",
       " 'SARS': 5,\n",
       " 'Klebsiella': 6,\n",
       " 'Streptococcus': 7,\n",
       " 'E.Coli': 8,\n",
       " 'Pneumocystis': 9,\n",
       " 'COVID-19': 10}"
      ]
     },
     "execution_count": 141,
     "metadata": {},
     "output_type": "execute_result"
    }
   ],
   "source": [
    "categorical = { label: i for i, label in enumerate(set(labels)) }\n",
    "categorical"
   ]
  },
  {
   "cell_type": "code",
   "execution_count": 142,
   "metadata": {},
   "outputs": [],
   "source": [
    "def labels_to_np_array(labels, mapping):\n",
    "    return np.array([mapping[label] for label in labels])"
   ]
  },
  {
   "cell_type": "code",
   "execution_count": 152,
   "metadata": {},
   "outputs": [],
   "source": [
    "imageDir = \"C:/Users/sonali/Desktop/DS/Semester_4/Deep_learning/covid-chestxray-dataset/images/\"\n"
   ]
  },
  {
   "cell_type": "code",
   "execution_count": 158,
   "metadata": {},
   "outputs": [
    {
     "data": {
      "text/plain": [
       "['covid-chestxray-dataset/auntminnie-a-2020_01_28_23_51_6665_2020_01_28_Vietnam_coronavirus.jpeg',\n",
       " 'covid-chestxray-dataset/auntminnie-b-2020_01_28_23_51_6665_2020_01_28_Vietnam_coronavirus.jpeg',\n",
       " 'covid-chestxray-dataset/auntminnie-c-2020_01_28_23_51_6665_2020_01_28_Vietnam_coronavirus.jpeg',\n",
       " 'covid-chestxray-dataset/auntminnie-d-2020_01_28_23_51_6665_2020_01_28_Vietnam_coronavirus.jpeg',\n",
       " 'covid-chestxray-dataset/nejmc2001573_f1a.jpeg',\n",
       " 'covid-chestxray-dataset/nejmc2001573_f1b.jpeg',\n",
       " 'covid-chestxray-dataset/ARDSSevere.png',\n",
       " 'covid-chestxray-dataset/lancet-case2a.jpg',\n",
       " 'covid-chestxray-dataset/lancet-case2b.jpg',\n",
       " 'covid-chestxray-dataset/SARS-10.1148rg.242035193-g04mr34g0-Fig8a-day0.jpeg']"
      ]
     },
     "execution_count": 158,
     "metadata": {},
     "output_type": "execute_result"
    }
   ],
   "source": [
    "covid_image_paths[:10]"
   ]
  },
  {
   "cell_type": "code",
   "execution_count": 170,
   "metadata": {},
   "outputs": [
    {
     "ename": "FileNotFoundError",
     "evalue": "[Errno 2] No such file or directory: 'covid-chestxray-dataset/nejmc2001573_f1a.jpeg'",
     "output_type": "error",
     "traceback": [
      "\u001b[1;31m---------------------------------------------------------------------------\u001b[0m",
      "\u001b[1;31mFileNotFoundError\u001b[0m                         Traceback (most recent call last)",
      "\u001b[1;32m<ipython-input-170-0533695038ec>\u001b[0m in \u001b[0;36m<module>\u001b[1;34m\u001b[0m\n\u001b[0;32m      1\u001b[0m \u001b[0mIMAGE_SHAPE\u001b[0m \u001b[1;33m=\u001b[0m \u001b[1;33m(\u001b[0m\u001b[1;36m100\u001b[0m\u001b[1;33m,\u001b[0m \u001b[1;36m100\u001b[0m\u001b[1;33m,\u001b[0m \u001b[1;36m3\u001b[0m\u001b[1;33m)\u001b[0m\u001b[1;33m\u001b[0m\u001b[1;33m\u001b[0m\u001b[0m\n\u001b[1;32m----> 2\u001b[1;33m \u001b[0mX_training\u001b[0m \u001b[1;33m=\u001b[0m \u001b[0mget_image_features\u001b[0m\u001b[1;33m(\u001b[0m\u001b[0mcovid_image_paths\u001b[0m\u001b[1;33m[\u001b[0m\u001b[1;36m4\u001b[0m\u001b[1;33m:\u001b[0m\u001b[1;33m]\u001b[0m\u001b[1;33m,\u001b[0m \u001b[0mIMAGE_SHAPE\u001b[0m\u001b[1;33m)\u001b[0m\u001b[1;33m\u001b[0m\u001b[1;33m\u001b[0m\u001b[0m\n\u001b[0m\u001b[0;32m      3\u001b[0m \u001b[0mY_training\u001b[0m \u001b[1;33m=\u001b[0m \u001b[0mlabels_to_np_array\u001b[0m\u001b[1;33m(\u001b[0m\u001b[0mlabels\u001b[0m\u001b[1;33m[\u001b[0m\u001b[1;36m4\u001b[0m\u001b[1;33m:\u001b[0m\u001b[1;33m]\u001b[0m\u001b[1;33m,\u001b[0m \u001b[0mcategorical\u001b[0m\u001b[1;33m)\u001b[0m\u001b[1;33m\u001b[0m\u001b[1;33m\u001b[0m\u001b[0m\n",
      "\u001b[1;32m<ipython-input-140-83e3ea1fd34f>\u001b[0m in \u001b[0;36mget_image_features\u001b[1;34m(image_paths, shape)\u001b[0m\n\u001b[0;32m      4\u001b[0m     \u001b[0marray\u001b[0m \u001b[1;33m=\u001b[0m \u001b[0mnp\u001b[0m\u001b[1;33m.\u001b[0m\u001b[0mzeros\u001b[0m\u001b[1;33m(\u001b[0m\u001b[1;33m(\u001b[0m\u001b[0mlen\u001b[0m\u001b[1;33m(\u001b[0m\u001b[0mimage_paths\u001b[0m\u001b[1;33m)\u001b[0m\u001b[1;33m,\u001b[0m \u001b[0mheight\u001b[0m\u001b[1;33m,\u001b[0m \u001b[0mwidth\u001b[0m\u001b[1;33m,\u001b[0m \u001b[0mchannels\u001b[0m\u001b[1;33m)\u001b[0m\u001b[1;33m)\u001b[0m\u001b[1;33m\u001b[0m\u001b[1;33m\u001b[0m\u001b[0m\n\u001b[0;32m      5\u001b[0m     \u001b[1;32mfor\u001b[0m \u001b[0mi\u001b[0m\u001b[1;33m,\u001b[0m \u001b[0mpath\u001b[0m \u001b[1;32min\u001b[0m \u001b[0menumerate\u001b[0m\u001b[1;33m(\u001b[0m\u001b[0mimage_paths\u001b[0m\u001b[1;33m)\u001b[0m\u001b[1;33m:\u001b[0m\u001b[1;33m\u001b[0m\u001b[1;33m\u001b[0m\u001b[0m\n\u001b[1;32m----> 6\u001b[1;33m         \u001b[0mim\u001b[0m \u001b[1;33m=\u001b[0m \u001b[0mImage\u001b[0m\u001b[1;33m.\u001b[0m\u001b[0mopen\u001b[0m\u001b[1;33m(\u001b[0m\u001b[0mpath\u001b[0m\u001b[1;33m)\u001b[0m\u001b[1;33m\u001b[0m\u001b[1;33m\u001b[0m\u001b[0m\n\u001b[0m\u001b[0;32m      7\u001b[0m         \u001b[0mas_array\u001b[0m \u001b[1;33m=\u001b[0m \u001b[0mnp\u001b[0m\u001b[1;33m.\u001b[0m\u001b[0masarray\u001b[0m\u001b[1;33m(\u001b[0m\u001b[0mim\u001b[0m\u001b[1;33m)\u001b[0m\u001b[1;33m\u001b[0m\u001b[1;33m\u001b[0m\u001b[0m\n\u001b[0;32m      8\u001b[0m         \u001b[1;32mif\u001b[0m \u001b[0mlen\u001b[0m\u001b[1;33m(\u001b[0m\u001b[0mas_array\u001b[0m\u001b[1;33m.\u001b[0m\u001b[0mshape\u001b[0m\u001b[1;33m)\u001b[0m \u001b[1;33m==\u001b[0m \u001b[1;36m2\u001b[0m\u001b[1;33m:\u001b[0m \u001b[1;31m# convert to 3 channels (required input to VGG)\u001b[0m\u001b[1;33m\u001b[0m\u001b[1;33m\u001b[0m\u001b[0m\n",
      "\u001b[1;32m~\\Anaconda3\\lib\\site-packages\\PIL\\Image.py\u001b[0m in \u001b[0;36mopen\u001b[1;34m(fp, mode)\u001b[0m\n\u001b[0;32m   2632\u001b[0m \u001b[1;33m\u001b[0m\u001b[0m\n\u001b[0;32m   2633\u001b[0m     \u001b[1;32mif\u001b[0m \u001b[0mfilename\u001b[0m\u001b[1;33m:\u001b[0m\u001b[1;33m\u001b[0m\u001b[1;33m\u001b[0m\u001b[0m\n\u001b[1;32m-> 2634\u001b[1;33m         \u001b[0mfp\u001b[0m \u001b[1;33m=\u001b[0m \u001b[0mbuiltins\u001b[0m\u001b[1;33m.\u001b[0m\u001b[0mopen\u001b[0m\u001b[1;33m(\u001b[0m\u001b[0mfilename\u001b[0m\u001b[1;33m,\u001b[0m \u001b[1;34m\"rb\"\u001b[0m\u001b[1;33m)\u001b[0m\u001b[1;33m\u001b[0m\u001b[1;33m\u001b[0m\u001b[0m\n\u001b[0m\u001b[0;32m   2635\u001b[0m         \u001b[0mexclusive_fp\u001b[0m \u001b[1;33m=\u001b[0m \u001b[1;32mTrue\u001b[0m\u001b[1;33m\u001b[0m\u001b[1;33m\u001b[0m\u001b[0m\n\u001b[0;32m   2636\u001b[0m \u001b[1;33m\u001b[0m\u001b[0m\n",
      "\u001b[1;31mFileNotFoundError\u001b[0m: [Errno 2] No such file or directory: 'covid-chestxray-dataset/nejmc2001573_f1a.jpeg'"
     ]
    }
   ],
   "source": [
    "IMAGE_SHAPE = (100, 100, 3)\n",
    "X_training = get_image_features(covid_image_paths[4:], IMAGE_SHAPE)\n",
    "Y_training = labels_to_np_array(labels[4:], categorical)"
   ]
  },
  {
   "cell_type": "markdown",
   "metadata": {},
   "source": [
    "16. Strip out labels other than 'No Finding' and 'COVID-19' from the dataset\n",
    "\n",
    "There are two straight forward ways to do this:\n",
    "\n",
    "1) use a for-loop and keep track of indices\n",
    "\n",
    "2) read labels and features into a dataframe and then filter to those two label types.  Your choice!"
   ]
  },
  {
   "cell_type": "code",
   "execution_count": 9,
   "metadata": {},
   "outputs": [],
   "source": [
    "# label reduction code goes here"
   ]
  },
  {
   "cell_type": "markdown",
   "metadata": {},
   "source": [
    "17. Predict on the new images\n",
    "\n",
    "Here you'll use the classifier you trained on just pneumonia/not pneumonia to try and classify COVID-19 and no finding.  You'll use the pneumonia/not pneumonia classifier as a featurizer to do this.\n",
    "\n",
    "Much of the code has been written, you'll just need to supply your trained classifier as input.\n",
    "\n",
    "Please predict the labels from the classifier.  Then run `classification_report` to see how well your classifier did."
   ]
  },
  {
   "cell_type": "code",
   "execution_count": null,
   "metadata": {},
   "outputs": [],
   "source": [
    "#prediction code goes here\n",
    "\n",
    "import cv2\n",
    "import numpy as np\n",
    "from sklearn.linear_model import LogisticRegression\n",
    "from sklearn.metrics import classification_report\n",
    "import glob\n",
    "import code\n",
    "\n",
    "def extract_features_covid(model, width, height):\n",
    "    base = \"covid-chestxray-dataset/\"\n",
    "    metadata = pd.read_csv(base+\"metadata.csv\")\n",
    "    labels = []\n",
    "    image_paths = []\n",
    "    for index, row in metadata.iterrows():\n",
    "        if row[\"finding\"] == \"COVID-19\":\n",
    "            labels.append(\"COVID\")\n",
    "            image_paths.append(base+row[\"filename\"])\n",
    "            im = cv2.imread(im_path)\n",
    "            im = cv2.resize(im, (width, height))\n",
    "            features = model.predict(img)\n",
    "            features_np = np.array(features)\n",
    "            feature_list.append(features_np.flatten())\n",
    "\n",
    "    return np.array(feature_list), labels\n",
    "\n",
    "def extract_features_not_covid(model, width, height):\n",
    "    feature_list = []\n",
    "    labels = []\n",
    "    paths = [\n",
    "        \"chest_xray/test/NORMAL/*\",\n",
    "        \"chest_xray/test/PNEUMONIA/*\",\n",
    "        \"chest_xray/train/NORMAL/*\",\n",
    "        \"chest_xray/train/PNEUMONIA/*\"\n",
    "        \n",
    "    ]\n",
    "    for path in paths:\n",
    "        for im_path in glob.glob(path):\n",
    "            if path == \"chest_xray/train/NORMAL/*\":\n",
    "                labels.append(\"CLEAR TRAIN\")\n",
    "            if path == \"chest_xray/test/NORMAL/*\":\n",
    "                labels.append(\"CLEAR TEST\")\n",
    "            if path == \"chest_xray/train/PNEUMONIA/*\":\n",
    "                labels.append(\"PNEUMONIA\")\n",
    "            im = cv2.imread(im_path)\n",
    "            im = cv2.resize(im, (width, height))\n",
    "            features = model.predict(img)\n",
    "            features_np = np.array(features)\n",
    "            feature_list.append(features_np.flatten())\n",
    "\n",
    "    return np.array(feature_list), labels\n",
    "\n",
    "# please make a copy of your tuned model and save it to variable:\n",
    "# untuned_model = [YOUR MODEL NAME GOES HERE]\n",
    "\n",
    "# please specify the width and height you used for the image preprocessing\n",
    "# width = [YOUR WIDTH GOES HERE]\n",
    "# height = [YOUR HEIGHT GOES HERE]\n",
    "\n",
    "covid_features, covid_labels = extract_features_covid(untuned_model, width, height)\n",
    "non_covid_features, non_covid_labels = extract_features_not_covid(untuned_model, width, height)\n",
    "features = covid_features + non_covid_features\n",
    "labels = covid_labels + non_covid_labels\n",
    "X_train = []\n",
    "y_train = []\n",
    "X_test = []\n",
    "y_test = []\n",
    "for index, label in enumerate(labels):\n",
    "    if label == \"CLEAR TRAIN\":\n",
    "        X_train.append(features[index])\n",
    "        y_train.append(0)\n",
    "    if label == \"PNEUMONIA\":\n",
    "        X_train.append(features[index])\n",
    "        y_train.append(1)\n",
    "    if label == \"COVID\":\n",
    "        X_test.append(features[index])\n",
    "        y_test.append(1)\n",
    "    if label == \"CLEAR TEST\":\n",
    "        X_test.append(features[index])\n",
    "        y_test.append(0)\n",
    "\n",
    "logit_clf = LogisticRegression()\n",
    "logit_clf.fit(X_train, y_train)\n",
    "y_pred = logit_clf.predict(X_test)\n",
    "print(classification_report(y_test, y_pred))"
   ]
  },
  {
   "cell_type": "markdown",
   "metadata": {},
   "source": [
    "18. Compare and contrast how the classifier did on Pneumonia versus COVID-19\n",
    "\n",
    "Did it do as well?  Worse?  About the same?  What conclusions can you draw?"
   ]
  },
  {
   "cell_type": "markdown",
   "metadata": {},
   "source": [
    "### Add your answers here!"
   ]
  },
  {
   "cell_type": "markdown",
   "metadata": {},
   "source": [
    "Now that we've looked at a bunch of base cases, let's see if we can improve things by changing the model architecture.  We'll do this with a bunch of discrete steps\n",
    "\n",
    "1. Change the number of trainable layers\n",
    "\n",
    "Here you will make more of the layers trainable.  For this we are going to use cross validation to try and figure out which the optimal number of trainable layers.  Please us from the last 6 layers to one layer.  So your range should be:\n",
    "\n",
    "```\n",
    "trainable_range = [-6, -5, -4, -3, -2, -1]\n",
    "```\n",
    "\n",
    "Also, your X and y data should be the pneumonia data only.  Since that's what we trained on.  We should not assume we have access to the COVID data, except for testing, which will do later on.\n",
    "\n",
    "Here's a blog post detailing how to set this up: https://machinelearningmastery.com/grid-search-hyperparameters-deep-learning-models-python-keras/\n",
    "\n",
    "Note you'll need to set the number of trainable layers inside of `model_create` in order to make this tunable.  \n",
    "\n",
    "Please report mean and standard deviation for accuracy."
   ]
  },
  {
   "cell_type": "code",
   "execution_count": 12,
   "metadata": {},
   "outputs": [],
   "source": [
    "# Cross validation code goes here"
   ]
  },
  {
   "cell_type": "markdown",
   "metadata": {},
   "source": [
    "2. Analyze your results\n",
    "\n",
    "Do you think that changing the number of tunable layers matters?  Does it improve classification accuracy enough to warrant changing the number of tunable layers?  "
   ]
  },
  {
   "cell_type": "markdown",
   "metadata": {},
   "source": [
    "### Analysis and explanation go here"
   ]
  },
  {
   "cell_type": "markdown",
   "metadata": {},
   "source": [
    "2. Tune over a layer activation function\n",
    "\n",
    "Please set the number of tunable layers to 4 again.\n",
    "\n",
    "Now we are going to make the layer activation tunable.  \n",
    "\n",
    "To do this, please change the model_create function so that each layer has it's own tunable activation function.  Then run your new cross validation code."
   ]
  },
  {
   "cell_type": "code",
   "execution_count": 13,
   "metadata": {},
   "outputs": [],
   "source": [
    "# cross validation code goes here"
   ]
  },
  {
   "cell_type": "markdown",
   "metadata": {},
   "source": [
    "3. Analyze your results\n",
    "\n",
    "Does your choice of activation function matter?  When does the activation function perform best?  \n",
    "\n",
    "Things to consider:\n",
    "\n",
    "* Specifically does choosing the same activation function for all of the layers do best? \n",
    "* Does choosing different activation functions for each of the layers do best?\n",
    "* Are they all within the same approximate accuracy range?\n",
    "* do things vary wildly?"
   ]
  },
  {
   "cell_type": "markdown",
   "metadata": {},
   "source": [
    "### Analysis and explanation go here"
   ]
  },
  {
   "cell_type": "markdown",
   "metadata": {},
   "source": [
    "4. Tune over more hyperparameters\n",
    "\n",
    "Now that we've tuned the activation functions, let's try tuning more parameters.  This time add tuning for the following parameters:\n",
    "\n",
    "* number of neurons per layer\n",
    "* weight initialization\n",
    "* optimizer\n",
    "* weight constraint\n",
    "* activation function\n",
    "* learning rate\n",
    "\n",
    "Here is a great post on the range of values you should consider: https://www.wandb.com/articles/fundamentals-of-neural-networks\n",
    "\n",
    "Here is some code that is also useful: https://www.kaggle.com/lavanyashukla01/training-a-neural-network-start-here\n",
    "\n",
    "for understanding this practically."
   ]
  },
  {
   "cell_type": "code",
   "execution_count": 14,
   "metadata": {},
   "outputs": [],
   "source": [
    "# cross validation code goes here"
   ]
  },
  {
   "cell_type": "markdown",
   "metadata": {},
   "source": [
    "5. Tune over data augmentation\n",
    "\n",
    "Here you'll take the best hyperparameters from your neural network, with 4 trainable layers, and then add them to a pipeline.  We will then tune over data augmentation parameters.  Report out your mean and standard deviation of accuracy.\n",
    "\n",
    "Here we will create a scikit-learn pipline:\n",
    "\n",
    "https://scikit-learn.org/stable/modules/generated/sklearn.pipeline.Pipeline.html\n",
    "\n",
    "If you need an example with gridsearch and pipeline:\n",
    "\n",
    "https://scikit-learn.org/stable/tutorial/statistical_inference/putting_together.html\n",
    "\n",
    "As a reminder, here is the documentation for data augmentation:\n",
    "\n",
    "https://keras.io/preprocessing/image/"
   ]
  },
  {
   "cell_type": "code",
   "execution_count": null,
   "metadata": {},
   "outputs": [],
   "source": [
    "#cross validation code goes here"
   ]
  },
  {
   "cell_type": "markdown",
   "metadata": {},
   "source": [
    "6. Analyze your results\n",
    "\n",
    "Now that you've tuned over model parameters and preprocessing, what has a bigger impact?  Why do you think that might be the case?"
   ]
  },
  {
   "cell_type": "markdown",
   "metadata": {},
   "source": [
    "### Analysis and explanation goes here"
   ]
  },
  {
   "cell_type": "markdown",
   "metadata": {},
   "source": [
    "7. Using your best model and preprocessing to train a new model\n",
    "\n",
    "Now you should select the best hyperparameters for the neural network and the best hyperparameters for the preprocesser and then combine them into a scikit-learn pipeline.  Next train a classifier with these new tuned hyperparameters."
   ]
  },
  {
   "cell_type": "code",
   "execution_count": 15,
   "metadata": {},
   "outputs": [],
   "source": [
    "#classifer generation code goes here"
   ]
  },
  {
   "cell_type": "markdown",
   "metadata": {},
   "source": [
    "8. Let's see if things improved - time for `classification_report`\n",
    "\n",
    "Now that you've tuned your model, let's see how well it does on our test set!  First call predict on the test data to get a prediction.  Then use `classification_report` to see how well the model does."
   ]
  },
  {
   "cell_type": "code",
   "execution_count": 16,
   "metadata": {},
   "outputs": [],
   "source": [
    "# prediction code goes here"
   ]
  },
  {
   "cell_type": "markdown",
   "metadata": {},
   "source": [
    "9. Analsis and comparison\n",
    "\n",
    "Now that you've seen how well your classifier does when it's been tuned, compare this with your previous model, that was untuned.  Are the precision, recall and f1-scores substantially different?  Why or why not?"
   ]
  },
  {
   "cell_type": "markdown",
   "metadata": {},
   "source": [
    "### Analysis and explanation goes here"
   ]
  },
  {
   "cell_type": "markdown",
   "metadata": {},
   "source": [
    "10. Prediction on COVID binary classification task with tuned model\n",
    "\n",
    "Now you'll use your tuned classifier to try and predict on the binary COVID19 case.  Please change the model to your tuned model!"
   ]
  },
  {
   "cell_type": "code",
   "execution_count": 159,
   "metadata": {},
   "outputs": [
    {
     "ename": "NameError",
     "evalue": "name 'tuned_model' is not defined",
     "output_type": "error",
     "traceback": [
      "\u001b[1;31m---------------------------------------------------------------------------\u001b[0m",
      "\u001b[1;31mNameError\u001b[0m                                 Traceback (most recent call last)",
      "\u001b[1;32m<ipython-input-159-0df4da026760>\u001b[0m in \u001b[0;36m<module>\u001b[1;34m\u001b[0m\n\u001b[0;32m     58\u001b[0m \u001b[1;31m# height = [YOUR HEIGHT GOES HERE]\u001b[0m\u001b[1;33m\u001b[0m\u001b[1;33m\u001b[0m\u001b[1;33m\u001b[0m\u001b[0m\n\u001b[0;32m     59\u001b[0m \u001b[1;33m\u001b[0m\u001b[0m\n\u001b[1;32m---> 60\u001b[1;33m \u001b[0mcovid_features\u001b[0m\u001b[1;33m,\u001b[0m \u001b[0mcovid_labels\u001b[0m \u001b[1;33m=\u001b[0m \u001b[0mextract_features_covid\u001b[0m\u001b[1;33m(\u001b[0m\u001b[0mtuned_model\u001b[0m\u001b[1;33m,\u001b[0m \u001b[0mwidth\u001b[0m\u001b[1;33m,\u001b[0m \u001b[0mheight\u001b[0m\u001b[1;33m)\u001b[0m\u001b[1;33m\u001b[0m\u001b[1;33m\u001b[0m\u001b[0m\n\u001b[0m\u001b[0;32m     61\u001b[0m \u001b[0mnon_covid_features\u001b[0m\u001b[1;33m,\u001b[0m \u001b[0mnon_covid_labels\u001b[0m \u001b[1;33m=\u001b[0m \u001b[0mextract_features_not_covid\u001b[0m\u001b[1;33m(\u001b[0m\u001b[0mtuned_model\u001b[0m\u001b[1;33m,\u001b[0m \u001b[0mwidth\u001b[0m\u001b[1;33m,\u001b[0m \u001b[0mheight\u001b[0m\u001b[1;33m)\u001b[0m\u001b[1;33m\u001b[0m\u001b[1;33m\u001b[0m\u001b[0m\n\u001b[0;32m     62\u001b[0m \u001b[0mfeatures\u001b[0m \u001b[1;33m=\u001b[0m \u001b[0mcovid_features\u001b[0m \u001b[1;33m+\u001b[0m \u001b[0mnon_covid_features\u001b[0m\u001b[1;33m\u001b[0m\u001b[1;33m\u001b[0m\u001b[0m\n",
      "\u001b[1;31mNameError\u001b[0m: name 'tuned_model' is not defined"
     ]
    }
   ],
   "source": [
    "#prediction code goes here\n",
    "\n",
    "import cv2\n",
    "import numpy as np\n",
    "from sklearn.linear_model import LogisticRegression\n",
    "from sklearn.metrics import classification_report\n",
    "import glob\n",
    "import code\n",
    "\n",
    "def extract_features_covid(model, width, height):\n",
    "    base = \"covid-chestxray-dataset/\"\n",
    "    metadata = pd.read_csv(base+\"metadata.csv\")\n",
    "    labels = []\n",
    "    image_paths = []\n",
    "    for index, row in metadata.iterrows():\n",
    "        if row[\"finding\"] == \"COVID-19\":\n",
    "            labels.append(\"COVID\")\n",
    "            image_paths.append(base+row[\"filename\"])\n",
    "            im = cv2.imread(im_path)\n",
    "            im = cv2.resize(im, (width, height))\n",
    "            features = model.predict(img)\n",
    "            features_np = np.array(features)\n",
    "            feature_list.append(features_np.flatten())\n",
    "\n",
    "    return np.array(feature_list), labels\n",
    "\n",
    "def extract_features_not_covid(model, width, height):\n",
    "    feature_list = []\n",
    "    labels = []\n",
    "    paths = [\n",
    "        \"chest_xray/test/NORMAL/*\",\n",
    "        \"chest_xray/test/PNEUMONIA/*\",\n",
    "        \"chest_xray/train/NORMAL/*\",\n",
    "        \"chest_xray/train/PNEUMONIA/*\"\n",
    "        \n",
    "    ]\n",
    "    for path in paths:\n",
    "        for im_path in glob.glob(path):\n",
    "            if path == \"chest_xray/train/NORMAL/*\":\n",
    "                labels.append(\"CLEAR TRAIN\")\n",
    "            if path == \"chest_xray/test/NORMAL/*\":\n",
    "                labels.append(\"CLEAR TEST\")\n",
    "            if path == \"chest_xray/train/PNEUMONIA/*\":\n",
    "                labels.append(\"PNEUMONIA\")\n",
    "            im = cv2.imread(im_path)\n",
    "            im = cv2.resize(im, (width, height))\n",
    "            features = model.predict(img)\n",
    "            features_np = np.array(features)\n",
    "            feature_list.append(features_np.flatten())\n",
    "\n",
    "    return np.array(feature_list), labels\n",
    "\n",
    "# please make a copy of your tuned model and save it to variable:\n",
    "# tuned_model = [YOUR MODEL NAME GOES HERE]\n",
    "\n",
    "# please specify the width and height you used for the image preprocessing\n",
    "# width = [YOUR WIDTH GOES HERE]\n",
    "# height = [YOUR HEIGHT GOES HERE]\n",
    "\n",
    "covid_features, covid_labels = extract_features_covid(tuned_model, width, height)\n",
    "non_covid_features, non_covid_labels = extract_features_not_covid(tuned_model, width, height)\n",
    "features = covid_features + non_covid_features\n",
    "labels = covid_labels + non_covid_labels\n",
    "X_train = []\n",
    "y_train = []\n",
    "X_test = []\n",
    "y_test = []\n",
    "for index, label in enumerate(labels):\n",
    "    if label == \"CLEAR TRAIN\":\n",
    "        X_train.append(features[index])\n",
    "        y_train.append(0)\n",
    "    if label == \"PNEUMONIA\":\n",
    "        X_train.append(features[index])\n",
    "        y_train.append(1)\n",
    "    if label == \"COVID\":\n",
    "        X_test.append(features[index])\n",
    "        y_test.append(1)\n",
    "    if label == \"CLEAR TEST\":\n",
    "        X_test.append(features[index])\n",
    "        y_test.append(0)\n",
    "\n",
    "logit_clf = LogisticRegression()\n",
    "logit_clf.fit(X_train, y_train)\n",
    "y_pred = logit_clf.predict(X_test)\n",
    "print(classification_report(y_test, y_pred))"
   ]
  },
  {
   "cell_type": "markdown",
   "metadata": {},
   "source": [
    "11. Analyze your results\n",
    "\n",
    "Now that you've seen the results of your tuned model, compare those with the results of the untuned model.  Did things get better? Worse?  Why do you think this may or may not be the case?"
   ]
  },
  {
   "cell_type": "markdown",
   "metadata": {},
   "source": [
    "### Analysis of your results goes here"
   ]
  },
  {
   "cell_type": "code",
   "execution_count": null,
   "metadata": {},
   "outputs": [],
   "source": []
  }
 ],
 "metadata": {
  "kernelspec": {
   "display_name": "Python 3",
   "language": "python",
   "name": "python3"
  },
  "language_info": {
   "codemirror_mode": {
    "name": "ipython",
    "version": 3
   },
   "file_extension": ".py",
   "mimetype": "text/x-python",
   "name": "python",
   "nbconvert_exporter": "python",
   "pygments_lexer": "ipython3",
   "version": "3.6.8"
  }
 },
 "nbformat": 4,
 "nbformat_minor": 2
}
