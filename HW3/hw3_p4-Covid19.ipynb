{
 "cells": [
  {
   "cell_type": "markdown",
   "metadata": {},
   "source": [
    "In this assignment we will look at a typical image based machine learning task.\n",
    "\n",
    "## Image classification \n",
    "\n",
    "For this task the whole image is used to classify what's happening.\n",
    "\n",
    "For this specific task, we will be trying to classify COVID-19 using pneumonia x-rays.  Please note, the literature has mostly suggested CT scans are not an effective way of figuring out what type of disease you have.  This exercise is for academic purposes _only_.\n",
    "\n",
    "Steps:\n",
    "\n",
    "\n",
    "1. Download the pneumonia data.  \n",
    "\n",
    "You can find it here:\n",
    "\n",
    "https://www.kaggle.com/paultimothymooney/chest-xray-pneumonia\n",
    "\n",
    "move the folder to this directory and unzip it.  Please don't change any folder names or the below script will not work.  Also make sure the folder is in the same directory as this notebook!\n",
    "\n",
    "2. load the pneumonia data into a dataframe:"
   ]
  },
  {
   "cell_type": "code",
   "execution_count": 26,
   "metadata": {},
   "outputs": [],
   "source": [
    "import numpy as np\n",
    "import pandas as pd\n",
    "import os\n",
    "import os.path as op\n",
    "import numpy as np\n",
    "import glob\n",
    "from PIL import Image\n",
    "import matplotlib.pyplot as plt\n",
    "import random\n",
    "import tensorflow as tf\n",
    "import skimage.transform\n",
    "import skimage.color\n",
    "from sklearn.metrics import classification_report"
   ]
  },
  {
   "cell_type": "code",
   "execution_count": 2,
   "metadata": {},
   "outputs": [],
   "source": [
    "import glob\n",
    "\n",
    "def load_training_data():\n",
    "    paths = [\n",
    "        \"chest_xray/train/NORMAL/*\",\n",
    "        \"chest_xray/train/PNEUMONIA/*\"\n",
    "    ]\n",
    "    labels = []\n",
    "    image_paths = []\n",
    "    for path in paths:\n",
    "        for im_path in glob.glob(path):\n",
    "            if path == \"chest_xray/train/NORMAL/*\":\n",
    "                labels.append(\"NORMAL\")\n",
    "            if path == \"chest_xray/train/PNEUMONIA/*\":\n",
    "                labels.append(\"PNEUMONIA\")\n",
    "            image_paths.append(im_path)\n",
    "    return image_paths, labels\n",
    "\n",
    "def load_testing_data():\n",
    "    paths = [\n",
    "        \"chest_xray/test/NORMAL/*\",\n",
    "        \"chest_xray/test/PNEUMONIA/*\"\n",
    "    ]\n",
    "    labels = []\n",
    "    image_paths = []\n",
    "    for path in paths:\n",
    "        for im_path in glob.glob(path):\n",
    "            if path == \"chest_xray/test/NORMAL/*\":\n",
    "                labels.append(\"NORMAL\")\n",
    "            if path == \"chest_xray/test/PNEUMONIA/*\":\n",
    "                labels.append(\"PNEUMONIA\")\n",
    "            image_paths.append(im_path)\n",
    "    return image_paths, labels\n",
    "\n",
    "train_paths, train_labels = load_training_data()\n",
    "test_paths, test_labels = load_training_data()"
   ]
  },
  {
   "cell_type": "code",
   "execution_count": 3,
   "metadata": {},
   "outputs": [
    {
     "data": {
      "text/plain": [
       "['chest_xray/train/NORMAL\\\\IM-0115-0001.jpeg',\n",
       " 'chest_xray/train/NORMAL\\\\IM-0117-0001.jpeg',\n",
       " 'chest_xray/train/NORMAL\\\\IM-0119-0001.jpeg',\n",
       " 'chest_xray/train/NORMAL\\\\IM-0122-0001.jpeg',\n",
       " 'chest_xray/train/NORMAL\\\\IM-0125-0001.jpeg']"
      ]
     },
     "execution_count": 3,
     "metadata": {},
     "output_type": "execute_result"
    }
   ],
   "source": [
    "train_paths[:5]"
   ]
  },
  {
   "cell_type": "markdown",
   "metadata": {},
   "source": [
    "3. read the data into memory, I recommend open-cv for this:\n",
    "\n",
    "`python -m pip install opencv-python` \n",
    "\n",
    "if you don't already have it!"
   ]
  },
  {
   "cell_type": "code",
   "execution_count": 83,
   "metadata": {},
   "outputs": [],
   "source": [
    "import cv2\n",
    "import os\n",
    "\n",
    "def load_images(image_paths):\n",
    "    loadedImages = []\n",
    "    \n",
    "    for img in image_paths:\n",
    "        img = cv2.imread(img)\n",
    "        loadedImages.append(img)\n",
    "    return loadedImages"
   ]
  },
  {
   "cell_type": "code",
   "execution_count": 84,
   "metadata": {},
   "outputs": [],
   "source": [
    "#load train images\n",
    "train_images = load_images(train_paths)\n",
    "#load test images\n",
    "test_images = load_images(test_paths)"
   ]
  },
  {
   "cell_type": "markdown",
   "metadata": {},
   "source": [
    "4. resize the images to a standard size - \n",
    "\n",
    "Note: it ought to be a box.  So the width and height should be the same size."
   ]
  },
  {
   "cell_type": "code",
   "execution_count": 86,
   "metadata": {},
   "outputs": [],
   "source": [
    "def resize_images(images):\n",
    "    resizedimages = []\n",
    "    \n",
    "    for img in images:\n",
    "        #width = img.shape[0]\n",
    "        #height = img.shape[1]\n",
    "      #  l = min(width,height)\n",
    "       # dim = (l,l)\n",
    "        img = cv2.resize(img,(100,100), interpolation = cv2.INTER_LINEAR)\n",
    "        resizedimages.append(img)\n",
    "    return resizedimages"
   ]
  },
  {
   "cell_type": "code",
   "execution_count": 87,
   "metadata": {},
   "outputs": [],
   "source": [
    "train_images = resize_images(train_images)\n",
    "test_images = resize_images(test_images)"
   ]
  },
  {
   "cell_type": "code",
   "execution_count": 88,
   "metadata": {},
   "outputs": [
    {
     "data": {
      "text/plain": [
       "(100, 100, 3)"
      ]
     },
     "execution_count": 88,
     "metadata": {},
     "output_type": "execute_result"
    }
   ],
   "source": [
    "train_images[0].shape"
   ]
  },
  {
   "cell_type": "markdown",
   "metadata": {},
   "source": [
    "5. Greyscale the images"
   ]
  },
  {
   "cell_type": "code",
   "execution_count": 16,
   "metadata": {},
   "outputs": [],
   "source": [
    "def greyscale_images(images):\n",
    "    grayimages=[]\n",
    "    for img in images:\n",
    "        img = cv2.cvtColor(img, cv2.COLOR_BGR2GRAY)\n",
    "        grayimages.append(img)\n",
    "    return grayimages"
   ]
  },
  {
   "cell_type": "code",
   "execution_count": 17,
   "metadata": {},
   "outputs": [],
   "source": [
    "train_images = greyscale_images(train_images)\n",
    "test_images = greyscale_images(test_images)"
   ]
  },
  {
   "cell_type": "code",
   "execution_count": 18,
   "metadata": {},
   "outputs": [
    {
     "data": {
      "text/plain": [
       "<matplotlib.image.AxesImage at 0x2225b40e588>"
      ]
     },
     "execution_count": 18,
     "metadata": {},
     "output_type": "execute_result"
    },
    {
     "data": {
      "image/png": "[encoded data removed]",
      "text/plain": [
       "<Figure size 432x288 with 1 Axes>"
      ]
     },
     "metadata": {
      "needs_background": "light"
     },
     "output_type": "display_data"
    }
   ],
   "source": [
    "%matplotlib inline\n",
    "import matplotlib.pyplot as plt\n",
    "plt.imshow(train_images[0])"
   ]
  },
  {
   "cell_type": "code",
   "execution_count": 118,
   "metadata": {},
   "outputs": [],
   "source": [
    "train_labels_np = np.array(train_labels)\n",
    "test_labels_np = np.array(test_labels)"
   ]
  },
  {
   "cell_type": "markdown",
   "metadata": {},
   "source": [
    "6. prepare the data for training the model.\n",
    "\n",
    "For this you'll need to transform the test and train image objects into a numpy array."
   ]
  },
  {
   "cell_type": "code",
   "execution_count": 17,
   "metadata": {},
   "outputs": [],
   "source": [
    "def features_to_np_array(image_paths, shape):\n",
    "    height, width, channels = shape\n",
    "    array = np.zeros((len(image_paths), height, width, channels))\n",
    "    for i, path in enumerate(image_paths):\n",
    "        im = Image.open(path)\n",
    "        as_array = np.asarray(im)\n",
    "        if len(as_array.shape) == 2: # convert to 3 channels (required input to VGG)\n",
    "            as_array = skimage.color.gray2rgb(as_array)\n",
    "        resized = skimage.transform.resize(as_array, shape)\n",
    "        array[i,:,:] = resized\n",
    "        if (i + 1) % 1000 == 0:\n",
    "           # print(f'loading {i+1} images')\n",
    "            print(f'{i+1} images loaded')\n",
    "            i= i+1\n",
    "    return array"
   ]
  },
  {
   "cell_type": "markdown",
   "metadata": {},
   "source": [
    "Next you'll need to do the same for the labels:\n",
    "\n",
    "Note: You'll need to apply the `to_categorical` function after transforming to a numpy array"
   ]
  },
  {
   "cell_type": "code",
   "execution_count": 7,
   "metadata": {},
   "outputs": [
    {
     "data": {
      "text/plain": [
       "{'PNEUMONIA': 0, 'NORMAL': 1}"
      ]
     },
     "execution_count": 7,
     "metadata": {},
     "output_type": "execute_result"
    }
   ],
   "source": [
    "label_type = { label: i for i, label in enumerate(set(train_labels)) }\n",
    "label_type"
   ]
  },
  {
   "cell_type": "code",
   "execution_count": 90,
   "metadata": {},
   "outputs": [
    {
     "name": "stderr",
     "output_type": "stream",
     "text": [
      "C:\\Users\\sonali\\Anaconda3\\lib\\site-packages\\ipykernel_launcher.py:3: FutureWarning: elementwise comparison failed; returning scalar instead, but in the future will perform elementwise comparison\n",
      "  This is separate from the ipykernel package so we can avoid doing imports until\n"
     ]
    }
   ],
   "source": [
    "train_labels_np = np.where(train_labels_np=='NORMAL',0,1)\n",
    "test_labels_np = np.where(train_labels_np=='NORMAL',0,1)"
   ]
  },
  {
   "cell_type": "code",
   "execution_count": 8,
   "metadata": {},
   "outputs": [],
   "source": [
    "def labels_to_np_array(labels, mapping):\n",
    "    return np.array([mapping[label] for label in labels])"
   ]
  },
  {
   "cell_type": "code",
   "execution_count": 18,
   "metadata": {},
   "outputs": [
    {
     "name": "stdout",
     "output_type": "stream",
     "text": [
      "1000 images loaded\n",
      "2000 images loaded\n",
      "3000 images loaded\n",
      "4000 images loaded\n",
      "5000 images loaded\n"
     ]
    }
   ],
   "source": [
    "image_shape = (100, 100, 3)\n",
    "X_value = features_to_np_array(train_paths, image_shape)\n",
    "Y_value = labels_to_np_array(train_labels, label_type)"
   ]
  },
  {
   "cell_type": "markdown",
   "metadata": {},
   "source": [
    "7. Seperate into train and test with `train_test_split` from scikit-learn"
   ]
  },
  {
   "cell_type": "code",
   "execution_count": null,
   "metadata": {},
   "outputs": [],
   "source": []
  },
  {
   "cell_type": "code",
   "execution_count": 19,
   "metadata": {},
   "outputs": [],
   "source": [
    "# train test split code goes here\n",
    "from sklearn.model_selection import train_test_split\n",
    "\n",
    "X_train, X_test, Y_train, Y_test = train_test_split(\n",
    "    X_value, Y_value, test_size=0.33, random_state=42)"
   ]
  },
  {
   "cell_type": "code",
   "execution_count": 20,
   "metadata": {},
   "outputs": [
    {
     "data": {
      "text/plain": [
       "<matplotlib.image.AxesImage at 0x28302fa27b8>"
      ]
     },
     "execution_count": 20,
     "metadata": {},
     "output_type": "execute_result"
    },
    {
     "data": {
      "image/png": "[encoded data removed]",
      "text/plain": [
       "<Figure size 432x288 with 1 Axes>"
      ]
     },
     "metadata": {
      "needs_background": "light"
     },
     "output_type": "display_data"
    }
   ],
   "source": [
    "plt.imshow(X_train[0])"
   ]
  },
  {
   "cell_type": "markdown",
   "metadata": {},
   "source": [
    "8. Make the last four layers of VGG16 with imagenet weights trainable and then retrain the model.\n",
    "\n",
    "To understand how to do this, please see the following tutorial:\n",
    "\n",
    "https://www.learnopencv.com/keras-tutorial-fine-tuning-using-pre-trained-models/"
   ]
  },
  {
   "cell_type": "code",
   "execution_count": 21,
   "metadata": {},
   "outputs": [],
   "source": [
    "# your model and training code goes here\n",
    "from tensorflow.keras.applications import VGG16\n",
    "from tensorflow.python.framework import ops\n",
    "ops.reset_default_graph()\n",
    "#Load the VGG model\n",
    "vgg_conv = VGG16(weights='imagenet', include_top=False, input_shape =image_shape )"
   ]
  },
  {
   "cell_type": "code",
   "execution_count": 22,
   "metadata": {},
   "outputs": [
    {
     "name": "stdout",
     "output_type": "stream",
     "text": [
      "<tensorflow.python.keras.engine.input_layer.InputLayer object at 0x0000028302FEF208> False\n",
      "<tensorflow.python.keras.layers.convolutional.Conv2D object at 0x0000028302F20898> False\n",
      "<tensorflow.python.keras.layers.convolutional.Conv2D object at 0x0000028378833208> False\n",
      "<tensorflow.python.keras.layers.pooling.MaxPooling2D object at 0x0000028300238400> False\n",
      "<tensorflow.python.keras.layers.convolutional.Conv2D object at 0x0000028300238DD8> False\n",
      "<tensorflow.python.keras.layers.convolutional.Conv2D object at 0x0000028300358C18> False\n",
      "<tensorflow.python.keras.layers.pooling.MaxPooling2D object at 0x00000283003787F0> False\n",
      "<tensorflow.python.keras.layers.convolutional.Conv2D object at 0x0000028300378D68> False\n",
      "<tensorflow.python.keras.layers.convolutional.Conv2D object at 0x000002830038CD68> False\n",
      "<tensorflow.python.keras.layers.convolutional.Conv2D object at 0x00000283003A8908> False\n",
      "<tensorflow.python.keras.layers.pooling.MaxPooling2D object at 0x00000283003C1E80> False\n",
      "<tensorflow.python.keras.layers.convolutional.Conv2D object at 0x00000283003C1E10> False\n",
      "<tensorflow.python.keras.layers.convolutional.Conv2D object at 0x00000283003E4A58> False\n",
      "<tensorflow.python.keras.layers.convolutional.Conv2D object at 0x00000283003F4F98> False\n",
      "<tensorflow.python.keras.layers.pooling.MaxPooling2D object at 0x0000028300521588> False\n",
      "<tensorflow.python.keras.layers.convolutional.Conv2D object at 0x0000028300521BE0> True\n",
      "<tensorflow.python.keras.layers.convolutional.Conv2D object at 0x0000028300533F98> True\n",
      "<tensorflow.python.keras.layers.convolutional.Conv2D object at 0x00000283003796A0> True\n",
      "<tensorflow.python.keras.layers.pooling.MaxPooling2D object at 0x00000283009A9C50> True\n"
     ]
    }
   ],
   "source": [
    "#Freeze the layers except the last 4 layers\n",
    "for layer in vgg_conv.layers[:-4]:\n",
    "    layer.trainable = False\n",
    "\n",
    "# Check the trainable status of the individual layers\n",
    "for layer in vgg_conv.layers:\n",
    "    print(layer, layer.trainable)"
   ]
  },
  {
   "cell_type": "code",
   "execution_count": 23,
   "metadata": {},
   "outputs": [
    {
     "name": "stdout",
     "output_type": "stream",
     "text": [
      "Model: \"sequential\"\n",
      "_________________________________________________________________\n",
      "Layer (type)                 Output Shape              Param #   \n",
      "=================================================================\n",
      "vgg16 (Model)                (None, 3, 3, 512)         14714688  \n",
      "_________________________________________________________________\n",
      "flatten (Flatten)            (None, 4608)              0         \n",
      "_________________________________________________________________\n",
      "dense (Dense)                (None, 1024)              4719616   \n",
      "_________________________________________________________________\n",
      "dropout (Dropout)            (None, 1024)              0         \n",
      "_________________________________________________________________\n",
      "dense_1 (Dense)              (None, 3)                 3075      \n",
      "=================================================================\n",
      "Total params: 19,437,379\n",
      "Trainable params: 11,802,115\n",
      "Non-trainable params: 7,635,264\n",
      "_________________________________________________________________\n"
     ]
    }
   ],
   "source": [
    "from tensorflow.keras import models,layers,optimizers\n",
    "\n",
    "model = models.Sequential()\n",
    "model.add(vgg_conv)\n",
    " \n",
    "model.add(layers.Flatten())\n",
    "model.add(layers.Dense(1024, activation='relu'))\n",
    "model.add(layers.Dropout(0.5))\n",
    "model.add(layers.Dense(3, activation='softmax'))\n",
    "model.summary()\n"
   ]
  },
  {
   "cell_type": "code",
   "execution_count": 25,
   "metadata": {},
   "outputs": [
    {
     "name": "stdout",
     "output_type": "stream",
     "text": [
      "Train on 2795 samples, validate on 699 samples\n",
      "Epoch 1/5\n",
      "2795/2795 [==============================] - 333s 119ms/sample - loss: 0.4709 - acc: 0.8018 - val_loss: 0.1271 - val_acc: 0.9499\n",
      "Epoch 2/5\n",
      "2795/2795 [==============================] - 353s 126ms/sample - loss: 0.1652 - acc: 0.9360 - val_loss: 0.1597 - val_acc: 0.9385\n",
      "Epoch 3/5\n",
      "2795/2795 [==============================] - 333s 119ms/sample - loss: 0.1345 - acc: 0.9517 - val_loss: 0.1365 - val_acc: 0.9413\n",
      "Epoch 4/5\n",
      "2795/2795 [==============================] - 325s 116ms/sample - loss: 0.0902 - acc: 0.9671 - val_loss: 0.1011 - val_acc: 0.9671\n",
      "Epoch 5/5\n",
      "2795/2795 [==============================] - 281s 101ms/sample - loss: 0.0986 - acc: 0.9624 - val_loss: 0.0924 - val_acc: 0.9700\n"
     ]
    },
    {
     "data": {
      "text/plain": [
       "<tensorflow.python.keras.callbacks.History at 0x28310275978>"
      ]
     },
     "execution_count": 25,
     "metadata": {},
     "output_type": "execute_result"
    }
   ],
   "source": [
    "model.compile(loss='sparse_categorical_crossentropy',optimizer=optimizers.RMSprop(lr=1e-4),metrics=['acc'])\n",
    "model.fit(X_train, Y_train, epochs= 5, batch_size= 128, validation_split=0.2)"
   ]
  },
  {
   "cell_type": "markdown",
   "metadata": {},
   "source": [
    "8. Check your score with classification_report from scikit-learn\n",
    "\n",
    "Now that you've trained your model, call `model.predict` to get the predicted values for classification.  \n",
    "Then compare your predicted values with y_test"
   ]
  },
  {
   "cell_type": "code",
   "execution_count": 27,
   "metadata": {},
   "outputs": [
    {
     "name": "stdout",
     "output_type": "stream",
     "text": [
      "              precision    recall  f1-score   support\n",
      "\n",
      "           0       0.99      0.97      0.98      1261\n",
      "           1       0.92      0.98      0.95       461\n",
      "\n",
      "    accuracy                           0.97      1722\n",
      "   macro avg       0.95      0.98      0.96      1722\n",
      "weighted avg       0.97      0.97      0.97      1722\n",
      "\n"
     ]
    }
   ],
   "source": [
    "y_pred = model.predict_classes(X_test)\n",
    "print(classification_report(Y_test, y_pred))"
   ]
  },
  {
   "cell_type": "markdown",
   "metadata": {},
   "source": [
    "9. Data augmentation\n",
    "\n",
    "Now that you have a classifier, let's see if data augmentation improves things!  \n",
    "\n",
    "You can use the `ImageDataGenerator` that comes with keras.  Here's how to import it:\n",
    "\n",
    "`from tensorflow.keras.preprocessing.image import ImageDataGenerator`\n",
    "\n",
    "Here's the documentation: https://keras.io/preprocessing/image/\n",
    "\n",
    "Here's an example of it getting used in the wild, in case you get stuck:\n",
    "\n",
    "https://www.pyimagesearch.com/2020/03/16/detecting-covid-19-in-x-ray-images-with-keras-tensorflow-and-deep-learning/"
   ]
  },
  {
   "cell_type": "code",
   "execution_count": 28,
   "metadata": {},
   "outputs": [],
   "source": [
    "train_gen = tf.keras.preprocessing.image.ImageDataGenerator(\n",
    "    featurewise_center=True,\n",
    "    featurewise_std_normalization=True,\n",
    "    rotation_range=25,\n",
    "    width_shift_range=0.2,\n",
    "    height_shift_range=0.2,\n",
    "    horizontal_flip=True,\n",
    "    zoom_range=0.2,\n",
    "    validation_split=0.2\n",
    ")\n",
    "\n",
    "train_gen.fit(X_train)"
   ]
  },
  {
   "cell_type": "markdown",
   "metadata": {},
   "source": [
    "10. retrain your classifier\n",
    "\n",
    "Now that you have augmented training data, please retrain your classifier.  The code should basically be the same."
   ]
  },
  {
   "cell_type": "code",
   "execution_count": 29,
   "metadata": {},
   "outputs": [
    {
     "name": "stdout",
     "output_type": "stream",
     "text": [
      "Model: \"sequential_1\"\n",
      "_________________________________________________________________\n",
      "Layer (type)                 Output Shape              Param #   \n",
      "=================================================================\n",
      "vgg16 (Model)                (None, 3, 3, 512)         14714688  \n",
      "_________________________________________________________________\n",
      "flatten_1 (Flatten)          (None, 4608)              0         \n",
      "_________________________________________________________________\n",
      "dense_2 (Dense)              (None, 1024)              4719616   \n",
      "_________________________________________________________________\n",
      "dropout_1 (Dropout)          (None, 1024)              0         \n",
      "_________________________________________________________________\n",
      "dense_3 (Dense)              (None, 2)                 2050      \n",
      "=================================================================\n",
      "Total params: 19,436,354\n",
      "Trainable params: 11,801,090\n",
      "Non-trainable params: 7,635,264\n",
      "_________________________________________________________________\n"
     ]
    }
   ],
   "source": [
    "# new training code goes here\n",
    "augmented_model = tf.keras.models.Sequential()\n",
    "\n",
    "augmented_model.add(vgg_conv)\n",
    "\n",
    "augmented_model.add(tf.keras.layers.Flatten())\n",
    "augmented_model.add(tf.keras.layers.Dense(1024, activation='relu'))\n",
    "augmented_model.add(tf.keras.layers.Dropout(0.5))\n",
    "augmented_model.add(tf.keras.layers.Dense(2, activation='softmax'))\n",
    "\n",
    "augmented_model.summary()"
   ]
  },
  {
   "cell_type": "code",
   "execution_count": 30,
   "metadata": {},
   "outputs": [],
   "source": [
    "#augmented_model.compile('adam', loss='categorical_crossentropy', metrics=['accuracy'])\n",
    "augmented_model.compile(loss='sparse_categorical_crossentropy',optimizer=optimizers.RMSprop(lr=1e-4),metrics=['acc'])"
   ]
  },
  {
   "cell_type": "code",
   "execution_count": 33,
   "metadata": {},
   "outputs": [
    {
     "name": "stdout",
     "output_type": "stream",
     "text": [
      "Train for 21.0 steps, validate for 5.0 steps\n",
      "Epoch 1/5\n",
      "21/21 [==============================] - 266s 13s/step - loss: 0.4903 - acc: 0.7935 - val_loss: 0.2172 - val_acc: 0.9203\n",
      "Epoch 2/5\n",
      "21/21 [==============================] - 271s 13s/step - loss: 0.2452 - acc: 0.8932 - val_loss: 0.1305 - val_acc: 0.9484\n",
      "Epoch 3/5\n",
      "21/21 [==============================] - 270s 13s/step - loss: 0.1911 - acc: 0.9228 - val_loss: 0.2005 - val_acc: 0.9094\n",
      "Epoch 4/5\n",
      "21/21 [==============================] - 273s 13s/step - loss: 0.1854 - acc: 0.9284 - val_loss: 0.1424 - val_acc: 0.9438\n",
      "Epoch 5/5\n",
      "21/21 [==============================] - 275s 13s/step - loss: 0.1690 - acc: 0.9292 - val_loss: 0.3044 - val_acc: 0.8391\n"
     ]
    },
    {
     "data": {
      "text/plain": [
       "<tensorflow.python.keras.callbacks.History at 0x283780fbbe0>"
      ]
     },
     "execution_count": 33,
     "metadata": {},
     "output_type": "execute_result"
    }
   ],
   "source": [
    "augmented_model.fit(\n",
    "        train_gen.flow(X_train, Y_train, batch_size= 128, subset='training'),\n",
    "        steps_per_epoch = (X_train.shape[0] * (1 - 0.2)) // 128, epochs=5, verbose=1,\n",
    "        validation_data=train_gen.flow(X_train, Y_train, batch_size=128, subset='validation'),\n",
    "        validation_steps=(X_train.shape[0] * 0.2) // 128)"
   ]
  },
  {
   "cell_type": "markdown",
   "metadata": {},
   "source": [
    "11. re-evaluate your classifier\n",
    "\n",
    "Now that you've augmented the data, please re-evaluate your classifer.  Use classification report like before."
   ]
  },
  {
   "cell_type": "code",
   "execution_count": 34,
   "metadata": {},
   "outputs": [
    {
     "name": "stdout",
     "output_type": "stream",
     "text": [
      "              precision    recall  f1-score   support\n",
      "\n",
      "           0       0.73      1.00      0.85      1261\n",
      "           1       1.00      0.00      0.00       461\n",
      "\n",
      "    accuracy                           0.73      1722\n",
      "   macro avg       0.87      0.50      0.43      1722\n",
      "weighted avg       0.80      0.73      0.62      1722\n",
      "\n"
     ]
    }
   ],
   "source": [
    "# classification report goes here\n",
    "y_pred = augmented_model.predict_classes(X_test)\n",
    "print(classification_report(Y_test, y_pred))"
   ]
  },
  {
   "cell_type": "markdown",
   "metadata": {},
   "source": [
    "12. Evaluate the difference with data augmentation and without:\n",
    "\n",
    "Did things improve?  Did they stay the same?  Did they get worse?  Please try to come up with an explanation of why you got the results you did."
   ]
  },
  {
   "cell_type": "markdown",
   "metadata": {},
   "source": [
    "* Yes thing improved using data agumentation improvement in the precision and recall after doing data agumentation \n",
    "* Result without data  augmentation acc was 96% but the model was overfitting due to small no of images\n",
    "* with data augmentation acc was less compares to previous model "
   ]
  },
  {
   "cell_type": "markdown",
   "metadata": {},
   "source": [
    "### Explanation of results go here"
   ]
  },
  {
   "cell_type": "markdown",
   "metadata": {},
   "source": [
    "13. Getting COVID19 data\n",
    "\n",
    "Now that you have a trained classifier with pneumonia, we are going to use this with COVID data.  \n",
    "\n",
    "Clone this repo:\n",
    "\n",
    "https://github.com/ieee8023/covid-chestxray-dataset\n",
    "\n",
    "use the clone command: `git clone [REPO]`\n",
    "\n",
    "to get the data locally.  \n",
    "\n",
    "Make sure to run this command in the same folder as this jupyter notebook."
   ]
  },
  {
   "cell_type": "markdown",
   "metadata": {},
   "source": [
    "14. Read the data into memory\n",
    "\n",
    "The set up for this data repository is a little different.  Please use the following code to read the data into memory:"
   ]
  },
  {
   "cell_type": "code",
   "execution_count": 66,
   "metadata": {},
   "outputs": [],
   "source": [
    "import pandas as pd\n",
    "import shutil\n",
    "import os\n",
    "\n",
    "# Selecting all combination of 'COVID-19' patients with 'PA' X-Ray view\n",
    "virus = \"COVID-19\" # Virus to look for\n",
    "x_ray_view = \"PA\" # View of X-Ray\n",
    "\n",
    "metadata = \"C:/Users/sonali/Desktop/DS/Semester_4/Deep_learning/covid-chestxray-dataset/metadata.csv\" # Meta info\n",
    "#imageDir = \"../images\" # Directory of images\n",
    "imageDir = \"C:/Users/sonali/Desktop/DS/Semester_4/Deep_learning/covid-chestxray-dataset/images/\"\n",
    "outputDir = 'C:/Users/sonali/Desktop/DS/Semester_4/Deep_learning/covid-chestxray-dataset/output' # Output directory to store selected images\n",
    "\n",
    "metadata_csv = pd.read_csv(metadata)\n",
    "\n",
    "# loop over the rows of the COVID-19 data frame\n",
    "for (i, row) in metadata_csv.iterrows():\n",
    "\tif row[\"finding\"] != virus or row[\"view\"] != x_ray_view:\n",
    "\t\tcontinue\n",
    "\n",
    "\tfilename = row[\"filename\"].split(os.path.sep)[-1]\n",
    "\tfilePath = os.path.sep.join([imageDir, filename])\n",
    "\tshutil.copy2(filePath, outputDir)"
   ]
  },
  {
   "cell_type": "code",
   "execution_count": null,
   "metadata": {},
   "outputs": [],
   "source": []
  },
  {
   "cell_type": "code",
   "execution_count": 109,
   "metadata": {},
   "outputs": [],
   "source": [
    "len(filename)\n",
    "from glob import glob\n",
    "train_image = os.listdir(imageDir)\n",
    "train_fns = sorted(glob(imageDir + '*.jpg' or '*.jpeg' or '*.PNG'))\n",
    "#train_image\n",
    "#train_fns"
   ]
  },
  {
   "cell_type": "code",
   "execution_count": 99,
   "metadata": {},
   "outputs": [
    {
     "data": {
      "text/plain": [
       "202"
      ]
     },
     "execution_count": 99,
     "metadata": {},
     "output_type": "execute_result"
    }
   ],
   "source": [
    "len(train_fns)\n",
    "#len(labels)"
   ]
  },
  {
   "cell_type": "code",
   "execution_count": 192,
   "metadata": {},
   "outputs": [],
   "source": [
    "import pandas as pd\n",
    "\n",
    "def get_covid19():\n",
    "    base1 = \"covid-chestxray-dataset/\"\n",
    "    base = \"covid-chestxray-dataset/images/\"\n",
    "    #metadata = pd.read_csv(base+\"metadata.csv\")\n",
    "    metadata = pd.read_csv(base1+\"metadata.csv\")\n",
    "    labels = []\n",
    "    image_paths = []\n",
    "    for index, row in metadata.iterrows():\n",
    "        labels.append(row[\"finding\"])\n",
    "        image_paths.append(base+row[\"filename\"])\n",
    "    return labels, image_paths\n",
    "\n",
    "labels, covid_image_paths = get_covid19()"
   ]
  },
  {
   "cell_type": "code",
   "execution_count": 194,
   "metadata": {},
   "outputs": [
    {
     "data": {
      "text/plain": [
       "list"
      ]
     },
     "execution_count": 194,
     "metadata": {},
     "output_type": "execute_result"
    }
   ],
   "source": [
    "len(labels)\n",
    "#covid_image_paths\n",
    "type(labels)"
   ]
  },
  {
   "cell_type": "markdown",
   "metadata": {},
   "source": [
    "15. preprocess images\n",
    "\n",
    "you'll need to run the following functions on this data:\n",
    "\n",
    "1. load_images\n",
    "2. resize_images\n",
    "3. greyscale_images\n",
    "4. features_to_np_array\n",
    "5. labels_to_np_array\n",
    "\n",
    "Make sure to run each of those functions in order!"
   ]
  },
  {
   "cell_type": "code",
   "execution_count": 58,
   "metadata": {},
   "outputs": [],
   "source": [
    "import cv2\n",
    "import os\n",
    "\n",
    "def load_images(image_paths):\n",
    "    loadedImages = []\n",
    "    \n",
    "    for img in image_paths:\n",
    "        img = cv2.imread(img)\n",
    "        loadedImages.append(img)\n",
    "    return loadedImages"
   ]
  },
  {
   "cell_type": "code",
   "execution_count": 165,
   "metadata": {},
   "outputs": [],
   "source": [
    "#load train images\n",
    "train = load_images(covid_image_paths)"
   ]
  },
  {
   "cell_type": "code",
   "execution_count": 102,
   "metadata": {},
   "outputs": [],
   "source": [
    "# add your function calls to covid_image_paths here\n",
    "def get_image_features(image_paths, shape):\n",
    "    height, width, channels = shape\n",
    "    array = np.zeros((len(image_paths), height, width, channels))\n",
    "    for i, path in enumerate(image_paths):\n",
    "        im = Image.open(path)\n",
    "        as_array = np.asarray(im)\n",
    "        if len(as_array.shape) == 2: # convert to 3 channels (required input to VGG)\n",
    "            as_array = skimage.color.gray2rgb(as_array)\n",
    "        resized = skimage.transform.resize(as_array, shape)\n",
    "        array[i,:,:] = resized\n",
    "        if (i + 1) % 500 == 0:\n",
    "            print(f'Finished loading {i+1} samples')\n",
    "    return array"
   ]
  },
  {
   "cell_type": "code",
   "execution_count": 103,
   "metadata": {},
   "outputs": [
    {
     "data": {
      "text/plain": [
       "{'Streptococcus': 0,\n",
       " 'COVID-19, ARDS': 1,\n",
       " 'ARDS': 2,\n",
       " 'Legionella': 3,\n",
       " 'SARS': 4,\n",
       " 'No Finding': 5,\n",
       " 'Chlamydophila': 6,\n",
       " 'Pneumocystis': 7,\n",
       " 'Klebsiella': 8,\n",
       " 'COVID-19': 9,\n",
       " 'E.Coli': 10}"
      ]
     },
     "execution_count": 103,
     "metadata": {},
     "output_type": "execute_result"
    }
   ],
   "source": [
    "categorical = { label: i for i, label in enumerate(set(labels)) }\n",
    "categorical"
   ]
  },
  {
   "cell_type": "code",
   "execution_count": 149,
   "metadata": {},
   "outputs": [],
   "source": [
    "def labels_to_np_array(labels, mapping):\n",
    "    return np.array([mapping[label] for label in labels])"
   ]
  },
  {
   "cell_type": "code",
   "execution_count": 152,
   "metadata": {},
   "outputs": [],
   "source": []
  },
  {
   "cell_type": "code",
   "execution_count": 108,
   "metadata": {},
   "outputs": [
    {
     "data": {
      "text/plain": [
       "['covid-chestxray-dataset/images/auntminnie-a-2020_01_28_23_51_6665_2020_01_28_Vietnam_coronavirus.jpeg',\n",
       " 'covid-chestxray-dataset/images/auntminnie-b-2020_01_28_23_51_6665_2020_01_28_Vietnam_coronavirus.jpeg',\n",
       " 'covid-chestxray-dataset/images/auntminnie-c-2020_01_28_23_51_6665_2020_01_28_Vietnam_coronavirus.jpeg',\n",
       " 'covid-chestxray-dataset/images/auntminnie-d-2020_01_28_23_51_6665_2020_01_28_Vietnam_coronavirus.jpeg',\n",
       " 'covid-chestxray-dataset/images/nejmc2001573_f1a.jpeg',\n",
       " 'covid-chestxray-dataset/images/nejmc2001573_f1b.jpeg',\n",
       " 'covid-chestxray-dataset/images/ARDSSevere.png',\n",
       " 'covid-chestxray-dataset/images/lancet-case2a.jpg',\n",
       " 'covid-chestxray-dataset/images/lancet-case2b.jpg',\n",
       " 'covid-chestxray-dataset/images/SARS-10.1148rg.242035193-g04mr34g0-Fig8a-day0.jpeg']"
      ]
     },
     "execution_count": 108,
     "metadata": {},
     "output_type": "execute_result"
    }
   ],
   "source": [
    "covid_image_paths[:10]"
   ]
  },
  {
   "cell_type": "markdown",
   "metadata": {},
   "source": [
    "16. Strip out labels other than 'No Finding' and 'COVID-19' from the dataset\n",
    "\n",
    "There are two straight forward ways to do this:\n",
    "\n",
    "1) use a for-loop and keep track of indices\n",
    "\n",
    "2) read labels and features into a dataframe and then filter to those two label types.  Your choice!"
   ]
  },
  {
   "cell_type": "code",
   "execution_count": 153,
   "metadata": {},
   "outputs": [
    {
     "data": {
      "text/plain": [
       "{'No Finding': 5, 'COVID-19': 9}"
      ]
     },
     "execution_count": 153,
     "metadata": {},
     "output_type": "execute_result"
    }
   ],
   "source": [
    "categorical = dict((k, v) for k, v in categorical.items() if k=='COVID-19' or k=='No Finding' or k == 'COVID-19, ARDS')\n",
    "categorical"
   ]
  },
  {
   "cell_type": "code",
   "execution_count": 154,
   "metadata": {},
   "outputs": [
    {
     "ename": "KeyError",
     "evalue": "'ARDS'",
     "output_type": "error",
     "traceback": [
      "\u001b[1;31m---------------------------------------------------------------------------\u001b[0m",
      "\u001b[1;31mKeyError\u001b[0m                                  Traceback (most recent call last)",
      "\u001b[1;32m<ipython-input-154-1a4f39be185d>\u001b[0m in \u001b[0;36m<module>\u001b[1;34m\u001b[0m\n\u001b[0;32m      1\u001b[0m \u001b[0mIMAGE_SHAPE\u001b[0m \u001b[1;33m=\u001b[0m \u001b[1;33m(\u001b[0m\u001b[1;36m100\u001b[0m\u001b[1;33m,\u001b[0m \u001b[1;36m100\u001b[0m\u001b[1;33m,\u001b[0m \u001b[1;36m3\u001b[0m\u001b[1;33m)\u001b[0m\u001b[1;33m\u001b[0m\u001b[1;33m\u001b[0m\u001b[0m\n\u001b[0;32m      2\u001b[0m \u001b[0mX_training\u001b[0m \u001b[1;33m=\u001b[0m \u001b[0mget_image_features\u001b[0m\u001b[1;33m(\u001b[0m\u001b[0mtrain_fns\u001b[0m\u001b[1;33m,\u001b[0m \u001b[0mIMAGE_SHAPE\u001b[0m\u001b[1;33m)\u001b[0m\u001b[1;33m\u001b[0m\u001b[1;33m\u001b[0m\u001b[0m\n\u001b[1;32m----> 3\u001b[1;33m \u001b[0mY_training\u001b[0m \u001b[1;33m=\u001b[0m \u001b[0mlabels_to_np_array\u001b[0m\u001b[1;33m(\u001b[0m\u001b[0mlabels\u001b[0m\u001b[1;33m,\u001b[0m \u001b[0mcategorical\u001b[0m\u001b[1;33m)\u001b[0m\u001b[1;33m\u001b[0m\u001b[1;33m\u001b[0m\u001b[0m\n\u001b[0m",
      "\u001b[1;32m<ipython-input-149-946088934db2>\u001b[0m in \u001b[0;36mlabels_to_np_array\u001b[1;34m(labels, mapping)\u001b[0m\n\u001b[0;32m      1\u001b[0m \u001b[1;32mdef\u001b[0m \u001b[0mlabels_to_np_array\u001b[0m\u001b[1;33m(\u001b[0m\u001b[0mlabels\u001b[0m\u001b[1;33m,\u001b[0m \u001b[0mmapping\u001b[0m\u001b[1;33m)\u001b[0m\u001b[1;33m:\u001b[0m\u001b[1;33m\u001b[0m\u001b[1;33m\u001b[0m\u001b[0m\n\u001b[1;32m----> 2\u001b[1;33m     \u001b[1;32mreturn\u001b[0m \u001b[0mnp\u001b[0m\u001b[1;33m.\u001b[0m\u001b[0marray\u001b[0m\u001b[1;33m(\u001b[0m\u001b[1;33m[\u001b[0m\u001b[0mmapping\u001b[0m\u001b[1;33m[\u001b[0m\u001b[0mlabel\u001b[0m\u001b[1;33m]\u001b[0m \u001b[1;32mfor\u001b[0m \u001b[0mlabel\u001b[0m \u001b[1;32min\u001b[0m \u001b[0mlabels\u001b[0m\u001b[1;33m]\u001b[0m\u001b[1;33m)\u001b[0m\u001b[1;33m\u001b[0m\u001b[1;33m\u001b[0m\u001b[0m\n\u001b[0m",
      "\u001b[1;32m<ipython-input-149-946088934db2>\u001b[0m in \u001b[0;36m<listcomp>\u001b[1;34m(.0)\u001b[0m\n\u001b[0;32m      1\u001b[0m \u001b[1;32mdef\u001b[0m \u001b[0mlabels_to_np_array\u001b[0m\u001b[1;33m(\u001b[0m\u001b[0mlabels\u001b[0m\u001b[1;33m,\u001b[0m \u001b[0mmapping\u001b[0m\u001b[1;33m)\u001b[0m\u001b[1;33m:\u001b[0m\u001b[1;33m\u001b[0m\u001b[1;33m\u001b[0m\u001b[0m\n\u001b[1;32m----> 2\u001b[1;33m     \u001b[1;32mreturn\u001b[0m \u001b[0mnp\u001b[0m\u001b[1;33m.\u001b[0m\u001b[0marray\u001b[0m\u001b[1;33m(\u001b[0m\u001b[1;33m[\u001b[0m\u001b[0mmapping\u001b[0m\u001b[1;33m[\u001b[0m\u001b[0mlabel\u001b[0m\u001b[1;33m]\u001b[0m \u001b[1;32mfor\u001b[0m \u001b[0mlabel\u001b[0m \u001b[1;32min\u001b[0m \u001b[0mlabels\u001b[0m\u001b[1;33m]\u001b[0m\u001b[1;33m)\u001b[0m\u001b[1;33m\u001b[0m\u001b[1;33m\u001b[0m\u001b[0m\n\u001b[0m",
      "\u001b[1;31mKeyError\u001b[0m: 'ARDS'"
     ]
    }
   ],
   "source": [
    "IMAGE_SHAPE = (100, 100, 3)\n",
    "X_training = get_image_features(train_fns, IMAGE_SHAPE)\n",
    "Y_training = labels_to_np_array(labels, categorical)"
   ]
  },
  {
   "cell_type": "code",
   "execution_count": 159,
   "metadata": {},
   "outputs": [
    {
     "data": {
      "text/plain": [
       "(202,)"
      ]
     },
     "execution_count": 159,
     "metadata": {},
     "output_type": "execute_result"
    }
   ],
   "source": [
    "y_training = Y_training[:202]\n",
    "from sklearn.utils import shuffle\n",
    "X_training, y_training = shuffle(X_training, y_training)\n",
    "y_training.shape"
   ]
  },
  {
   "cell_type": "code",
   "execution_count": 162,
   "metadata": {},
   "outputs": [],
   "source": [
    "# train test split code goes here\n",
    "from sklearn.model_selection import train_test_split\n",
    "\n",
    "X_train, X_test, Y_train, Y_test = train_test_split(\n",
    "    X_training, y_training, test_size=0.33, random_state=42,)"
   ]
  },
  {
   "cell_type": "code",
   "execution_count": 170,
   "metadata": {},
   "outputs": [],
   "source": [
    "X_train, Y_train = shuffle(X_train, Y_train)\n",
    "X_test, Y_test = shuffle(X_test, Y_test)"
   ]
  },
  {
   "cell_type": "code",
   "execution_count": 171,
   "metadata": {},
   "outputs": [
    {
     "data": {
      "text/plain": [
       "<matplotlib.image.AxesImage at 0x2837dcd22e8>"
      ]
     },
     "execution_count": 171,
     "metadata": {},
     "output_type": "execute_result"
    },
    {
     "data": {
      "image/png": "[encoded data removed]",
      "text/plain": [
       "<Figure size 432x288 with 1 Axes>"
      ]
     },
     "metadata": {
      "needs_background": "light"
     },
     "output_type": "display_data"
    }
   ],
   "source": [
    "plt.imshow(X_train[0])"
   ]
  },
  {
   "cell_type": "code",
   "execution_count": 172,
   "metadata": {},
   "outputs": [],
   "source": [
    "train_gen = tf.keras.preprocessing.image.ImageDataGenerator(\n",
    "    featurewise_center=True,\n",
    "    featurewise_std_normalization=True,\n",
    "    rotation_range=25,\n",
    "    width_shift_range=0.2,\n",
    "    height_shift_range=0.2,\n",
    "    horizontal_flip=True,\n",
    "    zoom_range=0.2,\n",
    "    validation_split=0.2\n",
    ")\n",
    "\n",
    "train_gen.fit(X_train)"
   ]
  },
  {
   "cell_type": "code",
   "execution_count": 173,
   "metadata": {},
   "outputs": [
    {
     "name": "stdout",
     "output_type": "stream",
     "text": [
      "Model: \"sequential_5\"\n",
      "_________________________________________________________________\n",
      "Layer (type)                 Output Shape              Param #   \n",
      "=================================================================\n",
      "sequential_1 (Sequential)    (None, 2)                 19436354  \n",
      "_________________________________________________________________\n",
      "flatten_5 (Flatten)          (None, 2)                 0         \n",
      "_________________________________________________________________\n",
      "dense_10 (Dense)             (None, 1024)              3072      \n",
      "_________________________________________________________________\n",
      "dropout_5 (Dropout)          (None, 1024)              0         \n",
      "_________________________________________________________________\n",
      "dense_11 (Dense)             (None, 2)                 2050      \n",
      "=================================================================\n",
      "Total params: 19,441,476\n",
      "Trainable params: 11,806,212\n",
      "Non-trainable params: 7,635,264\n",
      "_________________________________________________________________\n"
     ]
    }
   ],
   "source": [
    "model = tf.keras.models.Sequential()\n",
    "\n",
    "model.add(augmented_model)\n",
    "\n",
    "model.add(tf.keras.layers.Flatten())\n",
    "model.add(tf.keras.layers.Dense(1024, activation='relu'))\n",
    "model.add(tf.keras.layers.Dropout(0.5))\n",
    "model.add(tf.keras.layers.Dense(2, activation='softmax'))\n",
    "\n",
    "model.summary()"
   ]
  },
  {
   "cell_type": "code",
   "execution_count": 191,
   "metadata": {},
   "outputs": [
    {
     "data": {
      "text/plain": [
       "(array([], dtype=int64),)"
      ]
     },
     "execution_count": 191,
     "metadata": {},
     "output_type": "execute_result"
    }
   ],
   "source": [
    "labels"
   ]
  },
  {
   "cell_type": "code",
   "execution_count": 190,
   "metadata": {},
   "outputs": [
    {
     "ename": "TypeError",
     "evalue": "tuple indices must be integers or slices, not str",
     "output_type": "error",
     "traceback": [
      "\u001b[1;31m---------------------------------------------------------------------------\u001b[0m",
      "\u001b[1;31mTypeError\u001b[0m                                 Traceback (most recent call last)",
      "\u001b[1;32m<ipython-input-190-0019f61a8ca3>\u001b[0m in \u001b[0;36m<module>\u001b[1;34m\u001b[0m\n\u001b[0;32m      1\u001b[0m \u001b[1;31m#labels = (np.where(labels ==('COVID-19' or 'No Finding')))\u001b[0m\u001b[1;33m\u001b[0m\u001b[1;33m\u001b[0m\u001b[1;33m\u001b[0m\u001b[0m\n\u001b[0;32m      2\u001b[0m \u001b[1;33m\u001b[0m\u001b[0m\n\u001b[1;32m----> 3\u001b[1;33m \u001b[0mlabels\u001b[0m \u001b[1;33m=\u001b[0m \u001b[0mlist\u001b[0m\u001b[1;33m(\u001b[0m \u001b[0mlabels\u001b[0m\u001b[1;33m[\u001b[0m\u001b[0mi\u001b[0m\u001b[1;33m]\u001b[0m \u001b[1;32mfor\u001b[0m \u001b[0mi\u001b[0m \u001b[1;32min\u001b[0m \u001b[1;33m[\u001b[0m\u001b[1;34m'COVID-19'\u001b[0m\u001b[1;33m,\u001b[0m\u001b[1;34m'No Finding'\u001b[0m\u001b[1;33m]\u001b[0m \u001b[1;33m)\u001b[0m\u001b[1;33m\u001b[0m\u001b[1;33m\u001b[0m\u001b[0m\n\u001b[0m\u001b[0;32m      4\u001b[0m \u001b[0mlabels\u001b[0m\u001b[1;33m\u001b[0m\u001b[1;33m\u001b[0m\u001b[0m\n",
      "\u001b[1;32m<ipython-input-190-0019f61a8ca3>\u001b[0m in \u001b[0;36m<genexpr>\u001b[1;34m(.0)\u001b[0m\n\u001b[0;32m      1\u001b[0m \u001b[1;31m#labels = (np.where(labels ==('COVID-19' or 'No Finding')))\u001b[0m\u001b[1;33m\u001b[0m\u001b[1;33m\u001b[0m\u001b[1;33m\u001b[0m\u001b[0m\n\u001b[0;32m      2\u001b[0m \u001b[1;33m\u001b[0m\u001b[0m\n\u001b[1;32m----> 3\u001b[1;33m \u001b[0mlabels\u001b[0m \u001b[1;33m=\u001b[0m \u001b[0mlist\u001b[0m\u001b[1;33m(\u001b[0m \u001b[0mlabels\u001b[0m\u001b[1;33m[\u001b[0m\u001b[0mi\u001b[0m\u001b[1;33m]\u001b[0m \u001b[1;32mfor\u001b[0m \u001b[0mi\u001b[0m \u001b[1;32min\u001b[0m \u001b[1;33m[\u001b[0m\u001b[1;34m'COVID-19'\u001b[0m\u001b[1;33m,\u001b[0m\u001b[1;34m'No Finding'\u001b[0m\u001b[1;33m]\u001b[0m \u001b[1;33m)\u001b[0m\u001b[1;33m\u001b[0m\u001b[1;33m\u001b[0m\u001b[0m\n\u001b[0m\u001b[0;32m      4\u001b[0m \u001b[0mlabels\u001b[0m\u001b[1;33m\u001b[0m\u001b[1;33m\u001b[0m\u001b[0m\n",
      "\u001b[1;31mTypeError\u001b[0m: tuple indices must be integers or slices, not str"
     ]
    }
   ],
   "source": [
    "#labels = (np.where(labels ==('COVID-19' or 'No Finding')))\n",
    "\n",
    "labels = list( labels[i] for i in ['COVID-19','No Finding'] )\n",
    "labels"
   ]
  },
  {
   "cell_type": "code",
   "execution_count": 178,
   "metadata": {},
   "outputs": [
    {
     "name": "stdout",
     "output_type": "stream",
     "text": [
      "Train on 108 samples, validate on 27 samples\n",
      "Epoch 1/5\n",
      "108/108 [==============================] - 9s 83ms/sample\n"
     ]
    },
    {
     "ename": "InvalidArgumentError",
     "evalue": " Received a label value of 10 which is outside the valid range of [0, 2).  Label values: 9 0 7 9 0 9 9 9 9 9 9 9 9 9 9 4 9 9 9 9 9 7 1 9 9 6 6 9 9 9 5 7 9 7 9 4 9 8 9 7 9 1 9 9 9 9 9 9 9 9 9 10 1 0 9 0 9 10 9 0 7 9 9 9 9 9 1 1 9 9 9 0 9 9 9 9 9 0 10 0 9 9 9 9 2 4 9 4 9 0 0 9 9 4 4 9 9 9 2 9 9 9 9 9 7 9 9 9\n\t [[node loss/dense_11_loss/SparseSoftmaxCrossEntropyWithLogits/SparseSoftmaxCrossEntropyWithLogits (defined at C:\\Users\\sonali\\Anaconda3\\lib\\site-packages\\tensorflow_core\\python\\framework\\ops.py:1751) ]] [Op:__inference_distributed_function_7860]\n\nFunction call stack:\ndistributed_function\n",
     "output_type": "error",
     "traceback": [
      "\u001b[1;31m---------------------------------------------------------------------------\u001b[0m",
      "\u001b[1;31mInvalidArgumentError\u001b[0m                      Traceback (most recent call last)",
      "\u001b[1;32m<ipython-input-178-f04398cd781c>\u001b[0m in \u001b[0;36m<module>\u001b[1;34m\u001b[0m\n\u001b[0;32m      1\u001b[0m \u001b[0mmodel\u001b[0m\u001b[1;33m.\u001b[0m\u001b[0mcompile\u001b[0m\u001b[1;33m(\u001b[0m\u001b[0mloss\u001b[0m\u001b[1;33m=\u001b[0m\u001b[1;34m'sparse_categorical_crossentropy'\u001b[0m\u001b[1;33m,\u001b[0m\u001b[0moptimizer\u001b[0m\u001b[1;33m=\u001b[0m\u001b[0moptimizers\u001b[0m\u001b[1;33m.\u001b[0m\u001b[0mRMSprop\u001b[0m\u001b[1;33m(\u001b[0m\u001b[0mlr\u001b[0m\u001b[1;33m=\u001b[0m\u001b[1;36m1e-4\u001b[0m\u001b[1;33m)\u001b[0m\u001b[1;33m,\u001b[0m\u001b[0mmetrics\u001b[0m\u001b[1;33m=\u001b[0m\u001b[1;33m[\u001b[0m\u001b[1;34m'acc'\u001b[0m\u001b[1;33m]\u001b[0m\u001b[1;33m)\u001b[0m\u001b[1;33m\u001b[0m\u001b[1;33m\u001b[0m\u001b[0m\n\u001b[1;32m----> 2\u001b[1;33m \u001b[0mmodel\u001b[0m\u001b[1;33m.\u001b[0m\u001b[0mfit\u001b[0m\u001b[1;33m(\u001b[0m\u001b[0mX_train\u001b[0m\u001b[1;33m,\u001b[0m \u001b[0mY_train\u001b[0m\u001b[1;33m,\u001b[0m \u001b[0mepochs\u001b[0m\u001b[1;33m=\u001b[0m \u001b[1;36m5\u001b[0m\u001b[1;33m,\u001b[0m \u001b[0mbatch_size\u001b[0m\u001b[1;33m=\u001b[0m \u001b[1;36m128\u001b[0m\u001b[1;33m,\u001b[0m \u001b[0mvalidation_split\u001b[0m\u001b[1;33m=\u001b[0m\u001b[1;36m0.2\u001b[0m\u001b[1;33m)\u001b[0m\u001b[1;33m\u001b[0m\u001b[1;33m\u001b[0m\u001b[0m\n\u001b[0m",
      "\u001b[1;32m~\\Anaconda3\\lib\\site-packages\\tensorflow_core\\python\\keras\\engine\\training.py\u001b[0m in \u001b[0;36mfit\u001b[1;34m(self, x, y, batch_size, epochs, verbose, callbacks, validation_split, validation_data, shuffle, class_weight, sample_weight, initial_epoch, steps_per_epoch, validation_steps, validation_freq, max_queue_size, workers, use_multiprocessing, **kwargs)\u001b[0m\n\u001b[0;32m    726\u001b[0m         \u001b[0mmax_queue_size\u001b[0m\u001b[1;33m=\u001b[0m\u001b[0mmax_queue_size\u001b[0m\u001b[1;33m,\u001b[0m\u001b[1;33m\u001b[0m\u001b[1;33m\u001b[0m\u001b[0m\n\u001b[0;32m    727\u001b[0m         \u001b[0mworkers\u001b[0m\u001b[1;33m=\u001b[0m\u001b[0mworkers\u001b[0m\u001b[1;33m,\u001b[0m\u001b[1;33m\u001b[0m\u001b[1;33m\u001b[0m\u001b[0m\n\u001b[1;32m--> 728\u001b[1;33m         use_multiprocessing=use_multiprocessing)\n\u001b[0m\u001b[0;32m    729\u001b[0m \u001b[1;33m\u001b[0m\u001b[0m\n\u001b[0;32m    730\u001b[0m   def evaluate(self,\n",
      "\u001b[1;32m~\\Anaconda3\\lib\\site-packages\\tensorflow_core\\python\\keras\\engine\\training_v2.py\u001b[0m in \u001b[0;36mfit\u001b[1;34m(self, model, x, y, batch_size, epochs, verbose, callbacks, validation_split, validation_data, shuffle, class_weight, sample_weight, initial_epoch, steps_per_epoch, validation_steps, validation_freq, **kwargs)\u001b[0m\n\u001b[0;32m    322\u001b[0m                 \u001b[0mmode\u001b[0m\u001b[1;33m=\u001b[0m\u001b[0mModeKeys\u001b[0m\u001b[1;33m.\u001b[0m\u001b[0mTRAIN\u001b[0m\u001b[1;33m,\u001b[0m\u001b[1;33m\u001b[0m\u001b[1;33m\u001b[0m\u001b[0m\n\u001b[0;32m    323\u001b[0m                 \u001b[0mtraining_context\u001b[0m\u001b[1;33m=\u001b[0m\u001b[0mtraining_context\u001b[0m\u001b[1;33m,\u001b[0m\u001b[1;33m\u001b[0m\u001b[1;33m\u001b[0m\u001b[0m\n\u001b[1;32m--> 324\u001b[1;33m                 total_epochs=epochs)\n\u001b[0m\u001b[0;32m    325\u001b[0m             \u001b[0mcbks\u001b[0m\u001b[1;33m.\u001b[0m\u001b[0mmake_logs\u001b[0m\u001b[1;33m(\u001b[0m\u001b[0mmodel\u001b[0m\u001b[1;33m,\u001b[0m \u001b[0mepoch_logs\u001b[0m\u001b[1;33m,\u001b[0m \u001b[0mtraining_result\u001b[0m\u001b[1;33m,\u001b[0m \u001b[0mModeKeys\u001b[0m\u001b[1;33m.\u001b[0m\u001b[0mTRAIN\u001b[0m\u001b[1;33m)\u001b[0m\u001b[1;33m\u001b[0m\u001b[1;33m\u001b[0m\u001b[0m\n\u001b[0;32m    326\u001b[0m \u001b[1;33m\u001b[0m\u001b[0m\n",
      "\u001b[1;32m~\\Anaconda3\\lib\\site-packages\\tensorflow_core\\python\\keras\\engine\\training_v2.py\u001b[0m in \u001b[0;36mrun_one_epoch\u001b[1;34m(model, iterator, execution_function, dataset_size, batch_size, strategy, steps_per_epoch, num_samples, mode, training_context, total_epochs)\u001b[0m\n\u001b[0;32m    121\u001b[0m         step=step, mode=mode, size=current_batch_size) as batch_logs:\n\u001b[0;32m    122\u001b[0m       \u001b[1;32mtry\u001b[0m\u001b[1;33m:\u001b[0m\u001b[1;33m\u001b[0m\u001b[1;33m\u001b[0m\u001b[0m\n\u001b[1;32m--> 123\u001b[1;33m         \u001b[0mbatch_outs\u001b[0m \u001b[1;33m=\u001b[0m \u001b[0mexecution_function\u001b[0m\u001b[1;33m(\u001b[0m\u001b[0miterator\u001b[0m\u001b[1;33m)\u001b[0m\u001b[1;33m\u001b[0m\u001b[1;33m\u001b[0m\u001b[0m\n\u001b[0m\u001b[0;32m    124\u001b[0m       \u001b[1;32mexcept\u001b[0m \u001b[1;33m(\u001b[0m\u001b[0mStopIteration\u001b[0m\u001b[1;33m,\u001b[0m \u001b[0merrors\u001b[0m\u001b[1;33m.\u001b[0m\u001b[0mOutOfRangeError\u001b[0m\u001b[1;33m)\u001b[0m\u001b[1;33m:\u001b[0m\u001b[1;33m\u001b[0m\u001b[1;33m\u001b[0m\u001b[0m\n\u001b[0;32m    125\u001b[0m         \u001b[1;31m# TODO(kaftan): File bug about tf function and errors.OutOfRangeError?\u001b[0m\u001b[1;33m\u001b[0m\u001b[1;33m\u001b[0m\u001b[1;33m\u001b[0m\u001b[0m\n",
      "\u001b[1;32m~\\Anaconda3\\lib\\site-packages\\tensorflow_core\\python\\keras\\engine\\training_v2_utils.py\u001b[0m in \u001b[0;36mexecution_function\u001b[1;34m(input_fn)\u001b[0m\n\u001b[0;32m     84\u001b[0m     \u001b[1;31m# `numpy` translates Tensors to values in Eager mode.\u001b[0m\u001b[1;33m\u001b[0m\u001b[1;33m\u001b[0m\u001b[1;33m\u001b[0m\u001b[0m\n\u001b[0;32m     85\u001b[0m     return nest.map_structure(_non_none_constant_value,\n\u001b[1;32m---> 86\u001b[1;33m                               distributed_function(input_fn))\n\u001b[0m\u001b[0;32m     87\u001b[0m \u001b[1;33m\u001b[0m\u001b[0m\n\u001b[0;32m     88\u001b[0m   \u001b[1;32mreturn\u001b[0m \u001b[0mexecution_function\u001b[0m\u001b[1;33m\u001b[0m\u001b[1;33m\u001b[0m\u001b[0m\n",
      "\u001b[1;32m~\\Anaconda3\\lib\\site-packages\\tensorflow_core\\python\\eager\\def_function.py\u001b[0m in \u001b[0;36m__call__\u001b[1;34m(self, *args, **kwds)\u001b[0m\n\u001b[0;32m    455\u001b[0m \u001b[1;33m\u001b[0m\u001b[0m\n\u001b[0;32m    456\u001b[0m     \u001b[0mtracing_count\u001b[0m \u001b[1;33m=\u001b[0m \u001b[0mself\u001b[0m\u001b[1;33m.\u001b[0m\u001b[0m_get_tracing_count\u001b[0m\u001b[1;33m(\u001b[0m\u001b[1;33m)\u001b[0m\u001b[1;33m\u001b[0m\u001b[1;33m\u001b[0m\u001b[0m\n\u001b[1;32m--> 457\u001b[1;33m     \u001b[0mresult\u001b[0m \u001b[1;33m=\u001b[0m \u001b[0mself\u001b[0m\u001b[1;33m.\u001b[0m\u001b[0m_call\u001b[0m\u001b[1;33m(\u001b[0m\u001b[1;33m*\u001b[0m\u001b[0margs\u001b[0m\u001b[1;33m,\u001b[0m \u001b[1;33m**\u001b[0m\u001b[0mkwds\u001b[0m\u001b[1;33m)\u001b[0m\u001b[1;33m\u001b[0m\u001b[1;33m\u001b[0m\u001b[0m\n\u001b[0m\u001b[0;32m    458\u001b[0m     \u001b[1;32mif\u001b[0m \u001b[0mtracing_count\u001b[0m \u001b[1;33m==\u001b[0m \u001b[0mself\u001b[0m\u001b[1;33m.\u001b[0m\u001b[0m_get_tracing_count\u001b[0m\u001b[1;33m(\u001b[0m\u001b[1;33m)\u001b[0m\u001b[1;33m:\u001b[0m\u001b[1;33m\u001b[0m\u001b[1;33m\u001b[0m\u001b[0m\n\u001b[0;32m    459\u001b[0m       \u001b[0mself\u001b[0m\u001b[1;33m.\u001b[0m\u001b[0m_call_counter\u001b[0m\u001b[1;33m.\u001b[0m\u001b[0mcalled_without_tracing\u001b[0m\u001b[1;33m(\u001b[0m\u001b[1;33m)\u001b[0m\u001b[1;33m\u001b[0m\u001b[1;33m\u001b[0m\u001b[0m\n",
      "\u001b[1;32m~\\Anaconda3\\lib\\site-packages\\tensorflow_core\\python\\eager\\def_function.py\u001b[0m in \u001b[0;36m_call\u001b[1;34m(self, *args, **kwds)\u001b[0m\n\u001b[0;32m    518\u001b[0m         \u001b[1;31m# Lifting succeeded, so variables are initialized and we can run the\u001b[0m\u001b[1;33m\u001b[0m\u001b[1;33m\u001b[0m\u001b[1;33m\u001b[0m\u001b[0m\n\u001b[0;32m    519\u001b[0m         \u001b[1;31m# stateless function.\u001b[0m\u001b[1;33m\u001b[0m\u001b[1;33m\u001b[0m\u001b[1;33m\u001b[0m\u001b[0m\n\u001b[1;32m--> 520\u001b[1;33m         \u001b[1;32mreturn\u001b[0m \u001b[0mself\u001b[0m\u001b[1;33m.\u001b[0m\u001b[0m_stateless_fn\u001b[0m\u001b[1;33m(\u001b[0m\u001b[1;33m*\u001b[0m\u001b[0margs\u001b[0m\u001b[1;33m,\u001b[0m \u001b[1;33m**\u001b[0m\u001b[0mkwds\u001b[0m\u001b[1;33m)\u001b[0m\u001b[1;33m\u001b[0m\u001b[1;33m\u001b[0m\u001b[0m\n\u001b[0m\u001b[0;32m    521\u001b[0m     \u001b[1;32melse\u001b[0m\u001b[1;33m:\u001b[0m\u001b[1;33m\u001b[0m\u001b[1;33m\u001b[0m\u001b[0m\n\u001b[0;32m    522\u001b[0m       \u001b[0mcanon_args\u001b[0m\u001b[1;33m,\u001b[0m \u001b[0mcanon_kwds\u001b[0m \u001b[1;33m=\u001b[0m\u001b[0;31m \u001b[0m\u001b[0;31m\\\u001b[0m\u001b[1;33m\u001b[0m\u001b[1;33m\u001b[0m\u001b[0m\n",
      "\u001b[1;32m~\\Anaconda3\\lib\\site-packages\\tensorflow_core\\python\\eager\\function.py\u001b[0m in \u001b[0;36m__call__\u001b[1;34m(self, *args, **kwargs)\u001b[0m\n\u001b[0;32m   1821\u001b[0m     \u001b[1;34m\"\"\"Calls a graph function specialized to the inputs.\"\"\"\u001b[0m\u001b[1;33m\u001b[0m\u001b[1;33m\u001b[0m\u001b[0m\n\u001b[0;32m   1822\u001b[0m     \u001b[0mgraph_function\u001b[0m\u001b[1;33m,\u001b[0m \u001b[0margs\u001b[0m\u001b[1;33m,\u001b[0m \u001b[0mkwargs\u001b[0m \u001b[1;33m=\u001b[0m \u001b[0mself\u001b[0m\u001b[1;33m.\u001b[0m\u001b[0m_maybe_define_function\u001b[0m\u001b[1;33m(\u001b[0m\u001b[0margs\u001b[0m\u001b[1;33m,\u001b[0m \u001b[0mkwargs\u001b[0m\u001b[1;33m)\u001b[0m\u001b[1;33m\u001b[0m\u001b[1;33m\u001b[0m\u001b[0m\n\u001b[1;32m-> 1823\u001b[1;33m     \u001b[1;32mreturn\u001b[0m \u001b[0mgraph_function\u001b[0m\u001b[1;33m.\u001b[0m\u001b[0m_filtered_call\u001b[0m\u001b[1;33m(\u001b[0m\u001b[0margs\u001b[0m\u001b[1;33m,\u001b[0m \u001b[0mkwargs\u001b[0m\u001b[1;33m)\u001b[0m  \u001b[1;31m# pylint: disable=protected-access\u001b[0m\u001b[1;33m\u001b[0m\u001b[1;33m\u001b[0m\u001b[0m\n\u001b[0m\u001b[0;32m   1824\u001b[0m \u001b[1;33m\u001b[0m\u001b[0m\n\u001b[0;32m   1825\u001b[0m   \u001b[1;33m@\u001b[0m\u001b[0mproperty\u001b[0m\u001b[1;33m\u001b[0m\u001b[1;33m\u001b[0m\u001b[0m\n",
      "\u001b[1;32m~\\Anaconda3\\lib\\site-packages\\tensorflow_core\\python\\eager\\function.py\u001b[0m in \u001b[0;36m_filtered_call\u001b[1;34m(self, args, kwargs)\u001b[0m\n\u001b[0;32m   1139\u001b[0m          if isinstance(t, (ops.Tensor,\n\u001b[0;32m   1140\u001b[0m                            resource_variable_ops.BaseResourceVariable))),\n\u001b[1;32m-> 1141\u001b[1;33m         self.captured_inputs)\n\u001b[0m\u001b[0;32m   1142\u001b[0m \u001b[1;33m\u001b[0m\u001b[0m\n\u001b[0;32m   1143\u001b[0m   \u001b[1;32mdef\u001b[0m \u001b[0m_call_flat\u001b[0m\u001b[1;33m(\u001b[0m\u001b[0mself\u001b[0m\u001b[1;33m,\u001b[0m \u001b[0margs\u001b[0m\u001b[1;33m,\u001b[0m \u001b[0mcaptured_inputs\u001b[0m\u001b[1;33m,\u001b[0m \u001b[0mcancellation_manager\u001b[0m\u001b[1;33m=\u001b[0m\u001b[1;32mNone\u001b[0m\u001b[1;33m)\u001b[0m\u001b[1;33m:\u001b[0m\u001b[1;33m\u001b[0m\u001b[1;33m\u001b[0m\u001b[0m\n",
      "\u001b[1;32m~\\Anaconda3\\lib\\site-packages\\tensorflow_core\\python\\eager\\function.py\u001b[0m in \u001b[0;36m_call_flat\u001b[1;34m(self, args, captured_inputs, cancellation_manager)\u001b[0m\n\u001b[0;32m   1222\u001b[0m     \u001b[1;32mif\u001b[0m \u001b[0mexecuting_eagerly\u001b[0m\u001b[1;33m:\u001b[0m\u001b[1;33m\u001b[0m\u001b[1;33m\u001b[0m\u001b[0m\n\u001b[0;32m   1223\u001b[0m       flat_outputs = forward_function.call(\n\u001b[1;32m-> 1224\u001b[1;33m           ctx, args, cancellation_manager=cancellation_manager)\n\u001b[0m\u001b[0;32m   1225\u001b[0m     \u001b[1;32melse\u001b[0m\u001b[1;33m:\u001b[0m\u001b[1;33m\u001b[0m\u001b[1;33m\u001b[0m\u001b[0m\n\u001b[0;32m   1226\u001b[0m       \u001b[0mgradient_name\u001b[0m \u001b[1;33m=\u001b[0m \u001b[0mself\u001b[0m\u001b[1;33m.\u001b[0m\u001b[0m_delayed_rewrite_functions\u001b[0m\u001b[1;33m.\u001b[0m\u001b[0mregister\u001b[0m\u001b[1;33m(\u001b[0m\u001b[1;33m)\u001b[0m\u001b[1;33m\u001b[0m\u001b[1;33m\u001b[0m\u001b[0m\n",
      "\u001b[1;32m~\\Anaconda3\\lib\\site-packages\\tensorflow_core\\python\\eager\\function.py\u001b[0m in \u001b[0;36mcall\u001b[1;34m(self, ctx, args, cancellation_manager)\u001b[0m\n\u001b[0;32m    509\u001b[0m               \u001b[0minputs\u001b[0m\u001b[1;33m=\u001b[0m\u001b[0margs\u001b[0m\u001b[1;33m,\u001b[0m\u001b[1;33m\u001b[0m\u001b[1;33m\u001b[0m\u001b[0m\n\u001b[0;32m    510\u001b[0m               \u001b[0mattrs\u001b[0m\u001b[1;33m=\u001b[0m\u001b[1;33m(\u001b[0m\u001b[1;34m\"executor_type\"\u001b[0m\u001b[1;33m,\u001b[0m \u001b[0mexecutor_type\u001b[0m\u001b[1;33m,\u001b[0m \u001b[1;34m\"config_proto\"\u001b[0m\u001b[1;33m,\u001b[0m \u001b[0mconfig\u001b[0m\u001b[1;33m)\u001b[0m\u001b[1;33m,\u001b[0m\u001b[1;33m\u001b[0m\u001b[1;33m\u001b[0m\u001b[0m\n\u001b[1;32m--> 511\u001b[1;33m               ctx=ctx)\n\u001b[0m\u001b[0;32m    512\u001b[0m         \u001b[1;32melse\u001b[0m\u001b[1;33m:\u001b[0m\u001b[1;33m\u001b[0m\u001b[1;33m\u001b[0m\u001b[0m\n\u001b[0;32m    513\u001b[0m           outputs = execute.execute_with_cancellation(\n",
      "\u001b[1;32m~\\Anaconda3\\lib\\site-packages\\tensorflow_core\\python\\eager\\execute.py\u001b[0m in \u001b[0;36mquick_execute\u001b[1;34m(op_name, num_outputs, inputs, attrs, ctx, name)\u001b[0m\n\u001b[0;32m     65\u001b[0m     \u001b[1;32melse\u001b[0m\u001b[1;33m:\u001b[0m\u001b[1;33m\u001b[0m\u001b[1;33m\u001b[0m\u001b[0m\n\u001b[0;32m     66\u001b[0m       \u001b[0mmessage\u001b[0m \u001b[1;33m=\u001b[0m \u001b[0me\u001b[0m\u001b[1;33m.\u001b[0m\u001b[0mmessage\u001b[0m\u001b[1;33m\u001b[0m\u001b[1;33m\u001b[0m\u001b[0m\n\u001b[1;32m---> 67\u001b[1;33m     \u001b[0msix\u001b[0m\u001b[1;33m.\u001b[0m\u001b[0mraise_from\u001b[0m\u001b[1;33m(\u001b[0m\u001b[0mcore\u001b[0m\u001b[1;33m.\u001b[0m\u001b[0m_status_to_exception\u001b[0m\u001b[1;33m(\u001b[0m\u001b[0me\u001b[0m\u001b[1;33m.\u001b[0m\u001b[0mcode\u001b[0m\u001b[1;33m,\u001b[0m \u001b[0mmessage\u001b[0m\u001b[1;33m)\u001b[0m\u001b[1;33m,\u001b[0m \u001b[1;32mNone\u001b[0m\u001b[1;33m)\u001b[0m\u001b[1;33m\u001b[0m\u001b[1;33m\u001b[0m\u001b[0m\n\u001b[0m\u001b[0;32m     68\u001b[0m   \u001b[1;32mexcept\u001b[0m \u001b[0mTypeError\u001b[0m \u001b[1;32mas\u001b[0m \u001b[0me\u001b[0m\u001b[1;33m:\u001b[0m\u001b[1;33m\u001b[0m\u001b[1;33m\u001b[0m\u001b[0m\n\u001b[0;32m     69\u001b[0m     keras_symbolic_tensors = [\n",
      "\u001b[1;32m~\\Anaconda3\\lib\\site-packages\\six.py\u001b[0m in \u001b[0;36mraise_from\u001b[1;34m(value, from_value)\u001b[0m\n",
      "\u001b[1;31mInvalidArgumentError\u001b[0m:  Received a label value of 10 which is outside the valid range of [0, 2).  Label values: 9 0 7 9 0 9 9 9 9 9 9 9 9 9 9 4 9 9 9 9 9 7 1 9 9 6 6 9 9 9 5 7 9 7 9 4 9 8 9 7 9 1 9 9 9 9 9 9 9 9 9 10 1 0 9 0 9 10 9 0 7 9 9 9 9 9 1 1 9 9 9 0 9 9 9 9 9 0 10 0 9 9 9 9 2 4 9 4 9 0 0 9 9 4 4 9 9 9 2 9 9 9 9 9 7 9 9 9\n\t [[node loss/dense_11_loss/SparseSoftmaxCrossEntropyWithLogits/SparseSoftmaxCrossEntropyWithLogits (defined at C:\\Users\\sonali\\Anaconda3\\lib\\site-packages\\tensorflow_core\\python\\framework\\ops.py:1751) ]] [Op:__inference_distributed_function_7860]\n\nFunction call stack:\ndistributed_function\n"
     ]
    }
   ],
   "source": [
    "model.compile(loss='sparse_categorical_crossentropy',optimizer=optimizers.RMSprop(lr=1e-4),metrics=['acc'])\n",
    "model.fit(X_train, Y_train, epochs= 5, batch_size= 128, validation_split=0.2)"
   ]
  },
  {
   "cell_type": "code",
   "execution_count": null,
   "metadata": {},
   "outputs": [],
   "source": []
  },
  {
   "cell_type": "markdown",
   "metadata": {},
   "source": [
    "17. Predict on the new images\n",
    "\n",
    "Here you'll use the classifier you trained on just pneumonia/not pneumonia to try and classify COVID-19 and no finding.  You'll use the pneumonia/not pneumonia classifier as a featurizer to do this.\n",
    "\n",
    "Much of the code has been written, you'll just need to supply your trained classifier as input.\n",
    "\n",
    "Please predict the labels from the classifier.  Then run `classification_report` to see how well your classifier did."
   ]
  },
  {
   "cell_type": "code",
   "execution_count": 130,
   "metadata": {},
   "outputs": [
    {
     "ename": "NameError",
     "evalue": "name 'untuned_model' is not defined",
     "output_type": "error",
     "traceback": [
      "\u001b[1;31m---------------------------------------------------------------------------\u001b[0m",
      "\u001b[1;31mNameError\u001b[0m                                 Traceback (most recent call last)",
      "\u001b[1;32m<ipython-input-130-2ec3ab1eb8fa>\u001b[0m in \u001b[0;36m<module>\u001b[1;34m\u001b[0m\n\u001b[0;32m     58\u001b[0m \u001b[1;31m# height = [YOUR HEIGHT GOES HERE]\u001b[0m\u001b[1;33m\u001b[0m\u001b[1;33m\u001b[0m\u001b[1;33m\u001b[0m\u001b[0m\n\u001b[0;32m     59\u001b[0m \u001b[1;33m\u001b[0m\u001b[0m\n\u001b[1;32m---> 60\u001b[1;33m \u001b[0mcovid_features\u001b[0m\u001b[1;33m,\u001b[0m \u001b[0mcovid_labels\u001b[0m \u001b[1;33m=\u001b[0m \u001b[0mextract_features_covid\u001b[0m\u001b[1;33m(\u001b[0m\u001b[0muntuned_model\u001b[0m\u001b[1;33m,\u001b[0m \u001b[0mwidth\u001b[0m\u001b[1;33m,\u001b[0m \u001b[0mheight\u001b[0m\u001b[1;33m)\u001b[0m\u001b[1;33m\u001b[0m\u001b[1;33m\u001b[0m\u001b[0m\n\u001b[0m\u001b[0;32m     61\u001b[0m \u001b[0mnon_covid_features\u001b[0m\u001b[1;33m,\u001b[0m \u001b[0mnon_covid_labels\u001b[0m \u001b[1;33m=\u001b[0m \u001b[0mextract_features_not_covid\u001b[0m\u001b[1;33m(\u001b[0m\u001b[0muntuned_model\u001b[0m\u001b[1;33m,\u001b[0m \u001b[0mwidth\u001b[0m\u001b[1;33m,\u001b[0m \u001b[0mheight\u001b[0m\u001b[1;33m)\u001b[0m\u001b[1;33m\u001b[0m\u001b[1;33m\u001b[0m\u001b[0m\n\u001b[0;32m     62\u001b[0m \u001b[0mfeatures\u001b[0m \u001b[1;33m=\u001b[0m \u001b[0mcovid_features\u001b[0m \u001b[1;33m+\u001b[0m \u001b[0mnon_covid_features\u001b[0m\u001b[1;33m\u001b[0m\u001b[1;33m\u001b[0m\u001b[0m\n",
      "\u001b[1;31mNameError\u001b[0m: name 'untuned_model' is not defined"
     ]
    }
   ],
   "source": [
    "#prediction code goes here\n",
    "\n",
    "import cv2\n",
    "import numpy as np\n",
    "from sklearn.linear_model import LogisticRegression\n",
    "from sklearn.metrics import classification_report\n",
    "import glob\n",
    "import code\n",
    "\n",
    "def extract_features_covid(model, width, height):\n",
    "    base = \"covid-chestxray-dataset/\"\n",
    "    metadata = pd.read_csv(base+\"metadata.csv\")\n",
    "    labels = []\n",
    "    image_paths = []\n",
    "    for index, row in metadata.iterrows():\n",
    "        if row[\"finding\"] == \"COVID-19\":\n",
    "            labels.append(\"COVID\")\n",
    "            image_paths.append(base+row[\"filename\"])\n",
    "            im = cv2.imread(im_path)\n",
    "            im = cv2.resize(im, (width, height))\n",
    "            features = model.predict(img)\n",
    "            features_np = np.array(features)\n",
    "            feature_list.append(features_np.flatten())\n",
    "\n",
    "    return np.array(feature_list), labels\n",
    "\n",
    "def extract_features_not_covid(model, width, height):\n",
    "    feature_list = []\n",
    "    labels = []\n",
    "    paths = [\n",
    "        \"chest_xray/test/NORMAL/*\",\n",
    "        \"chest_xray/test/PNEUMONIA/*\",\n",
    "        \"chest_xray/train/NORMAL/*\",\n",
    "        \"chest_xray/train/PNEUMONIA/*\"\n",
    "        \n",
    "    ]\n",
    "    for path in paths:\n",
    "        for im_path in glob.glob(path):\n",
    "            if path == \"chest_xray/train/NORMAL/*\":\n",
    "                labels.append(\"CLEAR TRAIN\")\n",
    "            if path == \"chest_xray/test/NORMAL/*\":\n",
    "                labels.append(\"CLEAR TEST\")\n",
    "            if path == \"chest_xray/train/PNEUMONIA/*\":\n",
    "                labels.append(\"PNEUMONIA\")\n",
    "            im = cv2.imread(im_path)\n",
    "            im = cv2.resize(im, (width, height))\n",
    "            features = model.predict(img)\n",
    "            features_np = np.array(features)\n",
    "            feature_list.append(features_np.flatten())\n",
    "\n",
    "    return np.array(feature_list), labels\n",
    "\n",
    "# please make a copy of your tuned model and save it to variable:\n",
    "# untuned_model = [YOUR MODEL NAME GOES HERE]\n",
    "\n",
    "# please specify the width and height you used for the image preprocessing\n",
    "# width = [YOUR WIDTH GOES HERE]\n",
    "# height = [YOUR HEIGHT GOES HERE]\n",
    "\n",
    "covid_features, covid_labels = extract_features_covid(untuned_model, width, height)\n",
    "non_covid_features, non_covid_labels = extract_features_not_covid(untuned_model, width, height)\n",
    "features = covid_features + non_covid_features\n",
    "labels = covid_labels + non_covid_labels\n",
    "X_train = []\n",
    "y_train = []\n",
    "X_test = []\n",
    "y_test = []\n",
    "for index, label in enumerate(labels):\n",
    "    if label == \"CLEAR TRAIN\":\n",
    "        X_train.append(features[index])\n",
    "        y_train.append(0)\n",
    "    if label == \"PNEUMONIA\":\n",
    "        X_train.append(features[index])\n",
    "        y_train.append(1)\n",
    "    if label == \"COVID\":\n",
    "        X_test.append(features[index])\n",
    "        y_test.append(1)\n",
    "    if label == \"CLEAR TEST\":\n",
    "        X_test.append(features[index])\n",
    "        y_test.append(0)\n",
    "\n",
    "logit_clf = LogisticRegression()\n",
    "logit_clf.fit(X_train, y_train)\n",
    "y_pred = logit_clf.predict(X_test)\n",
    "print(classification_report(y_test, y_pred))"
   ]
  },
  {
   "cell_type": "markdown",
   "metadata": {},
   "source": [
    "18. Compare and contrast how the classifier did on Pneumonia versus COVID-19\n",
    "\n",
    "Did it do as well?  Worse?  About the same?  What conclusions can you draw?"
   ]
  },
  {
   "cell_type": "markdown",
   "metadata": {},
   "source": [
    "### Add your answers here!"
   ]
  },
  {
   "cell_type": "markdown",
   "metadata": {},
   "source": [
    "Now that we've looked at a bunch of base cases, let's see if we can improve things by changing the model architecture.  We'll do this with a bunch of discrete steps\n",
    "\n",
    "1. Change the number of trainable layers\n",
    "\n",
    "Here you will make more of the layers trainable.  For this we are going to use cross validation to try and figure out which the optimal number of trainable layers.  Please us from the last 6 layers to one layer.  So your range should be:\n",
    "\n",
    "```\n",
    "trainable_range = [-6, -5, -4, -3, -2, -1]\n",
    "```\n",
    "\n",
    "Also, your X and y data should be the pneumonia data only.  Since that's what we trained on.  We should not assume we have access to the COVID data, except for testing, which will do later on.\n",
    "\n",
    "Here's a blog post detailing how to set this up: https://machinelearningmastery.com/grid-search-hyperparameters-deep-learning-models-python-keras/\n",
    "\n",
    "Note you'll need to set the number of trainable layers inside of `model_create` in order to make this tunable.  \n",
    "\n",
    "Please report mean and standard deviation for accuracy."
   ]
  },
  {
   "cell_type": "code",
   "execution_count": 12,
   "metadata": {},
   "outputs": [],
   "source": [
    "# Cross validation code goes here"
   ]
  },
  {
   "cell_type": "markdown",
   "metadata": {},
   "source": [
    "2. Analyze your results\n",
    "\n",
    "Do you think that changing the number of tunable layers matters?  Does it improve classification accuracy enough to warrant changing the number of tunable layers?  "
   ]
  },
  {
   "cell_type": "markdown",
   "metadata": {},
   "source": [
    "### Analysis and explanation go here"
   ]
  },
  {
   "cell_type": "markdown",
   "metadata": {},
   "source": [
    "2. Tune over a layer activation function\n",
    "\n",
    "Please set the number of tunable layers to 4 again.\n",
    "\n",
    "Now we are going to make the layer activation tunable.  \n",
    "\n",
    "To do this, please change the model_create function so that each layer has it's own tunable activation function.  Then run your new cross validation code."
   ]
  },
  {
   "cell_type": "code",
   "execution_count": 13,
   "metadata": {},
   "outputs": [],
   "source": [
    "# cross validation code goes here"
   ]
  },
  {
   "cell_type": "markdown",
   "metadata": {},
   "source": [
    "3. Analyze your results\n",
    "\n",
    "Does your choice of activation function matter?  When does the activation function perform best?  \n",
    "\n",
    "Things to consider:\n",
    "\n",
    "* Specifically does choosing the same activation function for all of the layers do best? \n",
    "* Does choosing different activation functions for each of the layers do best?\n",
    "* Are they all within the same approximate accuracy range?\n",
    "* do things vary wildly?"
   ]
  },
  {
   "cell_type": "markdown",
   "metadata": {},
   "source": [
    "### Analysis and explanation go here"
   ]
  },
  {
   "cell_type": "markdown",
   "metadata": {},
   "source": [
    "4. Tune over more hyperparameters\n",
    "\n",
    "Now that we've tuned the activation functions, let's try tuning more parameters.  This time add tuning for the following parameters:\n",
    "\n",
    "* number of neurons per layer\n",
    "* weight initialization\n",
    "* optimizer\n",
    "* weight constraint\n",
    "* activation function\n",
    "* learning rate\n",
    "\n",
    "Here is a great post on the range of values you should consider: https://www.wandb.com/articles/fundamentals-of-neural-networks\n",
    "\n",
    "Here is some code that is also useful: https://www.kaggle.com/lavanyashukla01/training-a-neural-network-start-here\n",
    "\n",
    "for understanding this practically."
   ]
  },
  {
   "cell_type": "code",
   "execution_count": 14,
   "metadata": {},
   "outputs": [],
   "source": [
    "# cross validation code goes here"
   ]
  },
  {
   "cell_type": "markdown",
   "metadata": {},
   "source": [
    "5. Tune over data augmentation\n",
    "\n",
    "Here you'll take the best hyperparameters from your neural network, with 4 trainable layers, and then add them to a pipeline.  We will then tune over data augmentation parameters.  Report out your mean and standard deviation of accuracy.\n",
    "\n",
    "Here we will create a scikit-learn pipline:\n",
    "\n",
    "https://scikit-learn.org/stable/modules/generated/sklearn.pipeline.Pipeline.html\n",
    "\n",
    "If you need an example with gridsearch and pipeline:\n",
    "\n",
    "https://scikit-learn.org/stable/tutorial/statistical_inference/putting_together.html\n",
    "\n",
    "As a reminder, here is the documentation for data augmentation:\n",
    "\n",
    "https://keras.io/preprocessing/image/"
   ]
  },
  {
   "cell_type": "code",
   "execution_count": null,
   "metadata": {},
   "outputs": [],
   "source": [
    "#cross validation code goes here"
   ]
  },
  {
   "cell_type": "markdown",
   "metadata": {},
   "source": [
    "6. Analyze your results\n",
    "\n",
    "Now that you've tuned over model parameters and preprocessing, what has a bigger impact?  Why do you think that might be the case?"
   ]
  },
  {
   "cell_type": "markdown",
   "metadata": {},
   "source": [
    "### Analysis and explanation goes here"
   ]
  },
  {
   "cell_type": "markdown",
   "metadata": {},
   "source": [
    "7. Using your best model and preprocessing to train a new model\n",
    "\n",
    "Now you should select the best hyperparameters for the neural network and the best hyperparameters for the preprocesser and then combine them into a scikit-learn pipeline.  Next train a classifier with these new tuned hyperparameters."
   ]
  },
  {
   "cell_type": "code",
   "execution_count": 15,
   "metadata": {},
   "outputs": [],
   "source": [
    "#classifer generation code goes here"
   ]
  },
  {
   "cell_type": "markdown",
   "metadata": {},
   "source": [
    "8. Let's see if things improved - time for `classification_report`\n",
    "\n",
    "Now that you've tuned your model, let's see how well it does on our test set!  First call predict on the test data to get a prediction.  Then use `classification_report` to see how well the model does."
   ]
  },
  {
   "cell_type": "code",
   "execution_count": 16,
   "metadata": {},
   "outputs": [],
   "source": [
    "# prediction code goes here"
   ]
  },
  {
   "cell_type": "markdown",
   "metadata": {},
   "source": [
    "9. Analsis and comparison\n",
    "\n",
    "Now that you've seen how well your classifier does when it's been tuned, compare this with your previous model, that was untuned.  Are the precision, recall and f1-scores substantially different?  Why or why not?"
   ]
  },
  {
   "cell_type": "markdown",
   "metadata": {},
   "source": [
    "### Analysis and explanation goes here"
   ]
  },
  {
   "cell_type": "markdown",
   "metadata": {},
   "source": [
    "10. Prediction on COVID binary classification task with tuned model\n",
    "\n",
    "Now you'll use your tuned classifier to try and predict on the binary COVID19 case.  Please change the model to your tuned model!"
   ]
  },
  {
   "cell_type": "code",
   "execution_count": 159,
   "metadata": {},
   "outputs": [
    {
     "ename": "NameError",
     "evalue": "name 'tuned_model' is not defined",
     "output_type": "error",
     "traceback": [
      "\u001b[1;31m---------------------------------------------------------------------------\u001b[0m",
      "\u001b[1;31mNameError\u001b[0m                                 Traceback (most recent call last)",
      "\u001b[1;32m<ipython-input-159-0df4da026760>\u001b[0m in \u001b[0;36m<module>\u001b[1;34m\u001b[0m\n\u001b[0;32m     58\u001b[0m \u001b[1;31m# height = [YOUR HEIGHT GOES HERE]\u001b[0m\u001b[1;33m\u001b[0m\u001b[1;33m\u001b[0m\u001b[1;33m\u001b[0m\u001b[0m\n\u001b[0;32m     59\u001b[0m \u001b[1;33m\u001b[0m\u001b[0m\n\u001b[1;32m---> 60\u001b[1;33m \u001b[0mcovid_features\u001b[0m\u001b[1;33m,\u001b[0m \u001b[0mcovid_labels\u001b[0m \u001b[1;33m=\u001b[0m \u001b[0mextract_features_covid\u001b[0m\u001b[1;33m(\u001b[0m\u001b[0mtuned_model\u001b[0m\u001b[1;33m,\u001b[0m \u001b[0mwidth\u001b[0m\u001b[1;33m,\u001b[0m \u001b[0mheight\u001b[0m\u001b[1;33m)\u001b[0m\u001b[1;33m\u001b[0m\u001b[1;33m\u001b[0m\u001b[0m\n\u001b[0m\u001b[0;32m     61\u001b[0m \u001b[0mnon_covid_features\u001b[0m\u001b[1;33m,\u001b[0m \u001b[0mnon_covid_labels\u001b[0m \u001b[1;33m=\u001b[0m \u001b[0mextract_features_not_covid\u001b[0m\u001b[1;33m(\u001b[0m\u001b[0mtuned_model\u001b[0m\u001b[1;33m,\u001b[0m \u001b[0mwidth\u001b[0m\u001b[1;33m,\u001b[0m \u001b[0mheight\u001b[0m\u001b[1;33m)\u001b[0m\u001b[1;33m\u001b[0m\u001b[1;33m\u001b[0m\u001b[0m\n\u001b[0;32m     62\u001b[0m \u001b[0mfeatures\u001b[0m \u001b[1;33m=\u001b[0m \u001b[0mcovid_features\u001b[0m \u001b[1;33m+\u001b[0m \u001b[0mnon_covid_features\u001b[0m\u001b[1;33m\u001b[0m\u001b[1;33m\u001b[0m\u001b[0m\n",
      "\u001b[1;31mNameError\u001b[0m: name 'tuned_model' is not defined"
     ]
    }
   ],
   "source": [
    "#prediction code goes here\n",
    "\n",
    "import cv2\n",
    "import numpy as np\n",
    "from sklearn.linear_model import LogisticRegression\n",
    "from sklearn.metrics import classification_report\n",
    "import glob\n",
    "import code\n",
    "\n",
    "def extract_features_covid(model, width, height):\n",
    "    base = \"covid-chestxray-dataset/\"\n",
    "    metadata = pd.read_csv(base+\"metadata.csv\")\n",
    "    labels = []\n",
    "    image_paths = []\n",
    "    for index, row in metadata.iterrows():\n",
    "        if row[\"finding\"] == \"COVID-19\":\n",
    "            labels.append(\"COVID\")\n",
    "            image_paths.append(base+row[\"filename\"])\n",
    "            im = cv2.imread(im_path)\n",
    "            im = cv2.resize(im, (width, height))\n",
    "            features = model.predict(img)\n",
    "            features_np = np.array(features)\n",
    "            feature_list.append(features_np.flatten())\n",
    "\n",
    "    return np.array(feature_list), labels\n",
    "\n",
    "def extract_features_not_covid(model, width, height):\n",
    "    feature_list = []\n",
    "    labels = []\n",
    "    paths = [\n",
    "        \"chest_xray/test/NORMAL/*\",\n",
    "        \"chest_xray/test/PNEUMONIA/*\",\n",
    "        \"chest_xray/train/NORMAL/*\",\n",
    "        \"chest_xray/train/PNEUMONIA/*\"\n",
    "        \n",
    "    ]\n",
    "    for path in paths:\n",
    "        for im_path in glob.glob(path):\n",
    "            if path == \"chest_xray/train/NORMAL/*\":\n",
    "                labels.append(\"CLEAR TRAIN\")\n",
    "            if path == \"chest_xray/test/NORMAL/*\":\n",
    "                labels.append(\"CLEAR TEST\")\n",
    "            if path == \"chest_xray/train/PNEUMONIA/*\":\n",
    "                labels.append(\"PNEUMONIA\")\n",
    "            im = cv2.imread(im_path)\n",
    "            im = cv2.resize(im, (width, height))\n",
    "            features = model.predict(img)\n",
    "            features_np = np.array(features)\n",
    "            feature_list.append(features_np.flatten())\n",
    "\n",
    "    return np.array(feature_list), labels\n",
    "\n",
    "# please make a copy of your tuned model and save it to variable:\n",
    "# tuned_model = [YOUR MODEL NAME GOES HERE]\n",
    "\n",
    "# please specify the width and height you used for the image preprocessing\n",
    "# width = [YOUR WIDTH GOES HERE]\n",
    "# height = [YOUR HEIGHT GOES HERE]\n",
    "\n",
    "covid_features, covid_labels = extract_features_covid(tuned_model, width, height)\n",
    "non_covid_features, non_covid_labels = extract_features_not_covid(tuned_model, width, height)\n",
    "features = covid_features + non_covid_features\n",
    "labels = covid_labels + non_covid_labels\n",
    "X_train = []\n",
    "y_train = []\n",
    "X_test = []\n",
    "y_test = []\n",
    "for index, label in enumerate(labels):\n",
    "    if label == \"CLEAR TRAIN\":\n",
    "        X_train.append(features[index])\n",
    "        y_train.append(0)\n",
    "    if label == \"PNEUMONIA\":\n",
    "        X_train.append(features[index])\n",
    "        y_train.append(1)\n",
    "    if label == \"COVID\":\n",
    "        X_test.append(features[index])\n",
    "        y_test.append(1)\n",
    "    if label == \"CLEAR TEST\":\n",
    "        X_test.append(features[index])\n",
    "        y_test.append(0)\n",
    "\n",
    "logit_clf = LogisticRegression()\n",
    "logit_clf.fit(X_train, y_train)\n",
    "y_pred = logit_clf.predict(X_test)\n",
    "print(classification_report(y_test, y_pred))"
   ]
  },
  {
   "cell_type": "markdown",
   "metadata": {},
   "source": [
    "11. Analyze your results\n",
    "\n",
    "Now that you've seen the results of your tuned model, compare those with the results of the untuned model.  Did things get better? Worse?  Why do you think this may or may not be the case?"
   ]
  },
  {
   "cell_type": "markdown",
   "metadata": {},
   "source": [
    "### Analysis of your results goes here"
   ]
  },
  {
   "cell_type": "code",
   "execution_count": null,
   "metadata": {},
   "outputs": [],
   "source": []
  }
 ],
 "metadata": {
  "kernelspec": {
   "display_name": "Python 3",
   "language": "python",
   "name": "python3"
  },
  "language_info": {
   "codemirror_mode": {
    "name": "ipython",
    "version": 3
   },
   "file_extension": ".py",
   "mimetype": "text/x-python",
   "name": "python",
   "nbconvert_exporter": "python",
   "pygments_lexer": "ipython3",
   "version": "3.6.8"
  }
 },
 "nbformat": 4,
 "nbformat_minor": 2
}
