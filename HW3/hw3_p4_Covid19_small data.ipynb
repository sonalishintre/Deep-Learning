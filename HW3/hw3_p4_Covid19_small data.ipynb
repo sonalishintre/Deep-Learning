{
 "cells": [
  {
   "cell_type": "markdown",
   "metadata": {
    "colab_type": "text",
    "id": "_buaGx-vaTRb"
   },
   "source": [
    "In this assignment we will look at a typical image based machine learning task.\n",
    "\n",
    "## Image classification \n",
    "\n",
    "For this task the whole image is used to classify what's happening.\n",
    "\n",
    "For this specific task, we will be trying to classify COVID-19 using pneumonia x-rays.  Please note, the literature has mostly suggested CT scans are not an effective way of figuring out what type of disease you have.  This exercise is for academic purposes _only_.\n",
    "\n",
    "Steps:\n",
    "\n",
    "\n",
    "1. Download the pneumonia data.  \n",
    "\n",
    "You can find it here:\n",
    "\n",
    "https://www.kaggle.com/paultimothymooney/chest-xray-pneumonia\n",
    "\n",
    "move the folder to this directory and unzip it.  Please don't change any folder names or the below script will not work.  Also make sure the folder is in the same directory as this notebook!\n",
    "\n",
    "2. load the pneumonia data into a dataframe:"
   ]
  },
  {
   "cell_type": "code",
   "execution_count": 1,
   "metadata": {
    "colab": {
     "base_uri": "https://localhost:8080/",
     "height": 124
    },
    "colab_type": "code",
    "id": "KizLWC_YfEGG",
    "outputId": "96b68c16-191d-4fdf-a003-26d194231541"
   },
   "outputs": [
    {
     "name": "stdout",
     "output_type": "stream",
     "text": [
      "Go to this URL in a browser: https://accounts.google.com/o/oauth2/auth?client_id=947318989803-6bn6qk8qdgf4n4g3pfee6491hc0brc4i.apps.googleusercontent.com&redirect_uri=urn%3aietf%3awg%3aoauth%3a2.0%3aoob&response_type=code&scope=email%20https%3a%2f%2fwww.googleapis.com%2fauth%2fdocs.test%20https%3a%2f%2fwww.googleapis.com%2fauth%2fdrive%20https%3a%2f%2fwww.googleapis.com%2fauth%2fdrive.photos.readonly%20https%3a%2f%2fwww.googleapis.com%2fauth%2fpeopleapi.readonly\n",
      "\n",
      "Enter your authorization code:\n",
      "··········\n",
      "Mounted at /content/drive\n"
     ]
    }
   ],
   "source": [
    "from google.colab import drive\n",
    "drive.mount('/content/drive')"
   ]
  },
  {
   "cell_type": "code",
   "execution_count": 0,
   "metadata": {
    "colab": {},
    "colab_type": "code",
    "id": "H1XGsOV_rSux"
   },
   "outputs": [],
   "source": []
  },
  {
   "cell_type": "code",
   "execution_count": 0,
   "metadata": {
    "colab": {},
    "colab_type": "code",
    "id": "-qPLjroLaTRc"
   },
   "outputs": [],
   "source": [
    "import numpy as np\n",
    "import pandas as pd\n",
    "import cv2\n",
    "import os\n",
    "import os.path as op\n",
    "import numpy as np\n",
    "import glob\n",
    "from PIL import Image\n",
    "import matplotlib.pyplot as plt\n",
    "import random\n",
    "import tensorflow as tf\n",
    "import skimage.transform\n",
    "import skimage.color\n",
    "from sklearn.metrics import classification_report\n",
    "from tensorflow.keras.applications import VGG16\n",
    "from tensorflow.keras.layers import Input, Dense, Flatten, Dropout, AveragePooling2D\n",
    "from tensorflow.keras.models import Model\n",
    "from tensorflow import keras\n",
    "from tensorflow.keras.preprocessing.image import ImageDataGenerator\n",
    "from tensorflow.keras.utils import to_categorical\n",
    "from tensorflow.keras.wrappers.scikit_learn import KerasClassifier\n",
    "from sklearn.preprocessing import LabelBinarizer\n",
    "from sklearn.model_selection import train_test_split, StratifiedKFold\n",
    "from sklearn.metrics import classification_report\n",
    "from sklearn.model_selection import GridSearchCV\n",
    "from sklearn.pipeline import Pipeline, FeatureUnion\n",
    "from tensorflow.keras.callbacks import EarlyStopping\n",
    "\n",
    "runtime_lim = True\n",
    "num_sample = 1000\n",
    "if runtime_lim:\n",
    "    import random\n",
    "    random.seed(23)"
   ]
  },
  {
   "cell_type": "code",
   "execution_count": 0,
   "metadata": {
    "colab": {},
    "colab_type": "code",
    "id": "gYTYdnqqaTRl"
   },
   "outputs": [],
   "source": [
    "import glob\n",
    "\n",
    "def load_training_data():\n",
    "    paths = [\n",
    "        \"/content/drive/My Drive/chest_xray/train/NORMAL/*\",\n",
    "        \"/content/drive/My Drive/chest_xray/train/PNEUMONIA/*\"\n",
    "    ]\n",
    "    labels = []\n",
    "    image_paths = []\n",
    "    for path in paths:\n",
    "        for im_path in glob.glob(path):\n",
    "            if path == \"/content/drive/My Drive/chest_xray/train/NORMAL/*\":\n",
    "                labels.append(\"NORMAL\")\n",
    "            if path == \"/content/drive/My Drive/chest_xray/train/PNEUMONIA/*\":\n",
    "                labels.append(\"PNEUMONIA\")\n",
    "            image_paths.append(im_path)\n",
    "    return image_paths, labels\n",
    "\n",
    "def load_testing_data():\n",
    "    paths = [\n",
    "        \"/content/drive/My Drive/chest_xray/test/NORMAL/*\",\n",
    "        \"/content/drive/My Drive/chest_xray/test/PNEUMONIA/*\"\n",
    "    ]\n",
    "    labels = []\n",
    "    image_paths = []\n",
    "    for path in paths:\n",
    "        for im_path in glob.glob(path):\n",
    "            if path == \"/content/drive/My Drive/chest_xray/test/NORMAL/*\":\n",
    "                labels.append(\"NORMAL\")\n",
    "            if path == \"/content/drive/My Drive/chest_xray/test/PNEUMONIA/*\":\n",
    "                labels.append(\"PNEUMONIA\")\n",
    "            image_paths.append(im_path)\n",
    "    return image_paths, labels\n",
    "\n",
    "train_paths, train_labels = load_training_data()\n",
    "test_paths, test_labels = load_training_data()"
   ]
  },
  {
   "cell_type": "code",
   "execution_count": 8,
   "metadata": {
    "colab": {
     "base_uri": "https://localhost:8080/",
     "height": 104
    },
    "colab_type": "code",
    "id": "Xk9Y-W_4aTRq",
    "outputId": "b39ffd23-a6a3-4b88-e8f9-1270d72af458"
   },
   "outputs": [
    {
     "data": {
      "text/plain": [
       "['/content/drive/My Drive/chest_xray/train/NORMAL/IM-0545-0001.jpeg',\n",
       " '/content/drive/My Drive/chest_xray/train/NORMAL/IM-0551-0001-0002.jpeg',\n",
       " '/content/drive/My Drive/chest_xray/train/NORMAL/IM-0539-0001-0001.jpeg',\n",
       " '/content/drive/My Drive/chest_xray/train/NORMAL/IM-0538-0001.jpeg',\n",
       " '/content/drive/My Drive/chest_xray/train/NORMAL/IM-0543-0001-0002.jpeg']"
      ]
     },
     "execution_count": 8,
     "metadata": {
      "tags": []
     },
     "output_type": "execute_result"
    }
   ],
   "source": [
    "train_paths[:5]"
   ]
  },
  {
   "cell_type": "markdown",
   "metadata": {
    "colab_type": "text",
    "id": "_Pc619sOaTRw"
   },
   "source": [
    "3. read the data into memory, I recommend open-cv for this:\n",
    "\n",
    "`python -m pip install opencv-python` \n",
    "\n",
    "if you don't already have it!"
   ]
  },
  {
   "cell_type": "code",
   "execution_count": 0,
   "metadata": {
    "colab": {},
    "colab_type": "code",
    "id": "4dS-EF1lggoB"
   },
   "outputs": [],
   "source": [
    "def preprocess_images(image_path):\n",
    "    img = cv2.imread(image_path)\n",
    "    img = cv2.resize(img, (img_size, img_size))\n",
    "    img = cv2.cvtColor(img, cv2.COLOR_BGR2RGB) \n",
    "    img = np.array(img)/255.0\n",
    "    return img"
   ]
  },
  {
   "cell_type": "code",
   "execution_count": 0,
   "metadata": {
    "colab": {},
    "colab_type": "code",
    "id": "tSH2Lr-agkGy"
   },
   "outputs": [],
   "source": [
    "def load_images(image_paths):\n",
    "    images = []\n",
    "    for image_path in image_paths:\n",
    "        image = preprocess_images(image_path)\n",
    "        images.append(image)\n",
    "    return np.stack(np.array(images), 0)"
   ]
  },
  {
   "cell_type": "code",
   "execution_count": 0,
   "metadata": {
    "colab": {},
    "colab_type": "code",
    "id": "wIs2LZtPaTR5"
   },
   "outputs": [],
   "source": [
    "#load train images\n",
    "train_images = load_images(train_paths)\n",
    "#load test images\n",
    "test_images = load_images(test_paths)"
   ]
  },
  {
   "cell_type": "markdown",
   "metadata": {
    "colab_type": "text",
    "id": "qs4auvWMaTSC"
   },
   "source": [
    "4. resize the images to a standard size - \n",
    "\n",
    "Note: it ought to be a box.  So the width and height should be the same size."
   ]
  },
  {
   "cell_type": "code",
   "execution_count": 0,
   "metadata": {
    "colab": {},
    "colab_type": "code",
    "id": "QDm2OvW7aTSF"
   },
   "outputs": [],
   "source": [
    "def resize_images(images):\n",
    "    resizedimages = []\n",
    "    for img in images:\n",
    "        img = cv2.resize(img,(100,100), interpolation = cv2.INTER_LINEAR)\n",
    "        resizedimages.append(img)\n",
    "    return resizedimages"
   ]
  },
  {
   "cell_type": "code",
   "execution_count": 0,
   "metadata": {
    "colab": {},
    "colab_type": "code",
    "id": "eoF0w0tGaTSK"
   },
   "outputs": [],
   "source": [
    "train_images = resize_images(train_images)\n",
    "test_images = resize_images(test_images)"
   ]
  },
  {
   "cell_type": "code",
   "execution_count": 0,
   "metadata": {
    "colab": {},
    "colab_type": "code",
    "id": "Lxw9YC0raTSO",
    "outputId": "e6d27e3c-8ee5-4f61-a0be-f94b50641828"
   },
   "outputs": [
    {
     "data": {
      "text/plain": [
       "(100, 100, 3)"
      ]
     },
     "execution_count": 88,
     "metadata": {
      "tags": []
     },
     "output_type": "execute_result"
    }
   ],
   "source": [
    "train_images[0].shape"
   ]
  },
  {
   "cell_type": "markdown",
   "metadata": {
    "colab_type": "text",
    "id": "eFYgXGTJaTSS"
   },
   "source": [
    "5. Greyscale the images"
   ]
  },
  {
   "cell_type": "code",
   "execution_count": 0,
   "metadata": {
    "colab": {},
    "colab_type": "code",
    "id": "rv2lUJtBaTST"
   },
   "outputs": [],
   "source": [
    "def greyscale_images(images):\n",
    "    grayimages=[]\n",
    "    for img in images:\n",
    "        img = cv2.cvtColor(img, cv2.COLOR_BGR2GRAY)\n",
    "        grayimages.append(img)\n",
    "    return grayimages"
   ]
  },
  {
   "cell_type": "code",
   "execution_count": 0,
   "metadata": {
    "colab": {},
    "colab_type": "code",
    "id": "XA6tTpsBaTSa"
   },
   "outputs": [],
   "source": [
    "train_images = greyscale_images(train_images)\n",
    "test_images = greyscale_images(test_images)"
   ]
  },
  {
   "cell_type": "code",
   "execution_count": 0,
   "metadata": {
    "colab": {},
    "colab_type": "code",
    "id": "TyPLxnFcaTSe",
    "outputId": "7fa72fcb-da8d-4436-f172-0f204c5abd53"
   },
   "outputs": [
    {
     "data": {
      "text/plain": [
       "<matplotlib.image.AxesImage at 0x2225b40e588>"
      ]
     },
     "execution_count": 18,
     "metadata": {
      "tags": []
     },
     "output_type": "execute_result"
    },
    {
     "data": {
      "image/png": "[encoded data removed]",
      "text/plain": [
       "<Figure size 432x288 with 1 Axes>"
      ]
     },
     "metadata": {
      "needs_background": "light",
      "tags": []
     },
     "output_type": "display_data"
    }
   ],
   "source": [
    "%matplotlib inline\n",
    "import matplotlib.pyplot as plt\n",
    "plt.imshow(train_images[0])"
   ]
  },
  {
   "cell_type": "code",
   "execution_count": 0,
   "metadata": {
    "colab": {},
    "colab_type": "code",
    "id": "-VP-yTKeaTSo"
   },
   "outputs": [],
   "source": [
    "train_labels_np = np.array(train_labels)\n",
    "test_labels_np = np.array(test_labels)"
   ]
  },
  {
   "cell_type": "markdown",
   "metadata": {
    "colab_type": "text",
    "id": "eTphF3VDaTSs"
   },
   "source": [
    "6. prepare the data for training the model.\n",
    "\n",
    "For this you'll need to transform the test and train image objects into a numpy array."
   ]
  },
  {
   "cell_type": "code",
   "execution_count": 0,
   "metadata": {
    "colab": {},
    "colab_type": "code",
    "id": "l-K8EL8MaTSt"
   },
   "outputs": [],
   "source": [
    "def features_to_np_array(image_paths, shape):\n",
    "    height, width, channels = shape\n",
    "    array = np.zeros((len(image_paths), height, width, channels))\n",
    "    for i, path in enumerate(image_paths):\n",
    "        im = Image.open(path)\n",
    "        as_array = np.asarray(im)\n",
    "        if len(as_array.shape) == 2: \n",
    "            as_array = skimage.color.gray2rgb(as_array)\n",
    "        resized = skimage.transform.resize(as_array, shape)\n",
    "        array[i,:,:] = resized\n",
    "        if (i + 1) % 2000 == 0:\n",
    "            print(f'{i+1} images loaded')\n",
    "            i= i+1\n",
    "    return array"
   ]
  },
  {
   "cell_type": "markdown",
   "metadata": {
    "colab_type": "text",
    "id": "tc9xVTS1aTSy"
   },
   "source": [
    "Next you'll need to do the same for the labels:\n",
    "\n",
    "Note: You'll need to apply the `to_categorical` function after transforming to a numpy array"
   ]
  },
  {
   "cell_type": "code",
   "execution_count": 13,
   "metadata": {
    "colab": {
     "base_uri": "https://localhost:8080/",
     "height": 35
    },
    "colab_type": "code",
    "id": "_I-OIylnaTS6",
    "outputId": "0e967282-3c32-4683-d46e-18057373f116"
   },
   "outputs": [
    {
     "data": {
      "text/plain": [
       "{'NORMAL': 0, 'PNEUMONIA': 1}"
      ]
     },
     "execution_count": 13,
     "metadata": {
      "tags": []
     },
     "output_type": "execute_result"
    }
   ],
   "source": [
    "label_type = { label: i for i, label in enumerate(set(train_labels)) }\n",
    "label_type"
   ]
  },
  {
   "cell_type": "code",
   "execution_count": 0,
   "metadata": {
    "colab": {},
    "colab_type": "code",
    "id": "Ly7glSmpaTTE"
   },
   "outputs": [],
   "source": [
    "image_shape = (100, 100, 3)\n",
    "#X_value = features_to_np_array(train_paths, image_shape)\n",
    "#Y_value = labels_to_np_array(train_labels, label_type)"
   ]
  },
  {
   "cell_type": "code",
   "execution_count": 0,
   "metadata": {
    "colab": {},
    "colab_type": "code",
    "id": "j5efmvs_aTS-"
   },
   "outputs": [],
   "source": [
    "def labels_to_np_array(labels):\n",
    "    lb = LabelBinarizer()\n",
    "    labels = lb.fit_transform(labels)\n",
    "    labels = to_categorical(labels)\n",
    "    return labels\n",
    "\n",
    "train_labels = labels_to_np_array(train_labels)\n",
    "test_labels = labels_to_np_array(test_labels)"
   ]
  },
  {
   "cell_type": "markdown",
   "metadata": {
    "colab_type": "text",
    "id": "-sQImGI-aTTJ"
   },
   "source": [
    "7. Seperate into train and test with `train_test_split` from scikit-learn"
   ]
  },
  {
   "cell_type": "code",
   "execution_count": 15,
   "metadata": {
    "colab": {
     "base_uri": "https://localhost:8080/",
     "height": 52
    },
    "colab_type": "code",
    "id": "geB3BnKlmfWl",
    "outputId": "bc924337-3413-4f68-8fda-aa4cffd07484"
   },
   "outputs": [
    {
     "name": "stdout",
     "output_type": "stream",
     "text": [
      "(1000, 100, 100, 3)\n"
     ]
    },
    {
     "data": {
      "text/plain": [
       "(1000, 2)"
      ]
     },
     "execution_count": 15,
     "metadata": {
      "tags": []
     },
     "output_type": "execute_result"
    }
   ],
   "source": [
    "train_images1 = train_images[:1000]\n",
    "train_labels1 = train_labels[:1000]\n",
    "print(train_images1.shape)\n",
    "train_labels1.shape"
   ]
  },
  {
   "cell_type": "code",
   "execution_count": 0,
   "metadata": {
    "colab": {},
    "colab_type": "code",
    "id": "D_FR_MjmaTTK"
   },
   "outputs": [],
   "source": [
    "1# train test split code goes here\n",
    "from sklearn.model_selection import train_test_split\n",
    "\n",
    "#X_train, X_test, Y_train, Y_test = train_test_split(X_value, Y_value, test_size=0.33, random_state=42)\n",
    "(X_train, X_test, Y_train, Y_test) = train_test_split(train_images1, train_labels1, test_size=0.33, stratify=train_labels1)"
   ]
  },
  {
   "cell_type": "code",
   "execution_count": 139,
   "metadata": {
    "colab": {
     "base_uri": "https://localhost:8080/",
     "height": 285
    },
    "colab_type": "code",
    "id": "eUfbqMjoaTTO",
    "outputId": "1fa47a7d-019e-45b6-f27e-668ac1d31e99"
   },
   "outputs": [
    {
     "data": {
      "text/plain": [
       "<matplotlib.image.AxesImage at 0x7f346acf7208>"
      ]
     },
     "execution_count": 139,
     "metadata": {
      "tags": []
     },
     "output_type": "execute_result"
    },
    {
     "data": {
      "image/png": "[encoded data removed]",
      "text/plain": [
       "<Figure size 432x288 with 1 Axes>"
      ]
     },
     "metadata": {
      "needs_background": "light",
      "tags": []
     },
     "output_type": "display_data"
    }
   ],
   "source": [
    "plt.imshow(X_train[0])"
   ]
  },
  {
   "cell_type": "markdown",
   "metadata": {
    "colab_type": "text",
    "id": "nqYhYwslaTTR"
   },
   "source": [
    "8. Make the last four layers of VGG16 with imagenet weights trainable and then retrain the model.\n",
    "\n",
    "To understand how to do this, please see the following tutorial:\n",
    "\n",
    "https://www.learnopencv.com/keras-tutorial-fine-tuning-using-pre-trained-models/"
   ]
  },
  {
   "cell_type": "code",
   "execution_count": 17,
   "metadata": {
    "colab": {
     "base_uri": "https://localhost:8080/",
     "height": 52
    },
    "colab_type": "code",
    "id": "51rhxfrYaTTT",
    "outputId": "913dc805-b04a-4938-d1dc-65a150c17a5d"
   },
   "outputs": [
    {
     "name": "stdout",
     "output_type": "stream",
     "text": [
      "Downloading data from https://storage.googleapis.com/tensorflow/keras-applications/vgg16/vgg16_weights_tf_dim_ordering_tf_kernels_notop.h5\n",
      "58892288/58889256 [==============================] - 1s 0us/step\n"
     ]
    }
   ],
   "source": [
    "# your model and training code goes here\n",
    "image_shape = (100, 100, 3)\n",
    "from tensorflow.keras.applications import VGG16\n",
    "from tensorflow.python.framework import ops\n",
    "ops.reset_default_graph()\n",
    "#Load the VGG model\n",
    "vgg_conv = VGG16(weights='imagenet', include_top=False, input_shape =image_shape )"
   ]
  },
  {
   "cell_type": "code",
   "execution_count": 18,
   "metadata": {
    "colab": {
     "base_uri": "https://localhost:8080/",
     "height": 347
    },
    "colab_type": "code",
    "id": "RJo8U4SdaTTX",
    "outputId": "6ee00f56-440c-452b-f411-2886cd05da35"
   },
   "outputs": [
    {
     "name": "stdout",
     "output_type": "stream",
     "text": [
      "<tensorflow.python.keras.engine.input_layer.InputLayer object at 0x7f62a9fd2940> False\n",
      "<tensorflow.python.keras.layers.convolutional.Conv2D object at 0x7f62aa0a6e48> False\n",
      "<tensorflow.python.keras.layers.convolutional.Conv2D object at 0x7f62a9f68128> False\n",
      "<tensorflow.python.keras.layers.pooling.MaxPooling2D object at 0x7f62a9e297b8> False\n",
      "<tensorflow.python.keras.layers.convolutional.Conv2D object at 0x7f62a9e29630> False\n",
      "<tensorflow.python.keras.layers.convolutional.Conv2D object at 0x7f62a9e37978> False\n",
      "<tensorflow.python.keras.layers.pooling.MaxPooling2D object at 0x7f62a9e40b38> False\n",
      "<tensorflow.python.keras.layers.convolutional.Conv2D object at 0x7f62a9e409b0> False\n",
      "<tensorflow.python.keras.layers.convolutional.Conv2D object at 0x7f62a9e48cf8> False\n",
      "<tensorflow.python.keras.layers.convolutional.Conv2D object at 0x7f62a9e50438> False\n",
      "<tensorflow.python.keras.layers.pooling.MaxPooling2D object at 0x7f62a9e51358> False\n",
      "<tensorflow.python.keras.layers.convolutional.Conv2D object at 0x7f62a9e5dbe0> False\n",
      "<tensorflow.python.keras.layers.convolutional.Conv2D object at 0x7f62a9e5df60> False\n",
      "<tensorflow.python.keras.layers.convolutional.Conv2D object at 0x7f62a9e63518> False\n",
      "<tensorflow.python.keras.layers.pooling.MaxPooling2D object at 0x7f62a9e66438> False\n",
      "<tensorflow.python.keras.layers.convolutional.Conv2D object at 0x7f62a9e72b00> True\n",
      "<tensorflow.python.keras.layers.convolutional.Conv2D object at 0x7f62a9e7a160> True\n",
      "<tensorflow.python.keras.layers.convolutional.Conv2D object at 0x7f62a9e7f400> True\n",
      "<tensorflow.python.keras.layers.pooling.MaxPooling2D object at 0x7f62a9e7f8d0> True\n"
     ]
    }
   ],
   "source": [
    "#Freeze the layers except the last 4 layers\n",
    "for layer in vgg_conv.layers[:-4]:\n",
    "    layer.trainable = False\n",
    "\n",
    "for layer in vgg_conv.layers:\n",
    "    print(layer, layer.trainable)"
   ]
  },
  {
   "cell_type": "code",
   "execution_count": 19,
   "metadata": {
    "colab": {
     "base_uri": "https://localhost:8080/",
     "height": 329
    },
    "colab_type": "code",
    "id": "cTv4_1mOaTTb",
    "outputId": "bfbe4e9f-8497-4bca-974a-ae5bac17fac9"
   },
   "outputs": [
    {
     "name": "stdout",
     "output_type": "stream",
     "text": [
      "Model: \"sequential\"\n",
      "_________________________________________________________________\n",
      "Layer (type)                 Output Shape              Param #   \n",
      "=================================================================\n",
      "vgg16 (Model)                (None, 3, 3, 512)         14714688  \n",
      "_________________________________________________________________\n",
      "flatten (Flatten)            (None, 4608)              0         \n",
      "_________________________________________________________________\n",
      "dense (Dense)                (None, 1024)              4719616   \n",
      "_________________________________________________________________\n",
      "dropout (Dropout)            (None, 1024)              0         \n",
      "_________________________________________________________________\n",
      "dense_1 (Dense)              (None, 2)                 2050      \n",
      "=================================================================\n",
      "Total params: 19,436,354\n",
      "Trainable params: 11,801,090\n",
      "Non-trainable params: 7,635,264\n",
      "_________________________________________________________________\n"
     ]
    }
   ],
   "source": [
    "from tensorflow.keras import models,layers,optimizers\n",
    "\n",
    "model = models.Sequential()\n",
    "model.add(vgg_conv)\n",
    " \n",
    "model.add(layers.Flatten())\n",
    "model.add(layers.Dense(1024, activation='relu'))\n",
    "model.add(layers.Dropout(0.5))\n",
    "model.add(layers.Dense(2, activation='softmax'))\n",
    "model.summary()\n",
    "\n"
   ]
  },
  {
   "cell_type": "code",
   "execution_count": 20,
   "metadata": {
    "colab": {
     "base_uri": "https://localhost:8080/",
     "height": 208
    },
    "colab_type": "code",
    "id": "jvtoCjnWaTTf",
    "outputId": "964d6bf1-697b-403c-858c-8c5f586269a4"
   },
   "outputs": [
    {
     "name": "stdout",
     "output_type": "stream",
     "text": [
      "Epoch 1/5\n",
      "5/5 [==============================] - 61s 12s/step - loss: 0.1026 - acc: 0.9590 - val_loss: 0.0000e+00 - val_acc: 1.0000\n",
      "Epoch 2/5\n",
      "5/5 [==============================] - 61s 12s/step - loss: 0.0000e+00 - acc: 1.0000 - val_loss: 0.0000e+00 - val_acc: 1.0000\n",
      "Epoch 3/5\n",
      "5/5 [==============================] - 61s 12s/step - loss: 0.0000e+00 - acc: 1.0000 - val_loss: 0.0000e+00 - val_acc: 1.0000\n",
      "Epoch 4/5\n",
      "5/5 [==============================] - 63s 13s/step - loss: 0.0000e+00 - acc: 1.0000 - val_loss: 0.0000e+00 - val_acc: 1.0000\n",
      "Epoch 5/5\n",
      "5/5 [==============================] - 62s 12s/step - loss: 0.0000e+00 - acc: 1.0000 - val_loss: 0.0000e+00 - val_acc: 1.0000\n"
     ]
    },
    {
     "data": {
      "text/plain": [
       "<tensorflow.python.keras.callbacks.History at 0x7f62a37bca58>"
      ]
     },
     "execution_count": 20,
     "metadata": {
      "tags": []
     },
     "output_type": "execute_result"
    }
   ],
   "source": [
    "#model.compile(loss='sparse_categorical_crossentropy',optimizer=optimizers.RMSprop(lr=1e-4),metrics=['acc'])\n",
    "opt = \"adam\"\n",
    "model.compile(loss='binary_crossentropy',\n",
    "              optimizer='adam',\n",
    "              metrics=['acc'])\n",
    "model.fit(X_train, Y_train, epochs= 5, batch_size= 128, validation_split=0.2)"
   ]
  },
  {
   "cell_type": "code",
   "execution_count": 0,
   "metadata": {
    "colab": {},
    "colab_type": "code",
    "id": "2KbYppQrpV4n"
   },
   "outputs": [],
   "source": [
    "MainModel = vgg_conv.output\n",
    "MainModel = AveragePooling2D(pool_size=(3, 3))(MainModel)\n",
    "MainModel = Flatten(name=\"flatten\")(MainModel)\n",
    "MainModel = Dense(64, activation=\"relu\")(MainModel)\n",
    "MainModel = Dropout(0.5)(MainModel)\n",
    "MainModel = Dense(2, activation=\"softmax\")(MainModel)\n",
    "\n",
    "model = Model(inputs=vgg_conv.input, outputs=MainModel)\n",
    "\n",
    "model.compile(optimizer='adam',\n",
    "              loss='categorical_crossentropy',\n",
    "              metrics=['accuracy'])"
   ]
  },
  {
   "cell_type": "code",
   "execution_count": 48,
   "metadata": {
    "colab": {
     "base_uri": "https://localhost:8080/",
     "height": 35
    },
    "colab_type": "code",
    "id": "BTtMAZE5p2-C",
    "outputId": "6c4943f7-928a-477a-da50-e1baef6cdc5b"
   },
   "outputs": [
    {
     "data": {
      "text/plain": [
       "<tensorflow.python.keras.callbacks.History at 0x7f62995e10f0>"
      ]
     },
     "execution_count": 48,
     "metadata": {
      "tags": []
     },
     "output_type": "execute_result"
    }
   ],
   "source": [
    "model.fit(X_train[:20], Y_train[:20], validation_split=0.2, epochs=5, batch_size=5, verbose=0)\n"
   ]
  },
  {
   "cell_type": "markdown",
   "metadata": {
    "colab_type": "text",
    "id": "hxRapeO_aTTj"
   },
   "source": [
    "8. Check your score with classification_report from scikit-learn\n",
    "\n",
    "Now that you've trained your model, call `model.predict` to get the predicted values for classification.  \n",
    "Then compare your predicted values with y_test"
   ]
  },
  {
   "cell_type": "code",
   "execution_count": 49,
   "metadata": {
    "colab": {
     "base_uri": "https://localhost:8080/",
     "height": 280
    },
    "colab_type": "code",
    "id": "zMRP6XEfaTTk",
    "outputId": "ccfbf0ff-bd2e-41c6-adb5-0868f98bed4b"
   },
   "outputs": [
    {
     "name": "stdout",
     "output_type": "stream",
     "text": [
      "              precision    recall  f1-score   support\n",
      "\n",
      "           0       1.00      1.00      1.00       330\n",
      "           1       0.00      0.00      0.00         0\n",
      "\n",
      "   micro avg       1.00      1.00      1.00       330\n",
      "   macro avg       0.50      0.50      0.50       330\n",
      "weighted avg       1.00      1.00      1.00       330\n",
      " samples avg       1.00      1.00      1.00       330\n",
      "\n"
     ]
    },
    {
     "name": "stderr",
     "output_type": "stream",
     "text": [
      "/usr/local/lib/python3.6/dist-packages/sklearn/metrics/_classification.py:1272: UndefinedMetricWarning: Precision and F-score are ill-defined and being set to 0.0 in labels with no predicted samples. Use `zero_division` parameter to control this behavior.\n",
      "  _warn_prf(average, modifier, msg_start, len(result))\n",
      "/usr/local/lib/python3.6/dist-packages/sklearn/metrics/_classification.py:1272: UndefinedMetricWarning: Recall and F-score are ill-defined and being set to 0.0 in labels with no true samples. Use `zero_division` parameter to control this behavior.\n",
      "  _warn_prf(average, modifier, msg_start, len(result))\n"
     ]
    }
   ],
   "source": [
    "y_pred = model.predict(X_test)\n",
    "print(classification_report(Y_test, y_pred))"
   ]
  },
  {
   "cell_type": "markdown",
   "metadata": {
    "colab_type": "text",
    "id": "DKnsLnhBaTTn"
   },
   "source": [
    "9. Data augmentation\n",
    "\n",
    "Now that you have a classifier, let's see if data augmentation improves things!  \n",
    "\n",
    "You can use the `ImageDataGenerator` that comes with keras.  Here's how to import it:\n",
    "\n",
    "`from tensorflow.keras.preprocessing.image import ImageDataGenerator`\n",
    "\n",
    "Here's the documentation: https://keras.io/preprocessing/image/\n",
    "\n",
    "Here's an example of it getting used in the wild, in case you get stuck:\n",
    "\n",
    "https://www.pyimagesearch.com/2020/03/16/detecting-covid-19-in-x-ray-images-with-keras-tensorflow-and-deep-learning/"
   ]
  },
  {
   "cell_type": "code",
   "execution_count": 0,
   "metadata": {
    "colab": {},
    "colab_type": "code",
    "id": "vaDIILEeb5MU"
   },
   "outputs": [],
   "source": [
    "#augment your data here\n",
    "from tensorflow.keras.preprocessing.image import ImageDataGenerator\n",
    "\n",
    "augDataGen = ImageDataGenerator(rotation_range=20,fill_mode='nearest')\n",
    "train_batchsize = 100\n",
    "val_batchsize = 10\n",
    "\n",
    "\n",
    "trainGen = augDataGen.flow(X_train, Y_train, batch_size=128)"
   ]
  },
  {
   "cell_type": "markdown",
   "metadata": {
    "colab_type": "text",
    "id": "HQShGo4BaTTs"
   },
   "source": [
    "10. retrain your classifier\n",
    "\n",
    "Now that you have augmented training data, please retrain your classifier.  The code should basically be the same."
   ]
  },
  {
   "cell_type": "code",
   "execution_count": 51,
   "metadata": {
    "colab": {
     "base_uri": "https://localhost:8080/",
     "height": 280
    },
    "colab_type": "code",
    "id": "Q5tfWBOJb4ga",
    "outputId": "653745e2-437a-43c7-90fc-52c352bd7fa9"
   },
   "outputs": [
    {
     "name": "stdout",
     "output_type": "stream",
     "text": [
      "WARNING:tensorflow:From <ipython-input-51-6febad19501a>:24: Model.fit_generator (from tensorflow.python.keras.engine.training) is deprecated and will be removed in a future version.\n",
      "Instructions for updating:\n",
      "Please use Model.fit, which supports generators.\n",
      "Epoch 1/5\n",
      "6/5 [==================================] - 97s 16s/step - loss: 0.0876 - acc: 0.9896 - val_loss: 0.0000e+00 - val_acc: 1.0000\n",
      "Epoch 2/5\n",
      "6/5 [==================================] - 96s 16s/step - loss: 0.0000e+00 - acc: 1.0000 - val_loss: 0.0000e+00 - val_acc: 1.0000\n",
      "Epoch 3/5\n",
      "6/5 [==================================] - 97s 16s/step - loss: 0.0000e+00 - acc: 1.0000 - val_loss: 0.0000e+00 - val_acc: 1.0000\n",
      "Epoch 4/5\n",
      "6/5 [==================================] - 96s 16s/step - loss: 0.0000e+00 - acc: 1.0000 - val_loss: 0.0000e+00 - val_acc: 1.0000\n",
      "Epoch 5/5\n",
      "6/5 [==================================] - 96s 16s/step - loss: 0.0000e+00 - acc: 1.0000 - val_loss: 0.0000e+00 - val_acc: 1.0000\n"
     ]
    },
    {
     "data": {
      "text/plain": [
       "<tensorflow.python.keras.callbacks.History at 0x7f6297c9c550>"
      ]
     },
     "execution_count": 51,
     "metadata": {
      "tags": []
     },
     "output_type": "execute_result"
    }
   ],
   "source": [
    "# Create the model\n",
    "augmented_model = models.Sequential()\n",
    "\n",
    "# new training code goes here\n",
    "augmented_model.add(vgg_conv)\n",
    "augmented_model.add(layers.Flatten())\n",
    "augmented_model.add(layers.Dense(64, activation='relu'))\n",
    "augmented_model.add(layers.Dropout(0.5))\n",
    "augmented_model.add(layers.Dense(2, activation='softmax'))\n",
    "augmented_model.compile(loss='binary_crossentropy',optimizer='adam',metrics=['acc'])\n",
    "augmented_model.fit_generator(trainGen, steps_per_epoch=len(X_train)/128, validation_data=(X_test, Y_test), validation_steps=len(X_test)/128,epochs=5)"
   ]
  },
  {
   "cell_type": "markdown",
   "metadata": {
    "colab_type": "text",
    "id": "i5WmDNgvaTT6"
   },
   "source": [
    "11. re-evaluate your classifier\n",
    "\n",
    "Now that you've augmented the data, please re-evaluate your classifer.  Use classification report like before."
   ]
  },
  {
   "cell_type": "code",
   "execution_count": 0,
   "metadata": {
    "colab": {},
    "colab_type": "code",
    "id": "Pp2CnbUeb3os"
   },
   "outputs": [],
   "source": [
    "print(classification_report(Y_test, y_pred))"
   ]
  },
  {
   "cell_type": "markdown",
   "metadata": {
    "colab_type": "text",
    "id": "r-xhiu40aTT_"
   },
   "source": [
    "12. Evaluate the difference with data augmentation and without:\n",
    "\n",
    "Did things improve?  Did they stay the same?  Did they get worse?  Please try to come up with an explanation of why you got the results you did."
   ]
  },
  {
   "cell_type": "markdown",
   "metadata": {
    "colab_type": "text",
    "id": "tTA7_hjTaTT_"
   },
   "source": [
    "* Yes thing improved using data agumentation improvement in the precision and recall after doing data agumentation \n",
    "* Result without data  augmentation acc was 96% but the model was overfitting due to small no of images\n",
    "* with data augmentation acc was less compares to previous model "
   ]
  },
  {
   "cell_type": "markdown",
   "metadata": {
    "colab_type": "text",
    "id": "vgdq3PWpaTUA"
   },
   "source": [
    "### Explanation of results go here"
   ]
  },
  {
   "cell_type": "markdown",
   "metadata": {
    "colab_type": "text",
    "id": "LFwbY0FeaTUB"
   },
   "source": [
    "13. Getting COVID19 data\n",
    "\n",
    "Now that you have a trained classifier with pneumonia, we are going to use this with COVID data.  \n",
    "\n",
    "Clone this repo:\n",
    "\n",
    "https://github.com/ieee8023/covid-chestxray-dataset\n",
    "\n",
    "use the clone command: `git clone [REPO]`\n",
    "\n",
    "to get the data locally.  \n",
    "\n",
    "Make sure to run this command in the same folder as this jupyter notebook."
   ]
  },
  {
   "cell_type": "markdown",
   "metadata": {
    "colab_type": "text",
    "id": "sH_xqOf5aTUC"
   },
   "source": [
    "14. Read the data into memory\n",
    "\n",
    "The set up for this data repository is a little different.  Please use the following code to read the data into memory:"
   ]
  },
  {
   "cell_type": "code",
   "execution_count": 0,
   "metadata": {
    "colab": {},
    "colab_type": "code",
    "id": "il1CwqL3aTUD"
   },
   "outputs": [],
   "source": [
    "import pandas as pd\n",
    "\n",
    "def get_covid19():\n",
    "    base = \"/content/drive/My Drive/covid-chestxray-dataset/\"\n",
    "    metadata = pd.read_csv(base+\"metadata.csv\")\n",
    "    #metadata = pd.readd_csv(\"/content/drive/My Drive/covid-chestxray-dataset/metadata.csv\")\n",
    "    labels = []\n",
    "    image_paths = []\n",
    "    for index, row in metadata.iterrows():\n",
    "        labels.append(row[\"finding\"])\n",
    "        image_paths.append(base+row[\"filename\"])\n",
    "    return labels, image_paths\n",
    "\n",
    "labels, covid_image_paths = get_covid19()\n"
   ]
  },
  {
   "cell_type": "code",
   "execution_count": 0,
   "metadata": {
    "colab": {},
    "colab_type": "code",
    "id": "KlioCJZHaTUG"
   },
   "outputs": [],
   "source": [
    "#covid_image_paths\n",
    "label_list = []\n",
    "image_path_list = []\n",
    "for (label, image_path) in zip(labels, covid_image_paths):\n",
    "    if (label == 'COVID-19') or (label == 'No Finding'):\n",
    "        label_list.append(label)\n",
    "        image_path_list.append(image_path)\n"
   ]
  },
  {
   "cell_type": "markdown",
   "metadata": {
    "colab_type": "text",
    "id": "5wzDmDwoaTUK"
   },
   "source": [
    "15. preprocess images\n",
    "\n",
    "you'll need to run the following functions on this data:\n",
    "\n",
    "1. load_images\n",
    "2. resize_images\n",
    "3. greyscale_images\n",
    "4. features_to_np_array\n",
    "5. labels_to_np_array\n",
    "\n",
    "Make sure to run each of those functions in order!"
   ]
  },
  {
   "cell_type": "code",
   "execution_count": 0,
   "metadata": {
    "colab": {},
    "colab_type": "code",
    "id": "KElB5cbLdRsf"
   },
   "outputs": [],
   "source": [
    "def load_images(image_paths):\n",
    "    images = []\n",
    "    for image_path in image_paths:\n",
    "        image = preprocess_images(image_path)\n",
    "        images.append(image)\n",
    "    return np.stack(np.array(images), 0)"
   ]
  },
  {
   "cell_type": "code",
   "execution_count": 0,
   "metadata": {
    "colab": {},
    "colab_type": "code",
    "id": "aRHhJFJxaTUL"
   },
   "outputs": [],
   "source": [
    "img_size =100\n",
    "def preprocess_images(image_path):\n",
    "    img = cv2.imread(image_path)\n",
    "    img = cv2.resize(img, (img_size, img_size))\n",
    "    img = cv2.cvtColor(img, cv2.COLOR_BGR2RGB) \n",
    "    img = np.array(img)/255.0\n",
    "    return img\n"
   ]
  },
  {
   "cell_type": "code",
   "execution_count": 0,
   "metadata": {
    "colab": {},
    "colab_type": "code",
    "id": "EBLG3VvVaTUb",
    "outputId": "8488742b-c6dd-4103-a415-c1debbbd9359"
   },
   "outputs": [
    {
     "data": {
      "text/plain": [
       "{'Streptococcus': 0,\n",
       " 'COVID-19, ARDS': 1,\n",
       " 'ARDS': 2,\n",
       " 'Legionella': 3,\n",
       " 'SARS': 4,\n",
       " 'No Finding': 5,\n",
       " 'Chlamydophila': 6,\n",
       " 'Pneumocystis': 7,\n",
       " 'Klebsiella': 8,\n",
       " 'COVID-19': 9,\n",
       " 'E.Coli': 10}"
      ]
     },
     "execution_count": 103,
     "metadata": {
      "tags": []
     },
     "output_type": "execute_result"
    }
   ],
   "source": [
    "categorical = { label: i for i, label in enumerate(set(labels)) }\n",
    "categorical"
   ]
  },
  {
   "cell_type": "code",
   "execution_count": 0,
   "metadata": {
    "colab": {},
    "colab_type": "code",
    "id": "P1VofmxbaTUg"
   },
   "outputs": [],
   "source": [
    "def labels_to_np_array(labels, mapping):\n",
    "    return np.array([mapping[label] for label in labels])"
   ]
  },
  {
   "cell_type": "code",
   "execution_count": 0,
   "metadata": {
    "colab": {},
    "colab_type": "code",
    "id": "1uTr3nbWaTUj",
    "outputId": "9ac88bd3-fc73-40a0-af0a-a1fbd1b20dd4"
   },
   "outputs": [
    {
     "data": {
      "text/plain": [
       "['covid-chestxray-dataset/images/auntminnie-a-2020_01_28_23_51_6665_2020_01_28_Vietnam_coronavirus.jpeg',\n",
       " 'covid-chestxray-dataset/images/auntminnie-b-2020_01_28_23_51_6665_2020_01_28_Vietnam_coronavirus.jpeg',\n",
       " 'covid-chestxray-dataset/images/auntminnie-c-2020_01_28_23_51_6665_2020_01_28_Vietnam_coronavirus.jpeg',\n",
       " 'covid-chestxray-dataset/images/auntminnie-d-2020_01_28_23_51_6665_2020_01_28_Vietnam_coronavirus.jpeg',\n",
       " 'covid-chestxray-dataset/images/nejmc2001573_f1a.jpeg',\n",
       " 'covid-chestxray-dataset/images/nejmc2001573_f1b.jpeg',\n",
       " 'covid-chestxray-dataset/images/ARDSSevere.png',\n",
       " 'covid-chestxray-dataset/images/lancet-case2a.jpg',\n",
       " 'covid-chestxray-dataset/images/lancet-case2b.jpg',\n",
       " 'covid-chestxray-dataset/images/SARS-10.1148rg.242035193-g04mr34g0-Fig8a-day0.jpeg']"
      ]
     },
     "execution_count": 108,
     "metadata": {
      "tags": []
     },
     "output_type": "execute_result"
    }
   ],
   "source": [
    "covid_image_paths[:10]"
   ]
  },
  {
   "cell_type": "markdown",
   "metadata": {
    "colab_type": "text",
    "id": "jv9SxKP2aTUm"
   },
   "source": [
    "16. Strip out labels other than 'No Finding' and 'COVID-19' from the dataset\n",
    "\n",
    "There are two straight forward ways to do this:\n",
    "\n",
    "1) use a for-loop and keep track of indices\n",
    "\n",
    "2) read labels and features into a dataframe and then filter to those two label types.  Your choice!"
   ]
  },
  {
   "cell_type": "code",
   "execution_count": 0,
   "metadata": {
    "colab": {},
    "colab_type": "code",
    "id": "1jDv73Tf2Lya"
   },
   "outputs": [],
   "source": [
    "#prediction code goes here\n",
    "take_only = 200\n",
    "import cv2\n",
    "import numpy as np\n",
    "from sklearn.linear_model import LogisticRegression\n",
    "from sklearn.metrics import classification_report\n",
    "import glob\n",
    "import code\n",
    "\n",
    "def extract_features_covid(model, width, height):\n",
    "    base = \"/content/drive/My Drive/covid-chestxray-dataset/\"\n",
    "    im_base = \"/content/drive/My Drive/covid-chestxray-dataset/images/\"\n",
    "    metadata = pd.read_csv(base+\"metadata.csv\")\n",
    "    labels = []\n",
    "    feature_list = []\n",
    "    image_paths = []\n",
    "    for index, row in metadata.iterrows():\n",
    "        if row[\"finding\"] == \"COVID-19\" and \".gz\" not in row[\"filename\"]:\n",
    "            labels.append(\"COVID\")\n",
    "            im_path = im_base+row[\"filename\"]\n",
    "            image_paths.append(im_path)\n",
    "            im = np.expand_dims(preprocess_images(im_path), axis=0)\n",
    "            features = model.predict(im)\n",
    "            features_np = np.array(features)\n",
    "            feature_list.append(features_np.flatten())\n",
    "\n",
    "    return np.array(feature_list), labels\n",
    "\n",
    "def extract_features_not_covid(model, width, height):\n",
    "    feature_list = []\n",
    "    labels = []\n",
    "    paths = [\n",
    "      \"/content/drive/My Drive/chest_xray/test/NORMAL/*\",\n",
    "      \"/content/drive/My Drive/chest_xray/test/PNEUMONIA/*\",\n",
    "      \"/content/drive/My Drive/chest_xray/train/NORMAL/*\",\n",
    "      \"/content/drive/My Drive/chest_xray/train/PNEUMONIA/*\"\n",
    "    ] \n",
    "    count_train = 0\n",
    "    count_test = 0\n",
    "    count_pneumonia = 0\n",
    "    count_data = 0\n",
    "    for path in paths:\n",
    "        for im_path in glob.glob(path):\n",
    "            count = False\n",
    "            if path == \"/content/drive/My Drive/chest_xray/train/NORMAL/*\" and count_train < take_only:\n",
    "                labels.append(\"CLEAR TRAIN\")\n",
    "                count_train += 1\n",
    "                count = True\n",
    "            if path == \"/content/drive/My Drive/chest_xray/test/NORMAL/*\" and count_test < take_only:\n",
    "                labels.append(\"CLEAR TEST\")\n",
    "                count_test += 1\n",
    "                count = True\n",
    "            if path == \"/content/drive/My Drive/chest_xray/train/PNEUMONIA/*\" and count_pneumonia < take_only:\n",
    "                labels.append(\"PNEUMONIA\")\n",
    "                count_pneumonia += 1\n",
    "                count = True\n",
    "            if count:\n",
    "               # im = np.expand_dims(get_image_features(im_path), axis=0)\n",
    "                im = np.expand_dims(preprocess_images(im_path), axis=0)\n",
    "                features = model.predict(im)\n",
    "                features_np = np.array(features)\n",
    "                feature_list.append(features_np.flatten())\n",
    "\n",
    "    return np.array(feature_list), labels\n",
    "\n",
    "# please make a copy of your tuned model and save it to variable:\n",
    "untuned_model = model\n",
    "\n",
    "# please specify the width and height you used for the image preprocessing\n",
    "width = 100\n",
    "height = 100\n",
    "\n",
    "covid_features, covid_labels = extract_features_covid(untuned_model, width, height)\n",
    "non_covid_features, non_covid_labels = extract_features_not_covid(untuned_model, width, height)\n",
    "\n",
    "covid_features = (covid_features > 0.5)\n",
    "covid_features = np.argmax(covid_features, axis=1) \n",
    "\n",
    "non_covid_features = (non_covid_features > 0.5)\n",
    "non_covid_features = np.argmax(non_covid_features, axis=1) \n",
    "\n",
    "features = np.concatenate([covid_features, non_covid_features])\n",
    "labels = np.concatenate([covid_labels, non_covid_labels])\n",
    "\n",
    "X_train1 = []\n",
    "y_train1 = []\n",
    "X_test1 = []\n",
    "y_test1 = []\n",
    "for index, label in enumerate(labels):\n",
    "    if label == \"CLEAR TRAIN\":\n",
    "        X_train1.append(features[index])\n",
    "        y_train1.append(0)\n",
    "    if label == \"PNEUMONIA\":\n",
    "        X_train1.append(features[index])\n",
    "        y_train1.append(1)\n",
    "    if label == \"COVID\":\n",
    "        X_test1.append(features[index])\n",
    "        y_test1.append(1)\n",
    "    if label == \"CLEAR TEST\":\n",
    "        X_test1.append(features[index])\n",
    "        y_test1.append(0)\n",
    "\n"
   ]
  },
  {
   "cell_type": "markdown",
   "metadata": {
    "colab_type": "text",
    "id": "1aupWwbRaTU9"
   },
   "source": [
    "17. Predict on the new images\n",
    "\n",
    "Here you'll use the classifier you trained on just pneumonia/not pneumonia to try and classify COVID-19 and no finding.  You'll use the pneumonia/not pneumonia classifier as a featurizer to do this.\n",
    "\n",
    "Much of the code has been written, you'll just need to supply your trained classifier as input.\n",
    "\n",
    "Please predict the labels from the classifier.  Then run `classification_report` to see how well your classifier did."
   ]
  },
  {
   "cell_type": "code",
   "execution_count": 29,
   "metadata": {
    "colab": {
     "base_uri": "https://localhost:8080/",
     "height": 263
    },
    "colab_type": "code",
    "id": "wZR6U4y_clv7",
    "outputId": "43503b57-eea8-4ec3-bc74-5a768d3de247"
   },
   "outputs": [
    {
     "name": "stdout",
     "output_type": "stream",
     "text": [
      "              precision    recall  f1-score   support\n",
      "\n",
      "           0       0.39      1.00      0.56       200\n",
      "           1       0.00      0.00      0.00       319\n",
      "\n",
      "    accuracy                           0.39       519\n",
      "   macro avg       0.19      0.50      0.28       519\n",
      "weighted avg       0.15      0.39      0.21       519\n",
      "\n"
     ]
    },
    {
     "name": "stderr",
     "output_type": "stream",
     "text": [
      "/usr/local/lib/python3.6/dist-packages/sklearn/utils/validation.py:760: DataConversionWarning: A column-vector y was passed when a 1d array was expected. Please change the shape of y to (n_samples, ), for example using ravel().\n",
      "  y = column_or_1d(y, warn=True)\n",
      "/usr/local/lib/python3.6/dist-packages/sklearn/metrics/_classification.py:1272: UndefinedMetricWarning: Precision and F-score are ill-defined and being set to 0.0 in labels with no predicted samples. Use `zero_division` parameter to control this behavior.\n",
      "  _warn_prf(average, modifier, msg_start, len(result))\n"
     ]
    }
   ],
   "source": [
    "X_train1 = np.array(X_train1).reshape(-1, 1)\n",
    "y_train1 = np.array(y_train1).reshape(-1, 1)\n",
    "X_test1 = np.array(X_test1).reshape(-1, 1)\n",
    "y_test1 = np.array(y_test1).reshape(-1, 1)\n",
    "\n",
    "logit_clf = LogisticRegression()\n",
    "logit_clf.fit(X_train1, y_train1)\n",
    "y_pred = logit_clf.predict(X_test1)\n",
    "print(classification_report(y_test1, y_pred))"
   ]
  },
  {
   "cell_type": "markdown",
   "metadata": {
    "colab_type": "text",
    "id": "Wu0U6CoLaTU-"
   },
   "source": [
    "18. Compare and contrast how the classifier did on Pneumonia versus COVID-19\n",
    "\n",
    "Did it do as well?  Worse?  About the same?  What conclusions can you draw?"
   ]
  },
  {
   "cell_type": "markdown",
   "metadata": {
    "colab_type": "text",
    "id": "GwqJRyZ_aTU_"
   },
   "source": [
    "### Add your answers here!"
   ]
  },
  {
   "cell_type": "markdown",
   "metadata": {
    "colab": {},
    "colab_type": "code",
    "id": "NTJsgHBEAkBQ"
   },
   "source": [
    "Since there are few covid images comapred to pneumonia so, model did not perform well "
   ]
  },
  {
   "cell_type": "code",
   "execution_count": 0,
   "metadata": {
    "colab": {},
    "colab_type": "code",
    "id": "-8PSclQJgkDl"
   },
   "outputs": [],
   "source": [
    "#Train test split\n",
    "from sklearn.model_selection import train_test_split\n",
    "X_train, X_test, y_train, y_test = train_test_split(train_images1, train_labels1, test_size=0.33, random_state=52)\n",
    "\n",
    "def new_model(activation='relu', optimizer='adam', dropout_rate=0.5, trainable_range=-4, num_nodes=64):\n",
    "    keras.backend.clear_session()\n",
    "    vgg_conv = VGG16(weights='imagenet', include_top=False, input_shape=(100, 100, 3))\n",
    "    # Only allow the last x layers trainable\n",
    "    for layer in vgg_conv.layers[:trainable_range]:\n",
    "        layer.trainable = False\n",
    "        model = models.Sequential()\n",
    "        model.add(vgg_conv)\n",
    "        model.add(layers.Flatten())\n",
    "        model.add(layers.Dense(num_nodes, activation=activation))\n",
    "        model.add(layers.Dropout(dropout_rate))\n",
    "        model.add(layers.Dense(2, activation='softmax'))\n",
    "        model.compile(loss='binary_crossentropy',optimizer=optimizer,metrics=['acc'])\n",
    "    return model"
   ]
  },
  {
   "cell_type": "markdown",
   "metadata": {
    "colab_type": "text",
    "id": "Uc12jNfvaTU_"
   },
   "source": [
    "Now that we've looked at a bunch of base cases, let's see if we can improve things by changing the model architecture.  We'll do this with a bunch of discrete steps\n",
    "\n",
    "1. Change the number of trainable layers\n",
    "\n",
    "Here you will make more of the layers trainable.  For this we are going to use cross validation to try and figure out which the optimal number of trainable layers.  Please us from the last 6 layers to one layer.  So your range should be:\n",
    "\n",
    "```\n",
    "trainable_range = [-6, -5, -4, -3, -2, -1]\n",
    "```\n",
    "\n",
    "Also, your X and y data should be the pneumonia data only.  Since that's what we trained on.  We should not assume we have access to the COVID data, except for testing, which will do later on.\n",
    "\n",
    "Here's a blog post detailing how to set this up: https://machinelearningmastery.com/grid-search-hyperparameters-deep-learning-models-python-keras/\n",
    "\n",
    "Note you'll need to set the number of trainable layers inside of `model_create` in order to make this tunable.  \n",
    "\n",
    "Please report mean and standard deviation for accuracy."
   ]
  },
  {
   "cell_type": "code",
   "execution_count": 31,
   "metadata": {
    "colab": {
     "base_uri": "https://localhost:8080/",
     "height": 35
    },
    "colab_type": "code",
    "id": "qjP3lAclgj_B",
    "outputId": "8f8631c9-686c-43c0-e5d4-0ee0678e3981"
   },
   "outputs": [
    {
     "name": "stdout",
     "output_type": "stream",
     "text": [
      "Best: 1.000000 using {'trainable_range': -6}\n"
     ]
    }
   ],
   "source": [
    "from sklearn.model_selection import StratifiedKFold\n",
    "\n",
    "seed = 34\n",
    "np.random.seed(seed)\n",
    "kfold = StratifiedKFold(n_splits=5, shuffle=True, random_state=seed\n",
    "grid_model = KerasClassifier(build_fn=new_model, batch_size=128, epochs=5, verbose=0)\n",
    "\n",
    "trainable_range = [-6, -5,-4,-3, -2,-1]\n",
    "param_grid = dict(trainable_range=trainable_range)\n",
    "\n",
    "grid = GridSearchCV(estimator=grid_model, param_grid=param_grid, n_jobs=1, verbose=0)\n",
    "\n",
    "grid_res = grid.fit(X_train[:5], y_train[:5])\n",
    "\n",
    "print(\"Best: %f using %s\" % (grid_res.best_score_, grid_res.best_params_))"
   ]
  },
  {
   "cell_type": "code",
   "execution_count": 32,
   "metadata": {
    "colab": {
     "base_uri": "https://localhost:8080/",
     "height": 988
    },
    "colab_type": "code",
    "id": "hJsX_Ao4gj7D",
    "outputId": "cef6f5b1-4e25-4c52-ea87-05f4b6a8bea9"
   },
   "outputs": [
    {
     "name": "stdout",
     "output_type": "stream",
     "text": [
      "Epoch 1/5\n",
      "5/5 [==============================] - 57s 11s/step - loss: 0.2937 - acc: 0.8302\n",
      "Epoch 2/5\n",
      "5/5 [==============================] - 56s 11s/step - loss: 0.0000e+00 - acc: 1.0000\n",
      "Epoch 3/5\n",
      "5/5 [==============================] - 57s 11s/step - loss: 0.0000e+00 - acc: 1.0000\n",
      "Epoch 4/5\n",
      "5/5 [==============================] - 56s 11s/step - loss: 0.0000e+00 - acc: 1.0000\n",
      "Epoch 5/5\n",
      "5/5 [==============================] - 56s 11s/step - loss: 0.0000e+00 - acc: 1.0000\n",
      "5/5 [==============================] - 10s 2s/step - loss: 0.0000e+00 - acc: 1.0000\n",
      "Epoch 1/5\n",
      "5/5 [==============================] - 56s 11s/step - loss: 0.4804 - acc: 0.7873\n",
      "Epoch 2/5\n",
      "5/5 [==============================] - 56s 11s/step - loss: 0.0000e+00 - acc: 1.0000\n",
      "Epoch 3/5\n",
      "5/5 [==============================] - 56s 11s/step - loss: 0.0000e+00 - acc: 1.0000\n",
      "Epoch 4/5\n",
      "5/5 [==============================] - 56s 11s/step - loss: 0.0000e+00 - acc: 1.0000\n",
      "Epoch 5/5\n",
      "5/5 [==============================] - 56s 11s/step - loss: 0.0000e+00 - acc: 1.0000\n",
      "5/5 [==============================] - 10s 2s/step - loss: 0.0000e+00 - acc: 1.0000\n",
      "Epoch 1/5\n",
      "5/5 [==============================] - 56s 11s/step - loss: 0.5646 - acc: 0.7631\n",
      "Epoch 2/5\n",
      "5/5 [==============================] - 56s 11s/step - loss: 0.0000e+00 - acc: 1.0000\n",
      "Epoch 3/5\n",
      "5/5 [==============================] - 56s 11s/step - loss: 0.0000e+00 - acc: 1.0000\n",
      "Epoch 4/5\n",
      "5/5 [==============================] - 56s 11s/step - loss: 0.0000e+00 - acc: 1.0000\n",
      "Epoch 5/5\n",
      "5/5 [==============================] - 56s 11s/step - loss: 0.0000e+00 - acc: 1.0000\n",
      "5/5 [==============================] - 10s 2s/step - loss: 0.0000e+00 - acc: 1.0000\n",
      "Epoch 1/5\n",
      "5/5 [==============================] - 56s 11s/step - loss: 0.1838 - acc: 0.8899\n",
      "Epoch 2/5\n",
      "5/5 [==============================] - 56s 11s/step - loss: 0.0000e+00 - acc: 1.0000\n",
      "Epoch 3/5\n",
      "5/5 [==============================] - 56s 11s/step - loss: 0.0000e+00 - acc: 1.0000\n",
      "Epoch 4/5\n",
      "5/5 [==============================] - 57s 11s/step - loss: 0.0000e+00 - acc: 1.0000\n",
      "Epoch 5/5\n",
      "5/5 [==============================] - 56s 11s/step - loss: 0.0000e+00 - acc: 1.0000\n",
      "5/5 [==============================] - 10s 2s/step - loss: 0.0000e+00 - acc: 1.0000\n",
      "Epoch 1/5\n",
      "5/5 [==============================] - 56s 11s/step - loss: 0.1668 - acc: 0.8974\n",
      "Epoch 2/5\n",
      "5/5 [==============================] - 56s 11s/step - loss: 0.0000e+00 - acc: 1.0000\n",
      "Epoch 3/5\n",
      "5/5 [==============================] - 56s 11s/step - loss: 0.0000e+00 - acc: 1.0000\n",
      "Epoch 4/5\n",
      "5/5 [==============================] - 56s 11s/step - loss: 0.0000e+00 - acc: 1.0000\n",
      "Epoch 5/5\n",
      "5/5 [==============================] - 58s 12s/step - loss: 0.0000e+00 - acc: 1.0000\n",
      "5/5 [==============================] - 10s 2s/step - loss: 0.0000e+00 - acc: 1.0000\n",
      "[[0.0, 1.0], [0.0, 1.0], [0.0, 1.0], [0.0, 1.0], [0.0, 1.0]]\n"
     ]
    }
   ],
   "source": [
    "# Cross validation code goes here\n",
    "best_trainable_range = grid_res.best_params_['trainable_range']\n",
    "\n",
    "scores = []\n",
    "\n",
    "y_train_label = np.argmax(y_train, axis=1)\n",
    "\n",
    "for train, test in kfold.split(X_train, y_train_label):\n",
    "    model = new_model(trainable_range = best_trainable_range)\n",
    "    model.fit(X_train[train], y_train[train], batch_size=128, epochs=5)\n",
    "    scores = model.evaluate(X_train[test], y_train[test])\n",
    "    scores.append(scores)\n",
    "\n",
    "print(scores)"
   ]
  },
  {
   "cell_type": "markdown",
   "metadata": {
    "colab_type": "text",
    "id": "GjPZOdOCaTVh"
   },
   "source": [
    "### Analysis and explanation go here"
   ]
  },
  {
   "cell_type": "markdown",
   "metadata": {
    "colab_type": "text",
    "id": "qWKhLu4daTVp"
   },
   "source": [
    "4. Tune over more hyperparameters\n",
    "\n",
    "Now that we've tuned the activation functions, let's try tuning more parameters.  This time add tuning for the following parameters:\n",
    "\n",
    "* number of neurons per layer\n",
    "* weight initialization\n",
    "* optimizer\n",
    "* weight constraint\n",
    "* activation function\n",
    "* learning rate\n",
    "\n",
    "Here is a great post on the range of values you should consider: https://www.wandb.com/articles/fundamentals-of-neural-networks\n",
    "\n",
    "Here is some code that is also useful: https://www.kaggle.com/lavanyashukla01/training-a-neural-network-start-here\n",
    "\n",
    "for understanding this practically."
   ]
  },
  {
   "cell_type": "code",
   "execution_count": 40,
   "metadata": {
    "colab": {
     "base_uri": "https://localhost:8080/",
     "height": 35
    },
    "colab_type": "code",
    "id": "AMAeSJC5gj4u",
    "outputId": "ab02f75e-3d00-46f8-d2bb-95ae0a44c9e9"
   },
   "outputs": [
    {
     "name": "stdout",
     "output_type": "stream",
     "text": [
      "Best: 1.000000 using {'activation': 'sigmoid'}\n"
     ]
    }
   ],
   "source": [
    "from sklearn.model_selection import StratifiedKFold\n",
    "kfold = StratifiedKFold(n_splits=3, shuffle=True, random_state=42)\n",
    "\n",
    "\n",
    "grid_model = KerasClassifier(build_fn=new_model, batch_size=128, epochs=5, verbose=0)\n",
    "activation = ['sigmoid', 'linear']\n",
    "param_grid = dict(activation=activation)\n",
    "\n",
    "grid = GridSearchCV(estimator=grid_model, param_grid=param_grid, n_jobs=1, verbose=0)\n",
    "\n",
    "grid_res = grid.fit(X_train[:20], y_train[:20])\n",
    "\n",
    "print(\"Best: %f using %s\" % (grid_res.best_score_, grid_res.best_params_))"
   ]
  },
  {
   "cell_type": "code",
   "execution_count": 41,
   "metadata": {
    "colab": {
     "base_uri": "https://localhost:8080/",
     "height": 607
    },
    "colab_type": "code",
    "id": "X1F6Z4QYgj09",
    "outputId": "eb1c9b9d-f69e-4920-8369-d671337283ea"
   },
   "outputs": [
    {
     "name": "stdout",
     "output_type": "stream",
     "text": [
      "Epoch 1/5\n",
      "7/7 [==============================] - 45s 6s/step - loss: 0.0789 - acc: 0.9596\n",
      "Epoch 2/5\n",
      "7/7 [==============================] - 45s 6s/step - loss: 0.0021 - acc: 1.0000\n",
      "Epoch 3/5\n",
      "7/7 [==============================] - 46s 7s/step - loss: 0.0027 - acc: 1.0000\n",
      "Epoch 4/5\n",
      "7/7 [==============================] - 46s 7s/step - loss: 0.0025 - acc: 1.0000\n",
      "Epoch 5/5\n",
      "7/7 [==============================] - 45s 6s/step - loss: 0.0023 - acc: 1.0000\n",
      "7/7 [==============================] - 18s 3s/step - loss: 7.0475e-04 - acc: 1.0000\n",
      "Epoch 1/5\n",
      "7/7 [==============================] - 45s 6s/step - loss: 0.1175 - acc: 0.9329\n",
      "Epoch 2/5\n",
      "7/7 [==============================] - 45s 6s/step - loss: 0.0023 - acc: 1.0000\n",
      "Epoch 3/5\n",
      "7/7 [==============================] - 45s 6s/step - loss: 0.0021 - acc: 1.0000\n",
      "Epoch 4/5\n",
      "7/7 [==============================] - 46s 7s/step - loss: 0.0029 - acc: 1.0000\n",
      "Epoch 5/5\n",
      "7/7 [==============================] - 45s 6s/step - loss: 0.0024 - acc: 1.0000\n",
      "7/7 [==============================] - 18s 3s/step - loss: 7.4453e-04 - acc: 1.0000\n",
      "Epoch 1/5\n",
      "7/7 [==============================] - 45s 6s/step - loss: 0.0921 - acc: 0.9553\n",
      "Epoch 2/5\n",
      "7/7 [==============================] - 45s 6s/step - loss: 0.0058 - acc: 1.0000\n",
      "Epoch 3/5\n",
      "7/7 [==============================] - 45s 6s/step - loss: 0.0066 - acc: 1.0000\n",
      "Epoch 4/5\n",
      "7/7 [==============================] - 46s 7s/step - loss: 0.0048 - acc: 1.0000\n",
      "Epoch 5/5\n",
      "7/7 [==============================] - 46s 7s/step - loss: 0.0048 - acc: 1.0000\n",
      "7/7 [==============================] - 18s 3s/step - loss: 0.0019 - acc: 1.0000\n",
      "[0.001934550702571869, 1.0, [...]]\n"
     ]
    }
   ],
   "source": [
    "# cross validation code goes here\n",
    "\n",
    "best_activation = grid_res.best_params_['activation']\n",
    "scores=[]\n",
    "\n",
    "y_train_label = np.argmax(y_train, axis=1)\n",
    "\n",
    "for train, test in kfold.split(X_train, y_train_label):\n",
    "    model = new_model(activation = best_activation)\n",
    "    model.fit(X_train[train], y_train[train], batch_size=64, epochs=5)\n",
    "    scores = model.evaluate(X_train[test], y_train[test])\n",
    "    scores.append(scores)"
   ]
  },
  {
   "cell_type": "markdown",
   "metadata": {
    "colab_type": "text",
    "id": "NguwaXeiaTVi"
   },
   "source": [
    "2. Tune over a layer activation function\n",
    "\n",
    "Please set the number of tunable layers to 4 again.\n",
    "\n",
    "Now we are going to make the layer activation tunable.  \n",
    "\n",
    "To do this, please change the model_create function so that each layer has it's own tunable activation function.  Then run your new cross validation code."
   ]
  },
  {
   "cell_type": "code",
   "execution_count": 43,
   "metadata": {
    "colab": {
     "base_uri": "https://localhost:8080/",
     "height": 35
    },
    "colab_type": "code",
    "id": "l0YaNBP1gjzl",
    "outputId": "4c9eacea-abdc-486c-8b5c-aa3a9a943f81"
   },
   "outputs": [
    {
     "name": "stdout",
     "output_type": "stream",
     "text": [
      "Best: 1.000000 using {'activation': 'relu', 'dropout_rate': 0.4, 'num_nodes': 64, 'optimizer': 'SGD'}\n"
     ]
    }
   ],
   "source": [
    "activation='relu', \n",
    "optimizer= ['SGD', 'adam']\n",
    "dropout_rates=[ 0.4, 0.6]\n",
    "num_nodes=[ 64, 128]\n",
    "\n",
    "\n",
    "param_grid = dict(activation=activation, optimizer=optimizer, dropout_rate=dropout_rates, num_nodes=num_nodes)\n",
    "\n",
    "grid = GridSearchCV(estimator=grid_model, param_grid=param_grid, n_jobs=1, verbose=0)\n",
    "\n",
    "grid_res = grid.fit(X_train[:20], y_train[:20])\n",
    "\n",
    "print(\"Best: %f using %s\" % (grid_res.best_score_, grid_res.best_params_))\n"
   ]
  },
  {
   "cell_type": "code",
   "execution_count": 45,
   "metadata": {
    "colab": {
     "base_uri": "https://localhost:8080/",
     "height": 607
    },
    "colab_type": "code",
    "id": "B5Eeg6i9gjwq",
    "outputId": "2a519bb6-3a9b-4274-b304-2eade0094e0f"
   },
   "outputs": [
    {
     "name": "stdout",
     "output_type": "stream",
     "text": [
      "Epoch 1/5\n",
      "7/7 [==============================] - 45s 6s/step - loss: 0.4020 - acc: 0.8565\n",
      "Epoch 2/5\n",
      "7/7 [==============================] - 45s 6s/step - loss: 0.0046 - acc: 1.0000\n",
      "Epoch 3/5\n",
      "7/7 [==============================] - 45s 6s/step - loss: 0.0052 - acc: 1.0000\n",
      "Epoch 4/5\n",
      "7/7 [==============================] - 46s 7s/step - loss: 0.0020 - acc: 1.0000\n",
      "Epoch 5/5\n",
      "7/7 [==============================] - 45s 6s/step - loss: 0.0020 - acc: 1.0000\n",
      "7/7 [==============================] - 18s 3s/step - loss: 3.4502e-05 - acc: 1.0000\n",
      "Epoch 1/5\n",
      "7/7 [==============================] - 45s 6s/step - loss: 0.1531 - acc: 0.9083\n",
      "Epoch 2/5\n",
      "7/7 [==============================] - 45s 6s/step - loss: 0.0015 - acc: 1.0000\n",
      "Epoch 3/5\n",
      "7/7 [==============================] - 45s 6s/step - loss: 0.0025 - acc: 1.0000\n",
      "Epoch 4/5\n",
      "7/7 [==============================] - 45s 6s/step - loss: 0.0020 - acc: 1.0000\n",
      "Epoch 5/5\n",
      "7/7 [==============================] - 45s 6s/step - loss: 0.0017 - acc: 1.0000\n",
      "7/7 [==============================] - 18s 3s/step - loss: 5.9076e-06 - acc: 1.0000\n",
      "Epoch 1/5\n",
      "7/7 [==============================] - 45s 6s/step - loss: 0.3562 - acc: 0.8635\n",
      "Epoch 2/5\n",
      "7/7 [==============================] - 45s 6s/step - loss: 0.0045 - acc: 1.0000\n",
      "Epoch 3/5\n",
      "7/7 [==============================] - 46s 7s/step - loss: 0.0032 - acc: 1.0000\n",
      "Epoch 4/5\n",
      "7/7 [==============================] - 46s 7s/step - loss: 0.0022 - acc: 1.0000\n",
      "Epoch 5/5\n",
      "7/7 [==============================] - 46s 7s/step - loss: 0.0017 - acc: 1.0000\n",
      "7/7 [==============================] - 18s 3s/step - loss: 3.5590e-05 - acc: 1.0000\n",
      "[3.5589524486567825e-05, 1.0, [...]]\n"
     ]
    }
   ],
   "source": [
    "best_activation = grid_res.best_params_['activation']\n",
    "best_optimizer = grid_res.best_params_['optimizer']\n",
    "best_num_nodes = grid_res.best_params_['num_nodes']\n",
    "\n",
    "scores=[]\n",
    "\n",
    "y_train_label = np.argmax(y_train, axis=1)\n",
    "\n",
    "for train, test in kfold.split(X_train, y_train_label):\n",
    "    model = new_model(activation = best_activation, optimizer=best_optimizer, num_nodes = best_num_nodes)\n",
    "    model.fit(X_train[train], y_train[train], batch_size=64, epochs=5)\n",
    "    scores = model.evaluate(X_train[test], y_train[test])\n",
    "    scores.append(scores)"
   ]
  },
  {
   "cell_type": "code",
   "execution_count": 0,
   "metadata": {
    "colab": {},
    "colab_type": "code",
    "id": "xJFSi3XgcUZj"
   },
   "outputs": [],
   "source": [
    "es = EarlyStopping(monitor='loss', mode='max', min_delta=0.01, patience=20, verbose=0)"
   ]
  },
  {
   "cell_type": "code",
   "execution_count": 0,
   "metadata": {
    "colab": {},
    "colab_type": "code",
    "id": "YKDnlOmIaTVI"
   },
   "outputs": [],
   "source": [
    "model = KerasClassifier(build_fn=create_model, batch_size=20, epochs=5, verbose=0)\n",
    "trainable_range = [-6,-5,-4,-3, -2, -1]\n",
    "\n",
    "param_grid = dict(trainable_range=trainable_range)\n",
    "grid = GridSearchCV(estimator=model, param_grid=param_grid, n_jobs=1, verbose=0)"
   ]
  },
  {
   "cell_type": "code",
   "execution_count": null,
   "metadata": {
    "colab": {
     "base_uri": "https://localhost:8080/",
     "height": 35
    },
    "colab_type": "code",
    "id": "HQt3rE1kdlKa",
    "outputId": "830e23cf-640c-4c4c-ee35-3b9e29b013e2"
   },
   "outputs": [],
   "source": [
    "X_train_gs =X_train[700:]\n",
    "Y_train_gs =Y_train[700:]"
   ]
  },
  {
   "cell_type": "code",
   "execution_count": 0,
   "metadata": {
    "colab": {},
    "colab_type": "code",
    "id": "YpcZ9hKTVmXt"
   },
   "outputs": [],
   "source": [
    "grid_result = grid.fit(X_train_gs[:5], Y_train_gs[:5])"
   ]
  },
  {
   "cell_type": "code",
   "execution_count": 105,
   "metadata": {
    "colab": {
     "base_uri": "https://localhost:8080/",
     "height": 139
    },
    "colab_type": "code",
    "id": "Q_584YedaTVL",
    "outputId": "88be5195-357b-418b-e06c-aa71f2f4b4f6"
   },
   "outputs": [
    {
     "name": "stdout",
     "output_type": "stream",
     "text": [
      "Best: 1.000000 using {'trainable_range': -6}\n",
      "1.000000 (0.000000) with: {'trainable_range': -6}\n",
      "1.000000 (0.000000) with: {'trainable_range': -5}\n",
      "1.000000 (0.000000) with: {'trainable_range': -4}\n",
      "1.000000 (0.000000) with: {'trainable_range': -3}\n",
      "1.000000 (0.000000) with: {'trainable_range': -2}\n",
      "1.000000 (0.000000) with: {'trainable_range': -1}\n"
     ]
    }
   ],
   "source": [
    "# summarize results\n",
    "print(\"Best: %f using %s\" % (grid_result.best_score_, grid_result.best_params_))\n",
    "means = grid_result.cv_results_['mean_test_score']\n",
    "stds = grid_result.cv_results_['std_test_score']\n",
    "params = grid_result.cv_results_['params']\n",
    "for mean, stdev, param in zip(means, stds, params):\n",
    "    print(\"%f (%f) with: %r\" % (mean, stdev, param))"
   ]
  },
  {
   "cell_type": "markdown",
   "metadata": {
    "colab_type": "text",
    "id": "pY20o9KTaTVh"
   },
   "source": [
    "2. Analyze your results\n",
    "\n",
    "Do you think that changing the number of tunable layers matters?  Does it improve classification accuracy enough to warrant changing the number of tunable layers?  "
   ]
  },
  {
   "cell_type": "code",
   "execution_count": 117,
   "metadata": {
    "colab": {
     "base_uri": "https://localhost:8080/",
     "height": 35
    },
    "colab_type": "code",
    "id": "DO7-6UitaTVl",
    "outputId": "3a8a0199-2f10-419f-9aaf-57912ea45fe1"
   },
   "outputs": [
    {
     "name": "stdout",
     "output_type": "stream",
     "text": [
      "Best: 1.000000 using {'activation': 'relu', 'dropout_rate': 0.4, 'optimizer': 'SGD'}\n"
     ]
    }
   ],
   "source": [
    "optimizer= ['SGD', 'adam']\n",
    "activation='relu', \n",
    "dropout_rates=[ 0.4, 0.6]\n",
    "num_nodes=[16, 32]\n",
    "\n",
    "\n",
    "param_grid = dict(activation=activation, optimizer=optimizer, dropout_rate=dropout_rates)\n",
    "                 \n",
    "\n",
    "grid = GridSearchCV(estimator=model, param_grid=param_grid, n_jobs=1)\n",
    "grid_res = grid.fit(X_train_gs[:5], Y_train_gs[:5])\n",
    "\n",
    "print(\"Best: %f using %s\" % (grid_res.best_score_, grid_res.best_params_))"
   ]
  },
  {
   "cell_type": "markdown",
   "metadata": {
    "colab_type": "text",
    "id": "oii5eW05aTVo"
   },
   "source": [
    "3. Analyze your results\n",
    "\n",
    "Does your choice of activation function matter?  When does the activation function perform best?  \n",
    "\n",
    "Things to consider:\n",
    "\n",
    "* Specifically does choosing the same activation function for all of the layers do best? \n",
    "* Does choosing different activation functions for each of the layers do best?\n",
    "* Are they all within the same approximate accuracy range?\n",
    "* do things vary wildly?"
   ]
  },
  {
   "cell_type": "markdown",
   "metadata": {
    "colab_type": "text",
    "id": "bMD_GeWkaTVo"
   },
   "source": [
    "### Analysis and explanation go here"
   ]
  },
  {
   "cell_type": "markdown",
   "metadata": {},
   "source": [
    "relu has perforemed better"
   ]
  },
  {
   "cell_type": "markdown",
   "metadata": {
    "colab_type": "text",
    "id": "v0sBPMOSaTVu"
   },
   "source": [
    "5. Tune over data augmentation\n",
    "\n",
    "Here you'll take the best hyperparameters from your neural network, with 4 trainable layers, and then add them to a pipeline.  We will then tune over data augmentation parameters.  Report out your mean and standard deviation of accuracy.\n",
    "\n",
    "Here we will create a scikit-learn pipline:\n",
    "\n",
    "https://scikit-learn.org/stable/modules/generated/sklearn.pipeline.Pipeline.html\n",
    "\n",
    "If you need an example with gridsearch and pipeline:\n",
    "\n",
    "https://scikit-learn.org/stable/tutorial/statistical_inference/putting_together.html\n",
    "\n",
    "As a reminder, here is the documentation for data augmentation:\n",
    "\n",
    "https://keras.io/preprocessing/image/"
   ]
  },
  {
   "cell_type": "markdown",
   "metadata": {
    "colab_type": "text",
    "id": "0suxM3XRaTV0"
   },
   "source": [
    "6. Analyze your results\n",
    "\n",
    "Now that you've tuned over model parameters and preprocessing, what has a bigger impact?  Why do you think that might be the case?"
   ]
  },
  {
   "cell_type": "markdown",
   "metadata": {
    "colab_type": "text",
    "id": "lGmIMqm-aTV0"
   },
   "source": [
    "### Analysis and explanation goes here"
   ]
  },
  {
   "cell_type": "markdown",
   "metadata": {
    "colab_type": "text",
    "id": "fXAyqeWyaTV1"
   },
   "source": [
    "7. Using your best model and preprocessing to train a new model\n",
    "\n",
    "Now you should select the best hyperparameters for the neural network and the best hyperparameters for the preprocesser and then combine them into a scikit-learn pipeline.  Next train a classifier with these new tuned hyperparameters."
   ]
  },
  {
   "cell_type": "markdown",
   "metadata": {
    "colab_type": "text",
    "id": "TZRzZVxFaTV7"
   },
   "source": [
    "8. Let's see if things improved - time for `classification_report`\n",
    "\n",
    "Now that you've tuned your model, let's see how well it does on our test set!  First call predict on the test data to get a prediction.  Then use `classification_report` to see how well the model does."
   ]
  },
  {
   "cell_type": "markdown",
   "metadata": {
    "colab_type": "text",
    "id": "1dq7fui5aTWB"
   },
   "source": [
    "9. Analsis and comparison\n",
    "\n",
    "Now that you've seen how well your classifier does when it's been tuned, compare this with your previous model, that was untuned.  Are the precision, recall and f1-scores substantially different?  Why or why not?"
   ]
  },
  {
   "cell_type": "markdown",
   "metadata": {
    "colab_type": "text",
    "id": "IDj9ZvQeaTWC"
   },
   "source": [
    "### Analysis and explanation goes here"
   ]
  },
  {
   "cell_type": "markdown",
   "metadata": {
    "colab_type": "text",
    "id": "y-T3Nh4HaTWC"
   },
   "source": [
    "10. Prediction on COVID binary classification task with tuned model\n",
    "\n",
    "Now you'll use your tuned classifier to try and predict on the binary COVID19 case.  Please change the model to your tuned model!"
   ]
  },
  {
   "cell_type": "code",
   "execution_count": 52,
   "metadata": {
    "colab": {
     "base_uri": "https://localhost:8080/",
     "height": 263
    },
    "colab_type": "code",
    "id": "4Uezf5qDGCBT",
    "outputId": "5e3a25e1-378d-4714-9e3a-42059946a1b6"
   },
   "outputs": [
    {
     "name": "stdout",
     "output_type": "stream",
     "text": [
      "              precision    recall  f1-score   support\n",
      "\n",
      "           0       0.39      1.00      0.56       200\n",
      "           1       0.00      0.00      0.00       319\n",
      "\n",
      "    accuracy                           0.39       519\n",
      "   macro avg       0.19      0.50      0.28       519\n",
      "weighted avg       0.15      0.39      0.21       519\n",
      "\n"
     ]
    },
    {
     "name": "stderr",
     "output_type": "stream",
     "text": [
      "/usr/local/lib/python3.6/dist-packages/sklearn/utils/validation.py:760: DataConversionWarning: A column-vector y was passed when a 1d array was expected. Please change the shape of y to (n_samples, ), for example using ravel().\n",
      "  y = column_or_1d(y, warn=True)\n",
      "/usr/local/lib/python3.6/dist-packages/sklearn/metrics/_classification.py:1272: UndefinedMetricWarning: Precision and F-score are ill-defined and being set to 0.0 in labels with no predicted samples. Use `zero_division` parameter to control this behavior.\n",
      "  _warn_prf(average, modifier, msg_start, len(result))\n"
     ]
    }
   ],
   "source": [
    "#prediction code goes here\n",
    "\n",
    "import cv2\n",
    "import numpy as np\n",
    "from sklearn.linear_model import LogisticRegression\n",
    "from sklearn.metrics import classification_report\n",
    "import glob\n",
    "import code\n",
    "\n",
    "def extract_features_covid(model, width, height):\n",
    "    base = \"/content/drive/My Drive/covid-chestxray-dataset/\"\n",
    "    im_base = \"/content/drive/My Drive/covid-chestxray-dataset/images/\"\n",
    "    metadata = pd.read_csv(base+\"metadata.csv\")\n",
    "    labels = []\n",
    "    feature_list = []\n",
    "    image_paths = []\n",
    "    for index, row in metadata.iterrows():\n",
    "        if row[\"finding\"] == \"COVID-19\" and \".gz\" not in row[\"filename\"]:\n",
    "            labels.append(\"COVID\")\n",
    "            im_path = im_base+row[\"filename\"]\n",
    "            image_paths.append(im_path)\n",
    "            im = np.expand_dims(preprocess_images(im_path), axis=0)\n",
    "            features = model.predict(im)\n",
    "            features_np = np.array(features)\n",
    "            feature_list.append(features_np.flatten())\n",
    "\n",
    "    return np.array(feature_list), labels\n",
    "\n",
    "def extract_features_not_covid(model, width, height):\n",
    "    feature_list = []\n",
    "    labels = []\n",
    "    paths = [\n",
    "      \"/content/drive/My Drive/chest_xray/test/NORMAL/*\",\n",
    "      \"/content/drive/My Drive/chest_xray/test/PNEUMONIA/*\",\n",
    "      \"/content/drive/My Drive/chest_xray/train/NORMAL/*\",\n",
    "      \"/content/drive/My Drive/chest_xray/train/PNEUMONIA/*\"\n",
    "    ]\n",
    "    count_train = 0\n",
    "    count_test = 0\n",
    "    count_pneumonia = 0\n",
    "    count_data = 0\n",
    "    for path in paths:\n",
    "        for im_path in glob.glob(path):\n",
    "            count = False\n",
    "            if path == \"/content/drive/My Drive/chest_xray/train/NORMAL/*\" and count_train < take_only:\n",
    "                labels.append(\"CLEAR TRAIN\")\n",
    "                count_train += 1\n",
    "                count = True\n",
    "            if path == \"/content/drive/My Drive/chest_xray/test/NORMAL/*\" and count_test < take_only:\n",
    "                labels.append(\"CLEAR TEST\")\n",
    "                count_test += 1\n",
    "                count = True\n",
    "            if path == \"/content/drive/My Drive/chest_xray/train/PNEUMONIA/*\" and count_pneumonia < take_only:\n",
    "                labels.append(\"PNEUMONIA\")\n",
    "                count_pneumonia += 1\n",
    "                count = True\n",
    "            if count:\n",
    "                im = np.expand_dims(preprocess_images(im_path), axis=0)\n",
    "                features = model.predict(im)\n",
    "                features_np = np.array(features)\n",
    "                feature_list.append(features_np.flatten())\n",
    "\n",
    "    return np.array(feature_list), labels\n",
    "\n",
    "# please make a copy of your tuned model and save it to variable:\n",
    "tuned_model = model\n",
    "\n",
    "# please specify the width and height you used for the image preprocessing\n",
    "width = 100\n",
    "height = 100\n",
    "\n",
    "covid_features, covid_labels = extract_features_covid(tuned_model, width, height)\n",
    "non_covid_features, non_covid_labels = extract_features_not_covid(tuned_model, width, height)\n",
    "\n",
    "covid_features = (covid_features > 0.5)\n",
    "covid_features = np.argmax(covid_features, axis=1) \n",
    "\n",
    "non_covid_features = (non_covid_features > 0.5)\n",
    "non_covid_features = np.argmax(non_covid_features, axis=1) \n",
    "\n",
    "features = np.concatenate([covid_features, non_covid_features])\n",
    "labels = np.concatenate([covid_labels, non_covid_labels])\n",
    "\n",
    "\n",
    "X_train_bl = []\n",
    "y_train_bl = []\n",
    "X_test_bl = []\n",
    "y_test_bl = []\n",
    "for index, label in enumerate(labels):\n",
    "    if label == \"CLEAR TRAIN\":\n",
    "        X_train_bl.append(features[index])\n",
    "        y_train_bl.append(0)\n",
    "    if label == \"PNEUMONIA\":\n",
    "        X_train_bl.append(features[index])\n",
    "        y_train_bl.append(1)\n",
    "    if label == \"COVID\":\n",
    "        X_test_bl.append(features[index])\n",
    "        y_test_bl.append(1)\n",
    "    if label == \"CLEAR TEST\":\n",
    "        X_test_bl.append(features[index])\n",
    "        y_test_bl.append(0)\n",
    "\n",
    "X_train_bl = np.array(X_train_bl).reshape(-1, 1)\n",
    "y_train_bl = np.array(y_train_bl).reshape(-1, 1)\n",
    "X_test_bl = np.array(X_test_bl).reshape(-1, 1)\n",
    "y_test_bl = np.array(y_test_bl).reshape(-1, 1)\n",
    "\n",
    "logit_clf = LogisticRegression()\n",
    "logit_clf.fit(X_train_bl, y_train_bl)\n",
    "y_pred = logit_clf.predict(X_test_bl)\n",
    "print(classification_report(y_test_bl, y_pred))"
   ]
  },
  {
   "cell_type": "markdown",
   "metadata": {
    "colab_type": "text",
    "id": "ro-POBndaTWF"
   },
   "source": [
    "11. Analyze your results\n",
    "\n",
    "Now that you've seen the results of your tuned model, compare those with the results of the untuned model.  Did things get better? Worse?  Why do you think this may or may not be the case?"
   ]
  },
  {
   "cell_type": "markdown",
   "metadata": {
    "colab_type": "text",
    "id": "pydCqT7laTWG"
   },
   "source": [
    "### Analysis of your results goes here"
   ]
  },
  {
   "cell_type": "markdown",
   "metadata": {
    "colab": {},
    "colab_type": "code",
    "id": "Vy8cd5ThCPd0"
   },
   "source": [
    "Model can perform better with more images were used buts tuned model perforemd better."
   ]
  },
  {
   "cell_type": "code",
   "execution_count": null,
   "metadata": {},
   "outputs": [],
   "source": []
  }
 ],
 "metadata": {
  "colab": {
   "collapsed_sections": [],
   "name": "hw3_p4-Covid19.ipynb",
   "provenance": []
  },
  "kernelspec": {
   "display_name": "Python 3",
   "language": "python",
   "name": "python3"
  },
  "language_info": {
   "codemirror_mode": {
    "name": "ipython",
    "version": 3
   },
   "file_extension": ".py",
   "mimetype": "text/x-python",
   "name": "python",
   "nbconvert_exporter": "python",
   "pygments_lexer": "ipython3",
   "version": "3.6.8"
  }
 },
 "nbformat": 4,
 "nbformat_minor": 1
}
