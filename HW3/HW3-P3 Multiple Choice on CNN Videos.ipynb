{
 "cells": [
  {
   "cell_type": "markdown",
   "metadata": {},
   "source": [
    "## HW3-P3: Multiple Choice on CNN Videos\n",
    "\n",
    "1.\tWhat exactly layers mean in CNN   \n",
    "A.\tLayer is the volume of Neuron  \n",
    "B.\tLayer with zero padding is called narrow convolution  \n",
    "C.\tSingle layer of neuron  \n",
    "D.\tLayer are the controlling feature  \n",
    "Answer A  \n",
    "<br>\n",
    "2.\tWhich among them is not image localization approaches in CNN  \n",
    "A.\tRegression problem  \n",
    "B.\tSliding windows   \n",
    "C.\tClassification problem  \n",
    "D.\tLinear method  \n",
    "Answer D  \n",
    "<br>\n",
    "3.\tTechnique which manipulate backpropagation ConvNets is called  \n",
    "A.\tT-SNE style visualization  \n",
    "B.\tDeep Dream  \n",
    "C.\t Style transfer   \n",
    "D.\tDeconvolution   \n",
    "Answer B  \n",
    "<br>\n",
    "4.\tFirst method which uses CNN for super-convolution is  \n",
    "A.\tDRCN  \n",
    "B.\tESPCNN  \n",
    "C.\tSRCNN  \n",
    "D.\tTCNN  \n",
    "Answer C Super- Resolution CNN  \n",
    "<br>"
   ]
  },
  {
   "cell_type": "code",
   "execution_count": null,
   "metadata": {},
   "outputs": [],
   "source": []
  }
 ],
 "metadata": {
  "kernelspec": {
   "display_name": "Python 3",
   "language": "python",
   "name": "python3"
  },
  "language_info": {
   "codemirror_mode": {
    "name": "ipython",
    "version": 3
   },
   "file_extension": ".py",
   "mimetype": "text/x-python",
   "name": "python",
   "nbconvert_exporter": "python",
   "pygments_lexer": "ipython3",
   "version": "3.6.8"
  }
 },
 "nbformat": 4,
 "nbformat_minor": 2
}
