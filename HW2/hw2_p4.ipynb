{
 "cells": [
  {
   "cell_type": "markdown",
   "metadata": {
    "colab_type": "text",
    "id": "G7s5LXoxDxne"
   },
   "source": [
    "# Homework 2, Problem 4\n",
    "\n",
    "The goal of this problem is for you to try and classify whether or not an individual is likely to make more or less than 50K per year.  Carry out this task.  Try at least five general architectures, report precision, recall and f1 score on a test set.\n",
    "\n",
    "For each of the parts, report your preformance in terms not of just numbers but in terms of graphs. When you have training and validation data, please show the curves as the training progresses. You should know when you are overfitting or underfitting. Don't just report bare numbers. **You are free to add implmentation or markdown cells to make your notebook clearer!!**\n",
    "\n",
    "## Data:\n",
    "\n",
    "The following dataset was taken from the first dataset repository: http://archive.ics.uci.edu/ml/datasets/Adult\n",
    "\n",
    "As the original task of the dataset lays out, \n",
    "Please note:\n",
    "* the continuous variable fnlwgt represents final weight, which is the number of units in the target population that the responding unit represents."
   ]
  },
  {
   "cell_type": "markdown",
   "metadata": {
    "colab_type": "text",
    "id": "PSIqK5biDxnf"
   },
   "source": [
    "## Part 1: Dealing with Missing Values\n",
    "\n",
    "What should you do about dealing with missing values - do you just drop those rows?  \n",
    "One of the most common problems we come accross in working with data \"in the wild\" is missing data. Often we will have observations (rows) that have only some of the needed attributes. Different rows will have different attributes missing. There are a number of strategies for dealing with the missing values. Clearly one could be dropping the column (attribute), or row (observation). Unfortuntely if you drop columns you may lose critical information that is helpful for classification and may be present in most (many) of the rows. You can drop rows but if many rows have at least one missing value, you may loose too much data. Do you try to impute (i. e. fill in) the missing data?  If so how?  \n",
    "\n",
    "Explain why you chose the strategy you did.\n",
    "\n",
    "*Hint - '?' denotes a missing value.*\n",
    "\n",
    "### Some possible strategies for dealing with missing data\n",
    "\n",
    "1. Whenever there is pleanty of data and very little missing data, you should consider dropping rows and/or columns. This may introduce some bias in the data but again, if the problem is limited to a very few rows or columns, it is easy in training to reproduce.\n",
    "\n",
    "2. Fill with fixed value using sklearn.impute.SimpleImputer.\n",
    "    a. 'constant' 0. Rarely a good idea but sometimes, if we can assume that when it is missing it is basically 0, this might be a good idea. For example a data may list number of house fires in a zip code and a missing value just means none.\n",
    "    b. 'mean' if the data is numeric, the mean is meaningfull.\n",
    "    c. 'median' may be more sensible if the data is integer or ordered. When the mean and median are very different it is important to understand what a \"typical\" example might mean. When considering \"income\", for example, a few large outliers will mess up the mean.\n",
    "    d. \"most_frequent' when you have categorical (nominal) labels, mean and median don't make any sense. Most probable label is what you need to use. This is also known as \"mode\".\n",
    "\n",
    "3. sklearn.impute.MissingIndicator: Sometimes the fact that a value is missing, is itself an important indicator. One can create a new feature/attribute that indicates a certain attribute is missing. If you later build a classifier by hand you can explicitly wieght each variable using the missing variable weights so that for that example (row) that attribute won't contribute to the classifier. In a deep neural network it is possible that the network can learn to do that automatically.\n",
    "\n",
    "4. One can use the sklearn.impute.KNNImputer which will look for rows to fill in the data.\n",
    "\n",
    "5. Fill with sklearn.impute.IterativeImputer scikit-learn provides a sophisticated imputation strategy. You can read up on this in the documentation, but it will fix on of the columns (attributes), and try to use the other features to predict similar to KNN but more sophisticated.\n",
    "\n",
    "6. Train a classifier: You can build your own classifier using machine learning. This is kind of a problem within a problem but if done correctly, it has the potential to be more accurate than a simpler method. Of course, if done badly it could be worse.\n",
    "\n",
    "7. Manually impute the missing values. You may know enough about the problem to build an ad-hoc way to fill in the missing values for each column in a way that makes the most sense. This almost always requires a great deal of domain expertise. \n",
    "\n"
   ]
  },
  {
   "cell_type": "code",
   "execution_count": 4,
   "metadata": {},
   "outputs": [],
   "source": [
    "from sklearn.model_selection import train_test_split\n",
    "import pandas as pd"
   ]
  },
  {
   "cell_type": "code",
   "execution_count": 0,
   "metadata": {
    "colab": {},
    "colab_type": "code",
    "id": "nKVepPF6Dxng"
   },
   "outputs": [],
   "source": [
    "# Add your code for filling in the data here. Please end by using the appropriate bandas method\n",
    "# to show the amount of missing data (which in the end should not be any since you dropped or filled in data)\n",
    "\n",
    "\n",
    "\n",
    "\n",
    "columns = [\n",
    "    \"age\",\n",
    "    \"work_class\",\n",
    "    \"fnlwgt\",\n",
    "    \"education\",\n",
    "    \"education_num\",\n",
    "    \"marital_status\",\n",
    "    \"occupation\",\n",
    "    \"relationship\",\n",
    "    \"race\",\n",
    "    \"sex\",\n",
    "    \"capital_gain\",\n",
    "    \"capital_loss\",\n",
    "    \"hours_per_week\",\n",
    "    \"native_country\",\n",
    "    \"target\"\n",
    "]\n",
    "df = pd.read_csv(\"adult.data\", names=columns)\n",
    "for column in df.columns:\n",
    "    if df[column].dtype == \"object\":\n",
    "        df[column] = df[column].str.strip()"
   ]
  },
  {
   "cell_type": "code",
   "execution_count": 2,
   "metadata": {
    "colab": {
     "base_uri": "https://localhost:8080/",
     "height": 399
    },
    "colab_type": "code",
    "id": "KsCfIlZeDxni",
    "outputId": "a1b8d7d9-bd5d-4593-e74e-d8bb7143a573"
   },
   "outputs": [],
   "source": [
    "#df.info()\n",
    "#df.head()"
   ]
  },
  {
   "cell_type": "code",
   "execution_count": 0,
   "metadata": {
    "colab": {
     "base_uri": "https://localhost:8080/",
     "height": 347
    },
    "colab_type": "code",
    "id": "stxYC5hUDxnl",
    "outputId": "bce67c73-0645-42f2-c9bc-6ea3f1501a8c"
   },
   "outputs": [
    {
     "name": "stdout",
     "output_type": "stream",
     "text": [
      "age               False\n",
      "work_class         True\n",
      "fnlwgt            False\n",
      "education         False\n",
      "education_num     False\n",
      "marital_status    False\n",
      "occupation         True\n",
      "relationship      False\n",
      "race              False\n",
      "sex               False\n",
      "capital_gain      False\n",
      "capital_loss      False\n",
      "hours_per_week    False\n",
      "native_country     True\n",
      "target            False\n",
      "dtype: bool\n",
      "1836\n",
      "1843\n",
      "583\n"
     ]
    }
   ],
   "source": [
    "print(df.isin(['?']).any())\n",
    "print(df[df.work_class == '?'].shape[0])\n",
    "print(df[df.occupation == '?'].shape[0])\n",
    "print(df[df.native_country == '?'].shape[0])"
   ]
  },
  {
   "cell_type": "code",
   "execution_count": 0,
   "metadata": {
    "colab": {},
    "colab_type": "code",
    "id": "4anVemZtDxnn"
   },
   "outputs": [],
   "source": [
    "index = df[df.native_country == '?'].index\n",
    "df.drop(index,inplace=True)"
   ]
  },
  {
   "cell_type": "code",
   "execution_count": 1,
   "metadata": {
    "colab": {
     "base_uri": "https://localhost:8080/",
     "height": 555
    },
    "colab_type": "code",
    "id": "DvFZduhFDxnp",
    "outputId": "22c26397-4c61-477f-a843-8b556c249930"
   },
   "outputs": [],
   "source": [
    "#df.info()\n",
    "#print('work_class',df[df.work_class == '?'].shape[0])\n",
    "#print('occupation',df[df.occupation == '?'].shape[0])\n",
    "#print('native_country',df[df.native_country == '?'].shape[0])\n",
    "#print('occupation count\\n', df.occupation.value_counts())\n",
    "#print('work_class count\\n', df.work_class.value_counts())"
   ]
  },
  {
   "cell_type": "code",
   "execution_count": 0,
   "metadata": {
    "colab": {},
    "colab_type": "code",
    "id": "cX4sUV8GDxnr"
   },
   "outputs": [],
   "source": [
    "import numpy as np\n",
    "import matplotlib.pyplot as plt\n",
    "\n",
    "from sklearn.impute import SimpleImputer\n",
    "\n",
    "imp = SimpleImputer(missing_values='?', strategy='most_frequent')\n",
    "df1 = pd.DataFrame(imp.fit_transform(df),\n",
    "                   columns=df.columns,\n",
    "                   index=df.index)\n"
   ]
  },
  {
   "cell_type": "code",
   "execution_count": 3,
   "metadata": {
    "colab": {
     "base_uri": "https://localhost:8080/",
     "height": 87
    },
    "colab_type": "code",
    "id": "AEKzYjCxDxnt",
    "outputId": "9dca3b4a-ecac-4079-d19f-07ddf1002889"
   },
   "outputs": [],
   "source": [
    "#print(df1[df1.work_class == '?'].shape[0])\n",
    "#print(df1[df1.occupation == '?'].shape[0])\n",
    "#print('occupation count\\n', df1.occupation.value_counts().max())\n",
    "#print('work_class count\\n', df1.work_class.value_counts().max())"
   ]
  },
  {
   "cell_type": "code",
   "execution_count": 0,
   "metadata": {
    "colab": {
     "base_uri": "https://localhost:8080/",
     "height": 291
    },
    "colab_type": "code",
    "id": "5VeU4KdsDxnw",
    "outputId": "f021fabc-bf64-46cb-e0de-e1e12b2cc7ba"
   },
   "outputs": [
    {
     "data": {
      "text/html": [
       "<div>\n",
       "<style scoped>\n",
       "    .dataframe tbody tr th:only-of-type {\n",
       "        vertical-align: middle;\n",
       "    }\n",
       "\n",
       "    .dataframe tbody tr th {\n",
       "        vertical-align: top;\n",
       "    }\n",
       "\n",
       "    .dataframe thead th {\n",
       "        text-align: right;\n",
       "    }\n",
       "</style>\n",
       "<table border=\"1\" class=\"dataframe\">\n",
       "  <thead>\n",
       "    <tr style=\"text-align: right;\">\n",
       "      <th></th>\n",
       "      <th>age</th>\n",
       "      <th>work_class</th>\n",
       "      <th>fnlwgt</th>\n",
       "      <th>education</th>\n",
       "      <th>education_num</th>\n",
       "      <th>marital_status</th>\n",
       "      <th>occupation</th>\n",
       "      <th>relationship</th>\n",
       "      <th>race</th>\n",
       "      <th>sex</th>\n",
       "      <th>capital_gain</th>\n",
       "      <th>capital_loss</th>\n",
       "      <th>hours_per_week</th>\n",
       "      <th>native_country</th>\n",
       "      <th>target</th>\n",
       "    </tr>\n",
       "  </thead>\n",
       "  <tbody>\n",
       "    <tr>\n",
       "      <th>0</th>\n",
       "      <td>39</td>\n",
       "      <td>State-gov</td>\n",
       "      <td>77516</td>\n",
       "      <td>Bachelors</td>\n",
       "      <td>13</td>\n",
       "      <td>Never-married</td>\n",
       "      <td>Adm-clerical</td>\n",
       "      <td>Not-in-family</td>\n",
       "      <td>White</td>\n",
       "      <td>Male</td>\n",
       "      <td>2174</td>\n",
       "      <td>0</td>\n",
       "      <td>40</td>\n",
       "      <td>United-States</td>\n",
       "      <td>&lt;=50K</td>\n",
       "    </tr>\n",
       "    <tr>\n",
       "      <th>1</th>\n",
       "      <td>50</td>\n",
       "      <td>Self-emp-not-inc</td>\n",
       "      <td>83311</td>\n",
       "      <td>Bachelors</td>\n",
       "      <td>13</td>\n",
       "      <td>Married-civ-spouse</td>\n",
       "      <td>Exec-managerial</td>\n",
       "      <td>Husband</td>\n",
       "      <td>White</td>\n",
       "      <td>Male</td>\n",
       "      <td>0</td>\n",
       "      <td>0</td>\n",
       "      <td>13</td>\n",
       "      <td>United-States</td>\n",
       "      <td>&lt;=50K</td>\n",
       "    </tr>\n",
       "    <tr>\n",
       "      <th>2</th>\n",
       "      <td>38</td>\n",
       "      <td>Private</td>\n",
       "      <td>215646</td>\n",
       "      <td>HS-grad</td>\n",
       "      <td>9</td>\n",
       "      <td>Divorced</td>\n",
       "      <td>Handlers-cleaners</td>\n",
       "      <td>Not-in-family</td>\n",
       "      <td>White</td>\n",
       "      <td>Male</td>\n",
       "      <td>0</td>\n",
       "      <td>0</td>\n",
       "      <td>40</td>\n",
       "      <td>United-States</td>\n",
       "      <td>&lt;=50K</td>\n",
       "    </tr>\n",
       "    <tr>\n",
       "      <th>3</th>\n",
       "      <td>53</td>\n",
       "      <td>Private</td>\n",
       "      <td>234721</td>\n",
       "      <td>11th</td>\n",
       "      <td>7</td>\n",
       "      <td>Married-civ-spouse</td>\n",
       "      <td>Handlers-cleaners</td>\n",
       "      <td>Husband</td>\n",
       "      <td>Black</td>\n",
       "      <td>Male</td>\n",
       "      <td>0</td>\n",
       "      <td>0</td>\n",
       "      <td>40</td>\n",
       "      <td>United-States</td>\n",
       "      <td>&lt;=50K</td>\n",
       "    </tr>\n",
       "    <tr>\n",
       "      <th>4</th>\n",
       "      <td>28</td>\n",
       "      <td>Private</td>\n",
       "      <td>338409</td>\n",
       "      <td>Bachelors</td>\n",
       "      <td>13</td>\n",
       "      <td>Married-civ-spouse</td>\n",
       "      <td>Prof-specialty</td>\n",
       "      <td>Wife</td>\n",
       "      <td>Black</td>\n",
       "      <td>Female</td>\n",
       "      <td>0</td>\n",
       "      <td>0</td>\n",
       "      <td>40</td>\n",
       "      <td>Cuba</td>\n",
       "      <td>&lt;=50K</td>\n",
       "    </tr>\n",
       "  </tbody>\n",
       "</table>\n",
       "</div>"
      ],
      "text/plain": [
       "   age        work_class  fnlwgt  ... hours_per_week  native_country target\n",
       "0   39         State-gov   77516  ...             40   United-States  <=50K\n",
       "1   50  Self-emp-not-inc   83311  ...             13   United-States  <=50K\n",
       "2   38           Private  215646  ...             40   United-States  <=50K\n",
       "3   53           Private  234721  ...             40   United-States  <=50K\n",
       "4   28           Private  338409  ...             40            Cuba  <=50K\n",
       "\n",
       "[5 rows x 15 columns]"
      ]
     },
     "execution_count": 14,
     "metadata": {
      "tags": []
     },
     "output_type": "execute_result"
    }
   ],
   "source": [
    "df.head()"
   ]
  },
  {
   "cell_type": "markdown",
   "metadata": {
    "colab_type": "text",
    "id": "CZQBlv_HDxny"
   },
   "source": [
    "## Part 2: Train Test Validate Split\n",
    "\n",
    "Ideally you will split the data and use the train data filling in proceedure for the test data. Because this is expensive you can do experiments initially to see if this matters. Just keep carefully in mind what you will know and what you can't know during the test evaluation. Both sklearn and tensorflow provide facilities for train test split. Take your pick.\n",
    "\n",
    "At the end of this you should have a train, validate and test split. In the next part you are going to do preliminary testing of your model with your train+validation sets to get some idea of good canditates for hyperparameters. Later you will merge your training and validation set and resplit them up using cross validation to get better estimates for setting hyper-parameters\n",
    "\n",
    "**NOTE: It is very important that you record very carefully any parameters you have for filling in data in step 1. For example if you you build a \"fit\" using some training data, later you will need to use the this \"fit\" to transform the data, you can not re-fit on new data. In other words if your \"pipline\" in training takes the mean of the input to fill in the first column, you need to fill with exactly that number, when you get new data for testing. Don't take the mean of the test data.**"
   ]
  },
  {
   "cell_type": "code",
   "execution_count": 0,
   "metadata": {
    "colab": {},
    "colab_type": "code",
    "id": "_eoLRRHKDxny"
   },
   "outputs": [],
   "source": [
    "drop_cols = ['education_num','marital_status','relationship','race','sex','native_country']\n",
    "df1 = df1.drop(drop_cols, axis=1)"
   ]
  },
  {
   "cell_type": "code",
   "execution_count": 0,
   "metadata": {
    "colab": {
     "base_uri": "https://localhost:8080/",
     "height": 237
    },
    "colab_type": "code",
    "id": "6lSTG8vIDxn0",
    "outputId": "5a542070-bea0-42d0-f784-6904509018f0"
   },
   "outputs": [
    {
     "name": "stdout",
     "output_type": "stream",
     "text": [
      "work_class 8\n",
      "occupation 14\n"
     ]
    },
    {
     "data": {
      "text/html": [
       "<div>\n",
       "<style scoped>\n",
       "    .dataframe tbody tr th:only-of-type {\n",
       "        vertical-align: middle;\n",
       "    }\n",
       "\n",
       "    .dataframe tbody tr th {\n",
       "        vertical-align: top;\n",
       "    }\n",
       "\n",
       "    .dataframe thead th {\n",
       "        text-align: right;\n",
       "    }\n",
       "</style>\n",
       "<table border=\"1\" class=\"dataframe\">\n",
       "  <thead>\n",
       "    <tr style=\"text-align: right;\">\n",
       "      <th></th>\n",
       "      <th>age</th>\n",
       "      <th>work_class</th>\n",
       "      <th>fnlwgt</th>\n",
       "      <th>education</th>\n",
       "      <th>occupation</th>\n",
       "      <th>capital_gain</th>\n",
       "      <th>capital_loss</th>\n",
       "      <th>hours_per_week</th>\n",
       "      <th>target</th>\n",
       "    </tr>\n",
       "  </thead>\n",
       "  <tbody>\n",
       "    <tr>\n",
       "      <th>0</th>\n",
       "      <td>39</td>\n",
       "      <td>State-gov</td>\n",
       "      <td>77516</td>\n",
       "      <td>Bachelors</td>\n",
       "      <td>Adm-clerical</td>\n",
       "      <td>2174</td>\n",
       "      <td>0</td>\n",
       "      <td>40</td>\n",
       "      <td>&lt;=50K</td>\n",
       "    </tr>\n",
       "    <tr>\n",
       "      <th>1</th>\n",
       "      <td>50</td>\n",
       "      <td>Self-emp-not-inc</td>\n",
       "      <td>83311</td>\n",
       "      <td>Bachelors</td>\n",
       "      <td>Exec-managerial</td>\n",
       "      <td>0</td>\n",
       "      <td>0</td>\n",
       "      <td>13</td>\n",
       "      <td>&lt;=50K</td>\n",
       "    </tr>\n",
       "    <tr>\n",
       "      <th>2</th>\n",
       "      <td>38</td>\n",
       "      <td>Private</td>\n",
       "      <td>215646</td>\n",
       "      <td>HS-grad</td>\n",
       "      <td>Handlers-cleaners</td>\n",
       "      <td>0</td>\n",
       "      <td>0</td>\n",
       "      <td>40</td>\n",
       "      <td>&lt;=50K</td>\n",
       "    </tr>\n",
       "    <tr>\n",
       "      <th>3</th>\n",
       "      <td>53</td>\n",
       "      <td>Private</td>\n",
       "      <td>234721</td>\n",
       "      <td>11th</td>\n",
       "      <td>Handlers-cleaners</td>\n",
       "      <td>0</td>\n",
       "      <td>0</td>\n",
       "      <td>40</td>\n",
       "      <td>&lt;=50K</td>\n",
       "    </tr>\n",
       "    <tr>\n",
       "      <th>4</th>\n",
       "      <td>28</td>\n",
       "      <td>Private</td>\n",
       "      <td>338409</td>\n",
       "      <td>Bachelors</td>\n",
       "      <td>Prof-specialty</td>\n",
       "      <td>0</td>\n",
       "      <td>0</td>\n",
       "      <td>40</td>\n",
       "      <td>&lt;=50K</td>\n",
       "    </tr>\n",
       "  </tbody>\n",
       "</table>\n",
       "</div>"
      ],
      "text/plain": [
       "  age        work_class  fnlwgt  ... capital_loss hours_per_week target\n",
       "0  39         State-gov   77516  ...            0             40  <=50K\n",
       "1  50  Self-emp-not-inc   83311  ...            0             13  <=50K\n",
       "2  38           Private  215646  ...            0             40  <=50K\n",
       "3  53           Private  234721  ...            0             40  <=50K\n",
       "4  28           Private  338409  ...            0             40  <=50K\n",
       "\n",
       "[5 rows x 9 columns]"
      ]
     },
     "execution_count": 16,
     "metadata": {
      "tags": []
     },
     "output_type": "execute_result"
    }
   ],
   "source": [
    "print('work_class',len(df1.work_class.unique()))\n",
    "print('occupation',len(df1.occupation.unique()))\n",
    "df1.head()"
   ]
  },
  {
   "cell_type": "code",
   "execution_count": 0,
   "metadata": {
    "colab": {
     "base_uri": "https://localhost:8080/",
     "height": 202
    },
    "colab_type": "code",
    "id": "dp07bCh4Dxn2",
    "outputId": "688eb240-13a7-42d5-f768-6a440559f0b9"
   },
   "outputs": [
    {
     "data": {
      "text/html": [
       "<div>\n",
       "<style scoped>\n",
       "    .dataframe tbody tr th:only-of-type {\n",
       "        vertical-align: middle;\n",
       "    }\n",
       "\n",
       "    .dataframe tbody tr th {\n",
       "        vertical-align: top;\n",
       "    }\n",
       "\n",
       "    .dataframe thead th {\n",
       "        text-align: right;\n",
       "    }\n",
       "</style>\n",
       "<table border=\"1\" class=\"dataframe\">\n",
       "  <thead>\n",
       "    <tr style=\"text-align: right;\">\n",
       "      <th></th>\n",
       "      <th>age</th>\n",
       "      <th>work_class</th>\n",
       "      <th>fnlwgt</th>\n",
       "      <th>education</th>\n",
       "      <th>occupation</th>\n",
       "      <th>capital_gain</th>\n",
       "      <th>capital_loss</th>\n",
       "      <th>hours_per_week</th>\n",
       "      <th>target</th>\n",
       "    </tr>\n",
       "  </thead>\n",
       "  <tbody>\n",
       "    <tr>\n",
       "      <th>0</th>\n",
       "      <td>39</td>\n",
       "      <td>State-gov</td>\n",
       "      <td>77516</td>\n",
       "      <td>Bachelors</td>\n",
       "      <td>Adm-clerical</td>\n",
       "      <td>2174</td>\n",
       "      <td>0</td>\n",
       "      <td>40</td>\n",
       "      <td>0</td>\n",
       "    </tr>\n",
       "    <tr>\n",
       "      <th>1</th>\n",
       "      <td>50</td>\n",
       "      <td>Self-emp-not-inc</td>\n",
       "      <td>83311</td>\n",
       "      <td>Bachelors</td>\n",
       "      <td>Exec-managerial</td>\n",
       "      <td>0</td>\n",
       "      <td>0</td>\n",
       "      <td>13</td>\n",
       "      <td>0</td>\n",
       "    </tr>\n",
       "    <tr>\n",
       "      <th>2</th>\n",
       "      <td>38</td>\n",
       "      <td>Private</td>\n",
       "      <td>215646</td>\n",
       "      <td>HS-grad</td>\n",
       "      <td>Handlers-cleaners</td>\n",
       "      <td>0</td>\n",
       "      <td>0</td>\n",
       "      <td>40</td>\n",
       "      <td>0</td>\n",
       "    </tr>\n",
       "    <tr>\n",
       "      <th>3</th>\n",
       "      <td>53</td>\n",
       "      <td>Private</td>\n",
       "      <td>234721</td>\n",
       "      <td>11th</td>\n",
       "      <td>Handlers-cleaners</td>\n",
       "      <td>0</td>\n",
       "      <td>0</td>\n",
       "      <td>40</td>\n",
       "      <td>0</td>\n",
       "    </tr>\n",
       "    <tr>\n",
       "      <th>4</th>\n",
       "      <td>28</td>\n",
       "      <td>Private</td>\n",
       "      <td>338409</td>\n",
       "      <td>Bachelors</td>\n",
       "      <td>Prof-specialty</td>\n",
       "      <td>0</td>\n",
       "      <td>0</td>\n",
       "      <td>40</td>\n",
       "      <td>0</td>\n",
       "    </tr>\n",
       "  </tbody>\n",
       "</table>\n",
       "</div>"
      ],
      "text/plain": [
       "  age        work_class  fnlwgt  ... capital_loss hours_per_week target\n",
       "0  39         State-gov   77516  ...            0             40      0\n",
       "1  50  Self-emp-not-inc   83311  ...            0             13      0\n",
       "2  38           Private  215646  ...            0             40      0\n",
       "3  53           Private  234721  ...            0             40      0\n",
       "4  28           Private  338409  ...            0             40      0\n",
       "\n",
       "[5 rows x 9 columns]"
      ]
     },
     "execution_count": 17,
     "metadata": {
      "tags": []
     },
     "output_type": "execute_result"
    }
   ],
   "source": [
    "from sklearn.preprocessing import LabelEncoder\n",
    "le = LabelEncoder()  \n",
    "df1['target']= le.fit_transform(df1['target'])\n",
    "df1.head()"
   ]
  },
  {
   "cell_type": "code",
   "execution_count": 0,
   "metadata": {
    "colab": {
     "base_uri": "https://localhost:8080/",
     "height": 239
    },
    "colab_type": "code",
    "id": "djG5tt91Dxn5",
    "outputId": "5fa35df3-2a00-4ebb-c0ed-3e48fadce7b5"
   },
   "outputs": [
    {
     "data": {
      "text/html": [
       "<div>\n",
       "<style scoped>\n",
       "    .dataframe tbody tr th:only-of-type {\n",
       "        vertical-align: middle;\n",
       "    }\n",
       "\n",
       "    .dataframe tbody tr th {\n",
       "        vertical-align: top;\n",
       "    }\n",
       "\n",
       "    .dataframe thead th {\n",
       "        text-align: right;\n",
       "    }\n",
       "</style>\n",
       "<table border=\"1\" class=\"dataframe\">\n",
       "  <thead>\n",
       "    <tr style=\"text-align: right;\">\n",
       "      <th></th>\n",
       "      <th>age</th>\n",
       "      <th>fnlwgt</th>\n",
       "      <th>capital_gain</th>\n",
       "      <th>capital_loss</th>\n",
       "      <th>hours_per_week</th>\n",
       "      <th>target</th>\n",
       "      <th>work_class_Federal-gov</th>\n",
       "      <th>work_class_Local-gov</th>\n",
       "      <th>work_class_Never-worked</th>\n",
       "      <th>work_class_Private</th>\n",
       "      <th>work_class_Self-emp-inc</th>\n",
       "      <th>work_class_Self-emp-not-inc</th>\n",
       "      <th>work_class_State-gov</th>\n",
       "      <th>work_class_Without-pay</th>\n",
       "      <th>education_10th</th>\n",
       "      <th>education_11th</th>\n",
       "      <th>education_12th</th>\n",
       "      <th>education_1st-4th</th>\n",
       "      <th>education_5th-6th</th>\n",
       "      <th>education_7th-8th</th>\n",
       "      <th>education_9th</th>\n",
       "      <th>education_Assoc-acdm</th>\n",
       "      <th>education_Assoc-voc</th>\n",
       "      <th>education_Bachelors</th>\n",
       "      <th>education_Doctorate</th>\n",
       "      <th>education_HS-grad</th>\n",
       "      <th>education_Masters</th>\n",
       "      <th>education_Preschool</th>\n",
       "      <th>education_Prof-school</th>\n",
       "      <th>education_Some-college</th>\n",
       "      <th>occupation_Adm-clerical</th>\n",
       "      <th>occupation_Armed-Forces</th>\n",
       "      <th>occupation_Craft-repair</th>\n",
       "      <th>occupation_Exec-managerial</th>\n",
       "      <th>occupation_Farming-fishing</th>\n",
       "      <th>occupation_Handlers-cleaners</th>\n",
       "      <th>occupation_Machine-op-inspct</th>\n",
       "      <th>occupation_Other-service</th>\n",
       "      <th>occupation_Priv-house-serv</th>\n",
       "      <th>occupation_Prof-specialty</th>\n",
       "      <th>occupation_Protective-serv</th>\n",
       "      <th>occupation_Sales</th>\n",
       "      <th>occupation_Tech-support</th>\n",
       "      <th>occupation_Transport-moving</th>\n",
       "    </tr>\n",
       "  </thead>\n",
       "  <tbody>\n",
       "    <tr>\n",
       "      <th>0</th>\n",
       "      <td>39</td>\n",
       "      <td>77516</td>\n",
       "      <td>2174</td>\n",
       "      <td>0</td>\n",
       "      <td>40</td>\n",
       "      <td>0</td>\n",
       "      <td>0</td>\n",
       "      <td>0</td>\n",
       "      <td>0</td>\n",
       "      <td>0</td>\n",
       "      <td>0</td>\n",
       "      <td>0</td>\n",
       "      <td>1</td>\n",
       "      <td>0</td>\n",
       "      <td>0</td>\n",
       "      <td>0</td>\n",
       "      <td>0</td>\n",
       "      <td>0</td>\n",
       "      <td>0</td>\n",
       "      <td>0</td>\n",
       "      <td>0</td>\n",
       "      <td>0</td>\n",
       "      <td>0</td>\n",
       "      <td>1</td>\n",
       "      <td>0</td>\n",
       "      <td>0</td>\n",
       "      <td>0</td>\n",
       "      <td>0</td>\n",
       "      <td>0</td>\n",
       "      <td>0</td>\n",
       "      <td>1</td>\n",
       "      <td>0</td>\n",
       "      <td>0</td>\n",
       "      <td>0</td>\n",
       "      <td>0</td>\n",
       "      <td>0</td>\n",
       "      <td>0</td>\n",
       "      <td>0</td>\n",
       "      <td>0</td>\n",
       "      <td>0</td>\n",
       "      <td>0</td>\n",
       "      <td>0</td>\n",
       "      <td>0</td>\n",
       "      <td>0</td>\n",
       "    </tr>\n",
       "    <tr>\n",
       "      <th>1</th>\n",
       "      <td>50</td>\n",
       "      <td>83311</td>\n",
       "      <td>0</td>\n",
       "      <td>0</td>\n",
       "      <td>13</td>\n",
       "      <td>0</td>\n",
       "      <td>0</td>\n",
       "      <td>0</td>\n",
       "      <td>0</td>\n",
       "      <td>0</td>\n",
       "      <td>0</td>\n",
       "      <td>1</td>\n",
       "      <td>0</td>\n",
       "      <td>0</td>\n",
       "      <td>0</td>\n",
       "      <td>0</td>\n",
       "      <td>0</td>\n",
       "      <td>0</td>\n",
       "      <td>0</td>\n",
       "      <td>0</td>\n",
       "      <td>0</td>\n",
       "      <td>0</td>\n",
       "      <td>0</td>\n",
       "      <td>1</td>\n",
       "      <td>0</td>\n",
       "      <td>0</td>\n",
       "      <td>0</td>\n",
       "      <td>0</td>\n",
       "      <td>0</td>\n",
       "      <td>0</td>\n",
       "      <td>0</td>\n",
       "      <td>0</td>\n",
       "      <td>0</td>\n",
       "      <td>1</td>\n",
       "      <td>0</td>\n",
       "      <td>0</td>\n",
       "      <td>0</td>\n",
       "      <td>0</td>\n",
       "      <td>0</td>\n",
       "      <td>0</td>\n",
       "      <td>0</td>\n",
       "      <td>0</td>\n",
       "      <td>0</td>\n",
       "      <td>0</td>\n",
       "    </tr>\n",
       "    <tr>\n",
       "      <th>2</th>\n",
       "      <td>38</td>\n",
       "      <td>215646</td>\n",
       "      <td>0</td>\n",
       "      <td>0</td>\n",
       "      <td>40</td>\n",
       "      <td>0</td>\n",
       "      <td>0</td>\n",
       "      <td>0</td>\n",
       "      <td>0</td>\n",
       "      <td>1</td>\n",
       "      <td>0</td>\n",
       "      <td>0</td>\n",
       "      <td>0</td>\n",
       "      <td>0</td>\n",
       "      <td>0</td>\n",
       "      <td>0</td>\n",
       "      <td>0</td>\n",
       "      <td>0</td>\n",
       "      <td>0</td>\n",
       "      <td>0</td>\n",
       "      <td>0</td>\n",
       "      <td>0</td>\n",
       "      <td>0</td>\n",
       "      <td>0</td>\n",
       "      <td>0</td>\n",
       "      <td>1</td>\n",
       "      <td>0</td>\n",
       "      <td>0</td>\n",
       "      <td>0</td>\n",
       "      <td>0</td>\n",
       "      <td>0</td>\n",
       "      <td>0</td>\n",
       "      <td>0</td>\n",
       "      <td>0</td>\n",
       "      <td>0</td>\n",
       "      <td>1</td>\n",
       "      <td>0</td>\n",
       "      <td>0</td>\n",
       "      <td>0</td>\n",
       "      <td>0</td>\n",
       "      <td>0</td>\n",
       "      <td>0</td>\n",
       "      <td>0</td>\n",
       "      <td>0</td>\n",
       "    </tr>\n",
       "    <tr>\n",
       "      <th>3</th>\n",
       "      <td>53</td>\n",
       "      <td>234721</td>\n",
       "      <td>0</td>\n",
       "      <td>0</td>\n",
       "      <td>40</td>\n",
       "      <td>0</td>\n",
       "      <td>0</td>\n",
       "      <td>0</td>\n",
       "      <td>0</td>\n",
       "      <td>1</td>\n",
       "      <td>0</td>\n",
       "      <td>0</td>\n",
       "      <td>0</td>\n",
       "      <td>0</td>\n",
       "      <td>0</td>\n",
       "      <td>1</td>\n",
       "      <td>0</td>\n",
       "      <td>0</td>\n",
       "      <td>0</td>\n",
       "      <td>0</td>\n",
       "      <td>0</td>\n",
       "      <td>0</td>\n",
       "      <td>0</td>\n",
       "      <td>0</td>\n",
       "      <td>0</td>\n",
       "      <td>0</td>\n",
       "      <td>0</td>\n",
       "      <td>0</td>\n",
       "      <td>0</td>\n",
       "      <td>0</td>\n",
       "      <td>0</td>\n",
       "      <td>0</td>\n",
       "      <td>0</td>\n",
       "      <td>0</td>\n",
       "      <td>0</td>\n",
       "      <td>1</td>\n",
       "      <td>0</td>\n",
       "      <td>0</td>\n",
       "      <td>0</td>\n",
       "      <td>0</td>\n",
       "      <td>0</td>\n",
       "      <td>0</td>\n",
       "      <td>0</td>\n",
       "      <td>0</td>\n",
       "    </tr>\n",
       "    <tr>\n",
       "      <th>4</th>\n",
       "      <td>28</td>\n",
       "      <td>338409</td>\n",
       "      <td>0</td>\n",
       "      <td>0</td>\n",
       "      <td>40</td>\n",
       "      <td>0</td>\n",
       "      <td>0</td>\n",
       "      <td>0</td>\n",
       "      <td>0</td>\n",
       "      <td>1</td>\n",
       "      <td>0</td>\n",
       "      <td>0</td>\n",
       "      <td>0</td>\n",
       "      <td>0</td>\n",
       "      <td>0</td>\n",
       "      <td>0</td>\n",
       "      <td>0</td>\n",
       "      <td>0</td>\n",
       "      <td>0</td>\n",
       "      <td>0</td>\n",
       "      <td>0</td>\n",
       "      <td>0</td>\n",
       "      <td>0</td>\n",
       "      <td>1</td>\n",
       "      <td>0</td>\n",
       "      <td>0</td>\n",
       "      <td>0</td>\n",
       "      <td>0</td>\n",
       "      <td>0</td>\n",
       "      <td>0</td>\n",
       "      <td>0</td>\n",
       "      <td>0</td>\n",
       "      <td>0</td>\n",
       "      <td>0</td>\n",
       "      <td>0</td>\n",
       "      <td>0</td>\n",
       "      <td>0</td>\n",
       "      <td>0</td>\n",
       "      <td>0</td>\n",
       "      <td>1</td>\n",
       "      <td>0</td>\n",
       "      <td>0</td>\n",
       "      <td>0</td>\n",
       "      <td>0</td>\n",
       "    </tr>\n",
       "  </tbody>\n",
       "</table>\n",
       "</div>"
      ],
      "text/plain": [
       "  age  fnlwgt  ... occupation_Tech-support occupation_Transport-moving\n",
       "0  39   77516  ...                       0                           0\n",
       "1  50   83311  ...                       0                           0\n",
       "2  38  215646  ...                       0                           0\n",
       "3  53  234721  ...                       0                           0\n",
       "4  28  338409  ...                       0                           0\n",
       "\n",
       "[5 rows x 44 columns]"
      ]
     },
     "execution_count": 18,
     "metadata": {
      "tags": []
     },
     "output_type": "execute_result"
    }
   ],
   "source": [
    "df_final = pd.get_dummies(data=df1, columns=['work_class','education','occupation'])\n",
    "df_final.head()"
   ]
  },
  {
   "cell_type": "code",
   "execution_count": 0,
   "metadata": {
    "colab": {},
    "colab_type": "code",
    "id": "DDPT6R5lDxn9"
   },
   "outputs": [],
   "source": [
    "X = df_final[['age', 'fnlwgt', 'capital_gain', 'capital_loss', 'hours_per_week',\n",
    "       'work_class_Federal-gov', 'work_class_Local-gov',\n",
    "       'work_class_Never-worked', 'work_class_Private',\n",
    "       'work_class_Self-emp-inc', 'work_class_Self-emp-not-inc',\n",
    "       'work_class_State-gov', 'work_class_Without-pay', 'education_10th',\n",
    "       'education_11th', 'education_12th', 'education_1st-4th',\n",
    "       'education_5th-6th', 'education_7th-8th', 'education_9th',\n",
    "       'education_Assoc-acdm', 'education_Assoc-voc', 'education_Bachelors',\n",
    "       'education_Doctorate', 'education_HS-grad', 'education_Masters',\n",
    "       'education_Preschool', 'education_Prof-school',\n",
    "       'education_Some-college', 'occupation_Adm-clerical',\n",
    "       'occupation_Armed-Forces', 'occupation_Craft-repair',\n",
    "       'occupation_Exec-managerial', 'occupation_Farming-fishing',\n",
    "       'occupation_Handlers-cleaners', 'occupation_Machine-op-inspct',\n",
    "       'occupation_Other-service', 'occupation_Priv-house-serv',\n",
    "       'occupation_Prof-specialty', 'occupation_Protective-serv',\n",
    "       'occupation_Sales', 'occupation_Tech-support',\n",
    "       'occupation_Transport-moving']]\n",
    "y = df_final['target']"
   ]
  },
  {
   "cell_type": "code",
   "execution_count": 0,
   "metadata": {
    "colab": {},
    "colab_type": "code",
    "id": "Posv6X-MDxn_"
   },
   "outputs": [],
   "source": [
    "# Fill your solution for a train-test split in here.\n",
    "X_train_val,X_test,y_train_val,y_test = train_test_split(X,y, test_size=0.2, random_state=42)\n",
    "X_train,X_val,y_train,y_val = train_test_split(X_train_val,y_train_val, test_size=0.2, random_state=42)"
   ]
  },
  {
   "cell_type": "code",
   "execution_count": 0,
   "metadata": {
    "colab": {
     "base_uri": "https://localhost:8080/",
     "height": 35
    },
    "colab_type": "code",
    "id": "pYXuneQ2DxoB",
    "outputId": "79949d0b-2b89-424e-c19c-2e583a173a37"
   },
   "outputs": [
    {
     "data": {
      "text/plain": [
       "(25582,)"
      ]
     },
     "execution_count": 21,
     "metadata": {
      "tags": []
     },
     "output_type": "execute_result"
    }
   ],
   "source": [
    "y_train_val.shape"
   ]
  },
  {
   "cell_type": "markdown",
   "metadata": {
    "colab_type": "text",
    "id": "yU32opX9DxoC"
   },
   "source": [
    "## Part 3: Build different 2 sklearn models and five different variations of Keras/tensorflow  models\n",
    "\n",
    "Two simple models should be baseline from sklearn. Try a logistic regression and a random forest to know what your dense neural network should be able to beat. Use the training and validation data from above (don't look at the testing data). Try varations on the number of noDes in a layer, the number of layers. Also play with feature selection. You can try to eliminate featuers and see if your validation score goes up or down. See how the batch size effects things.\n",
    "\n",
    "### At the end of this section provide a report with figures on your conclusion on how these things effected preformance:\n",
    "\n",
    "* number of hidden layers\n",
    "* number of nodes per hidden layer aka matrix dimension\n",
    "* activation function\n",
    "* weight initialization\n",
    "* metrics for evaluation\n",
    "* batch size\n",
    "* number of epochs\n",
    "* optimizer\n",
    "* also carry out feature selection / dimensionality reduction\n",
    "* does the model do better or worse with dimensionality reduction?\n",
    "\n",
    "** Note: do not try regularization yet!*\n"
   ]
  },
  {
   "cell_type": "code",
   "execution_count": 0,
   "metadata": {
    "colab": {},
    "colab_type": "code",
    "id": "QzxJzFjcDxoD"
   },
   "outputs": [],
   "source": [
    "def evaluate_classifier(clf,X_train, X_val,X_test, y_train, y_val, y_test):\n",
    "    y_pred_val = clf.predict(X_val)\n",
    "    y_pred_test = clf.predict(X_test)\n",
    "    print(\"accuracy_score on validation set:\",accuracy_score(y_val, y_pred_val))\n",
    "    print(\"f1_score  on validation  set:\", f1_score(y_val, y_pred_val))\n",
    "    print(\"precision_score on validation  set:\", precision_score(y_val, y_pred_val))\n",
    "    print(\"recall_score on validation  set:\", recall_score(y_val, y_pred_val))\n",
    "    print(\"accuracy_score on test set:\",accuracy_score(y_test, y_pred_test))\n",
    "    print(\"f1_score  on test  set:\", f1_score(y_test, y_pred_test))\n",
    "    print(\"precision_score on test  set:\", precision_score(y_val, y_pred_val))\n",
    "    print(\"recall_score on test  set:\", recall_score(y_val, y_pred_val))"
   ]
  },
  {
   "cell_type": "code",
   "execution_count": 0,
   "metadata": {
    "colab": {
     "base_uri": "https://localhost:8080/",
     "height": 347
    },
    "colab_type": "code",
    "id": "TBta98v7DxoF",
    "outputId": "298f4c9b-af08-4924-9a41-66b2e7537341"
   },
   "outputs": [
    {
     "name": "stdout",
     "output_type": "stream",
     "text": [
      "Logistic Regression\n",
      "accuracy_score on validation set: 0.802423294899355\n",
      "f1_score  on validation  set: 0.38912386706948643\n",
      "precision_score on validation  set: 0.7235955056179775\n",
      "recall_score on validation  set: 0.26611570247933886\n",
      "accuracy_score on test set: 0.7972170106316447\n",
      "f1_score  on test  set: 0.3803153368370759\n",
      "precision_score on test  set: 0.7235955056179775\n",
      "recall_score on test  set: 0.26611570247933886\n",
      "=============================================================\n",
      "Random Forest\n",
      "accuracy_score on validation set: 0.8248974008207934\n",
      "f1_score  on validation  set: 0.5737392959086585\n",
      "precision_score on validation  set: 0.6760089686098655\n",
      "recall_score on validation  set: 0.4983471074380165\n",
      "accuracy_score on test set: 0.8125390869293309\n",
      "f1_score  on test  set: 0.54600530102234\n",
      "precision_score on test  set: 0.6760089686098655\n",
      "recall_score on test  set: 0.4983471074380165\n"
     ]
    }
   ],
   "source": [
    "# Get baseline results here with logisic regression and random forest\n",
    "from sklearn.linear_model import LogisticRegression\n",
    "from sklearn.ensemble import RandomForestClassifier\n",
    "from sklearn.metrics import accuracy_score,precision_score,f1_score,recall_score\n",
    "\n",
    "logreg = LogisticRegression()\n",
    "logreg.fit(X_train,y_train)\n",
    "print('Logistic Regression')\n",
    "evaluate_classifier(logreg,X_train,X_val,X_test,y_train,y_val,y_test)\n",
    "\n",
    "rf = RandomForestClassifier(n_estimators=10)\n",
    "rf.fit(X_train,y_train)\n",
    "print('=============================================================')\n",
    "print('Random Forest')\n",
    "evaluate_classifier(rf,X_train,X_val,X_test,y_train,y_val,y_test)\n"
   ]
  },
  {
   "cell_type": "code",
   "execution_count": 0,
   "metadata": {
    "colab": {},
    "colab_type": "code",
    "id": "BN0ovfcODxoH"
   },
   "outputs": [],
   "source": [
    "X_train_nn = np.array(X_train_val)\n",
    "y_train_oh = pd.get_dummies(data= y_train_val)\n",
    "y_train_nn = np.array(y_train_oh)"
   ]
  },
  {
   "cell_type": "code",
   "execution_count": 0,
   "metadata": {
    "colab": {},
    "colab_type": "code",
    "id": "yADsebZ-DxoI"
   },
   "outputs": [],
   "source": [
    "X_test_nn = np.array(X_test)\n",
    "X_val_nn = np.array(X_val)\n",
    "\n",
    "y_test_nn = pd.get_dummies(data = y_test)\n",
    "y_val_nn = pd.get_dummies(data = y_val)"
   ]
  },
  {
   "cell_type": "code",
   "execution_count": 0,
   "metadata": {
    "colab": {},
    "colab_type": "code",
    "id": "2gkg97joDxoK"
   },
   "outputs": [],
   "source": [
    "X_train_nn1 = np.asarray(X_train_val).astype(np.float32)\n",
    "y_train_nn1 = np.asarray(y_train_oh)\n",
    "\n",
    "X_test_nn1 = np.asarray(X_test_nn).astype(np.float32)\n",
    "y_test_nn1 = np.asarray(y_test_nn).astype(np.float32)\n",
    "\n",
    "X_val_nn1 = np.asarray(X_val_nn).astype(np.float32)\n",
    "y_val_nn1 = np.asarray(y_val_nn).astype(np.float32)"
   ]
  },
  {
   "cell_type": "code",
   "execution_count": 0,
   "metadata": {
    "colab": {
     "base_uri": "https://localhost:8080/",
     "height": 35
    },
    "colab_type": "code",
    "id": "7zZUfbbNDxoM",
    "outputId": "9b76f113-a422-4f49-d137-e591a8097f60"
   },
   "outputs": [
    {
     "data": {
      "text/plain": [
       "(25582, 2)"
      ]
     },
     "execution_count": 27,
     "metadata": {
      "tags": []
     },
     "output_type": "execute_result"
    }
   ],
   "source": [
    "y_train_nn1= y_train_nn1.astype(np.float32)\n",
    "y_train_nn1.shape"
   ]
  },
  {
   "cell_type": "code",
   "execution_count": 0,
   "metadata": {
    "colab": {},
    "colab_type": "code",
    "id": "h2SDKLvSDxoN"
   },
   "outputs": [],
   "source": [
    "# Set up your models here\n",
    "#from keras.models import Sequential\n",
    "from tensorflow.keras.models import Sequential\n",
    "from tensorflow.keras.layers import Dense,Conv2D,Dropout,Flatten\n",
    "import tensorflow as tf\n",
    "\n",
    "metrics = [\n",
    "    tf.keras.metrics.AUC(),\n",
    "    tf.keras.metrics.Accuracy(),\n",
    "    tf.keras.metrics.Precision(),\n",
    "    tf.keras.metrics.Recall()]\n",
    "\n",
    "def model_one(X_train_nn1,y_train_nn1):\n",
    "    model_1 = Sequential()\n",
    "    model_1.add(Dense(100,input_dim=43,activation='relu'))\n",
    "    model_1.add(Dense(2, activation='softmax'))\n",
    "    model_1.compile(loss='binary_crossentropy', optimizer='adam', metrics = metrics)\n",
    "    history = model_1.fit(X_train_nn1,y_train_nn1, validation_split= 0.2,epochs = 5,batch_size = 10)\n",
    "    print(history.history.keys())\n",
    "    # summarize history for accuracy and loss\n",
    "    acc = history.history['accuracy']\n",
    "    val_acc = history.history['val_accuracy']\n",
    "    loss = history.history['loss']\n",
    "    val_loss = history.history['val_loss']\n",
    "    epochs = range(len(acc))\n",
    "\n",
    "    plt.plot(epochs, acc, label='Training acc')\n",
    "    plt.plot(epochs, val_acc, label='Validation acc')\n",
    "    plt.title('Training and validation accuracy')\n",
    "    plt.legend()\n",
    "    plt.figure()\n",
    "    plt.plot(epochs, loss, label='Training loss')\n",
    "    plt.plot(epochs, val_loss, label='Validation loss')\n",
    "    plt.title('Training and validation loss')\n",
    "    plt.legend()\n",
    "    plt.show()\n",
    "    return model_1\n",
    "\n",
    "def model_two(X_train_nn1,y_train_nn1):\n",
    "    model_2 = Sequential()\n",
    "    model_2.add(Dense(64,input_dim=43,activation='relu'))\n",
    "    model_2.add(Flatten())\n",
    "    model_2.add(Dense(2, activation='softmax'))\n",
    "    model_2.compile(loss='binary_crossentropy', optimizer='adam', metrics = metrics)\n",
    "    history = model_2.fit(X_train_nn1,y_train_nn1, validation_split= 0.2,epochs = 5,batch_size = 10)\n",
    "    acc = history.history['accuracy']\n",
    "    val_acc = history.history['val_accuracy']\n",
    "    loss = history.history['loss']\n",
    "    val_loss = history.history['val_loss']\n",
    "    epochs = range(len(acc))\n",
    "\n",
    "    plt.plot(epochs, acc, label='Training acc')\n",
    "    plt.plot(epochs, val_acc, label='Validation acc')\n",
    "    plt.title('Training and validation accuracy')\n",
    "    plt.legend()\n",
    "    plt.figure()\n",
    "    plt.plot(epochs, loss, label='Training loss')\n",
    "    plt.plot(epochs, val_loss, label='Validation loss')\n",
    "    plt.title('Training and validation loss')\n",
    "    plt.legend()\n",
    "    plt.show()\n",
    "    return model_2\n",
    "\n",
    "\n",
    "def model_three(X_train_nn1,y_train_nn1):\n",
    "    model_3 = Sequential()\n",
    "    model_3.add(Dense(64, input_dim=43, activation='relu'))\n",
    "    model_3.add(Dropout(0.5))   \n",
    "    model_3.add(Dense(2, activation='relu'))\n",
    "    model_3.compile(loss='binary_crossentropy',optimizer='rmsprop', metrics = ['accuracy'])\n",
    "    history= model_3.fit(X_train_nn1,y_train_nn1,validation_split= 0.4, epochs = 7, batch_size = 32)\n",
    "    acc = history.history['accuracy']\n",
    "    val_acc = history.history['val_accuracy']\n",
    "    loss = history.history['loss']\n",
    "    val_loss = history.history['val_loss']\n",
    "    epochs = range(len(acc))\n",
    "\n",
    "    plt.plot(epochs, acc, label='Training acc')\n",
    "    plt.plot(epochs, val_acc, label='Validation acc')\n",
    "    plt.title('Training and validation accuracy')\n",
    "    plt.legend()\n",
    "    plt.figure()\n",
    "    plt.plot(epochs, loss, label='Training loss')\n",
    "    plt.plot(epochs, val_loss, label='Validation loss')\n",
    "    plt.title('Training and validation loss')\n",
    "    plt.legend()\n",
    "    plt.show()\n",
    "    return model_3\n",
    "\n",
    "def model_four(X_train_nn1,y_train_nn1):\n",
    "    model_4 = Sequential()\n",
    "    model_4.add(Dense(100, input_dim=43, activation='relu'))\n",
    "    model_4.add(Dense(32, activation='relu'))\n",
    "    model_4.add(Dropout(0.5))\n",
    "    model_4.add(Dense(2, activation='sigmoid'))\n",
    "    model_4.compile(loss='binary_crossentropy', optimizer='adam', metrics = ['accuracy'])\n",
    "    history= model_4.fit(X_train_nn1,y_train_nn1, epochs = 9, batch_size=10)\n",
    "    acc = history.history['accuracy']\n",
    "    loss = history.history['loss']\n",
    "    epochs = range(len(acc))\n",
    "\n",
    "    plt.plot(epochs, acc, label='Training acc')\n",
    "    plt.plot(epochs, loss, label='Training loss')\n",
    "    plt.title('Training acc and Training loss')\n",
    "    plt.legend()\n",
    "    plt.show()\n",
    "    return model_4\n",
    "\n",
    "def model_five(X_train_nn1,y_train_nn1):\n",
    "    model_5 = Sequential()\n",
    "    model_5.add(Dense(64, input_dim=43, activation='relu'))\n",
    "    model_5.add(Dense(32, activation='relu'))\n",
    "    model_5.add(Dense(16, activation='relu'))\n",
    "    model_5.add(Dense(2, activation='sigmoid'))\n",
    "    model_5.compile(loss='binary_crossentropy', optimizer='adam', metrics = metrics)\n",
    "    history = model_5.fit(X_train_nn1,y_train_nn1, epochs=12, batch_size=10)\n",
    "    acc = history.history['accuracy']\n",
    "    loss = history.history['loss']\n",
    "    epochs = range(len(acc))\n",
    "\n",
    "    plt.plot(epochs, acc, label='Training acc')\n",
    "    plt.plot(epochs, loss, label='Training loss')\n",
    "    plt.title('Training acc and Training loss')\n",
    "    plt.legend()\n",
    "    plt.figure()\n",
    "    plt.show()\n",
    "    return model_5"
   ]
  },
  {
   "cell_type": "code",
   "execution_count": 0,
   "metadata": {
    "colab": {
     "base_uri": "https://localhost:8080/",
     "height": 860
    },
    "colab_type": "code",
    "id": "ngF3OB2rDxoP",
    "outputId": "287f0896-86a1-4cb7-f53c-8442099f6609"
   },
   "outputs": [
    {
     "name": "stdout",
     "output_type": "stream",
     "text": [
      "Epoch 1/5\n",
      "2047/2047 [==============================] - 4s 2ms/step - loss: 3.6755 - auc_1: 0.7605 - accuracy: 0.6082 - precision_1: 0.7610 - recall_1: 0.7610 - val_loss: 3.7496 - val_auc_1: 0.7555 - val_accuracy: 0.7555 - val_precision_1: 0.7555 - val_recall_1: 0.7555\n",
      "Epoch 2/5\n",
      "2047/2047 [==============================] - 4s 2ms/step - loss: 3.6752 - auc_1: 0.7604 - accuracy: 0.7604 - precision_1: 0.7604 - recall_1: 0.7604 - val_loss: 3.7496 - val_auc_1: 0.7555 - val_accuracy: 0.7555 - val_precision_1: 0.7555 - val_recall_1: 0.7555\n",
      "Epoch 3/5\n",
      "2047/2047 [==============================] - 4s 2ms/step - loss: 3.6752 - auc_1: 0.7604 - accuracy: 0.7604 - precision_1: 0.7604 - recall_1: 0.7604 - val_loss: 3.7496 - val_auc_1: 0.7555 - val_accuracy: 0.7555 - val_precision_1: 0.7555 - val_recall_1: 0.7555\n",
      "Epoch 4/5\n",
      "2047/2047 [==============================] - 4s 2ms/step - loss: 3.6752 - auc_1: 0.7604 - accuracy: 0.7604 - precision_1: 0.7604 - recall_1: 0.7604 - val_loss: 3.7496 - val_auc_1: 0.7555 - val_accuracy: 0.7555 - val_precision_1: 0.7555 - val_recall_1: 0.7555\n",
      "Epoch 5/5\n",
      "2047/2047 [==============================] - 4s 2ms/step - loss: 3.6752 - auc_1: 0.7604 - accuracy: 0.7604 - precision_1: 0.7604 - recall_1: 0.7604 - val_loss: 3.7496 - val_auc_1: 0.7555 - val_accuracy: 0.7555 - val_precision_1: 0.7555 - val_recall_1: 0.7555\n",
      "dict_keys(['loss', 'auc_1', 'accuracy', 'precision_1', 'recall_1', 'val_loss', 'val_auc_1', 'val_accuracy', 'val_precision_1', 'val_recall_1'])\n"
     ]
    },
    {
     "data": {
      "image/png": "[encoded data removed]",
      "text/plain": [
       "<Figure size 432x288 with 1 Axes>"
      ]
     },
     "metadata": {
      "needs_background": "light",
      "tags": []
     },
     "output_type": "display_data"
    },
    {
     "data": {
      "image/png": "[encoded data removed]",
      "text/plain": [
       "<Figure size 432x288 with 1 Axes>"
      ]
     },
     "metadata": {
      "needs_background": "light",
      "tags": []
     },
     "output_type": "display_data"
    },
    {
     "name": "stdout",
     "output_type": "stream",
     "text": [
      "320/320 [==============================] - 0s 1ms/step - loss: 3.6267 - auc_1: 0.7635 - accuracy: 0.7635 - precision_1: 0.7635 - recall_1: 0.7635\n"
     ]
    },
    {
     "data": {
      "text/plain": [
       "[3.626711845397949,\n",
       " 0.763533353805542,\n",
       " 0.7635332942008972,\n",
       " 0.7635332942008972,\n",
       " 0.7635332942008972]"
      ]
     },
     "execution_count": 32,
     "metadata": {
      "tags": []
     },
     "output_type": "execute_result"
    }
   ],
   "source": [
    "model1 = model_one(X_train_nn1,y_train_nn1)\n",
    "model1.evaluate(X_val_nn1,y_val_nn1, batch_size=16)\n",
    "#print(model1.evaluate(X_test_nn1,y_test_nn1))\n",
    "#model1.summary()"
   ]
  },
  {
   "cell_type": "markdown",
   "metadata": {
    "colab": {},
    "colab_type": "code",
    "id": "WixTqZjVYvDo"
   },
   "source": [
    "Model 1 has very good accuracy but loss is alos too high"
   ]
  },
  {
   "cell_type": "code",
   "execution_count": 0,
   "metadata": {
    "colab": {
     "base_uri": "https://localhost:8080/",
     "height": 843
    },
    "colab_type": "code",
    "id": "uKwu_xZ0DxoR",
    "outputId": "1af6d75e-5dfb-4926-ecd9-ab89a3c9fcb7"
   },
   "outputs": [
    {
     "name": "stdout",
     "output_type": "stream",
     "text": [
      "Epoch 1/5\n",
      "2047/2047 [==============================] - 4s 2ms/step - loss: 11.6619 - auc_1: 0.3444 - accuracy: 0.3444 - precision_1: 0.3444 - recall_1: 0.3444 - val_loss: 11.5875 - val_auc_1: 0.2445 - val_accuracy: 0.2445 - val_precision_1: 0.2445 - val_recall_1: 0.2445\n",
      "Epoch 2/5\n",
      "2047/2047 [==============================] - 4s 2ms/step - loss: 11.6619 - auc_1: 0.2396 - accuracy: 0.2396 - precision_1: 0.2396 - recall_1: 0.2396 - val_loss: 11.5875 - val_auc_1: 0.2445 - val_accuracy: 0.2445 - val_precision_1: 0.2445 - val_recall_1: 0.2445\n",
      "Epoch 3/5\n",
      "2047/2047 [==============================] - 4s 2ms/step - loss: 11.6619 - auc_1: 0.2396 - accuracy: 0.2396 - precision_1: 0.2396 - recall_1: 0.2396 - val_loss: 11.5875 - val_auc_1: 0.2445 - val_accuracy: 0.2445 - val_precision_1: 0.2445 - val_recall_1: 0.2445\n",
      "Epoch 4/5\n",
      "2047/2047 [==============================] - 4s 2ms/step - loss: 11.6619 - auc_1: 0.2396 - accuracy: 0.2396 - precision_1: 0.2396 - recall_1: 0.2396 - val_loss: 11.5875 - val_auc_1: 0.2445 - val_accuracy: 0.2445 - val_precision_1: 0.2445 - val_recall_1: 0.2445\n",
      "Epoch 5/5\n",
      "2047/2047 [==============================] - 4s 2ms/step - loss: 11.6619 - auc_1: 0.2396 - accuracy: 0.2396 - precision_1: 0.2396 - recall_1: 0.2396 - val_loss: 11.5875 - val_auc_1: 0.2445 - val_accuracy: 0.2445 - val_precision_1: 0.2445 - val_recall_1: 0.2445\n"
     ]
    },
    {
     "data": {
      "image/png": "[encoded data removed]",
      "text/plain": [
       "<Figure size 432x288 with 1 Axes>"
      ]
     },
     "metadata": {
      "needs_background": "light",
      "tags": []
     },
     "output_type": "display_data"
    },
    {
     "data": {
      "image/png": "[encoded data removed]",
      "text/plain": [
       "<Figure size 432x288 with 1 Axes>"
      ]
     },
     "metadata": {
      "needs_background": "light",
      "tags": []
     },
     "output_type": "display_data"
    },
    {
     "name": "stdout",
     "output_type": "stream",
     "text": [
      "320/320 [==============================] - 0s 1ms/step - loss: 11.7104 - auc_1: 0.2365 - accuracy: 0.2365 - precision_1: 0.2365 - recall_1: 0.2365\n"
     ]
    },
    {
     "data": {
      "text/plain": [
       "[11.710391998291016,\n",
       " 0.2364666759967804,\n",
       " 0.2364666759967804,\n",
       " 0.2364666759967804,\n",
       " 0.2364666759967804]"
      ]
     },
     "execution_count": 34,
     "metadata": {
      "tags": []
     },
     "output_type": "execute_result"
    }
   ],
   "source": [
    "# model 2\n",
    "model2 = model_two(X_train_nn1,y_train_nn1)\n",
    "model2.evaluate(X_val_nn1,y_val_nn1,batch_size=16)\n",
    "#print(model2.evaluate(X_test_nn1,y_test_nn1))\n"
   ]
  },
  {
   "cell_type": "markdown",
   "metadata": {
    "colab": {},
    "colab_type": "code",
    "id": "f7PdeLRMYX2w"
   },
   "source": [
    "model 2 has really perforemed very bad high loss and loss accuracy"
   ]
  },
  {
   "cell_type": "code",
   "execution_count": 0,
   "metadata": {
    "colab": {
     "base_uri": "https://localhost:8080/",
     "height": 823
    },
    "colab_type": "code",
    "id": "eixasAiXDxoT",
    "outputId": "f3cf3b0f-8157-4df7-d843-a2aaa595f036"
   },
   "outputs": [
    {
     "name": "stdout",
     "output_type": "stream",
     "text": [
      "Epoch 1/7\n",
      "480/480 [==============================] - 1s 2ms/step - loss: 10.0314 - accuracy: 0.2922 - val_loss: 11.6551 - val_accuracy: 0.2422\n",
      "Epoch 2/7\n",
      "480/480 [==============================] - 1s 2ms/step - loss: 9.9747 - accuracy: 0.2986 - val_loss: 11.6633 - val_accuracy: 0.2422\n",
      "Epoch 3/7\n",
      "480/480 [==============================] - 1s 2ms/step - loss: 9.9017 - accuracy: 0.2970 - val_loss: 11.6633 - val_accuracy: 0.2422\n",
      "Epoch 4/7\n",
      "480/480 [==============================] - 1s 2ms/step - loss: 9.8299 - accuracy: 0.3017 - val_loss: 11.6633 - val_accuracy: 0.2422\n",
      "Epoch 5/7\n",
      "480/480 [==============================] - 1s 2ms/step - loss: 9.9020 - accuracy: 0.2944 - val_loss: 11.6633 - val_accuracy: 0.2422\n",
      "Epoch 6/7\n",
      "480/480 [==============================] - 1s 2ms/step - loss: 9.9291 - accuracy: 0.2967 - val_loss: 11.6633 - val_accuracy: 0.2422\n",
      "Epoch 7/7\n",
      "480/480 [==============================] - 1s 2ms/step - loss: 9.8679 - accuracy: 0.2990 - val_loss: 11.6633 - val_accuracy: 0.2422\n"
     ]
    },
    {
     "data": {
      "image/png": "[encoded data removed]",
      "text/plain": [
       "<Figure size 432x288 with 1 Axes>"
      ]
     },
     "metadata": {
      "needs_background": "light",
      "tags": []
     },
     "output_type": "display_data"
    },
    {
     "data": {
      "image/png": "[encoded data removed]",
      "text/plain": [
       "<Figure size 432x288 with 1 Axes>"
      ]
     },
     "metadata": {
      "needs_background": "light",
      "tags": []
     },
     "output_type": "display_data"
    },
    {
     "name": "stdout",
     "output_type": "stream",
     "text": [
      "214/214 [==============================] - 0s 1ms/step - loss: 11.7461 - accuracy: 0.2365\n"
     ]
    },
    {
     "data": {
      "text/plain": [
       "[11.746127128601074, 0.2364666759967804]"
      ]
     },
     "execution_count": 38,
     "metadata": {
      "tags": []
     },
     "output_type": "execute_result"
    }
   ],
   "source": [
    "#model3\n",
    "model3 = model_three(X_train_nn1,y_train_nn1)\n",
    "model3.evaluate(X_val_nn1,y_val_nn1, batch_size=24)\n",
    "#model3.summary()\n",
    "#print(model3.evaluate(X_test_nn1,y_test_nn1))"
   ]
  },
  {
   "cell_type": "markdown",
   "metadata": {},
   "source": [
    "In model 3 train data has perforemed well but the validation data is very bad may it is confused with new dataset "
   ]
  },
  {
   "cell_type": "code",
   "execution_count": 0,
   "metadata": {
    "colab": {
     "base_uri": "https://localhost:8080/",
     "height": 628
    },
    "colab_type": "code",
    "id": "n_Dd72AJDxoV",
    "outputId": "559e4350-8ea4-4ffe-c5eb-d7d7d6ce87d6"
   },
   "outputs": [
    {
     "name": "stdout",
     "output_type": "stream",
     "text": [
      "Epoch 1/9\n",
      "2559/2559 [==============================] - 4s 1ms/step - loss: 112.4925 - accuracy: 0.7598\n",
      "Epoch 2/9\n",
      "2559/2559 [==============================] - 4s 1ms/step - loss: 0.6888 - accuracy: 0.7643\n",
      "Epoch 3/9\n",
      "2559/2559 [==============================] - 4s 1ms/step - loss: 0.5601 - accuracy: 0.7624\n",
      "Epoch 4/9\n",
      "2559/2559 [==============================] - 4s 1ms/step - loss: 0.6442 - accuracy: 0.7605\n",
      "Epoch 5/9\n",
      "2559/2559 [==============================] - 4s 2ms/step - loss: 0.5503 - accuracy: 0.7605\n",
      "Epoch 6/9\n",
      "2559/2559 [==============================] - 4s 1ms/step - loss: 0.5507 - accuracy: 0.7602\n",
      "Epoch 7/9\n",
      "2559/2559 [==============================] - 4s 1ms/step - loss: 0.5508 - accuracy: 0.7601\n",
      "Epoch 8/9\n",
      "2559/2559 [==============================] - 4s 1ms/step - loss: 0.5506 - accuracy: 0.7603\n",
      "Epoch 9/9\n",
      "2559/2559 [==============================] - 4s 2ms/step - loss: 0.5504 - accuracy: 0.7604\n"
     ]
    },
    {
     "data": {
      "image/png": "[encoded data removed]",
      "text/plain": [
       "<Figure size 432x288 with 1 Axes>"
      ]
     },
     "metadata": {
      "needs_background": "light",
      "tags": []
     },
     "output_type": "display_data"
    },
    {
     "name": "stdout",
     "output_type": "stream",
     "text": [
      "160/160 [==============================] - 0s 1ms/step - loss: 0.5448 - accuracy: 0.7651\n",
      "[0.5447905659675598, 0.7650967240333557]\n"
     ]
    }
   ],
   "source": [
    "model4 = model_four(X_train_nn1,y_train_nn1)\n",
    "print(model4.evaluate(X_val_nn1,y_val_nn1))\n",
    "#model4.summary()\n",
    "#print(model4.evaluate(X_test_nn1,y_test_nn1))"
   ]
  },
  {
   "cell_type": "code",
   "execution_count": 42,
   "metadata": {
    "colab": {
     "base_uri": "https://localhost:8080/",
     "height": 839
    },
    "colab_type": "code",
    "id": "fdFp4JqcDxoX",
    "outputId": "ebb01a9f-d149-4bbc-abab-a2e368c509ab",
    "scrolled": false
   },
   "outputs": [
    {
     "name": "stdout",
     "output_type": "stream",
     "text": [
      "Epoch 1/12\n",
      "2559/2559 [==============================] - 4s 2ms/step - loss: 100.3020 - auc_1: 0.6079 - accuracy: 0.5271 - precision_1: 0.6066 - recall_1: 0.6053\n",
      "Epoch 2/12\n",
      "2559/2559 [==============================] - 4s 2ms/step - loss: 29.4647 - auc_1: 0.6899 - accuracy: 0.4691 - precision_1: 0.6816 - recall_1: 0.6788\n",
      "Epoch 3/12\n",
      "2559/2559 [==============================] - 4s 2ms/step - loss: 4.2405 - auc_1: 0.7137 - accuracy: 0.1133 - precision_1: 0.7227 - recall_1: 0.7274\n",
      "Epoch 4/12\n",
      "2559/2559 [==============================] - 4s 2ms/step - loss: 0.5541 - auc_1: 0.7653 - accuracy: 0.0048 - precision_1: 0.7650 - recall_1: 0.7651\n",
      "Epoch 5/12\n",
      "2559/2559 [==============================] - 4s 2ms/step - loss: 0.5511 - auc_1: 0.7631 - accuracy: 0.0041 - precision_1: 0.7643 - recall_1: 0.7643\n",
      "Epoch 6/12\n",
      "2559/2559 [==============================] - 4s 2ms/step - loss: 0.5659 - auc_1: 0.7588 - accuracy: 0.0015 - precision_1: 0.7609 - recall_1: 0.7610\n",
      "Epoch 7/12\n",
      "2559/2559 [==============================] - 4s 2ms/step - loss: 0.5513 - auc_1: 0.7600 - accuracy: 3.9090e-04 - precision_1: 0.7598 - recall_1: 0.7598\n",
      "Epoch 8/12\n",
      "2559/2559 [==============================] - 4s 2ms/step - loss: 0.5513 - auc_1: 0.7600 - accuracy: 3.9090e-04 - precision_1: 0.7598 - recall_1: 0.7598\n",
      "Epoch 9/12\n",
      "2559/2559 [==============================] - 4s 2ms/step - loss: 0.5512 - auc_1: 0.7605 - accuracy: 3.9090e-04 - precision_1: 0.7598 - recall_1: 0.7598\n",
      "Epoch 10/12\n",
      "2559/2559 [==============================] - 4s 2ms/step - loss: 0.5514 - auc_1: 0.7587 - accuracy: 3.9090e-04 - precision_1: 0.7598 - recall_1: 0.7598\n",
      "Epoch 11/12\n",
      "2559/2559 [==============================] - 4s 2ms/step - loss: 0.5514 - auc_1: 0.7607 - accuracy: 3.9090e-04 - precision_1: 0.7598 - recall_1: 0.7598\n",
      "Epoch 12/12\n",
      "2559/2559 [==============================] - 4s 2ms/step - loss: 0.5514 - auc_1: 0.7593 - accuracy: 3.9090e-04 - precision_1: 0.7598 - recall_1: 0.7598\n"
     ]
    },
    {
     "data": {
      "image/png": "[encoded data removed]",
      "text/plain": [
       "<Figure size 432x288 with 1 Axes>"
      ]
     },
     "metadata": {
      "needs_background": "light",
      "tags": []
     },
     "output_type": "display_data"
    },
    {
     "data": {
      "text/plain": [
       "<Figure size 432x288 with 0 Axes>"
      ]
     },
     "metadata": {
      "tags": []
     },
     "output_type": "display_data"
    },
    {
     "name": "stdout",
     "output_type": "stream",
     "text": [
      "160/160 [==============================] - 0s 1ms/step - loss: 0.5468 - auc_1: 0.7638 - accuracy: 1.9543e-04 - precision_1: 0.7637 - recall_1: 0.7637\n"
     ]
    },
    {
     "data": {
      "text/plain": [
       "[0.5468063354492188,\n",
       " 0.7637749314308167,\n",
       " 0.00019542701193131506,\n",
       " 0.7637287378311157,\n",
       " 0.7637287378311157]"
      ]
     },
     "execution_count": 42,
     "metadata": {
      "tags": []
     },
     "output_type": "execute_result"
    }
   ],
   "source": [
    "model5 = model_five(X_train_nn1,y_train_nn1)\n",
    "model5.evaluate(X_val_nn1,y_val_nn1)\n",
    "#model5.evaluate(X_test_nn1,y_test_nn1)\n",
    "#model5.summary()"
   ]
  },
  {
   "cell_type": "markdown",
   "metadata": {},
   "source": [
    "##### model summary"
   ]
  },
  {
   "cell_type": "code",
   "execution_count": 0,
   "metadata": {
    "colab": {
     "base_uri": "https://localhost:8080/",
     "height": 1000
    },
    "colab_type": "code",
    "id": "OjHk7h0JJSme",
    "outputId": "97e8f341-e7a2-49d8-da7c-d518dc576129"
   },
   "outputs": [
    {
     "name": "stdout",
     "output_type": "stream",
     "text": [
      "Model: \"sequential_3\"\n",
      "_________________________________________________________________\n",
      "Layer (type)                 Output Shape              Param #   \n",
      "=================================================================\n",
      "dense_9 (Dense)              (None, 100)               4400      \n",
      "_________________________________________________________________\n",
      "dense_10 (Dense)             (None, 2)                 202       \n",
      "=================================================================\n",
      "Total params: 4,602\n",
      "Trainable params: 4,602\n",
      "Non-trainable params: 0\n",
      "_________________________________________________________________\n",
      "None\n",
      "Model: \"sequential_4\"\n",
      "_________________________________________________________________\n",
      "Layer (type)                 Output Shape              Param #   \n",
      "=================================================================\n",
      "dense_11 (Dense)             (None, 64)                2816      \n",
      "_________________________________________________________________\n",
      "flatten (Flatten)            (None, 64)                0         \n",
      "_________________________________________________________________\n",
      "dense_12 (Dense)             (None, 2)                 130       \n",
      "=================================================================\n",
      "Total params: 2,946\n",
      "Trainable params: 2,946\n",
      "Non-trainable params: 0\n",
      "_________________________________________________________________\n",
      "None\n",
      "Model: \"sequential_8\"\n",
      "_________________________________________________________________\n",
      "Layer (type)                 Output Shape              Param #   \n",
      "=================================================================\n",
      "dense_19 (Dense)             (None, 64)                2816      \n",
      "_________________________________________________________________\n",
      "dropout_4 (Dropout)          (None, 64)                0         \n",
      "_________________________________________________________________\n",
      "dense_20 (Dense)             (None, 2)                 130       \n",
      "=================================================================\n",
      "Total params: 2,946\n",
      "Trainable params: 2,946\n",
      "Non-trainable params: 0\n",
      "_________________________________________________________________\n",
      "None\n",
      "Model: \"sequential_1\"\n",
      "_________________________________________________________________\n",
      "Layer (type)                 Output Shape              Param #   \n",
      "=================================================================\n",
      "dense_2 (Dense)              (None, 100)               4400      \n",
      "_________________________________________________________________\n",
      "dense_3 (Dense)              (None, 32)                3232      \n",
      "_________________________________________________________________\n",
      "dropout (Dropout)            (None, 32)                0         \n",
      "_________________________________________________________________\n",
      "dense_4 (Dense)              (None, 2)                 66        \n",
      "=================================================================\n",
      "Total params: 7,698\n",
      "Trainable params: 7,698\n",
      "Non-trainable params: 0\n",
      "_________________________________________________________________\n",
      "None\n",
      "Model: \"sequential_2\"\n",
      "_________________________________________________________________\n",
      "Layer (type)                 Output Shape              Param #   \n",
      "=================================================================\n",
      "dense_5 (Dense)              (None, 64)                2816      \n",
      "_________________________________________________________________\n",
      "dense_6 (Dense)              (None, 32)                2080      \n",
      "_________________________________________________________________\n",
      "dense_7 (Dense)              (None, 16)                528       \n",
      "_________________________________________________________________\n",
      "dense_8 (Dense)              (None, 2)                 34        \n",
      "=================================================================\n",
      "Total params: 5,458\n",
      "Trainable params: 5,458\n",
      "Non-trainable params: 0\n",
      "_________________________________________________________________\n",
      "None\n"
     ]
    }
   ],
   "source": [
    "models =[model1,model2, model3, model4, model5]\n",
    "for model in models:\n",
    "    print(model.summary())"
   ]
  },
  {
   "cell_type": "markdown",
   "metadata": {
    "colab_type": "text",
    "id": "tZTftg1-DxoZ"
   },
   "source": [
    "### Preliminary conclusions on your models\n",
    "\n",
    "Include some graphs and peformance metrics"
   ]
  },
  {
   "cell_type": "code",
   "execution_count": 0,
   "metadata": {
    "colab": {},
    "colab_type": "code",
    "id": "sZlwxXcdDxoZ"
   },
   "outputs": [],
   "source": [
    "model1_accuracy = 0.7592\n",
    "model2_accuracy = 0.7592\n",
    "model3_accuracy = 0.2408\n",
    "model4_accuracy = 0.7603\n",
    "model5_accuracy = 0.7602"
   ]
  },
  {
   "cell_type": "code",
   "execution_count": 0,
   "metadata": {
    "colab": {
     "base_uri": "https://localhost:8080/",
     "height": 296
    },
    "colab_type": "code",
    "id": "ZicClZYpDxob",
    "outputId": "3ffd1537-b7c7-4c67-b3c4-2e531bed0037"
   },
   "outputs": [
    {
     "data": {
      "image/png": "[encoded data removed]",
      "text/plain": [
       "<Figure size 432x288 with 1 Axes>"
      ]
     },
     "metadata": {
      "needs_background": "light",
      "tags": []
     },
     "output_type": "display_data"
    }
   ],
   "source": [
    "import matplotlib.pyplot as plt \n",
    "  \n",
    "# x axis values \n",
    "x = ['Model_1','Model_2','Model_3','Model_4','Model_5'] \n",
    "# corresponding y axis values \n",
    "y = [0.7592,0.7592,0.2408,0.7603,0.7602] \n",
    "  \n",
    "# plotting the points  \n",
    "plt.plot(x, y, color='green', linestyle='dashed', linewidth = 3, \n",
    "         marker='o', markerfacecolor='blue', markersize=12) \n",
    "  \n",
    "# setting x and y axis range \n",
    "plt.ylim(0,5) \n",
    "plt.xlim(0,5) \n",
    "  \n",
    "# naming the x axis \n",
    "plt.xlabel('x - axis') \n",
    "# naming the y axis \n",
    "plt.ylabel('y - axis') \n",
    "  \n",
    "# giving a title to my graph \n",
    "plt.title('Accuracy graph') \n",
    "  \n",
    "# function to show the plot \n",
    "plt.show() "
   ]
  },
  {
   "cell_type": "markdown",
   "metadata": {
    "colab_type": "text",
    "id": "hPC6hQgODxod"
   },
   "source": [
    "Model_3 as very less accuracy only 24% compared to other 3 models "
   ]
  },
  {
   "cell_type": "code",
   "execution_count": 0,
   "metadata": {
    "colab": {},
    "colab_type": "code",
    "id": "AZc9C-xrDxod"
   },
   "outputs": [],
   "source": []
  },
  {
   "cell_type": "markdown",
   "metadata": {
    "colab_type": "text",
    "id": "0gGMS4-mDxof"
   },
   "source": [
    "## Part 4: Cross-validation\n",
    "We really should have used k-fold (eg. k=5) crossvalidation here, to not only evaluate our five keras/tensorflow models. See how your preliminary results change. Now that we have validation results with uncertainy (+- standard deviation), do your prior conclusion change. "
   ]
  },
  {
   "cell_type": "code",
   "execution_count": 0,
   "metadata": {
    "colab": {
     "base_uri": "https://localhost:8080/",
     "height": 35
    },
    "colab_type": "code",
    "id": "h_BCwaPoDxof",
    "outputId": "4f934184-f6f2-451e-b162-93932e474501"
   },
   "outputs": [
    {
     "data": {
      "text/plain": [
       "(25582, 43)"
      ]
     },
     "execution_count": 50,
     "metadata": {
      "tags": []
     },
     "output_type": "execute_result"
    }
   ],
   "source": [
    "X_val_nn.shape\n",
    "y_val_nn.shape\n",
    "y_train_nn1.shape\n",
    "X_train_nn1.shape"
   ]
  },
  {
   "cell_type": "code",
   "execution_count": 0,
   "metadata": {
    "colab": {},
    "colab_type": "code",
    "id": "HhTIHpucDxoh"
   },
   "outputs": [],
   "source": [
    "#len(X_np)"
   ]
  },
  {
   "cell_type": "code",
   "execution_count": 0,
   "metadata": {
    "colab": {
     "base_uri": "https://localhost:8080/",
     "height": 1000
    },
    "colab_type": "code",
    "id": "J_1Bd3cNDxoi",
    "outputId": "cc7d2ba7-121c-4daa-8452-a67fc3c215a5",
    "scrolled": false
   },
   "outputs": [
    {
     "name": "stdout",
     "output_type": "stream",
     "text": [
      "TRAIN: [    0     1     2 ... 31975 31976 31977] TEST: [    3    11    14 ... 31962 31969 31973]\n",
      "model 1\n",
      "Epoch 1/5\n",
      "2047/2047 [==============================] - 6s 3ms/step - loss: 11.2706 - auc_1: 0.2934 - accuracy: 0.2023 - precision_1: 0.3830 - recall_1: 0.3830 - val_loss: 11.5995 - val_auc_1: 0.2437 - val_accuracy: 0.2437 - val_precision_1: 0.2437 - val_recall_1: 0.2437\n",
      "Epoch 2/5\n",
      "2047/2047 [==============================] - 5s 2ms/step - loss: 11.6671 - auc_1: 0.2393 - accuracy: 0.2393 - precision_1: 0.2393 - recall_1: 0.2393 - val_loss: 11.5995 - val_auc_1: 0.2437 - val_accuracy: 0.2437 - val_precision_1: 0.2437 - val_recall_1: 0.2437\n",
      "Epoch 3/5\n",
      "2047/2047 [==============================] - 4s 2ms/step - loss: 11.6671 - auc_1: 0.2393 - accuracy: 0.2393 - precision_1: 0.2393 - recall_1: 0.2393 - val_loss: 11.5995 - val_auc_1: 0.2437 - val_accuracy: 0.2437 - val_precision_1: 0.2437 - val_recall_1: 0.2437\n",
      "Epoch 4/5\n",
      "2047/2047 [==============================] - 4s 2ms/step - loss: 11.6671 - auc_1: 0.2393 - accuracy: 0.2393 - precision_1: 0.2393 - recall_1: 0.2393 - val_loss: 11.5995 - val_auc_1: 0.2437 - val_accuracy: 0.2437 - val_precision_1: 0.2437 - val_recall_1: 0.2437\n",
      "Epoch 5/5\n",
      "2047/2047 [==============================] - 4s 2ms/step - loss: 11.6671 - auc_1: 0.2393 - accuracy: 0.2393 - precision_1: 0.2393 - recall_1: 0.2393 - val_loss: 11.5995 - val_auc_1: 0.2437 - val_accuracy: 0.2437 - val_precision_1: 0.2437 - val_recall_1: 0.2437\n",
      "200/200 [==============================] - 0s 2ms/step - loss: 11.6179 - auc_1: 0.2425 - accuracy: 0.2425 - precision_1: 0.2425 - recall_1: 0.2425\n",
      "[11.617918968200684, 0.24249529838562012, 0.2424953132867813, 0.2424953132867813, 0.2424953132867813]\n",
      "model 2\n",
      "Epoch 1/5\n",
      "2047/2047 [==============================] - 4s 2ms/step - loss: 3.6699 - auc_1: 0.6373 - accuracy: 0.6373 - precision_1: 0.6373 - recall_1: 0.6373 - val_loss: 3.7376 - val_auc_1: 0.7563 - val_accuracy: 0.7563 - val_precision_1: 0.7563 - val_recall_1: 0.7563\n",
      "Epoch 2/5\n",
      "2047/2047 [==============================] - 4s 2ms/step - loss: 3.6700 - auc_1: 0.7607 - accuracy: 0.7607 - precision_1: 0.7607 - recall_1: 0.7607 - val_loss: 3.7376 - val_auc_1: 0.7563 - val_accuracy: 0.7563 - val_precision_1: 0.7563 - val_recall_1: 0.7563\n",
      "Epoch 3/5\n",
      "2047/2047 [==============================] - 4s 2ms/step - loss: 3.6700 - auc_1: 0.7607 - accuracy: 0.7607 - precision_1: 0.7607 - recall_1: 0.7607 - val_loss: 3.7376 - val_auc_1: 0.7563 - val_accuracy: 0.7563 - val_precision_1: 0.7563 - val_recall_1: 0.7563\n",
      "Epoch 4/5\n",
      "2047/2047 [==============================] - 4s 2ms/step - loss: 3.6699 - auc_1: 0.7607 - accuracy: 0.7607 - precision_1: 0.7607 - recall_1: 0.7607 - val_loss: 3.7376 - val_auc_1: 0.7563 - val_accuracy: 0.7563 - val_precision_1: 0.7563 - val_recall_1: 0.7563\n",
      "Epoch 5/5\n",
      "2047/2047 [==============================] - 4s 2ms/step - loss: 3.6700 - auc_1: 0.7607 - accuracy: 0.7607 - precision_1: 0.7607 - recall_1: 0.7607 - val_loss: 3.7376 - val_auc_1: 0.7563 - val_accuracy: 0.7563 - val_precision_1: 0.7563 - val_recall_1: 0.7563\n",
      "200/200 [==============================] - 0s 2ms/step - loss: 3.7192 - auc_1: 0.7575 - accuracy: 0.7575 - precision_1: 0.7575 - recall_1: 0.7575\n",
      "[3.7191741466522217, 0.7575047016143799, 0.7575047016143799, 0.7575047016143799, 0.7575047016143799]\n",
      "model 3\n",
      "Epoch 1/7\n",
      "480/480 [==============================] - 1s 2ms/step - loss: 9.0807 - accuracy: 0.5607 - val_loss: 7.7147 - val_accuracy: 0.7570\n",
      "Epoch 2/7\n",
      "480/480 [==============================] - 1s 2ms/step - loss: 8.9072 - accuracy: 0.5798 - val_loss: 7.7147 - val_accuracy: 0.7570\n",
      "Epoch 3/7\n",
      "480/480 [==============================] - 1s 2ms/step - loss: 8.9062 - accuracy: 0.5798 - val_loss: 7.7147 - val_accuracy: 0.7570\n",
      "Epoch 4/7\n",
      "480/480 [==============================] - 1s 2ms/step - loss: 8.8628 - accuracy: 0.5842 - val_loss: 7.7147 - val_accuracy: 0.7570\n",
      "Epoch 5/7\n",
      "480/480 [==============================] - 1s 2ms/step - loss: 8.9272 - accuracy: 0.5774 - val_loss: 7.7147 - val_accuracy: 0.7570\n",
      "Epoch 6/7\n",
      "480/480 [==============================] - 1s 2ms/step - loss: 8.7961 - accuracy: 0.5962 - val_loss: 7.7147 - val_accuracy: 0.7570\n",
      "Epoch 7/7\n",
      "480/480 [==============================] - 1s 2ms/step - loss: 8.7374 - accuracy: 0.6017 - val_loss: 7.7147 - val_accuracy: 0.7570\n",
      "200/200 [==============================] - 0s 1ms/step - loss: 7.7137 - accuracy: 0.7575\n",
      "[7.713677406311035, 0.7575047016143799]\n",
      "model 4\n",
      "Epoch 1/9\n",
      "2559/2559 [==============================] - 5s 2ms/step - loss: 88.8981 - auc_1: 0.7513 - accuracy: 0.1657 - precision_1: 0.7562 - recall_1: 0.7555\n",
      "Epoch 2/9\n",
      "2559/2559 [==============================] - 5s 2ms/step - loss: 0.6247 - auc_1: 0.7604 - accuracy: 1.9545e-04 - precision_1: 0.7598 - recall_1: 0.7600\n",
      "Epoch 3/9\n",
      "2559/2559 [==============================] - 5s 2ms/step - loss: 0.5716 - auc_1: 0.7581 - accuracy: 5.8635e-05 - precision_1: 0.7598 - recall_1: 0.7599\n",
      "Epoch 4/9\n",
      "2559/2559 [==============================] - 5s 2ms/step - loss: 0.5585 - auc_1: 0.7573 - accuracy: 0.0000e+00 - precision_1: 0.7598 - recall_1: 0.7598\n",
      "Epoch 5/9\n",
      "2559/2559 [==============================] - 5s 2ms/step - loss: 0.6437 - auc_1: 0.7598 - accuracy: 2.5408e-04 - precision_1: 0.7599 - recall_1: 0.7599\n",
      "Epoch 6/9\n",
      "2559/2559 [==============================] - 5s 2ms/step - loss: 0.5510 - auc_1: 0.7597 - accuracy: 1.9545e-04 - precision_1: 0.7600 - recall_1: 0.7600\n",
      "Epoch 7/9\n",
      "2559/2559 [==============================] - 5s 2ms/step - loss: 0.5510 - auc_1: 0.7607 - accuracy: 1.9545e-04 - precision_1: 0.7600 - recall_1: 0.7600\n",
      "Epoch 8/9\n",
      "2559/2559 [==============================] - 5s 2ms/step - loss: 0.5511 - auc_1: 0.7595 - accuracy: 1.5636e-04 - precision_1: 0.7600 - recall_1: 0.7600\n",
      "Epoch 9/9\n",
      "2559/2559 [==============================] - 5s 2ms/step - loss: 0.5715 - auc_1: 0.7585 - accuracy: 2.9317e-04 - precision_1: 0.7599 - recall_1: 0.7600\n",
      "200/200 [==============================] - 0s 2ms/step - loss: 0.5529 - auc_1: 0.7585 - accuracy: 7.8174e-04 - precision_1: 0.7583 - recall_1: 0.7583\n",
      "[0.552863359451294, 0.7584753632545471, 0.0007817386067472398, 0.7582864165306091, 0.7582864165306091]\n",
      "model 5\n",
      "Epoch 1/12\n",
      "2559/2559 [==============================] - 5s 2ms/step - loss: 11.3674 - auc_1: 0.6844 - accuracy: 0.1477 - precision_1: 0.6954 - recall_1: 0.6968\n",
      "Epoch 2/12\n",
      "2559/2559 [==============================] - 6s 3ms/step - loss: 0.5707 - auc_1: 0.7660 - accuracy: 0.0061 - precision_1: 0.7672 - recall_1: 0.7672\n",
      "Epoch 3/12\n",
      "2559/2559 [==============================] - 6s 2ms/step - loss: 0.5457 - auc_1: 0.7651 - accuracy: 0.0046 - precision_1: 0.7653 - recall_1: 0.7653\n",
      "Epoch 4/12\n",
      "2559/2559 [==============================] - 5s 2ms/step - loss: 0.5484 - auc_1: 0.7635 - accuracy: 0.0030 - precision_1: 0.7632 - recall_1: 0.7632\n",
      "Epoch 5/12\n",
      "2559/2559 [==============================] - 5s 2ms/step - loss: 0.5513 - auc_1: 0.7574 - accuracy: 0.0000e+00 - precision_1: 0.7598 - recall_1: 0.7598\n",
      "Epoch 6/12\n",
      "2559/2559 [==============================] - 5s 2ms/step - loss: 0.5513 - auc_1: 0.7596 - accuracy: 0.0000e+00 - precision_1: 0.7598 - recall_1: 0.7598\n",
      "Epoch 7/12\n",
      "2559/2559 [==============================] - 5s 2ms/step - loss: 0.5513 - auc_1: 0.7559 - accuracy: 0.0000e+00 - precision_1: 0.7598 - recall_1: 0.7598\n",
      "Epoch 8/12\n",
      "2559/2559 [==============================] - 5s 2ms/step - loss: 0.5513 - auc_1: 0.7584 - accuracy: 0.0000e+00 - precision_1: 0.7598 - recall_1: 0.7598\n",
      "Epoch 9/12\n",
      "2559/2559 [==============================] - 5s 2ms/step - loss: 0.5513 - auc_1: 0.7588 - accuracy: 0.0000e+00 - precision_1: 0.7598 - recall_1: 0.7598\n",
      "Epoch 10/12\n",
      "2559/2559 [==============================] - 5s 2ms/step - loss: 0.5513 - auc_1: 0.7585 - accuracy: 0.0000e+00 - precision_1: 0.7598 - recall_1: 0.7598\n",
      "Epoch 11/12\n",
      "2559/2559 [==============================] - 5s 2ms/step - loss: 0.5513 - auc_1: 0.7609 - accuracy: 0.0000e+00 - precision_1: 0.7598 - recall_1: 0.7598\n",
      "Epoch 12/12\n",
      "2559/2559 [==============================] - 5s 2ms/step - loss: 0.5513 - auc_1: 0.7591 - accuracy: 0.0000e+00 - precision_1: 0.7598 - recall_1: 0.7598\n",
      "200/200 [==============================] - 0s 2ms/step - loss: 0.5539 - auc_1: 0.7575 - accuracy: 0.0000e+00 - precision_1: 0.7575 - recall_1: 0.7575\n",
      "[0.5539441108703613, 0.7575047016143799, 0.0, 0.7575047016143799, 0.7575047016143799]\n",
      "TRAIN: [    0     2     3 ... 31973 31974 31976] TEST: [    1     5    10 ... 31968 31975 31977]\n",
      "model 1\n",
      "Epoch 1/5\n",
      "2047/2047 [==============================] - 5s 2ms/step - loss: 3.6063 - auc_1: 0.7644 - accuracy: 0.5827 - precision_1: 0.7631 - recall_1: 0.7631 - val_loss: 3.7436 - val_auc_1: 0.7559 - val_accuracy: 0.7558 - val_precision_1: 0.7559 - val_recall_1: 0.7559\n",
      "Epoch 2/5\n",
      "2047/2047 [==============================] - 5s 2ms/step - loss: 3.6063 - auc_1: 0.7649 - accuracy: 0.7649 - precision_1: 0.7649 - recall_1: 0.7649 - val_loss: 3.7436 - val_auc_1: 0.7559 - val_accuracy: 0.7558 - val_precision_1: 0.7559 - val_recall_1: 0.7559\n",
      "Epoch 3/5\n",
      "2047/2047 [==============================] - 4s 2ms/step - loss: 3.6063 - auc_1: 0.7649 - accuracy: 0.7649 - precision_1: 0.7649 - recall_1: 0.7649 - val_loss: 3.7436 - val_auc_1: 0.7559 - val_accuracy: 0.7558 - val_precision_1: 0.7559 - val_recall_1: 0.7559\n",
      "Epoch 4/5\n",
      "2047/2047 [==============================] - 4s 2ms/step - loss: 3.6063 - auc_1: 0.7649 - accuracy: 0.7649 - precision_1: 0.7649 - recall_1: 0.7649 - val_loss: 3.7436 - val_auc_1: 0.7559 - val_accuracy: 0.7558 - val_precision_1: 0.7559 - val_recall_1: 0.7559\n",
      "Epoch 5/5\n",
      "2047/2047 [==============================] - 4s 2ms/step - loss: 3.6063 - auc_1: 0.7649 - accuracy: 0.7649 - precision_1: 0.7649 - recall_1: 0.7649 - val_loss: 3.7436 - val_auc_1: 0.7559 - val_accuracy: 0.7558 - val_precision_1: 0.7559 - val_recall_1: 0.7559\n",
      "200/200 [==============================] - 0s 2ms/step - loss: 3.5921 - auc_1: 0.7658 - accuracy: 0.7658 - precision_1: 0.7658 - recall_1: 0.7658\n",
      "[3.5920841693878174, 0.7657911777496338, 0.765791118144989, 0.765791118144989, 0.765791118144989]\n",
      "model 2\n",
      "Epoch 1/5\n",
      "2047/2047 [==============================] - 5s 2ms/step - loss: 3.6715 - auc_1: 0.7618 - accuracy: 0.7618 - precision_1: 0.7618 - recall_1: 0.7618 - val_loss: 3.8125 - val_auc_1: 0.7514 - val_accuracy: 0.7514 - val_precision_1: 0.7514 - val_recall_1: 0.7514\n",
      "Epoch 2/5\n",
      "2047/2047 [==============================] - 4s 2ms/step - loss: 3.6714 - auc_1: 0.7606 - accuracy: 0.7606 - precision_1: 0.7606 - recall_1: 0.7606 - val_loss: 3.8125 - val_auc_1: 0.7514 - val_accuracy: 0.7514 - val_precision_1: 0.7514 - val_recall_1: 0.7514\n",
      "Epoch 3/5\n",
      "2047/2047 [==============================] - 5s 2ms/step - loss: 3.6715 - auc_1: 0.7606 - accuracy: 0.7606 - precision_1: 0.7606 - recall_1: 0.7606 - val_loss: 3.8125 - val_auc_1: 0.7514 - val_accuracy: 0.7514 - val_precision_1: 0.7514 - val_recall_1: 0.7514\n",
      "Epoch 4/5\n",
      "2047/2047 [==============================] - 5s 2ms/step - loss: 3.6714 - auc_1: 0.7606 - accuracy: 0.7606 - precision_1: 0.7606 - recall_1: 0.7606 - val_loss: 3.8125 - val_auc_1: 0.7514 - val_accuracy: 0.7514 - val_precision_1: 0.7514 - val_recall_1: 0.7514\n",
      "Epoch 5/5\n",
      "2047/2047 [==============================] - 5s 2ms/step - loss: 3.6715 - auc_1: 0.7606 - accuracy: 0.7606 - precision_1: 0.7606 - recall_1: 0.7606 - val_loss: 3.8125 - val_auc_1: 0.7514 - val_accuracy: 0.7514 - val_precision_1: 0.7514 - val_recall_1: 0.7514\n",
      "200/200 [==============================] - 0s 2ms/step - loss: 3.6544 - auc_1: 0.7617 - accuracy: 0.7617 - precision_1: 0.7617 - recall_1: 0.7617\n",
      "[3.654430627822876, 0.7617261409759521, 0.7617260813713074, 0.7617260813713074, 0.7617260813713074]\n",
      "model 3\n",
      "Epoch 1/7\n",
      "480/480 [==============================] - 1s 3ms/step - loss: 7.1980 - accuracy: 0.6086 - val_loss: 7.5947 - val_accuracy: 0.7629\n",
      "Epoch 2/7\n",
      "480/480 [==============================] - 1s 3ms/step - loss: 7.0899 - accuracy: 0.6161 - val_loss: 7.6090 - val_accuracy: 0.7619\n",
      "Epoch 3/7\n",
      "480/480 [==============================] - 1s 3ms/step - loss: 7.0496 - accuracy: 0.6185 - val_loss: 7.5934 - val_accuracy: 0.7637\n",
      "Epoch 4/7\n",
      "480/480 [==============================] - 1s 2ms/step - loss: 7.2016 - accuracy: 0.5996 - val_loss: 7.5934 - val_accuracy: 0.7637\n",
      "Epoch 5/7\n",
      "480/480 [==============================] - 1s 2ms/step - loss: 7.2017 - accuracy: 0.6045 - val_loss: 7.6128 - val_accuracy: 0.7615\n",
      "Epoch 6/7\n",
      "480/480 [==============================] - 1s 2ms/step - loss: 7.0779 - accuracy: 0.6129 - val_loss: 7.5926 - val_accuracy: 0.7633\n",
      "Epoch 7/7\n",
      "480/480 [==============================] - 1s 2ms/step - loss: 7.1239 - accuracy: 0.6065 - val_loss: 7.5978 - val_accuracy: 0.7617\n",
      "200/200 [==============================] - 0s 1ms/step - loss: 7.6032 - accuracy: 0.7681\n",
      "[7.603213310241699, 0.7681363224983215]\n",
      "model 4\n",
      "Epoch 1/9\n",
      "2559/2559 [==============================] - 5s 2ms/step - loss: 28.5360 - auc_1: 0.7598 - accuracy: 0.1686 - precision_1: 0.7625 - recall_1: 0.7618\n",
      "Epoch 2/9\n",
      "2559/2559 [==============================] - 5s 2ms/step - loss: 0.7721 - auc_1: 0.7639 - accuracy: 0.0051 - precision_1: 0.7637 - recall_1: 0.7639\n",
      "Epoch 3/9\n",
      "2559/2559 [==============================] - 6s 2ms/step - loss: 0.5558 - auc_1: 0.7613 - accuracy: 0.0031 - precision_1: 0.7620 - recall_1: 0.7620\n",
      "Epoch 4/9\n",
      "2559/2559 [==============================] - 5s 2ms/step - loss: 0.5503 - auc_1: 0.7590 - accuracy: 0.0015 - precision_1: 0.7603 - recall_1: 0.7603\n",
      "Epoch 5/9\n",
      "2559/2559 [==============================] - 5s 2ms/step - loss: 0.5514 - auc_1: 0.7602 - accuracy: 0.0013 - precision_1: 0.7601 - recall_1: 0.7601\n",
      "Epoch 6/9\n",
      "2559/2559 [==============================] - 6s 2ms/step - loss: 0.5562 - auc_1: 0.7605 - accuracy: 0.0021 - precision_1: 0.7608 - recall_1: 0.7608\n",
      "Epoch 7/9\n",
      "2559/2559 [==============================] - 6s 2ms/step - loss: 0.5742 - auc_1: 0.7594 - accuracy: 0.0015 - precision_1: 0.7603 - recall_1: 0.7603\n",
      "Epoch 8/9\n",
      "2559/2559 [==============================] - 5s 2ms/step - loss: 0.5492 - auc_1: 0.7610 - accuracy: 0.0022 - precision_1: 0.7611 - recall_1: 0.7611\n",
      "Epoch 9/9\n",
      "2559/2559 [==============================] - 6s 2ms/step - loss: 0.5640 - auc_1: 0.7600 - accuracy: 0.0016 - precision_1: 0.7604 - recall_1: 0.7604\n",
      "200/200 [==============================] - 0s 2ms/step - loss: 0.5476 - auc_1: 0.7631 - accuracy: 0.0011 - precision_1: 0.7628 - recall_1: 0.7628\n",
      "[0.5476388931274414, 0.7630800604820251, 0.001094434061087668, 0.7628205418586731, 0.7628205418586731]\n",
      "model 5\n",
      "Epoch 1/12\n",
      "2559/2559 [==============================] - 7s 3ms/step - loss: 112.7252 - auc_1: 0.6846 - accuracy: 0.4864 - precision_1: 0.6954 - recall_1: 0.6969\n",
      "Epoch 2/12\n",
      "2559/2559 [==============================] - 5s 2ms/step - loss: 54.6394 - auc_1: 0.6876 - accuracy: 0.5560 - precision_1: 0.6832 - recall_1: 0.6818\n",
      "Epoch 3/12\n",
      "2559/2559 [==============================] - 6s 2ms/step - loss: 22.1284 - auc_1: 0.6855 - accuracy: 0.4143 - precision_1: 0.6742 - recall_1: 0.6755\n",
      "Epoch 4/12\n",
      "2559/2559 [==============================] - 5s 2ms/step - loss: 2.2821 - auc_1: 0.7501 - accuracy: 0.0619 - precision_1: 0.7515 - recall_1: 0.7611\n",
      "Epoch 5/12\n",
      "2559/2559 [==============================] - 5s 2ms/step - loss: 0.5126 - auc_1: 0.8125 - accuracy: 0.0053 - precision_1: 0.7952 - recall_1: 0.7959\n",
      "Epoch 6/12\n",
      "2559/2559 [==============================] - 5s 2ms/step - loss: 0.5181 - auc_1: 0.8124 - accuracy: 0.0047 - precision_1: 0.7908 - recall_1: 0.7926\n",
      "Epoch 7/12\n",
      "2559/2559 [==============================] - 5s 2ms/step - loss: 0.5480 - auc_1: 0.7665 - accuracy: 0.0041 - precision_1: 0.7639 - recall_1: 0.7639\n",
      "Epoch 8/12\n",
      "2559/2559 [==============================] - 5s 2ms/step - loss: 0.5711 - auc_1: 0.7628 - accuracy: 0.0041 - precision_1: 0.7631 - recall_1: 0.7627\n",
      "Epoch 9/12\n",
      "2559/2559 [==============================] - 5s 2ms/step - loss: 0.5565 - auc_1: 0.7618 - accuracy: 0.0034 - precision_1: 0.7625 - recall_1: 0.7625\n",
      "Epoch 10/12\n",
      "2559/2559 [==============================] - 5s 2ms/step - loss: 0.5524 - auc_1: 0.7582 - accuracy: 0.0016 - precision_1: 0.7606 - recall_1: 0.7603\n",
      "Epoch 11/12\n",
      "2559/2559 [==============================] - 6s 2ms/step - loss: 0.5511 - auc_1: 0.7615 - accuracy: 9.1861e-04 - precision_1: 0.7598 - recall_1: 0.7598\n",
      "Epoch 12/12\n",
      "2559/2559 [==============================] - 5s 2ms/step - loss: 0.5512 - auc_1: 0.7570 - accuracy: 9.1861e-04 - precision_1: 0.7598 - recall_1: 0.7598\n",
      "200/200 [==============================] - 0s 1ms/step - loss: 0.5483 - auc_1: 0.7625 - accuracy: 6.2539e-04 - precision_1: 0.7624 - recall_1: 0.7624\n",
      "[0.5482566952705383, 0.7625001072883606, 0.0006253908504731953, 0.7623514533042908, 0.7623514533042908]\n",
      "TRAIN: [    0     1     2 ... 31975 31976 31977] TEST: [    7    17    21 ... 31965 31971 31972]\n",
      "model 1\n",
      "Epoch 1/5\n",
      "2047/2047 [==============================] - 5s 2ms/step - loss: 11.6836 - auc_1: 0.2680 - accuracy: 0.1816 - precision_1: 0.3630 - recall_1: 0.3630 - val_loss: 11.5815 - val_auc_1: 0.2449 - val_accuracy: 0.2449 - val_precision_1: 0.2449 - val_recall_1: 0.2449\n",
      "Epoch 2/5\n",
      "2047/2047 [==============================] - 4s 2ms/step - loss: 11.6836 - auc_1: 0.2382 - accuracy: 0.2382 - precision_1: 0.2382 - recall_1: 0.2382 - val_loss: 11.5815 - val_auc_1: 0.2449 - val_accuracy: 0.2449 - val_precision_1: 0.2449 - val_recall_1: 0.2449\n",
      "Epoch 3/5\n",
      "2047/2047 [==============================] - 5s 2ms/step - loss: 11.6836 - auc_1: 0.2382 - accuracy: 0.2382 - precision_1: 0.2382 - recall_1: 0.2382 - val_loss: 11.5815 - val_auc_1: 0.2449 - val_accuracy: 0.2449 - val_precision_1: 0.2449 - val_recall_1: 0.2449\n",
      "Epoch 4/5\n",
      "2047/2047 [==============================] - 5s 2ms/step - loss: 11.6836 - auc_1: 0.2382 - accuracy: 0.2382 - precision_1: 0.2382 - recall_1: 0.2382 - val_loss: 11.5815 - val_auc_1: 0.2449 - val_accuracy: 0.2449 - val_precision_1: 0.2449 - val_recall_1: 0.2449\n",
      "Epoch 5/5\n",
      "2047/2047 [==============================] - 5s 2ms/step - loss: 11.6836 - auc_1: 0.2382 - accuracy: 0.2382 - precision_1: 0.2382 - recall_1: 0.2382 - val_loss: 11.5815 - val_auc_1: 0.2449 - val_accuracy: 0.2449 - val_precision_1: 0.2449 - val_recall_1: 0.2449\n",
      "200/200 [==============================] - 0s 2ms/step - loss: 11.5796 - auc_1: 0.2450 - accuracy: 0.2450 - precision_1: 0.2450 - recall_1: 0.2450\n",
      "[11.579560279846191, 0.24499686062335968, 0.24499687552452087, 0.24499687552452087, 0.24499687552452087]\n",
      "model 2\n",
      "Epoch 1/5\n",
      "2047/2047 [==============================] - 5s 3ms/step - loss: 3.6535 - auc_1: 0.6387 - accuracy: 0.6387 - precision_1: 0.6387 - recall_1: 0.6387 - val_loss: 3.7556 - val_auc_1: 0.7551 - val_accuracy: 0.7551 - val_precision_1: 0.7551 - val_recall_1: 0.7551\n",
      "Epoch 2/5\n",
      "2047/2047 [==============================] - 4s 2ms/step - loss: 3.6535 - auc_1: 0.7618 - accuracy: 0.7618 - precision_1: 0.7618 - recall_1: 0.7618 - val_loss: 3.7556 - val_auc_1: 0.7551 - val_accuracy: 0.7551 - val_precision_1: 0.7551 - val_recall_1: 0.7551\n",
      "Epoch 3/5\n",
      "2047/2047 [==============================] - 5s 2ms/step - loss: 3.6535 - auc_1: 0.7618 - accuracy: 0.7618 - precision_1: 0.7618 - recall_1: 0.7618 - val_loss: 3.7556 - val_auc_1: 0.7551 - val_accuracy: 0.7551 - val_precision_1: 0.7551 - val_recall_1: 0.7551\n",
      "Epoch 4/5\n",
      "2047/2047 [==============================] - 4s 2ms/step - loss: 3.6535 - auc_1: 0.7618 - accuracy: 0.7618 - precision_1: 0.7618 - recall_1: 0.7618 - val_loss: 3.7556 - val_auc_1: 0.7551 - val_accuracy: 0.7551 - val_precision_1: 0.7551 - val_recall_1: 0.7551\n",
      "Epoch 5/5\n",
      "2047/2047 [==============================] - 4s 2ms/step - loss: 3.6535 - auc_1: 0.7618 - accuracy: 0.7618 - precision_1: 0.7618 - recall_1: 0.7618 - val_loss: 3.7556 - val_auc_1: 0.7551 - val_accuracy: 0.7551 - val_precision_1: 0.7551 - val_recall_1: 0.7551\n",
      "200/200 [==============================] - 0s 2ms/step - loss: 3.7575 - auc_1: 0.7550 - accuracy: 0.7550 - precision_1: 0.7550 - recall_1: 0.7550\n",
      "[3.757540702819824, 0.7550030946731567, 0.7550031542778015, 0.7550031542778015, 0.7550031542778015]\n",
      "model 3\n",
      "Epoch 1/7\n",
      "480/480 [==============================] - 1s 2ms/step - loss: 9.6690 - accuracy: 0.3972 - val_loss: 11.6007 - val_accuracy: 0.2431\n",
      "Epoch 2/7\n",
      "480/480 [==============================] - 1s 2ms/step - loss: 9.5871 - accuracy: 0.3935 - val_loss: 11.6007 - val_accuracy: 0.2431\n",
      "Epoch 3/7\n",
      "480/480 [==============================] - 1s 2ms/step - loss: 9.6208 - accuracy: 0.3946 - val_loss: 11.6007 - val_accuracy: 0.2431\n",
      "Epoch 4/7\n",
      "480/480 [==============================] - 1s 2ms/step - loss: 9.5226 - accuracy: 0.3946 - val_loss: 11.5992 - val_accuracy: 0.2433\n",
      "Epoch 5/7\n",
      "480/480 [==============================] - 1s 2ms/step - loss: 9.5413 - accuracy: 0.3924 - val_loss: 11.5992 - val_accuracy: 0.2433\n",
      "Epoch 6/7\n",
      "480/480 [==============================] - 1s 2ms/step - loss: 9.5898 - accuracy: 0.3830 - val_loss: 11.5992 - val_accuracy: 0.2433\n",
      "Epoch 7/7\n",
      "480/480 [==============================] - 1s 2ms/step - loss: 9.5360 - accuracy: 0.3931 - val_loss: 11.5992 - val_accuracy: 0.2433\n",
      "200/200 [==============================] - 0s 1ms/step - loss: 11.5832 - accuracy: 0.2445\n",
      "[11.583176612854004, 0.24452783167362213]\n",
      "model 4\n",
      "Epoch 1/9\n",
      "2559/2559 [==============================] - 5s 2ms/step - loss: 97.2522 - auc_1: 0.7588 - accuracy: 0.1738 - precision_1: 0.7635 - recall_1: 0.7637\n",
      "Epoch 2/9\n",
      "2559/2559 [==============================] - 5s 2ms/step - loss: 0.6040 - auc_1: 0.7674 - accuracy: 0.0057 - precision_1: 0.7664 - recall_1: 0.7664\n",
      "Epoch 3/9\n",
      "2559/2559 [==============================] - 5s 2ms/step - loss: 0.5527 - auc_1: 0.7634 - accuracy: 0.0031 - precision_1: 0.7639 - recall_1: 0.7639\n",
      "Epoch 4/9\n",
      "2559/2559 [==============================] - 7s 3ms/step - loss: 0.5998 - auc_1: 0.7649 - accuracy: 0.0036 - precision_1: 0.7641 - recall_1: 0.7639\n",
      "Epoch 5/9\n",
      "2559/2559 [==============================] - 6s 2ms/step - loss: 0.6231 - auc_1: 0.7642 - accuracy: 0.0034 - precision_1: 0.7639 - recall_1: 0.7639\n",
      "Epoch 6/9\n",
      "2559/2559 [==============================] - 5s 2ms/step - loss: 0.5986 - auc_1: 0.7624 - accuracy: 0.0032 - precision_1: 0.7636 - recall_1: 0.7637\n",
      "Epoch 7/9\n",
      "2559/2559 [==============================] - 5s 2ms/step - loss: 1.0401 - auc_1: 0.7628 - accuracy: 0.0023 - precision_1: 0.7626 - recall_1: 0.7626\n",
      "Epoch 8/9\n",
      "2559/2559 [==============================] - 6s 2ms/step - loss: 0.5478 - auc_1: 0.7620 - accuracy: 0.0019 - precision_1: 0.7624 - recall_1: 0.7624\n",
      "Epoch 9/9\n",
      "2559/2559 [==============================] - 5s 2ms/step - loss: 0.5478 - auc_1: 0.7633 - accuracy: 0.0019 - precision_1: 0.7624 - recall_1: 0.7624\n",
      "200/200 [==============================] - 0s 2ms/step - loss: 0.6008 - auc_1: 0.7594 - accuracy: 0.0038 - precision_1: 0.7586 - recall_1: 0.7586\n",
      "[0.6007537841796875, 0.7593863010406494, 0.0037523452192544937, 0.7585991024971008, 0.7585991024971008]\n",
      "model 5\n",
      "Epoch 1/12\n",
      "2559/2559 [==============================] - 6s 2ms/step - loss: 89.3305 - auc_1: 0.6887 - accuracy: 0.4706 - precision_1: 0.6984 - recall_1: 0.6972\n",
      "Epoch 2/12\n",
      "2559/2559 [==============================] - 5s 2ms/step - loss: 27.9448 - auc_1: 0.6931 - accuracy: 0.4542 - precision_1: 0.6807 - recall_1: 0.6858\n",
      "Epoch 3/12\n",
      "2559/2559 [==============================] - 5s 2ms/step - loss: 4.2266 - auc_1: 0.7263 - accuracy: 0.0962 - precision_1: 0.6958 - recall_1: 0.7179\n",
      "Epoch 4/12\n",
      "2559/2559 [==============================] - 5s 2ms/step - loss: 1.1662 - auc_1: 0.7540 - accuracy: 0.0278 - precision_1: 0.7535 - recall_1: 0.7457\n",
      "Epoch 5/12\n",
      "2559/2559 [==============================] - 5s 2ms/step - loss: 0.5317 - auc_1: 0.7853 - accuracy: 0.0050 - precision_1: 0.7774 - recall_1: 0.7773\n",
      "Epoch 6/12\n",
      "2559/2559 [==============================] - 5s 2ms/step - loss: 0.7325 - auc_1: 0.7806 - accuracy: 0.0052 - precision_1: 0.7736 - recall_1: 0.7744\n",
      "Epoch 7/12\n",
      "2559/2559 [==============================] - 5s 2ms/step - loss: 0.5486 - auc_1: 0.7653 - accuracy: 0.0048 - precision_1: 0.7655 - recall_1: 0.7656\n",
      "Epoch 8/12\n",
      "2559/2559 [==============================] - 5s 2ms/step - loss: 0.5449 - auc_1: 0.7652 - accuracy: 0.0039 - precision_1: 0.7650 - recall_1: 0.7651\n",
      "Epoch 9/12\n",
      "2559/2559 [==============================] - 5s 2ms/step - loss: 0.5454 - auc_1: 0.7642 - accuracy: 0.0030 - precision_1: 0.7641 - recall_1: 0.7641\n",
      "Epoch 10/12\n",
      "2559/2559 [==============================] - 6s 2ms/step - loss: 0.5431 - auc_1: 0.7663 - accuracy: 0.0046 - precision_1: 0.7657 - recall_1: 0.7657\n",
      "Epoch 11/12\n",
      "2559/2559 [==============================] - 5s 2ms/step - loss: 0.5658 - auc_1: 0.7637 - accuracy: 0.0034 - precision_1: 0.7637 - recall_1: 0.7642\n",
      "Epoch 12/12\n",
      "2559/2559 [==============================] - 5s 2ms/step - loss: 0.5464 - auc_1: 0.7635 - accuracy: 0.0026 - precision_1: 0.7634 - recall_1: 0.7634\n",
      "200/200 [==============================] - 0s 2ms/step - loss: 0.5698 - auc_1: 0.7604 - accuracy: 0.0038 - precision_1: 0.7594 - recall_1: 0.7594\n",
      "[0.5698099136352539, 0.760353147983551, 0.003830519039183855, 0.7593808770179749, 0.7593808770179749]\n",
      "TRAIN: [    0     1     2 ... 31975 31976 31977] TEST: [    4     8     9 ... 31960 31964 31974]\n",
      "model 1\n",
      "Epoch 1/5\n",
      "2047/2047 [==============================] - 5s 3ms/step - loss: 11.6898 - auc_1: 0.2680 - accuracy: 0.1821 - precision_1: 0.3620 - recall_1: 0.3620 - val_loss: 11.6085 - val_auc_1: 0.2431 - val_accuracy: 0.2431 - val_precision_1: 0.2431 - val_recall_1: 0.2431\n",
      "Epoch 2/5\n",
      "2047/2047 [==============================] - 5s 2ms/step - loss: 11.6898 - auc_1: 0.2378 - accuracy: 0.2378 - precision_1: 0.2378 - recall_1: 0.2378 - val_loss: 11.6085 - val_auc_1: 0.2431 - val_accuracy: 0.2431 - val_precision_1: 0.2431 - val_recall_1: 0.2431\n",
      "Epoch 3/5\n",
      "2047/2047 [==============================] - 5s 2ms/step - loss: 11.6898 - auc_1: 0.2378 - accuracy: 0.2378 - precision_1: 0.2378 - recall_1: 0.2378 - val_loss: 11.6085 - val_auc_1: 0.2431 - val_accuracy: 0.2431 - val_precision_1: 0.2431 - val_recall_1: 0.2431\n",
      "Epoch 4/5\n",
      "2047/2047 [==============================] - 5s 2ms/step - loss: 11.6898 - auc_1: 0.2378 - accuracy: 0.2378 - precision_1: 0.2378 - recall_1: 0.2378 - val_loss: 11.6085 - val_auc_1: 0.2431 - val_accuracy: 0.2431 - val_precision_1: 0.2431 - val_recall_1: 0.2431\n",
      "Epoch 5/5\n",
      "2047/2047 [==============================] - 5s 2ms/step - loss: 11.6898 - auc_1: 0.2378 - accuracy: 0.2378 - precision_1: 0.2378 - recall_1: 0.2378 - val_loss: 11.6085 - val_auc_1: 0.2431 - val_accuracy: 0.2431 - val_precision_1: 0.2431 - val_recall_1: 0.2431\n",
      "200/200 [==============================] - 0s 1ms/step - loss: 11.5718 - auc_1: 0.2455 - accuracy: 0.2455 - precision_1: 0.2455 - recall_1: 0.2455\n",
      "[11.571772575378418, 0.24550431966781616, 0.24550430476665497, 0.24550430476665497, 0.24550430476665497]\n",
      "model 2\n",
      "Epoch 1/5\n",
      "2047/2047 [==============================] - 4s 2ms/step - loss: 3.6525 - auc_1: 0.6389 - accuracy: 0.6389 - precision_1: 0.6389 - recall_1: 0.6389 - val_loss: 3.7376 - val_auc_1: 0.7563 - val_accuracy: 0.7563 - val_precision_1: 0.7563 - val_recall_1: 0.7563\n",
      "Epoch 2/5\n",
      "2047/2047 [==============================] - 4s 2ms/step - loss: 3.6525 - auc_1: 0.7618 - accuracy: 0.7618 - precision_1: 0.7618 - recall_1: 0.7618 - val_loss: 3.7376 - val_auc_1: 0.7563 - val_accuracy: 0.7563 - val_precision_1: 0.7563 - val_recall_1: 0.7563\n",
      "Epoch 3/5\n",
      "2047/2047 [==============================] - 4s 2ms/step - loss: 3.6525 - auc_1: 0.7618 - accuracy: 0.7618 - precision_1: 0.7618 - recall_1: 0.7618 - val_loss: 3.7376 - val_auc_1: 0.7563 - val_accuracy: 0.7563 - val_precision_1: 0.7563 - val_recall_1: 0.7563\n",
      "Epoch 4/5\n",
      "2047/2047 [==============================] - 4s 2ms/step - loss: 3.6525 - auc_1: 0.7618 - accuracy: 0.7618 - precision_1: 0.7618 - recall_1: 0.7618 - val_loss: 3.7376 - val_auc_1: 0.7563 - val_accuracy: 0.7563 - val_precision_1: 0.7563 - val_recall_1: 0.7563\n",
      "Epoch 5/5\n",
      "2047/2047 [==============================] - 4s 2ms/step - loss: 3.6525 - auc_1: 0.7618 - accuracy: 0.7618 - precision_1: 0.7618 - recall_1: 0.7618 - val_loss: 3.7376 - val_auc_1: 0.7563 - val_accuracy: 0.7563 - val_precision_1: 0.7563 - val_recall_1: 0.7563\n",
      "200/200 [==============================] - 0s 2ms/step - loss: 3.7749 - auc_1: 0.7539 - accuracy: 0.7539 - precision_1: 0.7539 - recall_1: 0.7539\n",
      "[3.7749154567718506, 0.7538702487945557, 0.7538701891899109, 0.7538701891899109, 0.7538701891899109]\n",
      "model 3\n",
      "Epoch 1/7\n",
      "480/480 [==============================] - 1s 2ms/step - loss: 8.5746 - accuracy: 0.4023 - val_loss: 7.6261 - val_accuracy: 0.2384\n",
      "Epoch 2/7\n",
      "480/480 [==============================] - 1s 2ms/step - loss: 8.5794 - accuracy: 0.4011 - val_loss: 7.6261 - val_accuracy: 0.2384\n",
      "Epoch 3/7\n",
      "480/480 [==============================] - 1s 2ms/step - loss: 8.6689 - accuracy: 0.3991 - val_loss: 7.6261 - val_accuracy: 0.2391\n",
      "Epoch 4/7\n",
      "480/480 [==============================] - 1s 2ms/step - loss: 8.7033 - accuracy: 0.3878 - val_loss: 7.6261 - val_accuracy: 0.2391\n",
      "Epoch 5/7\n",
      "480/480 [==============================] - 1s 2ms/step - loss: 8.6869 - accuracy: 0.3966 - val_loss: 7.6261 - val_accuracy: 0.2391\n",
      "Epoch 6/7\n",
      "480/480 [==============================] - 1s 2ms/step - loss: 8.6713 - accuracy: 0.3907 - val_loss: 7.6261 - val_accuracy: 0.2391\n",
      "Epoch 7/7\n",
      "480/480 [==============================] - 1s 2ms/step - loss: 8.6142 - accuracy: 0.3972 - val_loss: 7.6261 - val_accuracy: 0.2382\n",
      "200/200 [==============================] - 0s 1ms/step - loss: 7.6270 - accuracy: 0.2430\n",
      "[7.627042770385742, 0.24300234019756317]\n",
      "model 4\n",
      "Epoch 1/9\n",
      "2559/2559 [==============================] - 5s 2ms/step - loss: 137.2622 - auc_1: 0.7568 - accuracy: 0.1787 - precision_1: 0.7595 - recall_1: 0.7588\n",
      "Epoch 2/9\n",
      "2559/2559 [==============================] - 6s 2ms/step - loss: 0.5646 - auc_1: 0.7655 - accuracy: 0.0037 - precision_1: 0.7646 - recall_1: 0.7646\n",
      "Epoch 3/9\n",
      "2559/2559 [==============================] - 6s 3ms/step - loss: 0.5699 - auc_1: 0.7641 - accuracy: 0.0035 - precision_1: 0.7644 - recall_1: 0.7643\n",
      "Epoch 4/9\n",
      "2559/2559 [==============================] - 6s 2ms/step - loss: 0.5867 - auc_1: 0.7660 - accuracy: 0.0040 - precision_1: 0.7649 - recall_1: 0.7649\n",
      "Epoch 5/9\n",
      "2559/2559 [==============================] - 5s 2ms/step - loss: 0.5485 - auc_1: 0.7641 - accuracy: 0.0024 - precision_1: 0.7636 - recall_1: 0.7636\n",
      "Epoch 6/9\n",
      "2559/2559 [==============================] - 5s 2ms/step - loss: 0.5494 - auc_1: 0.7609 - accuracy: 4.8861e-04 - precision_1: 0.7614 - recall_1: 0.7614\n",
      "Epoch 7/9\n",
      "2559/2559 [==============================] - 5s 2ms/step - loss: 0.5508 - auc_1: 0.7618 - accuracy: 7.6222e-04 - precision_1: 0.7617 - recall_1: 0.7618\n",
      "Epoch 8/9\n",
      "2559/2559 [==============================] - 5s 2ms/step - loss: 0.5509 - auc_1: 0.7602 - accuracy: 5.8633e-05 - precision_1: 0.7608 - recall_1: 0.7608\n",
      "Epoch 9/9\n",
      "2559/2559 [==============================] - 5s 2ms/step - loss: 0.5496 - auc_1: 0.7602 - accuracy: 3.9088e-04 - precision_1: 0.7612 - recall_1: 0.7612\n",
      "200/200 [==============================] - 0s 2ms/step - loss: 0.5563 - auc_1: 0.7555 - accuracy: 7.8186e-04 - precision_1: 0.7551 - recall_1: 0.7551\n",
      "[0.5563433170318604, 0.755545437335968, 0.0007818608428351581, 0.7551211714744568, 0.7551211714744568]\n",
      "model 5\n",
      "Epoch 1/12\n",
      "2559/2559 [==============================] - 5s 2ms/step - loss: 64.0342 - auc_1: 0.6800 - accuracy: 0.4434 - precision_1: 0.6888 - recall_1: 0.6895\n",
      "Epoch 2/12\n",
      "2559/2559 [==============================] - 5s 2ms/step - loss: 28.4209 - auc_1: 0.6856 - accuracy: 0.4646 - precision_1: 0.6753 - recall_1: 0.6824\n",
      "Epoch 3/12\n",
      "2559/2559 [==============================] - 5s 2ms/step - loss: 6.0140 - auc_1: 0.7330 - accuracy: 0.0860 - precision_1: 0.7489 - recall_1: 0.7487\n",
      "Epoch 4/12\n",
      "2559/2559 [==============================] - 5s 2ms/step - loss: 0.6501 - auc_1: 0.7693 - accuracy: 0.0068 - precision_1: 0.7680 - recall_1: 0.7680\n",
      "Epoch 5/12\n",
      "2559/2559 [==============================] - 5s 2ms/step - loss: 0.6229 - auc_1: 0.7658 - accuracy: 0.0046 - precision_1: 0.7658 - recall_1: 0.7657\n",
      "Epoch 6/12\n",
      "2559/2559 [==============================] - 5s 2ms/step - loss: 0.5553 - auc_1: 0.7625 - accuracy: 0.0011 - precision_1: 0.7619 - recall_1: 0.7619\n",
      "Epoch 7/12\n",
      "2559/2559 [==============================] - 5s 2ms/step - loss: 0.5497 - auc_1: 0.7598 - accuracy: 6.4496e-04 - precision_1: 0.7614 - recall_1: 0.7614\n",
      "Epoch 8/12\n",
      "2559/2559 [==============================] - 5s 2ms/step - loss: 0.6081 - auc_1: 0.7602 - accuracy: 0.0018 - precision_1: 0.7619 - recall_1: 0.7614\n",
      "Epoch 9/12\n",
      "2559/2559 [==============================] - 5s 2ms/step - loss: 0.5503 - auc_1: 0.7591 - accuracy: 0.0000e+00 - precision_1: 0.7607 - recall_1: 0.7607\n",
      "Epoch 10/12\n",
      "2559/2559 [==============================] - 5s 2ms/step - loss: 0.5503 - auc_1: 0.7585 - accuracy: 0.0000e+00 - precision_1: 0.7607 - recall_1: 0.7607\n",
      "Epoch 11/12\n",
      "2559/2559 [==============================] - 5s 2ms/step - loss: 0.5503 - auc_1: 0.7598 - accuracy: 0.0000e+00 - precision_1: 0.7607 - recall_1: 0.7607\n",
      "Epoch 12/12\n",
      "2559/2559 [==============================] - 5s 2ms/step - loss: 0.5503 - auc_1: 0.7600 - accuracy: 0.0000e+00 - precision_1: 0.7607 - recall_1: 0.7607\n",
      "200/200 [==============================] - 0s 1ms/step - loss: 0.5581 - auc_1: 0.7539 - accuracy: 0.0000e+00 - precision_1: 0.7539 - recall_1: 0.7539\n",
      "[0.5581185817718506, 0.7538702487945557, 0.0, 0.7538701891899109, 0.7538701891899109]\n",
      "TRAIN: [    1     3     4 ... 31974 31975 31977] TEST: [    0     2     6 ... 31951 31970 31976]\n",
      "model 1\n",
      "Epoch 1/5\n",
      "2047/2047 [==============================] - 5s 2ms/step - loss: 11.6201 - auc_1: 0.2713 - accuracy: 0.1847 - precision_1: 0.3641 - recall_1: 0.3641 - val_loss: 11.5725 - val_auc_1: 0.2455 - val_accuracy: 0.2455 - val_precision_1: 0.2455 - val_recall_1: 0.2455\n",
      "Epoch 2/5\n",
      "2047/2047 [==============================] - 5s 2ms/step - loss: 11.6201 - auc_1: 0.2424 - accuracy: 0.2424 - precision_1: 0.2424 - recall_1: 0.2424 - val_loss: 11.5725 - val_auc_1: 0.2455 - val_accuracy: 0.2455 - val_precision_1: 0.2455 - val_recall_1: 0.2455\n",
      "Epoch 3/5\n",
      "2047/2047 [==============================] - 5s 2ms/step - loss: 11.6201 - auc_1: 0.2424 - accuracy: 0.2424 - precision_1: 0.2424 - recall_1: 0.2424 - val_loss: 11.5725 - val_auc_1: 0.2455 - val_accuracy: 0.2455 - val_precision_1: 0.2455 - val_recall_1: 0.2455\n",
      "Epoch 4/5\n",
      "2047/2047 [==============================] - 5s 2ms/step - loss: 11.6201 - auc_1: 0.2424 - accuracy: 0.2424 - precision_1: 0.2424 - recall_1: 0.2424 - val_loss: 11.5725 - val_auc_1: 0.2455 - val_accuracy: 0.2455 - val_precision_1: 0.2455 - val_recall_1: 0.2455\n",
      "Epoch 5/5\n",
      "2047/2047 [==============================] - 4s 2ms/step - loss: 11.6201 - auc_1: 0.2424 - accuracy: 0.2424 - precision_1: 0.2424 - recall_1: 0.2424 - val_loss: 11.5725 - val_auc_1: 0.2455 - val_accuracy: 0.2455 - val_precision_1: 0.2455 - val_recall_1: 0.2455\n",
      "200/200 [==============================] - 0s 2ms/step - loss: 11.7900 - auc_1: 0.2313 - accuracy: 0.2313 - precision_1: 0.2313 - recall_1: 0.2313\n",
      "[11.790019035339355, 0.23127441108226776, 0.23127442598342896, 0.23127442598342896, 0.23127442598342896]\n",
      "model 2\n",
      "Epoch 1/5\n",
      "2047/2047 [==============================] - 5s 2ms/step - loss: 3.7170 - auc_1: 0.6323 - accuracy: 0.6323 - precision_1: 0.6323 - recall_1: 0.6323 - val_loss: 3.7646 - val_auc_1: 0.7545 - val_accuracy: 0.7545 - val_precision_1: 0.7545 - val_recall_1: 0.7545\n",
      "Epoch 2/5\n",
      "2047/2047 [==============================] - 5s 2ms/step - loss: 3.7170 - auc_1: 0.7576 - accuracy: 0.7576 - precision_1: 0.7576 - recall_1: 0.7576 - val_loss: 3.7646 - val_auc_1: 0.7545 - val_accuracy: 0.7545 - val_precision_1: 0.7545 - val_recall_1: 0.7545\n",
      "Epoch 3/5\n",
      "2047/2047 [==============================] - 5s 2ms/step - loss: 3.7170 - auc_1: 0.7576 - accuracy: 0.7576 - precision_1: 0.7576 - recall_1: 0.7576 - val_loss: 3.7646 - val_auc_1: 0.7545 - val_accuracy: 0.7545 - val_precision_1: 0.7545 - val_recall_1: 0.7545\n",
      "Epoch 4/5\n",
      "2047/2047 [==============================] - 4s 2ms/step - loss: 3.7170 - auc_1: 0.7576 - accuracy: 0.7576 - precision_1: 0.7576 - recall_1: 0.7576 - val_loss: 3.7646 - val_auc_1: 0.7545 - val_accuracy: 0.7545 - val_precision_1: 0.7545 - val_recall_1: 0.7545\n",
      "Epoch 5/5\n",
      "2047/2047 [==============================] - 4s 2ms/step - loss: 3.7170 - auc_1: 0.7576 - accuracy: 0.7576 - precision_1: 0.7576 - recall_1: 0.7576 - val_loss: 3.7646 - val_auc_1: 0.7545 - val_accuracy: 0.7545 - val_precision_1: 0.7545 - val_recall_1: 0.7545\n",
      "200/200 [==============================] - 0s 1ms/step - loss: 3.5471 - auc_1: 0.7687 - accuracy: 0.7687 - precision_1: 0.7687 - recall_1: 0.7687\n",
      "[3.547079086303711, 0.7687256336212158, 0.768725574016571, 0.768725574016571, 0.768725574016571]\n",
      "model 3\n",
      "Epoch 1/7\n",
      "480/480 [==============================] - 1s 3ms/step - loss: 5.4998 - accuracy: 0.7456 - val_loss: 3.7841 - val_accuracy: 0.7533\n",
      "Epoch 2/7\n",
      "480/480 [==============================] - 1s 2ms/step - loss: 5.4686 - accuracy: 0.7471 - val_loss: 3.7841 - val_accuracy: 0.7533\n",
      "Epoch 3/7\n",
      "480/480 [==============================] - 1s 2ms/step - loss: 5.4688 - accuracy: 0.7482 - val_loss: 3.7841 - val_accuracy: 0.7533\n",
      "Epoch 4/7\n",
      "480/480 [==============================] - 1s 2ms/step - loss: 5.5046 - accuracy: 0.7486 - val_loss: 3.7841 - val_accuracy: 0.7533\n",
      "Epoch 5/7\n",
      "480/480 [==============================] - 1s 2ms/step - loss: 5.3309 - accuracy: 0.7507 - val_loss: 3.7841 - val_accuracy: 0.7533\n",
      "Epoch 6/7\n",
      "480/480 [==============================] - 1s 2ms/step - loss: 5.2600 - accuracy: 0.7516 - val_loss: 3.7841 - val_accuracy: 0.7533\n",
      "Epoch 7/7\n",
      "480/480 [==============================] - 1s 2ms/step - loss: 5.2778 - accuracy: 0.7473 - val_loss: 3.7841 - val_accuracy: 0.7533\n",
      "200/200 [==============================] - 0s 1ms/step - loss: 3.5471 - accuracy: 0.7687\n",
      "[3.547079086303711, 0.768725574016571]\n",
      "model 4\n",
      "Epoch 1/9\n",
      "2559/2559 [==============================] - 5s 2ms/step - loss: 37.6677 - auc_1: 0.7611 - accuracy: 0.1663 - precision_1: 0.7602 - recall_1: 0.7613\n",
      "Epoch 2/9\n",
      "2559/2559 [==============================] - 5s 2ms/step - loss: 0.6992 - auc_1: 0.7612 - accuracy: 0.0042 - precision_1: 0.7612 - recall_1: 0.7611\n",
      "Epoch 3/9\n",
      "2559/2559 [==============================] - 5s 2ms/step - loss: 0.5634 - auc_1: 0.7572 - accuracy: 0.0014 - precision_1: 0.7584 - recall_1: 0.7584\n",
      "Epoch 4/9\n",
      "2559/2559 [==============================] - 5s 2ms/step - loss: 0.5537 - auc_1: 0.7565 - accuracy: 5.6678e-04 - precision_1: 0.7576 - recall_1: 0.7576\n",
      "Epoch 5/9\n",
      "2559/2559 [==============================] - 5s 2ms/step - loss: 0.5538 - auc_1: 0.7575 - accuracy: 5.0815e-04 - precision_1: 0.7576 - recall_1: 0.7576\n",
      "Epoch 6/9\n",
      "2559/2559 [==============================] - 5s 2ms/step - loss: 0.5536 - auc_1: 0.7564 - accuracy: 5.6678e-04 - precision_1: 0.7577 - recall_1: 0.7577\n",
      "Epoch 7/9\n",
      "2559/2559 [==============================] - 5s 2ms/step - loss: 0.5747 - auc_1: 0.7601 - accuracy: 0.0014 - precision_1: 0.7584 - recall_1: 0.7585\n",
      "Epoch 8/9\n",
      "2559/2559 [==============================] - 5s 2ms/step - loss: 0.5502 - auc_1: 0.7598 - accuracy: 0.0030 - precision_1: 0.7601 - recall_1: 0.7601\n",
      "Epoch 9/9\n",
      "2559/2559 [==============================] - 5s 2ms/step - loss: 0.5684 - auc_1: 0.7596 - accuracy: 0.0027 - precision_1: 0.7598 - recall_1: 0.7598\n",
      "200/200 [==============================] - 0s 1ms/step - loss: 0.5390 - auc_1: 0.7703 - accuracy: 0.0013 - precision_1: 0.7700 - recall_1: 0.7700\n",
      "[0.5390311479568481, 0.7702643871307373, 0.0012509772786870599, 0.7699765563011169, 0.7699765563011169]\n",
      "model 5\n",
      "Epoch 1/12\n",
      "2559/2559 [==============================] - 5s 2ms/step - loss: 102.3632 - auc_1: 0.6779 - accuracy: 0.4742 - precision_1: 0.6918 - recall_1: 0.6912\n",
      "Epoch 2/12\n",
      "2559/2559 [==============================] - 5s 2ms/step - loss: 38.4039 - auc_1: 0.6882 - accuracy: 0.5017 - precision_1: 0.6806 - recall_1: 0.6780\n",
      "Epoch 3/12\n",
      "2559/2559 [==============================] - 5s 2ms/step - loss: 16.4186 - auc_1: 0.6915 - accuracy: 0.3407 - precision_1: 0.6745 - recall_1: 0.6745\n",
      "Epoch 4/12\n",
      "2559/2559 [==============================] - 5s 2ms/step - loss: 5.1756 - auc_1: 0.7103 - accuracy: 0.1373 - precision_1: 0.6920 - recall_1: 0.6936\n",
      "Epoch 5/12\n",
      "2559/2559 [==============================] - 5s 2ms/step - loss: 0.7171 - auc_1: 0.7606 - accuracy: 0.0080 - precision_1: 0.7522 - recall_1: 0.7511\n",
      "Epoch 6/12\n",
      "2559/2559 [==============================] - 5s 2ms/step - loss: 0.5460 - auc_1: 0.7691 - accuracy: 0.0046 - precision_1: 0.7674 - recall_1: 0.7677\n",
      "Epoch 7/12\n",
      "2559/2559 [==============================] - 5s 2ms/step - loss: 0.5633 - auc_1: 0.7658 - accuracy: 0.0061 - precision_1: 0.7661 - recall_1: 0.7658\n",
      "Epoch 8/12\n",
      "2559/2559 [==============================] - 5s 2ms/step - loss: 0.5525 - auc_1: 0.7621 - accuracy: 0.0030 - precision_1: 0.7608 - recall_1: 0.7607\n",
      "Epoch 9/12\n",
      "2559/2559 [==============================] - 5s 2ms/step - loss: 0.5664 - auc_1: 0.7579 - accuracy: 0.0027 - precision_1: 0.7596 - recall_1: 0.7596\n",
      "Epoch 10/12\n",
      "2559/2559 [==============================] - 5s 2ms/step - loss: 0.5703 - auc_1: 0.7605 - accuracy: 0.0035 - precision_1: 0.7607 - recall_1: 0.7607\n",
      "Epoch 11/12\n",
      "2559/2559 [==============================] - 5s 2ms/step - loss: 0.5635 - auc_1: 0.7586 - accuracy: 0.0022 - precision_1: 0.7590 - recall_1: 0.7593\n",
      "Epoch 12/12\n",
      "2559/2559 [==============================] - 5s 2ms/step - loss: 0.5539 - auc_1: 0.7566 - accuracy: 4.6906e-04 - precision_1: 0.7575 - recall_1: 0.7575\n",
      "200/200 [==============================] - 0s 2ms/step - loss: 0.5407 - auc_1: 0.7691 - accuracy: 3.1274e-04 - precision_1: 0.7690 - recall_1: 0.7690\n",
      "[0.5407070517539978, 0.7691105604171753, 0.00031274431967176497, 0.7690383195877075, 0.7690383195877075]\n"
     ]
    }
   ],
   "source": [
    "from sklearn.model_selection import KFold\n",
    "\n",
    "#X_np = np.array(X)\n",
    "X_np = np.asarray(X).astype(np.float32)\n",
    "y_nn = pd.get_dummies(data = y)\n",
    "#y_np = np.array(y_nn)\n",
    "y_np = np.asarray(y_nn).astype(np.float32)\n",
    "\n",
    "kf = KFold(n_splits = 5, random_state=None, shuffle=True)\n",
    "for train_index, test_index in kf.split(X_np):\n",
    "    print(\"TRAIN:\", train_index, \"TEST:\", test_index)\n",
    "    x_train_nn1,x_test_nn1=X_np[train_index],X_np[test_index]\n",
    "    y_train_nn1,y_test_nn1=y_np[train_index],y_np[test_index]\n",
    "    #model 1\n",
    "    print('model 1')\n",
    "    model_cv1 = model_one(x_train_nn1,y_train_nn1)\n",
    "    print(model_cv1.evaluate(x_test_nn1,y_test_nn1))\n",
    "    \n",
    "    # model 2\n",
    "    print('model 2')\n",
    "    model_cv2 = model_two(x_train_nn1,y_train_nn1)\n",
    "    print(model_cv2.evaluate(x_test_nn1,y_test_nn1))\n",
    "    \n",
    "    #model 3\n",
    "    print('model 3')\n",
    "    model_cv3 = model_three(x_train_nn1,y_train_nn1)\n",
    "    print(model_cv3.evaluate(x_test_nn1,y_test_nn1))\n",
    "    \n",
    "    #model 4\n",
    "    print('model 4')\n",
    "    model_cv4 = model_four(x_train_nn1,y_train_nn1)\n",
    "    print(model_cv4.evaluate(x_test_nn1,y_test_nn1))\n",
    "    \n",
    "    #model 5\n",
    "    print('model 5')\n",
    "    model_cv5 = model_five(x_train_nn1,y_train_nn1)\n",
    "    print(model_cv5.evaluate(x_test_nn1,y_test_nn1))"
   ]
  },
  {
   "cell_type": "code",
   "execution_count": 0,
   "metadata": {
    "colab": {},
    "colab_type": "code",
    "id": "lb-MLD9HDxom",
    "outputId": "ef796a4f-d38a-44ad-c245-348a822e422b"
   },
   "outputs": [
    {
     "data": {
      "text/plain": [
       "(6396, 2)"
      ]
     },
     "execution_count": 63,
     "metadata": {
      "tags": []
     },
     "output_type": "execute_result"
    }
   ],
   "source": [
    "y_test_nn1[0].shape"
   ]
  },
  {
   "cell_type": "markdown",
   "metadata": {
    "colab_type": "text",
    "id": "vKg9PEGwDxop"
   },
   "source": [
    "### Fill in your Part 4 Conclusion here \n",
    "\n",
    "Explain what you conclude on your models comparing preliminary results to those after cross-validation"
   ]
  },
  {
   "cell_type": "markdown",
   "metadata": {
    "colab": {},
    "colab_type": "code",
    "id": "esxJqA4wDxon",
    "outputId": "9d3f73e0-2569-4283-f203-d7915105d4ba"
   },
   "source": [
    "Ussing k= 5 and runnig it on all the five models the accuracy rate has improved\n",
    "but we try using regularization to improve the learning rate"
   ]
  },
  {
   "cell_type": "markdown",
   "metadata": {
    "colab_type": "text",
    "id": "OlgguAABDxop"
   },
   "source": [
    "## Part 5: Refining with Regularization\n",
    "\n",
    "We know that our biggest problem, if our models are flexibile enough, will be overfitting. Please try to regularize your best 2 models to see if you can improve their results. Look at these questions:\n",
    "\n",
    "* Try regularizing each of your two best models, does the generalizability increase?  of Decrease?  \n",
    "* Is one more sensitive than the other? Why might this happen and why?  \n",
    "* Please try this with all of your features and then with the reduced set of features.  \n",
    "* Report your precision, recall and f1 score on the train and validation sets (no cross validatio yet).  \n",
    "* Next carry out cross validation.  Does regularization reduce under or overfitting?   Why or why not?  \n",
    "\n",
    "** Hint: Try both L1 or L2 norm for regularization or dropout **\n"
   ]
  },
  {
   "cell_type": "code",
   "execution_count": 41,
   "metadata": {
    "colab": {
     "base_uri": "https://localhost:8080/",
     "height": 52
    },
    "colab_type": "code",
    "id": "fCXfqVpZDxoq",
    "outputId": "fc467de0-588f-49cd-e0cc-105a46c6941d"
   },
   "outputs": [
    {
     "name": "stdout",
     "output_type": "stream",
     "text": [
      "(25582, 43)\n",
      "(25582, 2)\n"
     ]
    }
   ],
   "source": [
    "print(X_train_nn1.shape)\n",
    "print(y_train_nn1.shape)"
   ]
  },
  {
   "cell_type": "markdown",
   "metadata": {
    "colab_type": "text",
    "id": "WT2K6D-DDxor"
   },
   "source": [
    "* Since my model_1 and model_2  have performed well so I am using them in regualarization "
   ]
  },
  {
   "cell_type": "markdown",
   "metadata": {},
   "source": [
    "#### L2 regularization "
   ]
  },
  {
   "cell_type": "code",
   "execution_count": 0,
   "metadata": {
    "colab": {},
    "colab_type": "code",
    "id": "3wntQ4RaDxos"
   },
   "outputs": [],
   "source": [
    "# Fill in your code analysis for part 5 here\n",
    "from tensorflow.keras import regularizers\n",
    "\n",
    "from keras import backend as K\n",
    "\n",
    "def recall_m(y_val, y_pred):\n",
    "    true_positives = K.sum(K.round(K.clip(y_val * y_pred, 0, 1)))\n",
    "    possible_positives = K.sum(K.round(K.clip(y_val, 0, 1)))\n",
    "    recall = true_positives / (possible_positives + K.epsilon())\n",
    "    return recall\n",
    "\n",
    "def precision_m(y_val, y_pred):\n",
    "    true_positives = K.sum(K.round(K.clip(y_val * y_pred, 0, 1)))\n",
    "    predicted_positives = K.sum(K.round(K.clip(y_pred, 0, 1)))\n",
    "    precision = true_positives / (predicted_positives + K.epsilon())\n",
    "    return precision\n",
    "\n",
    "def f1_m(y_val, y_pred):\n",
    "    precision = precision_m(y_val, y_pred)\n",
    "    recall = recall_m(y_val, y_pred)\n",
    "    return 2*((precision*recall)/(precision+recall+K.epsilon()))\n",
    "\n",
    "def model_one_L2(X_train_nn1,y_train_nn1):\n",
    "    model_1_L2 = Sequential()\n",
    "    model_1_L2.add(Dense(100,input_dim=43,activation='relu',kernel_regularizer=regularizers.l2(0.001)))\n",
    "    model_1_L2.add(Dense(2, activation='softmax'))\n",
    "    model_1_L2.compile(optimizer='adam', loss='binary_crossentropy', metrics=['acc',f1_m,precision_m, recall_m])\n",
    "    history = model_1_L2.fit(X_train_nn1,y_train_nn1, validation_split= 0.2,epochs=5,batch_size=32)\n",
    "    acc = history.history['acc']\n",
    "    val_acc = history.history['val_acc']\n",
    "    loss = history.history['loss']\n",
    "    val_loss = history.history['val_loss']\n",
    "    epochs = range(len(acc))\n",
    "\n",
    "    plt.plot(epochs, acc, label='Training acc')\n",
    "    plt.plot(epochs, val_acc, label='Validation acc')\n",
    "    plt.title('Training and validation accuracy')\n",
    "    plt.legend()\n",
    "    plt.figure()\n",
    "    plt.plot(epochs, loss, label='Training loss')\n",
    "    plt.plot(epochs, val_loss, label='Validation loss')\n",
    "    plt.title('Training and validation loss')\n",
    "    plt.legend()\n",
    "    plt.show()\n",
    "    loss, accuracy, f1_score, precision, recall = model_1_L2.evaluate(X_test_nn1, y_test_nn1, verbose=0)\n",
    "    print(\"loss\",loss)\n",
    "    print(\"accuracy\",accuracy)\n",
    "    print(\"f1_score\",f1_score)\n",
    "    print(\"precision\",precision)\n",
    "    print(\"recall\",recall)\n",
    "    return model_1_L2\n",
    "\n",
    "\n",
    "def model_two_L2(X_train_nn1,y_train_nn1):\n",
    "    model_2_L2 = Sequential()\n",
    "    model_2_L2.add(Dense(64,input_dim=43,activation='relu',kernel_regularizer=regularizers.l2(0.001)))\n",
    "    model_2_L2.add(Dense(2, activation='softmax',kernel_regularizer=regularizers.l2(0.001)))\n",
    "    model_2_L2.compile(optimizer='adam', loss='binary_crossentropy', metrics=['acc',f1_m,precision_m, recall_m])\n",
    "    history = model_2_L2.fit(X_train_nn1,y_train_nn1, validation_split= 0.2,epochs=5,batch_size=32)\n",
    "    acc = history.history['acc']\n",
    "    val_acc = history.history['val_acc']\n",
    "    loss = history.history['loss']\n",
    "    val_loss = history.history['val_loss']\n",
    "    epochs = range(len(acc))\n",
    "\n",
    "    plt.plot(epochs, acc, label='Training acc')\n",
    "    plt.plot(epochs, val_acc, label='Validation acc')\n",
    "    plt.title('Training and validation accuracy')\n",
    "    plt.legend()\n",
    "    plt.figure()\n",
    "    plt.plot(epochs, loss, label='Training loss')\n",
    "    plt.plot(epochs, val_loss, label='Validation loss')\n",
    "    plt.title('Training and validation loss')\n",
    "    plt.legend()\n",
    "    plt.show()\n",
    "    loss, accuracy, f1_score, precision, recall = model_2_L2.evaluate(X_test_nn1, y_test_nn1, verbose=0)\n",
    "    print(\"loss\",loss)\n",
    "    print(\"accuracy\",accuracy)\n",
    "    print(\"f1_score\",f1_score)\n",
    "    print(\"precision\",precision)\n",
    "    print(\"recall\",recall)\n",
    "    return model_2_L2\n"
   ]
  },
  {
   "cell_type": "markdown",
   "metadata": {},
   "source": [
    "##### L2 regularation on model 1 and model 2"
   ]
  },
  {
   "cell_type": "code",
   "execution_count": 63,
   "metadata": {
    "colab": {
     "base_uri": "https://localhost:8080/",
     "height": 912
    },
    "colab_type": "code",
    "id": "RMk7XzMO9HvK",
    "outputId": "2a306e58-0f3c-40af-ad04-360e14548b08"
   },
   "outputs": [
    {
     "name": "stdout",
     "output_type": "stream",
     "text": [
      "Epoch 1/5\n",
      "640/640 [==============================] - 1s 2ms/step - loss: 10.1168 - acc: 0.3407 - f1_m: 0.3410 - precision_m: 0.3410 - recall_m: 0.3410 - val_loss: 3.7496 - val_acc: 0.7555 - val_f1_m: 0.7556 - val_precision_m: 0.7556 - val_recall_m: 0.7556\n",
      "Epoch 2/5\n",
      "640/640 [==============================] - 1s 2ms/step - loss: 3.6752 - acc: 0.7604 - f1_m: 0.7605 - precision_m: 0.7605 - recall_m: 0.7605 - val_loss: 3.7496 - val_acc: 0.7555 - val_f1_m: 0.7556 - val_precision_m: 0.7556 - val_recall_m: 0.7556\n",
      "Epoch 3/5\n",
      "640/640 [==============================] - 1s 2ms/step - loss: 3.6752 - acc: 0.7604 - f1_m: 0.7603 - precision_m: 0.7603 - recall_m: 0.7603 - val_loss: 3.7496 - val_acc: 0.7555 - val_f1_m: 0.7556 - val_precision_m: 0.7556 - val_recall_m: 0.7556\n",
      "Epoch 4/5\n",
      "640/640 [==============================] - 1s 2ms/step - loss: 3.6752 - acc: 0.7604 - f1_m: 0.7603 - precision_m: 0.7603 - recall_m: 0.7603 - val_loss: 3.7496 - val_acc: 0.7555 - val_f1_m: 0.7556 - val_precision_m: 0.7556 - val_recall_m: 0.7556\n",
      "Epoch 5/5\n",
      "640/640 [==============================] - 1s 2ms/step - loss: 3.6752 - acc: 0.7604 - f1_m: 0.7605 - precision_m: 0.7605 - recall_m: 0.7605 - val_loss: 3.7496 - val_acc: 0.7555 - val_f1_m: 0.7556 - val_precision_m: 0.7556 - val_recall_m: 0.7556\n"
     ]
    },
    {
     "data": {
      "image/png": "[encoded data removed]",
      "text/plain": [
       "<Figure size 432x288 with 1 Axes>"
      ]
     },
     "metadata": {
      "needs_background": "light",
      "tags": []
     },
     "output_type": "display_data"
    },
    {
     "data": {
      "image/png": "[encoded data removed]",
      "text/plain": [
       "<Figure size 432x288 with 1 Axes>"
      ]
     },
     "metadata": {
      "needs_background": "light",
      "tags": []
     },
     "output_type": "display_data"
    },
    {
     "name": "stdout",
     "output_type": "stream",
     "text": [
      "loss 3.6928112506866455\n",
      "accuracy 0.759224534034729\n",
      "f1_score 0.759263277053833\n",
      "precision 0.7592633962631226\n",
      "recall 0.7592633962631226\n",
      "L2 regularize for model_one\n",
      "160/160 [==============================] - 0s 999us/step - loss: 3.6267 - acc: 0.7635 - f1_m: 0.7635 - precision_m: 0.7635 - recall_m: 0.7635\n",
      "[3.626727819442749, 0.7635332942008972, 0.7634899616241455, 0.7634900212287903, 0.7634900212287903]\n",
      "200/200 [==============================] - 0s 1ms/step - loss: 3.6928 - acc: 0.7592 - f1_m: 0.7593 - precision_m: 0.7593 - recall_m: 0.7593\n",
      "[3.6928112506866455, 0.759224534034729, 0.759263277053833, 0.7592633962631226, 0.7592633962631226]\n"
     ]
    }
   ],
   "source": [
    "model_1_L2= model_one_L2(X_train_nn1,y_train_nn1)\n",
    "print(\"L2 regularize for model_one\")\n",
    "#y_pred_val_1_l2 = model_1_L2.predict(X_val_nn1)\n",
    "#y_pred_test_1_l2 = model_1_L2.predict(X_test_nn1)\n",
    "print(model_1_L2.evaluate(X_val_nn1,y_val_nn1))\n",
    "print(model_1_L2.evaluate(X_test_nn1,y_test_nn1))\n"
   ]
  },
  {
   "cell_type": "code",
   "execution_count": 60,
   "metadata": {
    "colab": {
     "base_uri": "https://localhost:8080/",
     "height": 912
    },
    "colab_type": "code",
    "id": "7E_pN1U9Dxou",
    "outputId": "c7482431-d2f3-41e8-f6dc-2b6e78eddfae"
   },
   "outputs": [
    {
     "name": "stdout",
     "output_type": "stream",
     "text": [
      "Epoch 1/5\n",
      "640/640 [==============================] - 1s 2ms/step - loss: 7.9336 - acc: 0.4831 - f1_m: 0.4834 - precision_m: 0.4834 - recall_m: 0.4834 - val_loss: 3.7496 - val_acc: 0.7555 - val_f1_m: 0.7556 - val_precision_m: 0.7556 - val_recall_m: 0.7556\n",
      "Epoch 2/5\n",
      "640/640 [==============================] - 1s 2ms/step - loss: 3.6752 - acc: 0.7604 - f1_m: 0.7602 - precision_m: 0.7602 - recall_m: 0.7602 - val_loss: 3.7496 - val_acc: 0.7555 - val_f1_m: 0.7556 - val_precision_m: 0.7556 - val_recall_m: 0.7556\n",
      "Epoch 3/5\n",
      "640/640 [==============================] - 1s 2ms/step - loss: 3.6752 - acc: 0.7604 - f1_m: 0.7605 - precision_m: 0.7605 - recall_m: 0.7605 - val_loss: 3.7496 - val_acc: 0.7555 - val_f1_m: 0.7556 - val_precision_m: 0.7556 - val_recall_m: 0.7556\n",
      "Epoch 4/5\n",
      "640/640 [==============================] - 1s 2ms/step - loss: 3.6752 - acc: 0.7604 - f1_m: 0.7603 - precision_m: 0.7603 - recall_m: 0.7603 - val_loss: 3.7496 - val_acc: 0.7555 - val_f1_m: 0.7556 - val_precision_m: 0.7556 - val_recall_m: 0.7556\n",
      "Epoch 5/5\n",
      "640/640 [==============================] - 1s 2ms/step - loss: 3.6752 - acc: 0.7604 - f1_m: 0.7604 - precision_m: 0.7604 - recall_m: 0.7604 - val_loss: 3.7496 - val_acc: 0.7555 - val_f1_m: 0.7556 - val_precision_m: 0.7556 - val_recall_m: 0.7556\n"
     ]
    },
    {
     "data": {
      "image/png": "[encoded data removed]",
      "text/plain": [
       "<Figure size 432x288 with 1 Axes>"
      ]
     },
     "metadata": {
      "needs_background": "light",
      "tags": []
     },
     "output_type": "display_data"
    },
    {
     "data": {
      "image/png": "[encoded data removed]",
      "text/plain": [
       "<Figure size 432x288 with 1 Axes>"
      ]
     },
     "metadata": {
      "needs_background": "light",
      "tags": []
     },
     "output_type": "display_data"
    },
    {
     "name": "stdout",
     "output_type": "stream",
     "text": [
      "loss 3.6928138732910156\n",
      "accuracy 0.759224534034729\n",
      "f1_score 0.759263277053833\n",
      "precision 0.7592633962631226\n",
      "recall 0.7592633962631226\n",
      "L2 regularize for model_two\n",
      "160/160 [==============================] - 0s 1ms/step - loss: 3.6267 - acc: 0.7635 - f1_m: 0.7635 - precision_m: 0.7635 - recall_m: 0.7635\n",
      "[3.6267316341400146, 0.7635332942008972, 0.7634899616241455, 0.7634900212287903, 0.7634900212287903]\n",
      "200/200 [==============================] - 0s 1ms/step - loss: 3.6928 - acc: 0.7592 - f1_m: 0.7593 - precision_m: 0.7593 - recall_m: 0.7593\n",
      "[3.6928138732910156, 0.759224534034729, 0.759263277053833, 0.7592633962631226, 0.7592633962631226]\n"
     ]
    }
   ],
   "source": [
    "model_2_L2= model_two_L2(X_train_nn1,y_train_nn1)\n",
    "print(\"L2 regularize for model_two\")\n",
    "#y_pred_val_2_l2 = model_2_L2.predict(X_val_nn1)\n",
    "#y_pred_test_2_l2 = model_2_L2.predict(X_test_nn1)\n",
    "print(model_2_L2.evaluate(X_val_nn1,y_val_nn1))\n",
    "print(model_2_L2.evaluate(X_test_nn1,y_test_nn1))\n"
   ]
  },
  {
   "cell_type": "markdown",
   "metadata": {
    "colab": {},
    "colab_type": "code",
    "id": "7T5szTFODxox"
   },
   "source": [
    "compare to previous model using cross validation the learring rate and model have improve using regularization \n",
    "\n"
   ]
  },
  {
   "cell_type": "markdown",
   "metadata": {
    "colab": {},
    "colab_type": "code",
    "id": "35EQN8VVDxo4"
   },
   "source": [
    "###### L1 regularization on model 1 and model2 "
   ]
  },
  {
   "cell_type": "code",
   "execution_count": 0,
   "metadata": {
    "colab": {},
    "colab_type": "code",
    "id": "OPHlwNcXDxo5"
   },
   "outputs": [],
   "source": [
    "## Laso method L1\n",
    "def recall_m(y_val, y_pred):\n",
    "    true_positives = K.sum(K.round(K.clip(y_val * y_pred, 0, 1)))\n",
    "    possible_positives = K.sum(K.round(K.clip(y_val, 0, 1)))\n",
    "    recall = true_positives / (possible_positives + K.epsilon())\n",
    "    return recall\n",
    "\n",
    "def precision_m(y_val, y_pred):\n",
    "    true_positives = K.sum(K.round(K.clip(y_val * y_pred, 0, 1)))\n",
    "    predicted_positives = K.sum(K.round(K.clip(y_pred, 0, 1)))\n",
    "    precision = true_positives / (predicted_positives + K.epsilon())\n",
    "    return precision\n",
    "\n",
    "def f1_m(y_val, y_pred):\n",
    "    precision = precision_m(y_val, y_pred)\n",
    "    recall = recall_m(y_val, y_pred)\n",
    "    return 2*((precision*recall)/(precision+recall+K.epsilon()))\n",
    "\n",
    "def model_one_L1(X_train_nn1,y_train_nn1):\n",
    "    model_1_L1 = Sequential()\n",
    "    model_1_L1.add(Dense(100,input_dim=43,activation='relu',kernel_regularizer=regularizers.l1(0.001)))\n",
    "    model_1_L1.add(Dense(2, activation='softmax',kernel_regularizer=regularizers.l1(0.001)))\n",
    "    model_1_L1.compile(optimizer='adam', loss='binary_crossentropy', metrics=['acc',f1_m,precision_m, recall_m])\n",
    "    history = model_1_L1.fit(X_train_nn1,y_train_nn1, validation_split= 0.2,epochs=5,batch_size=10)\n",
    "    acc = history.history['acc']\n",
    "    val_acc = history.history['val_acc']\n",
    "    loss = history.history['loss']\n",
    "    val_loss = history.history['val_loss']\n",
    "    epochs = range(len(acc))\n",
    "\n",
    "    plt.plot(epochs, acc, label='Training acc')\n",
    "    plt.plot(epochs, val_acc, label='Validation acc')\n",
    "    plt.title('Training and validation accuracy')\n",
    "    plt.legend()\n",
    "    plt.figure()\n",
    "    plt.plot(epochs, loss, label='Training loss')\n",
    "    plt.plot(epochs, val_loss, label='Validation loss')\n",
    "    plt.title('Training and validation loss')\n",
    "    plt.legend()\n",
    "    plt.show()\n",
    "    loss, accuracy, f1_score, precision, recall = model_1_L1.evaluate(X_test_nn1, y_test_nn1, verbose=0)\n",
    "    print(\"loss\",loss)\n",
    "    print(\"accuracy\",accuracy)\n",
    "    print(\"f1_score\",f1_score)\n",
    "    print(\"precision\",precision)\n",
    "    print(\"recall\",recall)\n",
    "    return model_1_L1\n",
    "\n",
    "\n",
    "def model_two_L1(X_train_nn1,y_train_nn1):\n",
    "    model_2_L1 = Sequential()\n",
    "    model_2_L1.add(Dense(64,input_dim=43,activation='relu'))\n",
    "    model_2_L1.add(Flatten())\n",
    "    model_2_L1.add(Dense(2, activation='softmax',kernel_regularizer=regularizers.l1(0.001)))\n",
    "    model_2_L1.compile(optimizer='adam', loss='binary_crossentropy', metrics=['acc',f1_m,precision_m, recall_m])\n",
    "    history = model_2_L1.fit(X_train_nn1,y_train_nn1, validation_split= 0.2,epochs=5,batch_size=10)\n",
    "    acc = history.history['acc']\n",
    "    val_acc = history.history['val_acc']\n",
    "    loss = history.history['loss']\n",
    "    val_loss = history.history['val_loss']\n",
    "    epochs = range(len(acc))\n",
    "\n",
    "    plt.plot(epochs, acc, label='Training acc')\n",
    "    plt.plot(epochs, val_acc, label='Validation acc')\n",
    "    plt.title('Training and validation accuracy')\n",
    "    plt.legend()\n",
    "    plt.figure()\n",
    "    plt.plot(epochs, loss, label='Training loss')\n",
    "    plt.plot(epochs, val_loss, label='Validation loss')\n",
    "    plt.title('Training and validation loss')\n",
    "    plt.legend()\n",
    "    plt.show()\n",
    "    loss, accuracy, f1_score, precision, recall = model_2_L1.evaluate(X_test_nn1, y_test_nn1, verbose=0)\n",
    "    print(\"loss\",loss)\n",
    "    print(\"accuracy\",accuracy)\n",
    "    print(\"f1_score\",f1_score)\n",
    "    print(\"precision\",precision)\n",
    "    print(\"recall\",recall)\n",
    "    return model_2_L1\n"
   ]
  },
  {
   "cell_type": "code",
   "execution_count": 51,
   "metadata": {
    "colab": {
     "base_uri": "https://localhost:8080/",
     "height": 912
    },
    "colab_type": "code",
    "id": "RnCRk_Xq-f2L",
    "outputId": "49ea3ad3-5cb3-49f6-f0d4-e16f72917ece"
   },
   "outputs": [
    {
     "name": "stdout",
     "output_type": "stream",
     "text": [
      "Epoch 1/5\n",
      "2047/2047 [==============================] - 4s 2ms/step - loss: 4.3608 - acc: 0.7168 - f1_m: 0.7168 - precision_m: 0.7168 - recall_m: 0.7168 - val_loss: 3.7507 - val_acc: 0.7555 - val_f1_m: 0.7556 - val_precision_m: 0.7556 - val_recall_m: 0.7556\n",
      "Epoch 2/5\n",
      "2047/2047 [==============================] - 4s 2ms/step - loss: 3.6821 - acc: 0.7600 - f1_m: 0.7599 - precision_m: 0.7599 - recall_m: 0.7599 - val_loss: 3.7530 - val_acc: 0.7555 - val_f1_m: 0.7556 - val_precision_m: 0.7556 - val_recall_m: 0.7556\n",
      "Epoch 3/5\n",
      "2047/2047 [==============================] - 4s 2ms/step - loss: 3.6783 - acc: 0.7604 - f1_m: 0.7604 - precision_m: 0.7604 - recall_m: 0.7604 - val_loss: 3.7524 - val_acc: 0.7555 - val_f1_m: 0.7556 - val_precision_m: 0.7556 - val_recall_m: 0.7556\n",
      "Epoch 4/5\n",
      "2047/2047 [==============================] - 3s 2ms/step - loss: 3.6778 - acc: 0.7604 - f1_m: 0.7603 - precision_m: 0.7603 - recall_m: 0.7603 - val_loss: 3.7520 - val_acc: 0.7555 - val_f1_m: 0.7556 - val_precision_m: 0.7556 - val_recall_m: 0.7556\n",
      "Epoch 5/5\n",
      "2047/2047 [==============================] - 4s 2ms/step - loss: 3.6772 - acc: 0.7604 - f1_m: 0.7604 - precision_m: 0.7604 - recall_m: 0.7604 - val_loss: 3.7510 - val_acc: 0.7555 - val_f1_m: 0.7556 - val_precision_m: 0.7556 - val_recall_m: 0.7556\n"
     ]
    },
    {
     "data": {
      "image/png": "[encoded data removed]",
      "text/plain": [
       "<Figure size 432x288 with 1 Axes>"
      ]
     },
     "metadata": {
      "needs_background": "light",
      "tags": []
     },
     "output_type": "display_data"
    },
    {
     "data": {
      "image/png": "[encoded data removed]",
      "text/plain": [
       "<Figure size 432x288 with 1 Axes>"
      ]
     },
     "metadata": {
      "needs_background": "light",
      "tags": []
     },
     "output_type": "display_data"
    },
    {
     "name": "stdout",
     "output_type": "stream",
     "text": [
      "loss 3.6942226886749268\n",
      "accuracy 0.759224534034729\n",
      "f1_score 0.759263277053833\n",
      "precision 0.7592633962631226\n",
      "recall 0.7592633962631226\n",
      "L1 regularize for model_one\n",
      "160/160 [==============================] - 0s 1ms/step - loss: 3.6281 - acc: 0.7635 - f1_m: 0.7635 - precision_m: 0.7635 - recall_m: 0.7635\n",
      "[3.6281394958496094, 0.7635332942008972, 0.7634899616241455, 0.7634900212287903, 0.7634900212287903]\n",
      "200/200 [==============================] - 0s 1ms/step - loss: 3.6942 - acc: 0.7592 - f1_m: 0.7593 - precision_m: 0.7593 - recall_m: 0.7593\n",
      "[3.6942226886749268, 0.759224534034729, 0.759263277053833, 0.7592633962631226, 0.7592633962631226]\n"
     ]
    }
   ],
   "source": [
    "model_1_L1= model_one_L1(X_train_nn1,y_train_nn1)\n",
    "print(\"L1 regularize for model_one\")\n",
    "print(model_1_L1.evaluate(X_val_nn1,y_val_nn1))\n",
    "print(model_1_L1.evaluate(X_test_nn1,y_test_nn1))\n"
   ]
  },
  {
   "cell_type": "code",
   "execution_count": 58,
   "metadata": {
    "colab": {
     "base_uri": "https://localhost:8080/",
     "height": 912
    },
    "colab_type": "code",
    "id": "yi8JsbJkDxo8",
    "outputId": "f1bc3dcc-773d-40f0-ee8a-e559c3daae56"
   },
   "outputs": [
    {
     "name": "stdout",
     "output_type": "stream",
     "text": [
      "Epoch 1/5\n",
      "2047/2047 [==============================] - 3s 2ms/step - loss: 3.9812 - acc: 0.7405 - f1_m: 0.7405 - precision_m: 0.7405 - recall_m: 0.7405 - val_loss: 3.7505 - val_acc: 0.7555 - val_f1_m: 0.7556 - val_precision_m: 0.7556 - val_recall_m: 0.7556\n",
      "Epoch 2/5\n",
      "2047/2047 [==============================] - 3s 2ms/step - loss: 3.6760 - acc: 0.7604 - f1_m: 0.7604 - precision_m: 0.7604 - recall_m: 0.7604 - val_loss: 3.7504 - val_acc: 0.7555 - val_f1_m: 0.7556 - val_precision_m: 0.7556 - val_recall_m: 0.7556\n",
      "Epoch 3/5\n",
      "2047/2047 [==============================] - 3s 2ms/step - loss: 3.6759 - acc: 0.7604 - f1_m: 0.7603 - precision_m: 0.7603 - recall_m: 0.7603 - val_loss: 3.7502 - val_acc: 0.7555 - val_f1_m: 0.7556 - val_precision_m: 0.7556 - val_recall_m: 0.7556\n",
      "Epoch 4/5\n",
      "2047/2047 [==============================] - 3s 2ms/step - loss: 3.6757 - acc: 0.7604 - f1_m: 0.7603 - precision_m: 0.7603 - recall_m: 0.7603 - val_loss: 3.7499 - val_acc: 0.7555 - val_f1_m: 0.7556 - val_precision_m: 0.7556 - val_recall_m: 0.7556\n",
      "Epoch 5/5\n",
      "2047/2047 [==============================] - 3s 2ms/step - loss: 3.6753 - acc: 0.7604 - f1_m: 0.7604 - precision_m: 0.7604 - recall_m: 0.7604 - val_loss: 3.7496 - val_acc: 0.7555 - val_f1_m: 0.7556 - val_precision_m: 0.7556 - val_recall_m: 0.7556\n"
     ]
    },
    {
     "data": {
      "image/png": "[encoded data removed]",
      "text/plain": [
       "<Figure size 432x288 with 1 Axes>"
      ]
     },
     "metadata": {
      "needs_background": "light",
      "tags": []
     },
     "output_type": "display_data"
    },
    {
     "data": {
      "image/png": "[encoded data removed]",
      "text/plain": [
       "<Figure size 432x288 with 1 Axes>"
      ]
     },
     "metadata": {
      "needs_background": "light",
      "tags": []
     },
     "output_type": "display_data"
    },
    {
     "name": "stdout",
     "output_type": "stream",
     "text": [
      "loss 3.6928369998931885\n",
      "accuracy 0.759224534034729\n",
      "f1_score 0.759263277053833\n",
      "precision 0.7592633962631226\n",
      "recall 0.7592633962631226\n",
      "L1 regularize for model_two\n",
      "160/160 [==============================] - 0s 1ms/step - loss: 3.6268 - acc: 0.7635 - f1_m: 0.7635 - precision_m: 0.7635 - recall_m: 0.7635\n",
      "[3.6267504692077637, 0.7635332942008972, 0.7634899616241455, 0.7634900212287903, 0.7634900212287903]\n",
      "200/200 [==============================] - 0s 980us/step - loss: 3.6928 - acc: 0.7592 - f1_m: 0.7593 - precision_m: 0.7593 - recall_m: 0.7593\n",
      "[3.6928369998931885, 0.759224534034729, 0.759263277053833, 0.7592633962631226, 0.7592633962631226]\n"
     ]
    }
   ],
   "source": [
    "model_2_L1= model_two_L1(X_train_nn1,y_train_nn1)\n",
    "print(\"L1 regularize for model_two\")\n",
    "print(model_2_L1.evaluate(X_val_nn1,y_val_nn1))\n",
    "print(model_2_L1.evaluate(X_test_nn1,y_test_nn1))\n"
   ]
  },
  {
   "cell_type": "markdown",
   "metadata": {
    "colab_type": "text",
    "id": "22apNmqzDxpA"
   },
   "source": [
    "### Fill in your part 5 conclusions here\n",
    "\n",
    "Explain what you conclude from your regularization analysis."
   ]
  },
  {
   "cell_type": "markdown",
   "metadata": {
    "colab": {},
    "colab_type": "code",
    "id": "9S5l9WQeDxo-"
   },
   "source": [
    "* Both the model have also perforemd well in L1 regualrication   \n",
    "* In this model 1 and model 2, model 1 has performed well laso Method L1  \n",
    "* Hence we can conclude Regularization helps to improve the model better "
   ]
  },
  {
   "cell_type": "markdown",
   "metadata": {
    "colab_type": "text",
    "id": "JTqXoxP-DxpC"
   },
   "source": [
    "## Part 6: Grid Search\n",
    "\n",
    "Please read this [article on using Grid Search CV with Keras](https://mlfromscratch.com/gridsearch-keras-sklearn). Be very very careful. Grid Search is very very slow. Given your above experiments you should have a pretty good idea of what your prameters should be before you run grid search. Run some small gridsearch runs (much smaller or more widely spaced) than you want to estimate time. Remember google colab will end after a limited amount of time so build slowly. Try to pin down the best parameters for:\n",
    "\n",
    "1. The number of layers (please don't go deeper than 10 hidden layers)\n",
    "2. The number of nodes per layer\n",
    "3. The type of regularization to use\n",
    "4. The type of weight initialization to use.\n",
    "5. The type of activation function.\n",
    "6. The metric to evaluate with, although logloss is standard, try using other metrics of accuracy.  \n",
    "\n",
    "You may even try multiple and averaging or taking the harmonic weight of multiple metrics."
   ]
  },
  {
   "cell_type": "code",
   "execution_count": 0,
   "metadata": {
    "colab": {},
    "colab_type": "code",
    "id": "KhmnoNB3DxpC"
   },
   "outputs": [],
   "source": [
    "x_train_data =X_train_nn1.copy()\n",
    "y_train_data =y_train_nn1.copy()"
   ]
  },
  {
   "cell_type": "code",
   "execution_count": 0,
   "metadata": {
    "colab": {},
    "colab_type": "code",
    "id": "A6yuE5jCDxpD"
   },
   "outputs": [],
   "source": [
    "### from keras.wrappers.scikit_learn import KerasClassifier\n",
    "from sklearn.model_selection import GridSearchCV\n",
    "from keras.wrappers.scikit_learn import KerasClassifier\n",
    "def create_model_GS():\n",
    "    model = Sequential()\n",
    "    model.add(Dense(10,input_dim=43,activation='relu'))\n",
    "    model.add(Dense(2, activation='softmax',))\n",
    "    model.compile(loss='binary_crossentropy', optimizer='adam', metrics=[\"acc\"])\n",
    "    model.fit(x_train_data,y_train_data, validation_split= 0.2,epochs=5,batch_size=10)\n",
    "    return model\n",
    "\n",
    " \n",
    "model = KerasClassifier(build_fn=create_model_GS, epochs=3)"
   ]
  },
  {
   "cell_type": "markdown",
   "metadata": {},
   "source": [
    "with epoch 1,2,3"
   ]
  },
  {
   "cell_type": "code",
   "execution_count": 0,
   "metadata": {
    "colab": {
     "base_uri": "https://localhost:8080/",
     "height": 208
    },
    "colab_type": "code",
    "id": "XTPlTRzODxpF",
    "outputId": "a1040b39-78aa-4604-fdb6-a9f0c16740ea"
   },
   "outputs": [
    {
     "name": "stdout",
     "output_type": "stream",
     "text": [
      "Epoch 1/5\n",
      "2047/2047 [==============================] - 4s 2ms/step - loss: 11.6814 - acc: 0.2384 - val_loss: 11.6025 - val_acc: 0.2435\n",
      "Epoch 2/5\n",
      "2047/2047 [==============================] - 4s 2ms/step - loss: 11.6814 - acc: 0.2384 - val_loss: 11.6025 - val_acc: 0.2435\n",
      "Epoch 3/5\n",
      "2047/2047 [==============================] - 4s 2ms/step - loss: 11.6814 - acc: 0.2384 - val_loss: 11.6025 - val_acc: 0.2435\n",
      "Epoch 4/5\n",
      "2047/2047 [==============================] - 4s 2ms/step - loss: 11.6814 - acc: 0.2384 - val_loss: 11.6025 - val_acc: 0.2435\n",
      "Epoch 5/5\n",
      "2047/2047 [==============================] - 4s 2ms/step - loss: 11.6814 - acc: 0.2384 - val_loss: 11.6025 - val_acc: 0.2435\n",
      "800/800 [==============================] - 1s 2ms/step - loss: 11.6656 - acc: 0.2394\n"
     ]
    }
   ],
   "source": [
    "param_grid = dict(epochs=[1,2,3])\n",
    "grid = GridSearchCV(estimator=model, param_grid=param_grid, n_jobs=-1, cv=3)\n",
    "grid_result = grid.fit(x_train_data,y_train_data)"
   ]
  },
  {
   "cell_type": "code",
   "execution_count": 0,
   "metadata": {
    "colab": {
     "base_uri": "https://localhost:8080/",
     "height": 69
    },
    "colab_type": "code",
    "id": "N1c7nDVHDxpH",
    "outputId": "2eabe559-7196-4ebb-c9ea-0445f7fe5165"
   },
   "outputs": [
    {
     "name": "stdout",
     "output_type": "stream",
     "text": [
      "mean 0.759519 stdev (0.001574) with {'epochs': 1}\n",
      "mean 0.409728 stdev (0.245676) with {'epochs': 2}\n",
      "mean 0.412073 stdev (0.244092) with {'epochs': 3}\n"
     ]
    }
   ],
   "source": [
    "# summarize results\n",
    "means = grid_result.cv_results_['mean_test_score']\n",
    "stds = grid_result.cv_results_['std_test_score']\n",
    "params = grid_result.cv_results_['params']\n",
    "for mean, stdev, param in zip(means, stds, params):\n",
    "    print(\"mean %f stdev (%f) with %r\" % (mean, stdev, param))"
   ]
  },
  {
   "cell_type": "markdown",
   "metadata": {},
   "source": [
    "with epochs 2,5, 7"
   ]
  },
  {
   "cell_type": "code",
   "execution_count": 0,
   "metadata": {
    "colab": {
     "base_uri": "https://localhost:8080/",
     "height": 433
    },
    "colab_type": "code",
    "id": "ukEASr5OOc9a",
    "outputId": "c7e4c2c8-b22e-41ea-e218-0875c20970db"
   },
   "outputs": [
    {
     "name": "stdout",
     "output_type": "stream",
     "text": [
      "Epoch 1/5\n",
      "2047/2047 [==============================] - 4s 2ms/step - loss: 11.6619 - acc: 0.2396 - val_loss: 11.5875 - val_acc: 0.2445\n",
      "Epoch 2/5\n",
      "2047/2047 [==============================] - 4s 2ms/step - loss: 11.6619 - acc: 0.2396 - val_loss: 11.5875 - val_acc: 0.2445\n",
      "Epoch 3/5\n",
      "2047/2047 [==============================] - 4s 2ms/step - loss: 11.6619 - acc: 0.2396 - val_loss: 11.5875 - val_acc: 0.2445\n",
      "Epoch 4/5\n",
      "2047/2047 [==============================] - 4s 2ms/step - loss: 11.6619 - acc: 0.2396 - val_loss: 11.5875 - val_acc: 0.2445\n",
      "Epoch 5/5\n",
      "2047/2047 [==============================] - 4s 2ms/step - loss: 11.6619 - acc: 0.2396 - val_loss: 11.5875 - val_acc: 0.2445\n",
      "Epoch 1/7\n",
      "800/800 [==============================] - 1s 2ms/step - loss: 11.6470 - acc: 0.2406\n",
      "Epoch 2/7\n",
      "800/800 [==============================] - 1s 2ms/step - loss: 11.6470 - acc: 0.2406\n",
      "Epoch 3/7\n",
      "800/800 [==============================] - 1s 1ms/step - loss: 11.6470 - acc: 0.2406\n",
      "Epoch 4/7\n",
      "800/800 [==============================] - 1s 1ms/step - loss: 11.6470 - acc: 0.2406\n",
      "Epoch 5/7\n",
      "800/800 [==============================] - 1s 2ms/step - loss: 11.6470 - acc: 0.2406\n",
      "Epoch 6/7\n",
      "800/800 [==============================] - 1s 2ms/step - loss: 11.6470 - acc: 0.2406\n",
      "Epoch 7/7\n",
      "800/800 [==============================] - 1s 2ms/step - loss: 11.6470 - acc: 0.2406\n"
     ]
    }
   ],
   "source": [
    "param_grid = dict(epochs=[2,5,7])\n",
    "grid = GridSearchCV(estimator=model, param_grid=param_grid, n_jobs=-1, cv=3)\n",
    "grid_result = grid.fit(x_train_data,y_train_data)"
   ]
  },
  {
   "cell_type": "code",
   "execution_count": 0,
   "metadata": {
    "colab": {
     "base_uri": "https://localhost:8080/",
     "height": 69
    },
    "colab_type": "code",
    "id": "z3aytcCVOdv9",
    "outputId": "9e0231a8-ad8a-419e-cb7b-edc76f628340"
   },
   "outputs": [
    {
     "name": "stdout",
     "output_type": "stream",
     "text": [
      "mean 0.414830 stdev 0.245027  with  {'epochs': 2}\n",
      "mean 0.592266 stdev 0.247148  with  {'epochs': 5}\n",
      "mean 0.759440 stdev 0.001770  with  {'epochs': 7}\n"
     ]
    }
   ],
   "source": [
    "# summarize results\n",
    "means = grid_result.cv_results_['mean_test_score']\n",
    "stds = grid_result.cv_results_['std_test_score']\n",
    "params = grid_result.cv_results_['params']\n",
    "for mean, stdev, param in zip(means, stds, params):\n",
    "    print(\"mean %f stdev %f  with  %r\" % (mean, stdev, param))"
   ]
  },
  {
   "cell_type": "markdown",
   "metadata": {
    "colab_type": "text",
    "id": "k3yW071dDxpL"
   },
   "source": [
    "### Put your grid search conclusion for part 6 here"
   ]
  },
  {
   "cell_type": "markdown",
   "metadata": {},
   "source": [
    "In grid search model has perforemd well the epoch7 "
   ]
  },
  {
   "cell_type": "markdown",
   "metadata": {
    "colab_type": "text",
    "id": "2s2eU1aWDxpL"
   },
   "source": [
    "## Overall Conclusion\n",
    "\n",
    "Conclude with a full report here on what we know now about this problem. How well it does verses baseline, what the best Keras archtecture is, what features should be used, how the data should be cleaned etc."
   ]
  },
  {
   "cell_type": "markdown",
   "metadata": {
    "colab": {},
    "colab_type": "code",
    "id": "mN-sQqa1DxpL"
   },
   "source": [
    "* Logistive regression and random forest have perforemd well with 82% accuracy comapred to nwural network \n",
    "* due the Class imblance problem more issue in learning rate\n",
    "* After all doing cross validation, regularization the model is improve to 76% accuracy, hence ML algrothim like logistive regressin, svm, random forest we perfrom better  "
   ]
  },
  {
   "cell_type": "code",
   "execution_count": null,
   "metadata": {},
   "outputs": [],
   "source": []
  }
 ],
 "metadata": {
  "colab": {
   "collapsed_sections": [
    "vKg9PEGwDxop",
    "22apNmqzDxpA",
    "k3yW071dDxpL",
    "2s2eU1aWDxpL"
   ],
   "name": "hw2_problem4 dl.ipynb",
   "provenance": []
  },
  "kernelspec": {
   "display_name": "Python 3",
   "language": "python",
   "name": "python3"
  },
  "language_info": {
   "codemirror_mode": {
    "name": "ipython",
    "version": 3
   },
   "file_extension": ".py",
   "mimetype": "text/x-python",
   "name": "python",
   "nbconvert_exporter": "python",
   "pygments_lexer": "ipython3",
   "version": "3.6.8"
  }
 },
 "nbformat": 4,
 "nbformat_minor": 1
}
